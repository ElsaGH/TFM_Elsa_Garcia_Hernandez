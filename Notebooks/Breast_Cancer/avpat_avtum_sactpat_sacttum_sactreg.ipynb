{
 "cells": [
  {
   "cell_type": "code",
   "execution_count": 77,
   "metadata": {},
   "outputs": [],
   "source": [
    "import pandas as pd\n",
    "import numpy as np\n",
    "from zipfile import ZipFile"
   ]
  },
  {
   "cell_type": "code",
   "execution_count": 78,
   "metadata": {},
   "outputs": [
    {
     "data": {
      "text/html": [
       "<div>\n",
       "<style scoped>\n",
       "    .dataframe tbody tr th:only-of-type {\n",
       "        vertical-align: middle;\n",
       "    }\n",
       "\n",
       "    .dataframe tbody tr th {\n",
       "        vertical-align: top;\n",
       "    }\n",
       "\n",
       "    .dataframe thead th {\n",
       "        text-align: right;\n",
       "    }\n",
       "</style>\n",
       "<table border=\"1\" class=\"dataframe\">\n",
       "  <thead>\n",
       "    <tr style=\"text-align: right;\">\n",
       "      <th></th>\n",
       "      <th>MERGED_REGIMEN_ID</th>\n",
       "      <th>MERGED_TUMOUR_ID</th>\n",
       "      <th>HEIGHT_AT_START_OF_REGIMEN</th>\n",
       "      <th>WEIGHT_AT_START_OF_REGIMEN</th>\n",
       "      <th>INTENT_OF_TREATMENT</th>\n",
       "      <th>DATE_DECISION_TO_TREAT</th>\n",
       "      <th>START_DATE_OF_REGIMEN</th>\n",
       "      <th>MAPPED_REGIMEN</th>\n",
       "      <th>CLINICAL_TRIAL</th>\n",
       "      <th>CHEMO_RADIATION</th>\n",
       "      <th>MERGED_PATIENT_ID</th>\n",
       "      <th>BENCHMARK_GROUP</th>\n",
       "    </tr>\n",
       "  </thead>\n",
       "  <tbody>\n",
       "    <tr>\n",
       "      <td>0</td>\n",
       "      <td>10000001</td>\n",
       "      <td>10000001</td>\n",
       "      <td>-1.0</td>\n",
       "      <td>NaN</td>\n",
       "      <td>N</td>\n",
       "      <td>2015-03-08</td>\n",
       "      <td>2015-03-08</td>\n",
       "      <td>DEGARELIX</td>\n",
       "      <td>NaN</td>\n",
       "      <td>N</td>\n",
       "      <td>10000235</td>\n",
       "      <td>HORMONES</td>\n",
       "    </tr>\n",
       "    <tr>\n",
       "      <td>1</td>\n",
       "      <td>10000002</td>\n",
       "      <td>10000002</td>\n",
       "      <td>NaN</td>\n",
       "      <td>NaN</td>\n",
       "      <td>P</td>\n",
       "      <td>2016-07-09</td>\n",
       "      <td>2016-07-10</td>\n",
       "      <td>BICALUTAMIDE + GOSERELIN</td>\n",
       "      <td>NaN</td>\n",
       "      <td>N</td>\n",
       "      <td>10000315</td>\n",
       "      <td>HORMONES</td>\n",
       "    </tr>\n",
       "    <tr>\n",
       "      <td>2</td>\n",
       "      <td>10000003</td>\n",
       "      <td>10000003</td>\n",
       "      <td>NaN</td>\n",
       "      <td>NaN</td>\n",
       "      <td>P</td>\n",
       "      <td>2014-01-09</td>\n",
       "      <td>2014-01-09</td>\n",
       "      <td>EXEMESTANE</td>\n",
       "      <td>02</td>\n",
       "      <td>N</td>\n",
       "      <td>10000337</td>\n",
       "      <td>HORMONES</td>\n",
       "    </tr>\n",
       "    <tr>\n",
       "      <td>3</td>\n",
       "      <td>10000004</td>\n",
       "      <td>10000004</td>\n",
       "      <td>NaN</td>\n",
       "      <td>NaN</td>\n",
       "      <td>NaN</td>\n",
       "      <td>2015-03-17</td>\n",
       "      <td>2015-03-23</td>\n",
       "      <td>Rituximab</td>\n",
       "      <td>N</td>\n",
       "      <td>NaN</td>\n",
       "      <td>10000480</td>\n",
       "      <td>RITUXIMAB</td>\n",
       "    </tr>\n",
       "    <tr>\n",
       "      <td>4</td>\n",
       "      <td>10000005</td>\n",
       "      <td>10000005</td>\n",
       "      <td>0.0</td>\n",
       "      <td>NaN</td>\n",
       "      <td>C</td>\n",
       "      <td>2012-12-30</td>\n",
       "      <td>2013-03-11</td>\n",
       "      <td>Hydroxycarbamide</td>\n",
       "      <td>N</td>\n",
       "      <td>N</td>\n",
       "      <td>10000533</td>\n",
       "      <td>HYDROXYCARBAMIDE</td>\n",
       "    </tr>\n",
       "  </tbody>\n",
       "</table>\n",
       "</div>"
      ],
      "text/plain": [
       "   MERGED_REGIMEN_ID  MERGED_TUMOUR_ID  HEIGHT_AT_START_OF_REGIMEN  \\\n",
       "0           10000001          10000001                        -1.0   \n",
       "1           10000002          10000002                         NaN   \n",
       "2           10000003          10000003                         NaN   \n",
       "3           10000004          10000004                         NaN   \n",
       "4           10000005          10000005                         0.0   \n",
       "\n",
       "   WEIGHT_AT_START_OF_REGIMEN INTENT_OF_TREATMENT DATE_DECISION_TO_TREAT  \\\n",
       "0                         NaN                   N             2015-03-08   \n",
       "1                         NaN                   P             2016-07-09   \n",
       "2                         NaN                   P             2014-01-09   \n",
       "3                         NaN                 NaN             2015-03-17   \n",
       "4                         NaN                   C             2012-12-30   \n",
       "\n",
       "  START_DATE_OF_REGIMEN            MAPPED_REGIMEN CLINICAL_TRIAL  \\\n",
       "0            2015-03-08                 DEGARELIX            NaN   \n",
       "1            2016-07-10  BICALUTAMIDE + GOSERELIN            NaN   \n",
       "2            2014-01-09                EXEMESTANE             02   \n",
       "3            2015-03-23                 Rituximab              N   \n",
       "4            2013-03-11          Hydroxycarbamide              N   \n",
       "\n",
       "  CHEMO_RADIATION  MERGED_PATIENT_ID   BENCHMARK_GROUP  \n",
       "0               N           10000235          HORMONES  \n",
       "1               N           10000315          HORMONES  \n",
       "2               N           10000337          HORMONES  \n",
       "3             NaN           10000480         RITUXIMAB  \n",
       "4               N           10000533  HYDROXYCARBAMIDE  "
      ]
     },
     "execution_count": 78,
     "metadata": {},
     "output_type": "execute_result"
    }
   ],
   "source": [
    "zf = ZipFile(\"../../Data/sim_sact_regimen.zip\")\n",
    "csv = zf.open(\"sim_sact_regimen.csv\")\n",
    "sim_sact_regimen = pd.read_csv(csv, encoding = 'latin1')\n",
    "sim_sact_regimen.head()"
   ]
  },
  {
   "cell_type": "code",
   "execution_count": 79,
   "metadata": {},
   "outputs": [
    {
     "data": {
      "text/plain": [
       "(471919, 12)"
      ]
     },
     "execution_count": 79,
     "metadata": {},
     "output_type": "execute_result"
    }
   ],
   "source": [
    "sim_sact_regimen.shape"
   ]
  },
  {
   "cell_type": "code",
   "execution_count": 80,
   "metadata": {},
   "outputs": [
    {
     "data": {
      "text/plain": [
       "MERGED_REGIMEN_ID                  0\n",
       "MERGED_TUMOUR_ID                   0\n",
       "HEIGHT_AT_START_OF_REGIMEN    129514\n",
       "WEIGHT_AT_START_OF_REGIMEN    129341\n",
       "INTENT_OF_TREATMENT            62503\n",
       "DATE_DECISION_TO_TREAT         60416\n",
       "START_DATE_OF_REGIMEN              0\n",
       "MAPPED_REGIMEN                  2371\n",
       "CLINICAL_TRIAL                 61941\n",
       "CHEMO_RADIATION               103648\n",
       "MERGED_PATIENT_ID                  0\n",
       "BENCHMARK_GROUP                    0\n",
       "dtype: int64"
      ]
     },
     "execution_count": 80,
     "metadata": {},
     "output_type": "execute_result"
    }
   ],
   "source": [
    "sim_sact_regimen.isna().sum()"
   ]
  },
  {
   "cell_type": "code",
   "execution_count": 81,
   "metadata": {},
   "outputs": [
    {
     "data": {
      "text/plain": [
       "MERGED_REGIMEN_ID               int64\n",
       "MERGED_TUMOUR_ID                int64\n",
       "HEIGHT_AT_START_OF_REGIMEN    float64\n",
       "WEIGHT_AT_START_OF_REGIMEN    float64\n",
       "INTENT_OF_TREATMENT            object\n",
       "DATE_DECISION_TO_TREAT         object\n",
       "START_DATE_OF_REGIMEN          object\n",
       "MAPPED_REGIMEN                 object\n",
       "CLINICAL_TRIAL                 object\n",
       "CHEMO_RADIATION                object\n",
       "MERGED_PATIENT_ID               int64\n",
       "BENCHMARK_GROUP                object\n",
       "dtype: object"
      ]
     },
     "execution_count": 81,
     "metadata": {},
     "output_type": "execute_result"
    }
   ],
   "source": [
    "sim_sact_regimen.dtypes"
   ]
  },
  {
   "cell_type": "code",
   "execution_count": 82,
   "metadata": {},
   "outputs": [
    {
     "data": {
      "text/plain": [
       "MERGED_REGIMEN_ID             390213\n",
       "MERGED_TUMOUR_ID              390213\n",
       "HEIGHT_AT_START_OF_REGIMEN    285202\n",
       "WEIGHT_AT_START_OF_REGIMEN    285337\n",
       "INTENT_OF_TREATMENT           339855\n",
       "DATE_DECISION_TO_TREAT        339399\n",
       "START_DATE_OF_REGIMEN         390213\n",
       "MAPPED_REGIMEN                388175\n",
       "CLINICAL_TRIAL                338707\n",
       "CHEMO_RADIATION               303922\n",
       "MERGED_PATIENT_ID             390213\n",
       "BENCHMARK_GROUP               390213\n",
       "dtype: int64"
      ]
     },
     "execution_count": 82,
     "metadata": {},
     "output_type": "execute_result"
    }
   ],
   "source": [
    "sim_sact_regimen[sim_sact_regimen.groupby('MERGED_PATIENT_ID')['MERGED_PATIENT_ID'].transform('size') > 1].count()"
   ]
  },
  {
   "cell_type": "code",
   "execution_count": 105,
   "metadata": {},
   "outputs": [
    {
     "data": {
      "text/plain": [
       "MERGED_REGIMEN_ID             81706\n",
       "MERGED_TUMOUR_ID              81706\n",
       "HEIGHT_AT_START_OF_REGIMEN    57203\n",
       "WEIGHT_AT_START_OF_REGIMEN    57241\n",
       "INTENT_OF_TREATMENT           69561\n",
       "DATE_DECISION_TO_TREAT        72104\n",
       "START_DATE_OF_REGIMEN         81706\n",
       "MAPPED_REGIMEN                81373\n",
       "CLINICAL_TRIAL                71271\n",
       "CHEMO_RADIATION               64349\n",
       "MERGED_PATIENT_ID             81706\n",
       "BENCHMARK_GROUP               81706\n",
       "dtype: int64"
      ]
     },
     "execution_count": 105,
     "metadata": {},
     "output_type": "execute_result"
    }
   ],
   "source": [
    "sim_sact_regimen[sim_sact_regimen.groupby('MERGED_PATIENT_ID')['MERGED_PATIENT_ID'].transform('size') == 1].count()"
   ]
  },
  {
   "cell_type": "code",
   "execution_count": 106,
   "metadata": {},
   "outputs": [
    {
     "data": {
      "text/plain": [
       "MERGED_REGIMEN_ID             81834\n",
       "MERGED_TUMOUR_ID              81834\n",
       "HEIGHT_AT_START_OF_REGIMEN    58950\n",
       "WEIGHT_AT_START_OF_REGIMEN    58919\n",
       "INTENT_OF_TREATMENT           70648\n",
       "DATE_DECISION_TO_TREAT        71402\n",
       "START_DATE_OF_REGIMEN         81834\n",
       "MAPPED_REGIMEN                81510\n",
       "CLINICAL_TRIAL                71465\n",
       "CHEMO_RADIATION               64378\n",
       "MERGED_PATIENT_ID             81834\n",
       "BENCHMARK_GROUP               81834\n",
       "dtype: int64"
      ]
     },
     "execution_count": 106,
     "metadata": {},
     "output_type": "execute_result"
    }
   ],
   "source": [
    "sim_sact_regimen[sim_sact_regimen.groupby('MERGED_PATIENT_ID')['MERGED_PATIENT_ID'].transform('size') == 2].count()"
   ]
  },
  {
   "cell_type": "code",
   "execution_count": 107,
   "metadata": {},
   "outputs": [
    {
     "data": {
      "text/plain": [
       "MERGED_REGIMEN_ID             77028\n",
       "MERGED_TUMOUR_ID              77028\n",
       "HEIGHT_AT_START_OF_REGIMEN    56218\n",
       "WEIGHT_AT_START_OF_REGIMEN    56153\n",
       "INTENT_OF_TREATMENT           66955\n",
       "DATE_DECISION_TO_TREAT        66928\n",
       "START_DATE_OF_REGIMEN         77028\n",
       "MAPPED_REGIMEN                76675\n",
       "CLINICAL_TRIAL                67048\n",
       "CHEMO_RADIATION               60465\n",
       "MERGED_PATIENT_ID             77028\n",
       "BENCHMARK_GROUP               77028\n",
       "dtype: int64"
      ]
     },
     "execution_count": 107,
     "metadata": {},
     "output_type": "execute_result"
    }
   ],
   "source": [
    "sim_sact_regimen[sim_sact_regimen.groupby('MERGED_PATIENT_ID')['MERGED_PATIENT_ID'].transform('size') == 3].count()"
   ]
  },
  {
   "cell_type": "code",
   "execution_count": 108,
   "metadata": {},
   "outputs": [
    {
     "data": {
      "text/plain": [
       "MERGED_REGIMEN_ID             65612\n",
       "MERGED_TUMOUR_ID              65612\n",
       "HEIGHT_AT_START_OF_REGIMEN    48024\n",
       "WEIGHT_AT_START_OF_REGIMEN    48002\n",
       "INTENT_OF_TREATMENT           57271\n",
       "DATE_DECISION_TO_TREAT        57105\n",
       "START_DATE_OF_REGIMEN         65612\n",
       "MAPPED_REGIMEN                65260\n",
       "CLINICAL_TRIAL                57225\n",
       "CHEMO_RADIATION               51042\n",
       "MERGED_PATIENT_ID             65612\n",
       "BENCHMARK_GROUP               65612\n",
       "dtype: int64"
      ]
     },
     "execution_count": 108,
     "metadata": {},
     "output_type": "execute_result"
    }
   ],
   "source": [
    "sim_sact_regimen[sim_sact_regimen.groupby('MERGED_PATIENT_ID')['MERGED_PATIENT_ID'].transform('size') == 4].count()"
   ]
  },
  {
   "cell_type": "code",
   "execution_count": 109,
   "metadata": {},
   "outputs": [
    {
     "data": {
      "text/plain": [
       "MERGED_REGIMEN_ID             51585\n",
       "MERGED_TUMOUR_ID              51585\n",
       "HEIGHT_AT_START_OF_REGIMEN    38051\n",
       "WEIGHT_AT_START_OF_REGIMEN    37939\n",
       "INTENT_OF_TREATMENT           45097\n",
       "DATE_DECISION_TO_TREAT        44793\n",
       "START_DATE_OF_REGIMEN         51585\n",
       "MAPPED_REGIMEN                51329\n",
       "CLINICAL_TRIAL                44845\n",
       "CHEMO_RADIATION               40318\n",
       "MERGED_PATIENT_ID             51585\n",
       "BENCHMARK_GROUP               51585\n",
       "dtype: int64"
      ]
     },
     "execution_count": 109,
     "metadata": {},
     "output_type": "execute_result"
    }
   ],
   "source": [
    "sim_sact_regimen[sim_sact_regimen.groupby('MERGED_PATIENT_ID')['MERGED_PATIENT_ID'].transform('size') == 5].count()"
   ]
  },
  {
   "cell_type": "code",
   "execution_count": 111,
   "metadata": {},
   "outputs": [
    {
     "data": {
      "text/plain": [
       "MERGED_REGIMEN_ID             37116\n",
       "MERGED_TUMOUR_ID              37116\n",
       "HEIGHT_AT_START_OF_REGIMEN    27372\n",
       "WEIGHT_AT_START_OF_REGIMEN    27437\n",
       "INTENT_OF_TREATMENT           32450\n",
       "DATE_DECISION_TO_TREAT        32245\n",
       "START_DATE_OF_REGIMEN         37116\n",
       "MAPPED_REGIMEN                36890\n",
       "CLINICAL_TRIAL                32060\n",
       "CHEMO_RADIATION               28701\n",
       "MERGED_PATIENT_ID             37116\n",
       "BENCHMARK_GROUP               37116\n",
       "dtype: int64"
      ]
     },
     "execution_count": 111,
     "metadata": {},
     "output_type": "execute_result"
    }
   ],
   "source": [
    "sim_sact_regimen[sim_sact_regimen.groupby('MERGED_PATIENT_ID')['MERGED_PATIENT_ID'].transform('size') == 6].count()"
   ]
  },
  {
   "cell_type": "code",
   "execution_count": 112,
   "metadata": {},
   "outputs": [
    {
     "data": {
      "text/plain": [
       "MERGED_REGIMEN_ID             77038\n",
       "MERGED_TUMOUR_ID              77038\n",
       "HEIGHT_AT_START_OF_REGIMEN    56587\n",
       "WEIGHT_AT_START_OF_REGIMEN    56887\n",
       "INTENT_OF_TREATMENT           67434\n",
       "DATE_DECISION_TO_TREAT        66926\n",
       "START_DATE_OF_REGIMEN         77038\n",
       "MAPPED_REGIMEN                76511\n",
       "CLINICAL_TRIAL                66064\n",
       "CHEMO_RADIATION               59018\n",
       "MERGED_PATIENT_ID             77038\n",
       "BENCHMARK_GROUP               77038\n",
       "dtype: int64"
      ]
     },
     "execution_count": 112,
     "metadata": {},
     "output_type": "execute_result"
    }
   ],
   "source": [
    "sim_sact_regimen[sim_sact_regimen.groupby('MERGED_PATIENT_ID')['MERGED_PATIENT_ID'].transform('size') > 6].count()"
   ]
  },
  {
   "cell_type": "code",
   "execution_count": 113,
   "metadata": {},
   "outputs": [
    {
     "data": {
      "text/plain": [
       "MERGED_REGIMEN_ID             13439\n",
       "MERGED_TUMOUR_ID              13439\n",
       "HEIGHT_AT_START_OF_REGIMEN     9661\n",
       "WEIGHT_AT_START_OF_REGIMEN     9879\n",
       "INTENT_OF_TREATMENT           11766\n",
       "DATE_DECISION_TO_TREAT        11682\n",
       "START_DATE_OF_REGIMEN         13439\n",
       "MAPPED_REGIMEN                13340\n",
       "CLINICAL_TRIAL                11337\n",
       "CHEMO_RADIATION               10142\n",
       "MERGED_PATIENT_ID             13439\n",
       "BENCHMARK_GROUP               13439\n",
       "dtype: int64"
      ]
     },
     "execution_count": 113,
     "metadata": {},
     "output_type": "execute_result"
    }
   ],
   "source": [
    "sim_sact_regimen[sim_sact_regimen.groupby('MERGED_PATIENT_ID')['MERGED_PATIENT_ID'].transform('size') > 10].count()"
   ]
  },
  {
   "cell_type": "code",
   "execution_count": 83,
   "metadata": {},
   "outputs": [
    {
     "name": "stdout",
     "output_type": "stream",
     "text": [
      "The original dataset has data for 471919 patients\n",
      "After removing duplicates, the dataset has data for 471919 patients\n",
      "There are no duplicates in the dataset\n"
     ]
    }
   ],
   "source": [
    "print(\"The original dataset has data for %d patients\" % len(sim_sact_regimen))\n",
    "print(\"After removing duplicates, the dataset has data for %d patients\" % len(sim_sact_regimen.drop_duplicates()))\n",
    "print(\"There are no duplicates in the dataset\")"
   ]
  },
  {
   "cell_type": "code",
   "execution_count": 84,
   "metadata": {},
   "outputs": [
    {
     "data": {
      "text/html": [
       "<div>\n",
       "<style scoped>\n",
       "    .dataframe tbody tr th:only-of-type {\n",
       "        vertical-align: middle;\n",
       "    }\n",
       "\n",
       "    .dataframe tbody tr th {\n",
       "        vertical-align: top;\n",
       "    }\n",
       "\n",
       "    .dataframe thead th {\n",
       "        text-align: right;\n",
       "    }\n",
       "</style>\n",
       "<table border=\"1\" class=\"dataframe\">\n",
       "  <thead>\n",
       "    <tr style=\"text-align: right;\">\n",
       "      <th></th>\n",
       "      <th>PATIENTID</th>\n",
       "      <th>SEX</th>\n",
       "      <th>LINKNUMBER</th>\n",
       "      <th>ETHNICITY</th>\n",
       "      <th>NEWVITALSTATUS</th>\n",
       "      <th>VITALSTATUSDATE</th>\n",
       "      <th>TUMOURID</th>\n",
       "      <th>DIAGNOSISDATEBEST</th>\n",
       "      <th>SITE_ICD10_O2</th>\n",
       "      <th>SITE_ICD10_O2_3CHAR</th>\n",
       "      <th>...</th>\n",
       "      <th>ACE27</th>\n",
       "      <th>DATE_FIRST_SURGERY</th>\n",
       "      <th>LATERALITY</th>\n",
       "      <th>QUINTILE_2015</th>\n",
       "      <th>MERGED_PATIENT_ID</th>\n",
       "      <th>LINK_NUMBER</th>\n",
       "      <th>MERGED_TUMOUR_ID</th>\n",
       "      <th>CONSULTANT_SPECIALITY_CODE</th>\n",
       "      <th>PRIMARY_DIAGNOSIS</th>\n",
       "      <th>MORPHOLOGY_CLEAN</th>\n",
       "    </tr>\n",
       "  </thead>\n",
       "  <tbody>\n",
       "    <tr>\n",
       "      <td>0</td>\n",
       "      <td>10000724</td>\n",
       "      <td>M</td>\n",
       "      <td>810000724</td>\n",
       "      <td>A</td>\n",
       "      <td>A</td>\n",
       "      <td>2017-01-16</td>\n",
       "      <td>10335800</td>\n",
       "      <td>2013-09-08</td>\n",
       "      <td>NaN</td>\n",
       "      <td>C50</td>\n",
       "      <td>...</td>\n",
       "      <td>NaN</td>\n",
       "      <td>NaN</td>\n",
       "      <td>R</td>\n",
       "      <td>3</td>\n",
       "      <td>NaN</td>\n",
       "      <td>NaN</td>\n",
       "      <td>NaN</td>\n",
       "      <td>NaN</td>\n",
       "      <td>NaN</td>\n",
       "      <td>NaN</td>\n",
       "    </tr>\n",
       "    <tr>\n",
       "      <td>1</td>\n",
       "      <td>10000752</td>\n",
       "      <td>F</td>\n",
       "      <td>810000752</td>\n",
       "      <td>A</td>\n",
       "      <td>A</td>\n",
       "      <td>2017-01-16</td>\n",
       "      <td>10335805</td>\n",
       "      <td>2015-11-11</td>\n",
       "      <td>C504</td>\n",
       "      <td>C50</td>\n",
       "      <td>...</td>\n",
       "      <td>NaN</td>\n",
       "      <td>2016-09-18</td>\n",
       "      <td>L</td>\n",
       "      <td>1 - least deprived</td>\n",
       "      <td>NaN</td>\n",
       "      <td>NaN</td>\n",
       "      <td>NaN</td>\n",
       "      <td>NaN</td>\n",
       "      <td>NaN</td>\n",
       "      <td>NaN</td>\n",
       "    </tr>\n",
       "    <tr>\n",
       "      <td>2</td>\n",
       "      <td>10001050</td>\n",
       "      <td>F</td>\n",
       "      <td>810001050</td>\n",
       "      <td>A</td>\n",
       "      <td>A</td>\n",
       "      <td>2017-01-16</td>\n",
       "      <td>10335823</td>\n",
       "      <td>2015-10-24</td>\n",
       "      <td>NaN</td>\n",
       "      <td>C50</td>\n",
       "      <td>...</td>\n",
       "      <td>NaN</td>\n",
       "      <td>2015-12-15</td>\n",
       "      <td>L</td>\n",
       "      <td>4</td>\n",
       "      <td>NaN</td>\n",
       "      <td>NaN</td>\n",
       "      <td>NaN</td>\n",
       "      <td>NaN</td>\n",
       "      <td>NaN</td>\n",
       "      <td>NaN</td>\n",
       "    </tr>\n",
       "    <tr>\n",
       "      <td>3</td>\n",
       "      <td>10001750</td>\n",
       "      <td>M</td>\n",
       "      <td>810001750</td>\n",
       "      <td>A</td>\n",
       "      <td>A</td>\n",
       "      <td>2017-01-16</td>\n",
       "      <td>10335873</td>\n",
       "      <td>2014-09-23</td>\n",
       "      <td>NaN</td>\n",
       "      <td>C50</td>\n",
       "      <td>...</td>\n",
       "      <td>NaN</td>\n",
       "      <td>2014-09-23</td>\n",
       "      <td>L</td>\n",
       "      <td>1 - least deprived</td>\n",
       "      <td>NaN</td>\n",
       "      <td>NaN</td>\n",
       "      <td>NaN</td>\n",
       "      <td>NaN</td>\n",
       "      <td>NaN</td>\n",
       "      <td>NaN</td>\n",
       "    </tr>\n",
       "    <tr>\n",
       "      <td>4</td>\n",
       "      <td>10001824</td>\n",
       "      <td>F</td>\n",
       "      <td>810001824</td>\n",
       "      <td>S</td>\n",
       "      <td>A</td>\n",
       "      <td>2017-01-17</td>\n",
       "      <td>10335879</td>\n",
       "      <td>2015-03-15</td>\n",
       "      <td>NaN</td>\n",
       "      <td>C50</td>\n",
       "      <td>...</td>\n",
       "      <td>NaN</td>\n",
       "      <td>2015-03-15</td>\n",
       "      <td>L</td>\n",
       "      <td>4</td>\n",
       "      <td>NaN</td>\n",
       "      <td>NaN</td>\n",
       "      <td>NaN</td>\n",
       "      <td>NaN</td>\n",
       "      <td>NaN</td>\n",
       "      <td>NaN</td>\n",
       "    </tr>\n",
       "  </tbody>\n",
       "</table>\n",
       "<p>5 rows × 39 columns</p>\n",
       "</div>"
      ],
      "text/plain": [
       "   PATIENTID SEX  LINKNUMBER ETHNICITY NEWVITALSTATUS VITALSTATUSDATE  \\\n",
       "0   10000724   M   810000724         A              A      2017-01-16   \n",
       "1   10000752   F   810000752         A              A      2017-01-16   \n",
       "2   10001050   F   810001050         A              A      2017-01-16   \n",
       "3   10001750   M   810001750         A              A      2017-01-16   \n",
       "4   10001824   F   810001824         S              A      2017-01-17   \n",
       "\n",
       "   TUMOURID DIAGNOSISDATEBEST SITE_ICD10_O2 SITE_ICD10_O2_3CHAR  ...  ACE27  \\\n",
       "0  10335800        2013-09-08           NaN                 C50  ...    NaN   \n",
       "1  10335805        2015-11-11          C504                 C50  ...    NaN   \n",
       "2  10335823        2015-10-24           NaN                 C50  ...    NaN   \n",
       "3  10335873        2014-09-23           NaN                 C50  ...    NaN   \n",
       "4  10335879        2015-03-15           NaN                 C50  ...    NaN   \n",
       "\n",
       "  DATE_FIRST_SURGERY LATERALITY       QUINTILE_2015 MERGED_PATIENT_ID  \\\n",
       "0                NaN          R                   3               NaN   \n",
       "1         2016-09-18          L  1 - least deprived               NaN   \n",
       "2         2015-12-15          L                   4               NaN   \n",
       "3         2014-09-23          L  1 - least deprived               NaN   \n",
       "4         2015-03-15          L                   4               NaN   \n",
       "\n",
       "  LINK_NUMBER  MERGED_TUMOUR_ID CONSULTANT_SPECIALITY_CODE  PRIMARY_DIAGNOSIS  \\\n",
       "0         NaN               NaN                        NaN                NaN   \n",
       "1         NaN               NaN                        NaN                NaN   \n",
       "2         NaN               NaN                        NaN                NaN   \n",
       "3         NaN               NaN                        NaN                NaN   \n",
       "4         NaN               NaN                        NaN                NaN   \n",
       "\n",
       "  MORPHOLOGY_CLEAN  \n",
       "0              NaN  \n",
       "1              NaN  \n",
       "2              NaN  \n",
       "3              NaN  \n",
       "4              NaN  \n",
       "\n",
       "[5 rows x 39 columns]"
      ]
     },
     "execution_count": 84,
     "metadata": {},
     "output_type": "execute_result"
    }
   ],
   "source": [
    "df = pd.read_csv(\"./Data/avpat_avtum_sactpat_sacttum.csv\", sep = \"^\", index_col = 0)\n",
    "df.head()"
   ]
  },
  {
   "cell_type": "code",
   "execution_count": 85,
   "metadata": {},
   "outputs": [
    {
     "data": {
      "text/plain": [
       "(103192, 39)"
      ]
     },
     "execution_count": 85,
     "metadata": {},
     "output_type": "execute_result"
    }
   ],
   "source": [
    "df.shape"
   ]
  },
  {
   "cell_type": "code",
   "execution_count": 86,
   "metadata": {},
   "outputs": [
    {
     "data": {
      "text/html": [
       "<div>\n",
       "<style scoped>\n",
       "    .dataframe tbody tr th:only-of-type {\n",
       "        vertical-align: middle;\n",
       "    }\n",
       "\n",
       "    .dataframe tbody tr th {\n",
       "        vertical-align: top;\n",
       "    }\n",
       "\n",
       "    .dataframe thead th {\n",
       "        text-align: right;\n",
       "    }\n",
       "</style>\n",
       "<table border=\"1\" class=\"dataframe\">\n",
       "  <thead>\n",
       "    <tr style=\"text-align: right;\">\n",
       "      <th></th>\n",
       "      <th>PATIENTID</th>\n",
       "      <th>SEX</th>\n",
       "      <th>LINKNUMBER</th>\n",
       "      <th>ETHNICITY</th>\n",
       "      <th>NEWVITALSTATUS</th>\n",
       "      <th>VITALSTATUSDATE</th>\n",
       "      <th>TUMOURID</th>\n",
       "      <th>DIAGNOSISDATEBEST</th>\n",
       "      <th>SITE_ICD10_O2</th>\n",
       "      <th>SITE_ICD10_O2_3CHAR</th>\n",
       "      <th>...</th>\n",
       "      <th>HEIGHT_AT_START_OF_REGIMEN</th>\n",
       "      <th>WEIGHT_AT_START_OF_REGIMEN</th>\n",
       "      <th>INTENT_OF_TREATMENT</th>\n",
       "      <th>DATE_DECISION_TO_TREAT</th>\n",
       "      <th>START_DATE_OF_REGIMEN</th>\n",
       "      <th>MAPPED_REGIMEN</th>\n",
       "      <th>CLINICAL_TRIAL</th>\n",
       "      <th>CHEMO_RADIATION</th>\n",
       "      <th>MERGED_PATIENT_ID_y</th>\n",
       "      <th>BENCHMARK_GROUP</th>\n",
       "    </tr>\n",
       "  </thead>\n",
       "  <tbody>\n",
       "    <tr>\n",
       "      <td>0</td>\n",
       "      <td>10000724</td>\n",
       "      <td>M</td>\n",
       "      <td>810000724</td>\n",
       "      <td>A</td>\n",
       "      <td>A</td>\n",
       "      <td>2017-01-16</td>\n",
       "      <td>10335800</td>\n",
       "      <td>2013-09-08</td>\n",
       "      <td>NaN</td>\n",
       "      <td>C50</td>\n",
       "      <td>...</td>\n",
       "      <td>NaN</td>\n",
       "      <td>NaN</td>\n",
       "      <td>NaN</td>\n",
       "      <td>NaN</td>\n",
       "      <td>NaN</td>\n",
       "      <td>NaN</td>\n",
       "      <td>NaN</td>\n",
       "      <td>NaN</td>\n",
       "      <td>NaN</td>\n",
       "      <td>NaN</td>\n",
       "    </tr>\n",
       "    <tr>\n",
       "      <td>1</td>\n",
       "      <td>10000752</td>\n",
       "      <td>F</td>\n",
       "      <td>810000752</td>\n",
       "      <td>A</td>\n",
       "      <td>A</td>\n",
       "      <td>2017-01-16</td>\n",
       "      <td>10335805</td>\n",
       "      <td>2015-11-11</td>\n",
       "      <td>C504</td>\n",
       "      <td>C50</td>\n",
       "      <td>...</td>\n",
       "      <td>NaN</td>\n",
       "      <td>NaN</td>\n",
       "      <td>NaN</td>\n",
       "      <td>NaN</td>\n",
       "      <td>NaN</td>\n",
       "      <td>NaN</td>\n",
       "      <td>NaN</td>\n",
       "      <td>NaN</td>\n",
       "      <td>NaN</td>\n",
       "      <td>NaN</td>\n",
       "    </tr>\n",
       "    <tr>\n",
       "      <td>2</td>\n",
       "      <td>10001050</td>\n",
       "      <td>F</td>\n",
       "      <td>810001050</td>\n",
       "      <td>A</td>\n",
       "      <td>A</td>\n",
       "      <td>2017-01-16</td>\n",
       "      <td>10335823</td>\n",
       "      <td>2015-10-24</td>\n",
       "      <td>NaN</td>\n",
       "      <td>C50</td>\n",
       "      <td>...</td>\n",
       "      <td>NaN</td>\n",
       "      <td>NaN</td>\n",
       "      <td>NaN</td>\n",
       "      <td>NaN</td>\n",
       "      <td>NaN</td>\n",
       "      <td>NaN</td>\n",
       "      <td>NaN</td>\n",
       "      <td>NaN</td>\n",
       "      <td>NaN</td>\n",
       "      <td>NaN</td>\n",
       "    </tr>\n",
       "    <tr>\n",
       "      <td>3</td>\n",
       "      <td>10001750</td>\n",
       "      <td>M</td>\n",
       "      <td>810001750</td>\n",
       "      <td>A</td>\n",
       "      <td>A</td>\n",
       "      <td>2017-01-16</td>\n",
       "      <td>10335873</td>\n",
       "      <td>2014-09-23</td>\n",
       "      <td>NaN</td>\n",
       "      <td>C50</td>\n",
       "      <td>...</td>\n",
       "      <td>NaN</td>\n",
       "      <td>NaN</td>\n",
       "      <td>NaN</td>\n",
       "      <td>NaN</td>\n",
       "      <td>NaN</td>\n",
       "      <td>NaN</td>\n",
       "      <td>NaN</td>\n",
       "      <td>NaN</td>\n",
       "      <td>NaN</td>\n",
       "      <td>NaN</td>\n",
       "    </tr>\n",
       "    <tr>\n",
       "      <td>4</td>\n",
       "      <td>10001824</td>\n",
       "      <td>F</td>\n",
       "      <td>810001824</td>\n",
       "      <td>S</td>\n",
       "      <td>A</td>\n",
       "      <td>2017-01-17</td>\n",
       "      <td>10335879</td>\n",
       "      <td>2015-03-15</td>\n",
       "      <td>NaN</td>\n",
       "      <td>C50</td>\n",
       "      <td>...</td>\n",
       "      <td>NaN</td>\n",
       "      <td>NaN</td>\n",
       "      <td>NaN</td>\n",
       "      <td>NaN</td>\n",
       "      <td>NaN</td>\n",
       "      <td>NaN</td>\n",
       "      <td>NaN</td>\n",
       "      <td>NaN</td>\n",
       "      <td>NaN</td>\n",
       "      <td>NaN</td>\n",
       "    </tr>\n",
       "  </tbody>\n",
       "</table>\n",
       "<p>5 rows × 50 columns</p>\n",
       "</div>"
      ],
      "text/plain": [
       "   PATIENTID SEX  LINKNUMBER ETHNICITY NEWVITALSTATUS VITALSTATUSDATE  \\\n",
       "0   10000724   M   810000724         A              A      2017-01-16   \n",
       "1   10000752   F   810000752         A              A      2017-01-16   \n",
       "2   10001050   F   810001050         A              A      2017-01-16   \n",
       "3   10001750   M   810001750         A              A      2017-01-16   \n",
       "4   10001824   F   810001824         S              A      2017-01-17   \n",
       "\n",
       "   TUMOURID DIAGNOSISDATEBEST SITE_ICD10_O2 SITE_ICD10_O2_3CHAR  ...  \\\n",
       "0  10335800        2013-09-08           NaN                 C50  ...   \n",
       "1  10335805        2015-11-11          C504                 C50  ...   \n",
       "2  10335823        2015-10-24           NaN                 C50  ...   \n",
       "3  10335873        2014-09-23           NaN                 C50  ...   \n",
       "4  10335879        2015-03-15           NaN                 C50  ...   \n",
       "\n",
       "   HEIGHT_AT_START_OF_REGIMEN WEIGHT_AT_START_OF_REGIMEN INTENT_OF_TREATMENT  \\\n",
       "0                         NaN                        NaN                 NaN   \n",
       "1                         NaN                        NaN                 NaN   \n",
       "2                         NaN                        NaN                 NaN   \n",
       "3                         NaN                        NaN                 NaN   \n",
       "4                         NaN                        NaN                 NaN   \n",
       "\n",
       "  DATE_DECISION_TO_TREAT START_DATE_OF_REGIMEN MAPPED_REGIMEN  CLINICAL_TRIAL  \\\n",
       "0                    NaN                   NaN            NaN             NaN   \n",
       "1                    NaN                   NaN            NaN             NaN   \n",
       "2                    NaN                   NaN            NaN             NaN   \n",
       "3                    NaN                   NaN            NaN             NaN   \n",
       "4                    NaN                   NaN            NaN             NaN   \n",
       "\n",
       "  CHEMO_RADIATION  MERGED_PATIENT_ID_y BENCHMARK_GROUP  \n",
       "0             NaN                  NaN             NaN  \n",
       "1             NaN                  NaN             NaN  \n",
       "2             NaN                  NaN             NaN  \n",
       "3             NaN                  NaN             NaN  \n",
       "4             NaN                  NaN             NaN  \n",
       "\n",
       "[5 rows x 50 columns]"
      ]
     },
     "execution_count": 86,
     "metadata": {},
     "output_type": "execute_result"
    }
   ],
   "source": [
    "df = df.merge(sim_sact_regimen, left_on = 'MERGED_TUMOUR_ID', right_on = 'MERGED_TUMOUR_ID', how = 'left')\n",
    "df.head()"
   ]
  },
  {
   "cell_type": "code",
   "execution_count": 87,
   "metadata": {},
   "outputs": [
    {
     "data": {
      "text/plain": [
       "(118747, 50)"
      ]
     },
     "execution_count": 87,
     "metadata": {},
     "output_type": "execute_result"
    }
   ],
   "source": [
    "df.shape"
   ]
  },
  {
   "cell_type": "code",
   "execution_count": 88,
   "metadata": {},
   "outputs": [
    {
     "data": {
      "text/plain": [
       "count    22366.000000\n",
       "mean         1.576841\n",
       "std          0.302146\n",
       "min         -1.000000\n",
       "25%          1.580000\n",
       "50%          1.620000\n",
       "75%          1.670000\n",
       "max          2.000000\n",
       "Name: HEIGHT_AT_START_OF_REGIMEN, dtype: float64"
      ]
     },
     "execution_count": 88,
     "metadata": {},
     "output_type": "execute_result"
    }
   ],
   "source": [
    "df['HEIGHT_AT_START_OF_REGIMEN'].describe()"
   ]
  },
  {
   "cell_type": "code",
   "execution_count": 89,
   "metadata": {},
   "outputs": [
    {
     "data": {
      "text/plain": [
       "array([  nan,  1.67,  1.68,  1.6 ,  0.  ,  1.8 ,  1.7 ,  1.65,  1.76,\n",
       "        1.71,  1.78,  1.83,  1.69,  1.72, -1.  ,  1.75,  1.62,  1.53,\n",
       "        1.58,  1.73,  1.59,  1.74,  1.81,  1.56,  1.63,  1.57,  1.61,\n",
       "        1.64,  1.66,  1.55,  1.77,  2.  ,  1.86,  1.52,  0.62,  1.5 ,\n",
       "        1.54,  1.51,  1.47,  1.48,  1.45,  1.49,  1.42,  1.35,  0.6 ,\n",
       "        1.79,  1.82,  1.4 ,  1.85,  1.43,  1.44,  1.46,  1.84,  1.89,\n",
       "        1.41,  1.31,  1.23,  1.2 ,  0.8 ,  1.87,  0.79,  1.  ,  1.36,\n",
       "        1.9 ,  0.59,  0.93,  0.02,  1.91,  0.88,  1.94,  0.54,  0.63,\n",
       "        1.37,  1.3 ,  1.1 ,  1.06,  0.7 ,  1.88,  1.01,  0.1 ,  0.85,\n",
       "        1.17,  1.39,  1.27,  1.33,  0.52,  1.98])"
      ]
     },
     "execution_count": 89,
     "metadata": {},
     "output_type": "execute_result"
    }
   ],
   "source": [
    "df['HEIGHT_AT_START_OF_REGIMEN'].unique()"
   ]
  },
  {
   "cell_type": "code",
   "execution_count": 90,
   "metadata": {},
   "outputs": [
    {
     "data": {
      "text/plain": [
       "array([ nan, 1.67, 1.68, 1.6 , 1.8 , 1.7 , 1.65, 1.76, 1.71, 1.78, 1.83,\n",
       "       1.69, 1.72, 1.75, 1.62, 1.53, 1.58, 1.73, 1.59, 1.74, 1.81, 1.56,\n",
       "       1.63, 1.57, 1.61, 1.64, 1.66, 1.55, 1.77, 2.  , 1.86, 1.52, 0.62,\n",
       "       1.5 , 1.54, 1.51, 1.47, 1.48, 1.45, 1.49, 1.42, 1.35, 0.6 , 1.79,\n",
       "       1.82, 1.4 , 1.85, 1.43, 1.44, 1.46, 1.84, 1.89, 1.41, 1.31, 1.23,\n",
       "       1.2 , 0.8 , 1.87, 0.79, 1.  , 1.36, 1.9 , 0.59, 0.93, 1.91, 0.88,\n",
       "       1.94, 0.54, 0.63, 1.37, 1.3 , 1.1 , 1.06, 0.7 , 1.88, 1.01, 0.85,\n",
       "       1.17, 1.39, 1.27, 1.33, 0.52, 1.98])"
      ]
     },
     "execution_count": 90,
     "metadata": {},
     "output_type": "execute_result"
    }
   ],
   "source": [
    "def height(value):\n",
    "    if value < 0.5 or value > 2.5:\n",
    "        return np.nan\n",
    "    else:\n",
    "        return value\n",
    "df['HEIGHT_AT_START_OF_REGIMEN'] = df['HEIGHT_AT_START_OF_REGIMEN'].apply(height)    \n",
    "df['HEIGHT_AT_START_OF_REGIMEN'].unique()"
   ]
  },
  {
   "cell_type": "code",
   "execution_count": 91,
   "metadata": {},
   "outputs": [
    {
     "data": {
      "text/plain": [
       "count    21735.000000\n",
       "mean         1.625871\n",
       "std          0.076330\n",
       "min          0.520000\n",
       "25%          1.580000\n",
       "50%          1.620000\n",
       "75%          1.670000\n",
       "max          2.000000\n",
       "Name: HEIGHT_AT_START_OF_REGIMEN, dtype: float64"
      ]
     },
     "execution_count": 91,
     "metadata": {},
     "output_type": "execute_result"
    }
   ],
   "source": [
    "df['HEIGHT_AT_START_OF_REGIMEN'].describe()"
   ]
  },
  {
   "cell_type": "code",
   "execution_count": 92,
   "metadata": {},
   "outputs": [
    {
     "data": {
      "text/plain": [
       "count    22032.000000\n",
       "mean        72.722187\n",
       "std         20.433501\n",
       "min         -1.000000\n",
       "25%         62.000000\n",
       "50%         71.400000\n",
       "75%         83.000000\n",
       "max        577.000000\n",
       "Name: WEIGHT_AT_START_OF_REGIMEN, dtype: float64"
      ]
     },
     "execution_count": 92,
     "metadata": {},
     "output_type": "execute_result"
    }
   ],
   "source": [
    "df['WEIGHT_AT_START_OF_REGIMEN'].describe()"
   ]
  },
  {
   "cell_type": "code",
   "execution_count": 93,
   "metadata": {},
   "outputs": [
    {
     "data": {
      "text/plain": [
       "77638    272.4\n",
       "75559    266.4\n",
       "80490    266.4\n",
       "96913    173.6\n",
       "78283    169.0\n",
       "66999    169.0\n",
       "88177    169.0\n",
       "34397    169.0\n",
       "44111    169.0\n",
       "75197    167.1\n",
       "91018    166.3\n",
       "47094    166.0\n",
       "41149    165.8\n",
       "38221    165.8\n",
       "19810    165.0\n",
       "82830    164.1\n",
       "57281    164.0\n",
       "39910    163.0\n",
       "6356     162.0\n",
       "54265    161.7\n",
       "Name: WEIGHT_AT_START_OF_REGIMEN, dtype: float64"
      ]
     },
     "execution_count": 93,
     "metadata": {},
     "output_type": "execute_result"
    }
   ],
   "source": [
    "def weight(value):\n",
    "    if value < 5 or value >= 300:\n",
    "        return np.nan\n",
    "    else:\n",
    "        return value\n",
    "df['WEIGHT_AT_START_OF_REGIMEN'] = df['WEIGHT_AT_START_OF_REGIMEN'].apply(weight)    \n",
    "df['WEIGHT_AT_START_OF_REGIMEN'].sort_values(ascending = False).head(20)"
   ]
  },
  {
   "cell_type": "code",
   "execution_count": 94,
   "metadata": {},
   "outputs": [
    {
     "data": {
      "text/plain": [
       "78274      5.20\n",
       "11982      5.20\n",
       "113282     5.80\n",
       "98819      6.10\n",
       "98959      6.10\n",
       "53409      7.00\n",
       "20569      7.24\n",
       "257        8.70\n",
       "2916       9.40\n",
       "98280     10.00\n",
       "97439     10.00\n",
       "98033     10.00\n",
       "116829    17.80\n",
       "116488    21.90\n",
       "115756    24.50\n",
       "116933    25.10\n",
       "73434     26.50\n",
       "71600     26.50\n",
       "116090    28.10\n",
       "33849     35.00\n",
       "Name: WEIGHT_AT_START_OF_REGIMEN, dtype: float64"
      ]
     },
     "execution_count": 94,
     "metadata": {},
     "output_type": "execute_result"
    }
   ],
   "source": [
    "df['WEIGHT_AT_START_OF_REGIMEN'].sort_values().head(20)"
   ]
  },
  {
   "cell_type": "code",
   "execution_count": 95,
   "metadata": {},
   "outputs": [
    {
     "data": {
      "text/html": [
       "<div>\n",
       "<style scoped>\n",
       "    .dataframe tbody tr th:only-of-type {\n",
       "        vertical-align: middle;\n",
       "    }\n",
       "\n",
       "    .dataframe tbody tr th {\n",
       "        vertical-align: top;\n",
       "    }\n",
       "\n",
       "    .dataframe thead th {\n",
       "        text-align: right;\n",
       "    }\n",
       "</style>\n",
       "<table border=\"1\" class=\"dataframe\">\n",
       "  <thead>\n",
       "    <tr style=\"text-align: right;\">\n",
       "      <th></th>\n",
       "      <th>WEIGHT_AT_START_OF_REGIMEN</th>\n",
       "      <th>HEIGHT_AT_START_OF_REGIMEN</th>\n",
       "      <th>BMI</th>\n",
       "    </tr>\n",
       "  </thead>\n",
       "  <tbody>\n",
       "    <tr>\n",
       "      <td>27</td>\n",
       "      <td>61.3</td>\n",
       "      <td>1.60</td>\n",
       "      <td>23.945312</td>\n",
       "    </tr>\n",
       "    <tr>\n",
       "      <td>100</td>\n",
       "      <td>68.7</td>\n",
       "      <td>1.65</td>\n",
       "      <td>25.234160</td>\n",
       "    </tr>\n",
       "    <tr>\n",
       "      <td>101</td>\n",
       "      <td>81.8</td>\n",
       "      <td>1.76</td>\n",
       "      <td>26.407541</td>\n",
       "    </tr>\n",
       "    <tr>\n",
       "      <td>120</td>\n",
       "      <td>73.6</td>\n",
       "      <td>1.78</td>\n",
       "      <td>23.229390</td>\n",
       "    </tr>\n",
       "    <tr>\n",
       "      <td>125</td>\n",
       "      <td>96.0</td>\n",
       "      <td>1.83</td>\n",
       "      <td>28.666129</td>\n",
       "    </tr>\n",
       "    <tr>\n",
       "      <td>...</td>\n",
       "      <td>...</td>\n",
       "      <td>...</td>\n",
       "      <td>...</td>\n",
       "    </tr>\n",
       "    <tr>\n",
       "      <td>118701</td>\n",
       "      <td>79.0</td>\n",
       "      <td>1.70</td>\n",
       "      <td>27.335640</td>\n",
       "    </tr>\n",
       "    <tr>\n",
       "      <td>118714</td>\n",
       "      <td>75.5</td>\n",
       "      <td>1.74</td>\n",
       "      <td>24.937244</td>\n",
       "    </tr>\n",
       "    <tr>\n",
       "      <td>118720</td>\n",
       "      <td>93.7</td>\n",
       "      <td>1.72</td>\n",
       "      <td>31.672526</td>\n",
       "    </tr>\n",
       "    <tr>\n",
       "      <td>118721</td>\n",
       "      <td>70.0</td>\n",
       "      <td>1.63</td>\n",
       "      <td>26.346494</td>\n",
       "    </tr>\n",
       "    <tr>\n",
       "      <td>118736</td>\n",
       "      <td>63.2</td>\n",
       "      <td>1.70</td>\n",
       "      <td>21.868512</td>\n",
       "    </tr>\n",
       "  </tbody>\n",
       "</table>\n",
       "<p>17426 rows × 3 columns</p>\n",
       "</div>"
      ],
      "text/plain": [
       "        WEIGHT_AT_START_OF_REGIMEN  HEIGHT_AT_START_OF_REGIMEN        BMI\n",
       "27                            61.3                        1.60  23.945312\n",
       "100                           68.7                        1.65  25.234160\n",
       "101                           81.8                        1.76  26.407541\n",
       "120                           73.6                        1.78  23.229390\n",
       "125                           96.0                        1.83  28.666129\n",
       "...                            ...                         ...        ...\n",
       "118701                        79.0                        1.70  27.335640\n",
       "118714                        75.5                        1.74  24.937244\n",
       "118720                        93.7                        1.72  31.672526\n",
       "118721                        70.0                        1.63  26.346494\n",
       "118736                        63.2                        1.70  21.868512\n",
       "\n",
       "[17426 rows x 3 columns]"
      ]
     },
     "execution_count": 95,
     "metadata": {},
     "output_type": "execute_result"
    }
   ],
   "source": [
    "df['BMI'] = df.WEIGHT_AT_START_OF_REGIMEN / ((df.HEIGHT_AT_START_OF_REGIMEN)**2)\n",
    "df[['WEIGHT_AT_START_OF_REGIMEN', 'HEIGHT_AT_START_OF_REGIMEN', 'BMI']].dropna()"
   ]
  },
  {
   "cell_type": "code",
   "execution_count": 96,
   "metadata": {},
   "outputs": [
    {
     "data": {
      "text/plain": [
       "count    17426.000000\n",
       "mean        28.360273\n",
       "std          7.696316\n",
       "min          2.311111\n",
       "25%         23.533043\n",
       "50%         27.293224\n",
       "75%         31.992533\n",
       "max        211.934156\n",
       "Name: BMI, dtype: float64"
      ]
     },
     "execution_count": 96,
     "metadata": {},
     "output_type": "execute_result"
    }
   ],
   "source": [
    "df['BMI'].describe()"
   ]
  },
  {
   "cell_type": "code",
   "execution_count": 97,
   "metadata": {},
   "outputs": [
    {
     "data": {
      "text/plain": [
       "56521     211.934156\n",
       "117070    201.553254\n",
       "77719     194.285714\n",
       "76985     189.166667\n",
       "44494     177.391554\n",
       "52682     170.265349\n",
       "56982     161.249685\n",
       "117248    159.375000\n",
       "4062      158.611111\n",
       "94162     131.020408\n",
       "93198     112.664360\n",
       "77638     106.406250\n",
       "54014     106.250000\n",
       "75559     104.062500\n",
       "45864      74.000000\n",
       "77390      72.979708\n",
       "75197      72.325139\n",
       "75748      71.404959\n",
       "6356       67.429761\n",
       "44560      66.641035\n",
       "Name: BMI, dtype: float64"
      ]
     },
     "execution_count": 97,
     "metadata": {},
     "output_type": "execute_result"
    }
   ],
   "source": [
    "df['BMI'].sort_values(ascending=False).head(20)"
   ]
  },
  {
   "cell_type": "code",
   "execution_count": 98,
   "metadata": {},
   "outputs": [
    {
     "data": {
      "text/plain": [
       "78274      2.311111\n",
       "11982      2.311111\n",
       "98959      2.382812\n",
       "98819      2.474745\n",
       "20569      2.659320\n",
       "2916       3.291201\n",
       "97439      3.585643\n",
       "257        3.716519\n",
       "98280      3.763785\n",
       "98033      3.906250\n",
       "116488     7.947452\n",
       "115756     8.092218\n",
       "116090    10.976562\n",
       "99985     12.600000\n",
       "108399    12.654321\n",
       "46667     12.763540\n",
       "97547     13.391003\n",
       "71421     13.520822\n",
       "14914     13.580247\n",
       "4556      13.585316\n",
       "Name: BMI, dtype: float64"
      ]
     },
     "execution_count": 98,
     "metadata": {},
     "output_type": "execute_result"
    }
   ],
   "source": [
    "df['BMI'].sort_values().head(20)"
   ]
  },
  {
   "cell_type": "code",
   "execution_count": 99,
   "metadata": {},
   "outputs": [
    {
     "data": {
      "text/plain": [
       "45864     74.000000\n",
       "77390     72.979708\n",
       "75197     72.325139\n",
       "75748     71.404959\n",
       "6356      67.429761\n",
       "44560     66.641035\n",
       "38221     66.415639\n",
       "44111     65.198102\n",
       "106335    64.911355\n",
       "39910     64.475298\n",
       "107677    64.092293\n",
       "19810     63.654952\n",
       "96913     62.998984\n",
       "88584     62.765239\n",
       "15317     62.453401\n",
       "82830     61.763710\n",
       "91018     61.083563\n",
       "42707     61.000000\n",
       "47094     60.973370\n",
       "54272     60.962238\n",
       "Name: BMI, dtype: float64"
      ]
     },
     "execution_count": 99,
     "metadata": {},
     "output_type": "execute_result"
    }
   ],
   "source": [
    "def bmi(value):\n",
    "    if value < 10 or value > 100:\n",
    "        return np.nan\n",
    "    else:\n",
    "        return value\n",
    "df['BMI'] = df['BMI'].apply(bmi)    \n",
    "df['BMI'].sort_values(ascending = False).head(20)"
   ]
  },
  {
   "cell_type": "code",
   "execution_count": 100,
   "metadata": {},
   "outputs": [
    {
     "data": {
      "text/plain": [
       "116090    10.976562\n",
       "99985     12.600000\n",
       "108399    12.654321\n",
       "46667     12.763540\n",
       "97547     13.391003\n",
       "71421     13.520822\n",
       "14914     13.580247\n",
       "4556      13.585316\n",
       "50806     13.665675\n",
       "115292    13.765432\n",
       "70846     13.867187\n",
       "98933     13.984008\n",
       "85057     13.997368\n",
       "3913      14.033212\n",
       "48885     14.202855\n",
       "52600     14.250000\n",
       "109163    14.342572\n",
       "38757     14.342572\n",
       "115656    14.351852\n",
       "78233     14.455246\n",
       "Name: BMI, dtype: float64"
      ]
     },
     "execution_count": 100,
     "metadata": {},
     "output_type": "execute_result"
    }
   ],
   "source": [
    "df['BMI'].sort_values().head(20)"
   ]
  },
  {
   "cell_type": "code",
   "execution_count": 103,
   "metadata": {},
   "outputs": [
    {
     "data": {
      "text/html": [
       "<div>\n",
       "<style scoped>\n",
       "    .dataframe tbody tr th:only-of-type {\n",
       "        vertical-align: middle;\n",
       "    }\n",
       "\n",
       "    .dataframe tbody tr th {\n",
       "        vertical-align: top;\n",
       "    }\n",
       "\n",
       "    .dataframe thead th {\n",
       "        text-align: right;\n",
       "    }\n",
       "</style>\n",
       "<table border=\"1\" class=\"dataframe\">\n",
       "  <thead>\n",
       "    <tr style=\"text-align: right;\">\n",
       "      <th></th>\n",
       "      <th>WEIGHT_AT_START_OF_REGIMEN</th>\n",
       "      <th>HEIGHT_AT_START_OF_REGIMEN</th>\n",
       "      <th>BMI</th>\n",
       "    </tr>\n",
       "  </thead>\n",
       "  <tbody>\n",
       "    <tr>\n",
       "      <td>116090</td>\n",
       "      <td>28.1</td>\n",
       "      <td>1.60</td>\n",
       "      <td>10.976562</td>\n",
       "    </tr>\n",
       "    <tr>\n",
       "      <td>99985</td>\n",
       "      <td>50.4</td>\n",
       "      <td>2.00</td>\n",
       "      <td>12.600000</td>\n",
       "    </tr>\n",
       "    <tr>\n",
       "      <td>108399</td>\n",
       "      <td>41.0</td>\n",
       "      <td>1.80</td>\n",
       "      <td>12.654321</td>\n",
       "    </tr>\n",
       "    <tr>\n",
       "      <td>46667</td>\n",
       "      <td>38.2</td>\n",
       "      <td>1.73</td>\n",
       "      <td>12.763540</td>\n",
       "    </tr>\n",
       "    <tr>\n",
       "      <td>97547</td>\n",
       "      <td>38.7</td>\n",
       "      <td>1.70</td>\n",
       "      <td>13.391003</td>\n",
       "    </tr>\n",
       "    <tr>\n",
       "      <td>...</td>\n",
       "      <td>...</td>\n",
       "      <td>...</td>\n",
       "      <td>...</td>\n",
       "    </tr>\n",
       "    <tr>\n",
       "      <td>6356</td>\n",
       "      <td>162.0</td>\n",
       "      <td>1.55</td>\n",
       "      <td>67.429761</td>\n",
       "    </tr>\n",
       "    <tr>\n",
       "      <td>75748</td>\n",
       "      <td>86.4</td>\n",
       "      <td>1.10</td>\n",
       "      <td>71.404959</td>\n",
       "    </tr>\n",
       "    <tr>\n",
       "      <td>75197</td>\n",
       "      <td>167.1</td>\n",
       "      <td>1.52</td>\n",
       "      <td>72.325139</td>\n",
       "    </tr>\n",
       "    <tr>\n",
       "      <td>77390</td>\n",
       "      <td>82.0</td>\n",
       "      <td>1.06</td>\n",
       "      <td>72.979708</td>\n",
       "    </tr>\n",
       "    <tr>\n",
       "      <td>45864</td>\n",
       "      <td>74.0</td>\n",
       "      <td>1.00</td>\n",
       "      <td>74.000000</td>\n",
       "    </tr>\n",
       "  </tbody>\n",
       "</table>\n",
       "<p>17400 rows × 3 columns</p>\n",
       "</div>"
      ],
      "text/plain": [
       "        WEIGHT_AT_START_OF_REGIMEN  HEIGHT_AT_START_OF_REGIMEN        BMI\n",
       "116090                        28.1                        1.60  10.976562\n",
       "99985                         50.4                        2.00  12.600000\n",
       "108399                        41.0                        1.80  12.654321\n",
       "46667                         38.2                        1.73  12.763540\n",
       "97547                         38.7                        1.70  13.391003\n",
       "...                            ...                         ...        ...\n",
       "6356                         162.0                        1.55  67.429761\n",
       "75748                         86.4                        1.10  71.404959\n",
       "75197                        167.1                        1.52  72.325139\n",
       "77390                         82.0                        1.06  72.979708\n",
       "45864                         74.0                        1.00  74.000000\n",
       "\n",
       "[17400 rows x 3 columns]"
      ]
     },
     "execution_count": 103,
     "metadata": {},
     "output_type": "execute_result"
    }
   ],
   "source": [
    "df[['WEIGHT_AT_START_OF_REGIMEN', 'HEIGHT_AT_START_OF_REGIMEN', 'BMI']].dropna().sort_values(by='BMI')"
   ]
  },
  {
   "cell_type": "code",
   "execution_count": 104,
   "metadata": {},
   "outputs": [
    {
     "data": {
      "text/plain": [
       "(118747, 51)"
      ]
     },
     "execution_count": 104,
     "metadata": {},
     "output_type": "execute_result"
    }
   ],
   "source": [
    "df.shape"
   ]
  }
 ],
 "metadata": {
  "kernelspec": {
   "display_name": "Python 3",
   "language": "python",
   "name": "python3"
  },
  "language_info": {
   "codemirror_mode": {
    "name": "ipython",
    "version": 3
   },
   "file_extension": ".py",
   "mimetype": "text/x-python",
   "name": "python",
   "nbconvert_exporter": "python",
   "pygments_lexer": "ipython3",
   "version": "3.7.4"
  }
 },
 "nbformat": 4,
 "nbformat_minor": 2
}
