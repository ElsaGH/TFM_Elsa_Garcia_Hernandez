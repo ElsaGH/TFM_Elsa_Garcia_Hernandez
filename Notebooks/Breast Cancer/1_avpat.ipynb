{
 "cells": [
  {
   "cell_type": "code",
   "execution_count": 74,
   "metadata": {},
   "outputs": [],
   "source": [
    "import pandas as pd\n",
    "import numpy as np\n",
    "from zipfile import ZipFile"
   ]
  },
  {
   "cell_type": "code",
   "execution_count": 75,
   "metadata": {},
   "outputs": [],
   "source": [
    "pd.set_option('display.max_columns', None) "
   ]
  },
  {
   "cell_type": "code",
   "execution_count": 76,
   "metadata": {},
   "outputs": [
    {
     "data": {
      "text/html": [
       "<div>\n",
       "<style scoped>\n",
       "    .dataframe tbody tr th:only-of-type {\n",
       "        vertical-align: middle;\n",
       "    }\n",
       "\n",
       "    .dataframe tbody tr th {\n",
       "        vertical-align: top;\n",
       "    }\n",
       "\n",
       "    .dataframe thead th {\n",
       "        text-align: right;\n",
       "    }\n",
       "</style>\n",
       "<table border=\"1\" class=\"dataframe\">\n",
       "  <thead>\n",
       "    <tr style=\"text-align: right;\">\n",
       "      <th></th>\n",
       "      <th>PATIENTID</th>\n",
       "      <th>SEX</th>\n",
       "      <th>LINKNUMBER</th>\n",
       "      <th>ETHNICITY</th>\n",
       "      <th>DEATHCAUSECODE_1A</th>\n",
       "      <th>DEATHCAUSECODE_1B</th>\n",
       "      <th>DEATHCAUSECODE_1C</th>\n",
       "      <th>DEATHCAUSECODE_2</th>\n",
       "      <th>DEATHCAUSECODE_UNDERLYING</th>\n",
       "      <th>DEATHLOCATIONCODE</th>\n",
       "      <th>NEWVITALSTATUS</th>\n",
       "      <th>VITALSTATUSDATE</th>\n",
       "    </tr>\n",
       "  </thead>\n",
       "  <tbody>\n",
       "    <tr>\n",
       "      <td>0</td>\n",
       "      <td>10000001</td>\n",
       "      <td>2</td>\n",
       "      <td>810000001</td>\n",
       "      <td>A</td>\n",
       "      <td>NaN</td>\n",
       "      <td>NaN</td>\n",
       "      <td>NaN</td>\n",
       "      <td>NaN</td>\n",
       "      <td>NaN</td>\n",
       "      <td>NaN</td>\n",
       "      <td>A</td>\n",
       "      <td>2017-01-17</td>\n",
       "    </tr>\n",
       "    <tr>\n",
       "      <td>1</td>\n",
       "      <td>10000002</td>\n",
       "      <td>2</td>\n",
       "      <td>810000002</td>\n",
       "      <td>Z</td>\n",
       "      <td>NaN</td>\n",
       "      <td>NaN</td>\n",
       "      <td>NaN</td>\n",
       "      <td>NaN</td>\n",
       "      <td>NaN</td>\n",
       "      <td>NaN</td>\n",
       "      <td>A</td>\n",
       "      <td>2017-01-14</td>\n",
       "    </tr>\n",
       "    <tr>\n",
       "      <td>2</td>\n",
       "      <td>10000003</td>\n",
       "      <td>1</td>\n",
       "      <td>810000003</td>\n",
       "      <td>A</td>\n",
       "      <td>NaN</td>\n",
       "      <td>NaN</td>\n",
       "      <td>NaN</td>\n",
       "      <td>NaN</td>\n",
       "      <td>NaN</td>\n",
       "      <td>NaN</td>\n",
       "      <td>A</td>\n",
       "      <td>2017-01-17</td>\n",
       "    </tr>\n",
       "    <tr>\n",
       "      <td>3</td>\n",
       "      <td>10000004</td>\n",
       "      <td>1</td>\n",
       "      <td>810000004</td>\n",
       "      <td>A</td>\n",
       "      <td>NaN</td>\n",
       "      <td>NaN</td>\n",
       "      <td>NaN</td>\n",
       "      <td>NaN</td>\n",
       "      <td>NaN</td>\n",
       "      <td>NaN</td>\n",
       "      <td>A</td>\n",
       "      <td>2017-01-13</td>\n",
       "    </tr>\n",
       "    <tr>\n",
       "      <td>4</td>\n",
       "      <td>10000005</td>\n",
       "      <td>2</td>\n",
       "      <td>810000005</td>\n",
       "      <td>NaN</td>\n",
       "      <td>NaN</td>\n",
       "      <td>NaN</td>\n",
       "      <td>NaN</td>\n",
       "      <td>NaN</td>\n",
       "      <td>NaN</td>\n",
       "      <td>NaN</td>\n",
       "      <td>A</td>\n",
       "      <td>2017-01-16</td>\n",
       "    </tr>\n",
       "  </tbody>\n",
       "</table>\n",
       "</div>"
      ],
      "text/plain": [
       "   PATIENTID  SEX  LINKNUMBER ETHNICITY DEATHCAUSECODE_1A DEATHCAUSECODE_1B  \\\n",
       "0   10000001    2   810000001         A               NaN               NaN   \n",
       "1   10000002    2   810000002         Z               NaN               NaN   \n",
       "2   10000003    1   810000003         A               NaN               NaN   \n",
       "3   10000004    1   810000004         A               NaN               NaN   \n",
       "4   10000005    2   810000005       NaN               NaN               NaN   \n",
       "\n",
       "  DEATHCAUSECODE_1C DEATHCAUSECODE_2 DEATHCAUSECODE_UNDERLYING  \\\n",
       "0               NaN              NaN                       NaN   \n",
       "1               NaN              NaN                       NaN   \n",
       "2               NaN              NaN                       NaN   \n",
       "3               NaN              NaN                       NaN   \n",
       "4               NaN              NaN                       NaN   \n",
       "\n",
       "  DEATHLOCATIONCODE NEWVITALSTATUS VITALSTATUSDATE  \n",
       "0               NaN              A      2017-01-17  \n",
       "1               NaN              A      2017-01-14  \n",
       "2               NaN              A      2017-01-17  \n",
       "3               NaN              A      2017-01-13  \n",
       "4               NaN              A      2017-01-16  "
      ]
     },
     "execution_count": 76,
     "metadata": {},
     "output_type": "execute_result"
    }
   ],
   "source": [
    "zf = ZipFile('../../Data/sim_av_patient.zip')\n",
    "csv = zf.open('sim_av_patient.csv')\n",
    "df = pd.read_csv(csv)\n",
    "df.head()"
   ]
  },
  {
   "cell_type": "code",
   "execution_count": 77,
   "metadata": {},
   "outputs": [
    {
     "data": {
      "text/html": [
       "<div>\n",
       "<style scoped>\n",
       "    .dataframe tbody tr th:only-of-type {\n",
       "        vertical-align: middle;\n",
       "    }\n",
       "\n",
       "    .dataframe tbody tr th {\n",
       "        vertical-align: top;\n",
       "    }\n",
       "\n",
       "    .dataframe thead th {\n",
       "        text-align: right;\n",
       "    }\n",
       "</style>\n",
       "<table border=\"1\" class=\"dataframe\">\n",
       "  <thead>\n",
       "    <tr style=\"text-align: right;\">\n",
       "      <th></th>\n",
       "      <th>PATIENTID</th>\n",
       "      <th>SEX</th>\n",
       "      <th>LINKNUMBER</th>\n",
       "      <th>ETHNICITY</th>\n",
       "      <th>DEATHCAUSECODE_1A</th>\n",
       "      <th>DEATHCAUSECODE_1B</th>\n",
       "      <th>DEATHCAUSECODE_1C</th>\n",
       "      <th>DEATHCAUSECODE_2</th>\n",
       "      <th>DEATHCAUSECODE_UNDERLYING</th>\n",
       "      <th>DEATHLOCATIONCODE</th>\n",
       "      <th>NEWVITALSTATUS</th>\n",
       "      <th>VITALSTATUSDATE</th>\n",
       "    </tr>\n",
       "  </thead>\n",
       "  <tbody>\n",
       "    <tr>\n",
       "      <td>69191</td>\n",
       "      <td>10070420</td>\n",
       "      <td>1</td>\n",
       "      <td>810070420</td>\n",
       "      <td>NaN</td>\n",
       "      <td>NaN</td>\n",
       "      <td>NaN</td>\n",
       "      <td>NaN</td>\n",
       "      <td>NaN</td>\n",
       "      <td>NaN</td>\n",
       "      <td>NaN</td>\n",
       "      <td>A</td>\n",
       "      <td>2017-01-14</td>\n",
       "    </tr>\n",
       "    <tr>\n",
       "      <td>220293</td>\n",
       "      <td>10224083</td>\n",
       "      <td>2</td>\n",
       "      <td>810224083</td>\n",
       "      <td>A</td>\n",
       "      <td>J189</td>\n",
       "      <td>NaN</td>\n",
       "      <td>NaN</td>\n",
       "      <td>N179</td>\n",
       "      <td>I64</td>\n",
       "      <td>X</td>\n",
       "      <td>A</td>\n",
       "      <td>2017-01-16</td>\n",
       "    </tr>\n",
       "    <tr>\n",
       "      <td>903809</td>\n",
       "      <td>90043766</td>\n",
       "      <td>1</td>\n",
       "      <td>890043766</td>\n",
       "      <td>A</td>\n",
       "      <td>J690</td>\n",
       "      <td>NaN</td>\n",
       "      <td>NaN</td>\n",
       "      <td>NaN</td>\n",
       "      <td>C259</td>\n",
       "      <td>1</td>\n",
       "      <td>D</td>\n",
       "      <td>2016-01-26</td>\n",
       "    </tr>\n",
       "    <tr>\n",
       "      <td>246024</td>\n",
       "      <td>10250278</td>\n",
       "      <td>1</td>\n",
       "      <td>810250278</td>\n",
       "      <td>A</td>\n",
       "      <td>NaN</td>\n",
       "      <td>NaN</td>\n",
       "      <td>NaN</td>\n",
       "      <td>NaN</td>\n",
       "      <td>NaN</td>\n",
       "      <td>NaN</td>\n",
       "      <td>A</td>\n",
       "      <td>2017-01-17</td>\n",
       "    </tr>\n",
       "    <tr>\n",
       "      <td>1029064</td>\n",
       "      <td>120035499</td>\n",
       "      <td>2</td>\n",
       "      <td>920035499</td>\n",
       "      <td>A</td>\n",
       "      <td>C851</td>\n",
       "      <td>C837</td>\n",
       "      <td>NaN</td>\n",
       "      <td>I255 Y839 I64</td>\n",
       "      <td>C851</td>\n",
       "      <td>1</td>\n",
       "      <td>A</td>\n",
       "      <td>2017-01-16</td>\n",
       "    </tr>\n",
       "  </tbody>\n",
       "</table>\n",
       "</div>"
      ],
      "text/plain": [
       "         PATIENTID  SEX  LINKNUMBER ETHNICITY DEATHCAUSECODE_1A  \\\n",
       "69191     10070420    1   810070420       NaN               NaN   \n",
       "220293    10224083    2   810224083         A              J189   \n",
       "903809    90043766    1   890043766         A              J690   \n",
       "246024    10250278    1   810250278         A               NaN   \n",
       "1029064  120035499    2   920035499         A              C851   \n",
       "\n",
       "        DEATHCAUSECODE_1B DEATHCAUSECODE_1C DEATHCAUSECODE_2  \\\n",
       "69191                 NaN               NaN              NaN   \n",
       "220293                NaN               NaN             N179   \n",
       "903809                NaN               NaN              NaN   \n",
       "246024                NaN               NaN              NaN   \n",
       "1029064              C837               NaN    I255 Y839 I64   \n",
       "\n",
       "        DEATHCAUSECODE_UNDERLYING DEATHLOCATIONCODE NEWVITALSTATUS  \\\n",
       "69191                         NaN               NaN              A   \n",
       "220293                        I64                 X              A   \n",
       "903809                       C259                 1              D   \n",
       "246024                        NaN               NaN              A   \n",
       "1029064                      C851                 1              A   \n",
       "\n",
       "        VITALSTATUSDATE  \n",
       "69191        2017-01-14  \n",
       "220293       2017-01-16  \n",
       "903809       2016-01-26  \n",
       "246024       2017-01-17  \n",
       "1029064      2017-01-16  "
      ]
     },
     "execution_count": 77,
     "metadata": {},
     "output_type": "execute_result"
    }
   ],
   "source": [
    "df.sample(5)"
   ]
  },
  {
   "cell_type": "code",
   "execution_count": 78,
   "metadata": {},
   "outputs": [
    {
     "data": {
      "text/plain": [
       "(1322100, 12)"
      ]
     },
     "execution_count": 78,
     "metadata": {},
     "output_type": "execute_result"
    }
   ],
   "source": [
    "df.shape"
   ]
  },
  {
   "cell_type": "code",
   "execution_count": 79,
   "metadata": {},
   "outputs": [
    {
     "data": {
      "text/plain": [
       "PATIENTID                          0\n",
       "SEX                                0\n",
       "LINKNUMBER                         0\n",
       "ETHNICITY                     129851\n",
       "DEATHCAUSECODE_1A             991820\n",
       "DEATHCAUSECODE_1B            1224015\n",
       "DEATHCAUSECODE_1C            1303994\n",
       "DEATHCAUSECODE_2             1180118\n",
       "DEATHCAUSECODE_UNDERLYING     994190\n",
       "DEATHLOCATIONCODE             991719\n",
       "NEWVITALSTATUS                     0\n",
       "VITALSTATUSDATE                    0\n",
       "dtype: int64"
      ]
     },
     "execution_count": 79,
     "metadata": {},
     "output_type": "execute_result"
    }
   ],
   "source": [
    "df.isna().sum()"
   ]
  },
  {
   "cell_type": "code",
   "execution_count": 80,
   "metadata": {},
   "outputs": [
    {
     "data": {
      "text/plain": [
       "PATIENTID                    1322100\n",
       "SEX                          1322100\n",
       "LINKNUMBER                   1322100\n",
       "ETHNICITY                    1192249\n",
       "DEATHCAUSECODE_1A             330280\n",
       "DEATHCAUSECODE_1B              98085\n",
       "DEATHCAUSECODE_1C              18106\n",
       "DEATHCAUSECODE_2              141982\n",
       "DEATHCAUSECODE_UNDERLYING     327910\n",
       "DEATHLOCATIONCODE             330381\n",
       "NEWVITALSTATUS               1322100\n",
       "VITALSTATUSDATE              1322100\n",
       "dtype: int64"
      ]
     },
     "execution_count": 80,
     "metadata": {},
     "output_type": "execute_result"
    }
   ],
   "source": [
    "df.count()"
   ]
  },
  {
   "cell_type": "code",
   "execution_count": 81,
   "metadata": {},
   "outputs": [
    {
     "data": {
      "text/plain": [
       "PATIENTID                     int64\n",
       "SEX                           int64\n",
       "LINKNUMBER                    int64\n",
       "ETHNICITY                    object\n",
       "DEATHCAUSECODE_1A            object\n",
       "DEATHCAUSECODE_1B            object\n",
       "DEATHCAUSECODE_1C            object\n",
       "DEATHCAUSECODE_2             object\n",
       "DEATHCAUSECODE_UNDERLYING    object\n",
       "DEATHLOCATIONCODE            object\n",
       "NEWVITALSTATUS               object\n",
       "VITALSTATUSDATE              object\n",
       "dtype: object"
      ]
     },
     "execution_count": 81,
     "metadata": {},
     "output_type": "execute_result"
    }
   ],
   "source": [
    "df.dtypes"
   ]
  },
  {
   "cell_type": "code",
   "execution_count": 82,
   "metadata": {},
   "outputs": [
    {
     "name": "stdout",
     "output_type": "stream",
     "text": [
      "<class 'pandas.core.frame.DataFrame'>\n",
      "RangeIndex: 1322100 entries, 0 to 1322099\n",
      "Data columns (total 12 columns):\n",
      "PATIENTID                    1322100 non-null int64\n",
      "SEX                          1322100 non-null int64\n",
      "LINKNUMBER                   1322100 non-null int64\n",
      "ETHNICITY                    1192249 non-null object\n",
      "DEATHCAUSECODE_1A            330280 non-null object\n",
      "DEATHCAUSECODE_1B            98085 non-null object\n",
      "DEATHCAUSECODE_1C            18106 non-null object\n",
      "DEATHCAUSECODE_2             141982 non-null object\n",
      "DEATHCAUSECODE_UNDERLYING    327910 non-null object\n",
      "DEATHLOCATIONCODE            330381 non-null object\n",
      "NEWVITALSTATUS               1322100 non-null object\n",
      "VITALSTATUSDATE              1322100 non-null object\n",
      "dtypes: int64(3), object(9)\n",
      "memory usage: 121.0+ MB\n"
     ]
    }
   ],
   "source": [
    "df.info()"
   ]
  },
  {
   "cell_type": "code",
   "execution_count": 83,
   "metadata": {},
   "outputs": [
    {
     "name": "stdout",
     "output_type": "stream",
     "text": [
      "The original dataset has data for 1322100 patients\n",
      "After removing duplicates, the dataset has data for 1322100 patients\n",
      "There are no duplicates in the dataset\n"
     ]
    }
   ],
   "source": [
    "print(\"The original dataset has data for %d patients\" % len(df))\n",
    "print(\"After removing duplicates, the dataset has data for %d patients\" % len(df.drop_duplicates()))\n",
    "print(\"There are no duplicates in the dataset\")"
   ]
  },
  {
   "cell_type": "code",
   "execution_count": 84,
   "metadata": {},
   "outputs": [
    {
     "data": {
      "text/plain": [
       "A                                                         991776\n",
       "D                                                         296625\n",
       "Potential error: Px interacts after DoDeath                29608\n",
       "X                                                           1738\n",
       "Potential error iro DoDeath                                 1371\n",
       "Potential error: Px traced alive after DoDeath but <2m       815\n",
       "Potential error: Px treated after DoDeath                    141\n",
       "Potential error: Px traced alive after DoDeath > 2m           23\n",
       "Potential error: Px diagnosed after DoDeath                    3\n",
       "Name: NEWVITALSTATUS, dtype: int64"
      ]
     },
     "execution_count": 84,
     "metadata": {},
     "output_type": "execute_result"
    }
   ],
   "source": [
    "df['NEWVITALSTATUS'].value_counts()"
   ]
  },
  {
   "cell_type": "code",
   "execution_count": 85,
   "metadata": {},
   "outputs": [
    {
     "name": "stdout",
     "output_type": "stream",
     "text": [
      "Percentage of patients classified as alive: 75.02\n",
      "Percentage of patients classified as dead: 22.44\n",
      "Percentage of patients classified as other: 2.55\n"
     ]
    }
   ],
   "source": [
    "percentage_alive = np.mean(df['NEWVITALSTATUS'] == 'A') * 100\n",
    "percentage_dead = np.mean(df['NEWVITALSTATUS'] == 'D') * 100\n",
    "percentage_others = np.mean((df['NEWVITALSTATUS'] != 'A') & (df['NEWVITALSTATUS'] != 'D')) * 100\n",
    "print(\"Percentage of patients classified as alive: %.2f\" % percentage_alive)\n",
    "print(\"Percentage of patients classified as dead: %.2f\" % percentage_dead)\n",
    "print(\"Percentage of patients classified as other: %.2f\" % percentage_others)"
   ]
  },
  {
   "cell_type": "code",
   "execution_count": 86,
   "metadata": {},
   "outputs": [
    {
     "data": {
      "text/html": [
       "<div>\n",
       "<style scoped>\n",
       "    .dataframe tbody tr th:only-of-type {\n",
       "        vertical-align: middle;\n",
       "    }\n",
       "\n",
       "    .dataframe tbody tr th {\n",
       "        vertical-align: top;\n",
       "    }\n",
       "\n",
       "    .dataframe thead th {\n",
       "        text-align: right;\n",
       "    }\n",
       "</style>\n",
       "<table border=\"1\" class=\"dataframe\">\n",
       "  <thead>\n",
       "    <tr style=\"text-align: right;\">\n",
       "      <th></th>\n",
       "      <th>PATIENTID</th>\n",
       "      <th>SEX</th>\n",
       "      <th>LINKNUMBER</th>\n",
       "      <th>ETHNICITY</th>\n",
       "      <th>DEATHCAUSECODE_1A</th>\n",
       "      <th>DEATHCAUSECODE_1B</th>\n",
       "      <th>DEATHCAUSECODE_1C</th>\n",
       "      <th>DEATHCAUSECODE_2</th>\n",
       "      <th>DEATHCAUSECODE_UNDERLYING</th>\n",
       "      <th>DEATHLOCATIONCODE</th>\n",
       "      <th>NEWVITALSTATUS</th>\n",
       "      <th>VITALSTATUSDATE</th>\n",
       "    </tr>\n",
       "  </thead>\n",
       "  <tbody>\n",
       "    <tr>\n",
       "      <td>0</td>\n",
       "      <td>10000001</td>\n",
       "      <td>2</td>\n",
       "      <td>810000001</td>\n",
       "      <td>A</td>\n",
       "      <td>NaN</td>\n",
       "      <td>NaN</td>\n",
       "      <td>NaN</td>\n",
       "      <td>NaN</td>\n",
       "      <td>NaN</td>\n",
       "      <td>NaN</td>\n",
       "      <td>A</td>\n",
       "      <td>2017-01-17</td>\n",
       "    </tr>\n",
       "    <tr>\n",
       "      <td>1</td>\n",
       "      <td>10000002</td>\n",
       "      <td>2</td>\n",
       "      <td>810000002</td>\n",
       "      <td>Z</td>\n",
       "      <td>NaN</td>\n",
       "      <td>NaN</td>\n",
       "      <td>NaN</td>\n",
       "      <td>NaN</td>\n",
       "      <td>NaN</td>\n",
       "      <td>NaN</td>\n",
       "      <td>A</td>\n",
       "      <td>2017-01-14</td>\n",
       "    </tr>\n",
       "    <tr>\n",
       "      <td>2</td>\n",
       "      <td>10000003</td>\n",
       "      <td>1</td>\n",
       "      <td>810000003</td>\n",
       "      <td>A</td>\n",
       "      <td>NaN</td>\n",
       "      <td>NaN</td>\n",
       "      <td>NaN</td>\n",
       "      <td>NaN</td>\n",
       "      <td>NaN</td>\n",
       "      <td>NaN</td>\n",
       "      <td>A</td>\n",
       "      <td>2017-01-17</td>\n",
       "    </tr>\n",
       "    <tr>\n",
       "      <td>3</td>\n",
       "      <td>10000004</td>\n",
       "      <td>1</td>\n",
       "      <td>810000004</td>\n",
       "      <td>A</td>\n",
       "      <td>NaN</td>\n",
       "      <td>NaN</td>\n",
       "      <td>NaN</td>\n",
       "      <td>NaN</td>\n",
       "      <td>NaN</td>\n",
       "      <td>NaN</td>\n",
       "      <td>A</td>\n",
       "      <td>2017-01-13</td>\n",
       "    </tr>\n",
       "    <tr>\n",
       "      <td>4</td>\n",
       "      <td>10000005</td>\n",
       "      <td>2</td>\n",
       "      <td>810000005</td>\n",
       "      <td>NaN</td>\n",
       "      <td>NaN</td>\n",
       "      <td>NaN</td>\n",
       "      <td>NaN</td>\n",
       "      <td>NaN</td>\n",
       "      <td>NaN</td>\n",
       "      <td>NaN</td>\n",
       "      <td>A</td>\n",
       "      <td>2017-01-16</td>\n",
       "    </tr>\n",
       "  </tbody>\n",
       "</table>\n",
       "</div>"
      ],
      "text/plain": [
       "   PATIENTID  SEX  LINKNUMBER ETHNICITY DEATHCAUSECODE_1A DEATHCAUSECODE_1B  \\\n",
       "0   10000001    2   810000001         A               NaN               NaN   \n",
       "1   10000002    2   810000002         Z               NaN               NaN   \n",
       "2   10000003    1   810000003         A               NaN               NaN   \n",
       "3   10000004    1   810000004         A               NaN               NaN   \n",
       "4   10000005    2   810000005       NaN               NaN               NaN   \n",
       "\n",
       "  DEATHCAUSECODE_1C DEATHCAUSECODE_2 DEATHCAUSECODE_UNDERLYING  \\\n",
       "0               NaN              NaN                       NaN   \n",
       "1               NaN              NaN                       NaN   \n",
       "2               NaN              NaN                       NaN   \n",
       "3               NaN              NaN                       NaN   \n",
       "4               NaN              NaN                       NaN   \n",
       "\n",
       "  DEATHLOCATIONCODE NEWVITALSTATUS VITALSTATUSDATE  \n",
       "0               NaN              A      2017-01-17  \n",
       "1               NaN              A      2017-01-14  \n",
       "2               NaN              A      2017-01-17  \n",
       "3               NaN              A      2017-01-13  \n",
       "4               NaN              A      2017-01-16  "
      ]
     },
     "execution_count": 86,
     "metadata": {},
     "output_type": "execute_result"
    }
   ],
   "source": [
    "df = df.drop(df[(df['NEWVITALSTATUS'] != 'A') & (df['NEWVITALSTATUS'] != 'D')].index)\n",
    "df.head()"
   ]
  },
  {
   "cell_type": "code",
   "execution_count": 87,
   "metadata": {},
   "outputs": [
    {
     "data": {
      "text/plain": [
       "A    991776\n",
       "D    296625\n",
       "Name: NEWVITALSTATUS, dtype: int64"
      ]
     },
     "execution_count": 87,
     "metadata": {},
     "output_type": "execute_result"
    }
   ],
   "source": [
    "df['NEWVITALSTATUS'].value_counts()"
   ]
  },
  {
   "cell_type": "code",
   "execution_count": 88,
   "metadata": {},
   "outputs": [
    {
     "name": "stdout",
     "output_type": "stream",
     "text": [
      "New percentage of patients classified as alive: 76.98\n",
      "New percentage of patients classified as dead: 23.02\n",
      "New percentage of patients classified as other: 0.00\n"
     ]
    }
   ],
   "source": [
    "percentage_alive = np.mean(df['NEWVITALSTATUS'] == 'A') * 100\n",
    "percentage_dead = np.mean(df['NEWVITALSTATUS'] == 'D') * 100\n",
    "percentage_others = np.mean((df['NEWVITALSTATUS'] != 'A') & (df['NEWVITALSTATUS'] != 'D')) * 100\n",
    "print(\"New percentage of patients classified as alive: %.2f\" % percentage_alive)\n",
    "print(\"New percentage of patients classified as dead: %.2f\" % percentage_dead)\n",
    "print(\"New percentage of patients classified as other: %.2f\" % percentage_others)"
   ]
  },
  {
   "cell_type": "code",
   "execution_count": 89,
   "metadata": {},
   "outputs": [
    {
     "data": {
      "text/html": [
       "<div>\n",
       "<style scoped>\n",
       "    .dataframe tbody tr th:only-of-type {\n",
       "        vertical-align: middle;\n",
       "    }\n",
       "\n",
       "    .dataframe tbody tr th {\n",
       "        vertical-align: top;\n",
       "    }\n",
       "\n",
       "    .dataframe thead th {\n",
       "        text-align: right;\n",
       "    }\n",
       "</style>\n",
       "<table border=\"1\" class=\"dataframe\">\n",
       "  <thead>\n",
       "    <tr style=\"text-align: right;\">\n",
       "      <th></th>\n",
       "      <th>PATIENTID</th>\n",
       "      <th>SEX</th>\n",
       "      <th>LINKNUMBER</th>\n",
       "      <th>ETHNICITY</th>\n",
       "      <th>DEATHCAUSECODE_1A</th>\n",
       "      <th>DEATHCAUSECODE_1B</th>\n",
       "      <th>DEATHCAUSECODE_1C</th>\n",
       "      <th>DEATHCAUSECODE_2</th>\n",
       "      <th>DEATHCAUSECODE_UNDERLYING</th>\n",
       "      <th>DEATHLOCATIONCODE</th>\n",
       "      <th>NEWVITALSTATUS</th>\n",
       "      <th>VITALSTATUSDATE</th>\n",
       "    </tr>\n",
       "  </thead>\n",
       "  <tbody>\n",
       "    <tr>\n",
       "      <td>0</td>\n",
       "      <td>10000001</td>\n",
       "      <td>2</td>\n",
       "      <td>810000001</td>\n",
       "      <td>A</td>\n",
       "      <td>NaN</td>\n",
       "      <td>NaN</td>\n",
       "      <td>NaN</td>\n",
       "      <td>NaN</td>\n",
       "      <td>NaN</td>\n",
       "      <td>NaN</td>\n",
       "      <td>A</td>\n",
       "      <td>2017-01-17</td>\n",
       "    </tr>\n",
       "    <tr>\n",
       "      <td>1</td>\n",
       "      <td>10000002</td>\n",
       "      <td>2</td>\n",
       "      <td>810000002</td>\n",
       "      <td>Z</td>\n",
       "      <td>NaN</td>\n",
       "      <td>NaN</td>\n",
       "      <td>NaN</td>\n",
       "      <td>NaN</td>\n",
       "      <td>NaN</td>\n",
       "      <td>NaN</td>\n",
       "      <td>A</td>\n",
       "      <td>2017-01-14</td>\n",
       "    </tr>\n",
       "    <tr>\n",
       "      <td>2</td>\n",
       "      <td>10000003</td>\n",
       "      <td>1</td>\n",
       "      <td>810000003</td>\n",
       "      <td>A</td>\n",
       "      <td>NaN</td>\n",
       "      <td>NaN</td>\n",
       "      <td>NaN</td>\n",
       "      <td>NaN</td>\n",
       "      <td>NaN</td>\n",
       "      <td>NaN</td>\n",
       "      <td>A</td>\n",
       "      <td>2017-01-17</td>\n",
       "    </tr>\n",
       "    <tr>\n",
       "      <td>3</td>\n",
       "      <td>10000004</td>\n",
       "      <td>1</td>\n",
       "      <td>810000004</td>\n",
       "      <td>A</td>\n",
       "      <td>NaN</td>\n",
       "      <td>NaN</td>\n",
       "      <td>NaN</td>\n",
       "      <td>NaN</td>\n",
       "      <td>NaN</td>\n",
       "      <td>NaN</td>\n",
       "      <td>A</td>\n",
       "      <td>2017-01-13</td>\n",
       "    </tr>\n",
       "    <tr>\n",
       "      <td>4</td>\n",
       "      <td>10000005</td>\n",
       "      <td>2</td>\n",
       "      <td>810000005</td>\n",
       "      <td>NaN</td>\n",
       "      <td>NaN</td>\n",
       "      <td>NaN</td>\n",
       "      <td>NaN</td>\n",
       "      <td>NaN</td>\n",
       "      <td>NaN</td>\n",
       "      <td>NaN</td>\n",
       "      <td>A</td>\n",
       "      <td>2017-01-16</td>\n",
       "    </tr>\n",
       "    <tr>\n",
       "      <td>...</td>\n",
       "      <td>...</td>\n",
       "      <td>...</td>\n",
       "      <td>...</td>\n",
       "      <td>...</td>\n",
       "      <td>...</td>\n",
       "      <td>...</td>\n",
       "      <td>...</td>\n",
       "      <td>...</td>\n",
       "      <td>...</td>\n",
       "      <td>...</td>\n",
       "      <td>...</td>\n",
       "      <td>...</td>\n",
       "    </tr>\n",
       "    <tr>\n",
       "      <td>1322090</td>\n",
       "      <td>220048564</td>\n",
       "      <td>1</td>\n",
       "      <td>1020048564</td>\n",
       "      <td>A</td>\n",
       "      <td>NaN</td>\n",
       "      <td>NaN</td>\n",
       "      <td>NaN</td>\n",
       "      <td>NaN</td>\n",
       "      <td>NaN</td>\n",
       "      <td>NaN</td>\n",
       "      <td>A</td>\n",
       "      <td>2017-01-16</td>\n",
       "    </tr>\n",
       "    <tr>\n",
       "      <td>1322094</td>\n",
       "      <td>220048569</td>\n",
       "      <td>1</td>\n",
       "      <td>1020048569</td>\n",
       "      <td>A</td>\n",
       "      <td>NaN</td>\n",
       "      <td>NaN</td>\n",
       "      <td>NaN</td>\n",
       "      <td>NaN</td>\n",
       "      <td>NaN</td>\n",
       "      <td>NaN</td>\n",
       "      <td>A</td>\n",
       "      <td>2017-01-14</td>\n",
       "    </tr>\n",
       "    <tr>\n",
       "      <td>1322095</td>\n",
       "      <td>220048570</td>\n",
       "      <td>1</td>\n",
       "      <td>1020048570</td>\n",
       "      <td>A</td>\n",
       "      <td>NaN</td>\n",
       "      <td>NaN</td>\n",
       "      <td>NaN</td>\n",
       "      <td>NaN</td>\n",
       "      <td>NaN</td>\n",
       "      <td>NaN</td>\n",
       "      <td>A</td>\n",
       "      <td>2017-01-16</td>\n",
       "    </tr>\n",
       "    <tr>\n",
       "      <td>1322096</td>\n",
       "      <td>220048571</td>\n",
       "      <td>2</td>\n",
       "      <td>1020048571</td>\n",
       "      <td>A</td>\n",
       "      <td>NaN</td>\n",
       "      <td>NaN</td>\n",
       "      <td>NaN</td>\n",
       "      <td>NaN</td>\n",
       "      <td>NaN</td>\n",
       "      <td>NaN</td>\n",
       "      <td>A</td>\n",
       "      <td>2017-01-16</td>\n",
       "    </tr>\n",
       "    <tr>\n",
       "      <td>1322098</td>\n",
       "      <td>220048573</td>\n",
       "      <td>2</td>\n",
       "      <td>1020048573</td>\n",
       "      <td>A</td>\n",
       "      <td>NaN</td>\n",
       "      <td>NaN</td>\n",
       "      <td>NaN</td>\n",
       "      <td>NaN</td>\n",
       "      <td>NaN</td>\n",
       "      <td>NaN</td>\n",
       "      <td>A</td>\n",
       "      <td>2017-01-16</td>\n",
       "    </tr>\n",
       "  </tbody>\n",
       "</table>\n",
       "<p>820411 rows × 12 columns</p>\n",
       "</div>"
      ],
      "text/plain": [
       "         PATIENTID  SEX  LINKNUMBER ETHNICITY DEATHCAUSECODE_1A  \\\n",
       "0         10000001    2   810000001         A               NaN   \n",
       "1         10000002    2   810000002         Z               NaN   \n",
       "2         10000003    1   810000003         A               NaN   \n",
       "3         10000004    1   810000004         A               NaN   \n",
       "4         10000005    2   810000005       NaN               NaN   \n",
       "...            ...  ...         ...       ...               ...   \n",
       "1322090  220048564    1  1020048564         A               NaN   \n",
       "1322094  220048569    1  1020048569         A               NaN   \n",
       "1322095  220048570    1  1020048570         A               NaN   \n",
       "1322096  220048571    2  1020048571         A               NaN   \n",
       "1322098  220048573    2  1020048573         A               NaN   \n",
       "\n",
       "        DEATHCAUSECODE_1B DEATHCAUSECODE_1C DEATHCAUSECODE_2  \\\n",
       "0                     NaN               NaN              NaN   \n",
       "1                     NaN               NaN              NaN   \n",
       "2                     NaN               NaN              NaN   \n",
       "3                     NaN               NaN              NaN   \n",
       "4                     NaN               NaN              NaN   \n",
       "...                   ...               ...              ...   \n",
       "1322090               NaN               NaN              NaN   \n",
       "1322094               NaN               NaN              NaN   \n",
       "1322095               NaN               NaN              NaN   \n",
       "1322096               NaN               NaN              NaN   \n",
       "1322098               NaN               NaN              NaN   \n",
       "\n",
       "        DEATHCAUSECODE_UNDERLYING DEATHLOCATIONCODE NEWVITALSTATUS  \\\n",
       "0                             NaN               NaN              A   \n",
       "1                             NaN               NaN              A   \n",
       "2                             NaN               NaN              A   \n",
       "3                             NaN               NaN              A   \n",
       "4                             NaN               NaN              A   \n",
       "...                           ...               ...            ...   \n",
       "1322090                       NaN               NaN              A   \n",
       "1322094                       NaN               NaN              A   \n",
       "1322095                       NaN               NaN              A   \n",
       "1322096                       NaN               NaN              A   \n",
       "1322098                       NaN               NaN              A   \n",
       "\n",
       "        VITALSTATUSDATE  \n",
       "0            2017-01-17  \n",
       "1            2017-01-14  \n",
       "2            2017-01-17  \n",
       "3            2017-01-13  \n",
       "4            2017-01-16  \n",
       "...                 ...  \n",
       "1322090      2017-01-16  \n",
       "1322094      2017-01-14  \n",
       "1322095      2017-01-16  \n",
       "1322096      2017-01-16  \n",
       "1322098      2017-01-16  \n",
       "\n",
       "[820411 rows x 12 columns]"
      ]
     },
     "execution_count": 89,
     "metadata": {},
     "output_type": "execute_result"
    }
   ],
   "source": [
    "correct_alive = df[(df['NEWVITALSTATUS'] == 'A') & (df['DEATHCAUSECODE_1A'].isna()) & (df['DEATHCAUSECODE_1B'].isna()) & (df['DEATHCAUSECODE_1C'].isna()) & (df['DEATHCAUSECODE_2'].isna()) & (df['DEATHCAUSECODE_UNDERLYING'].isna()) & (df['DEATHLOCATIONCODE'].isna())]\n",
    "correct_alive"
   ]
  },
  {
   "cell_type": "code",
   "execution_count": 90,
   "metadata": {},
   "outputs": [
    {
     "data": {
      "text/html": [
       "<div>\n",
       "<style scoped>\n",
       "    .dataframe tbody tr th:only-of-type {\n",
       "        vertical-align: middle;\n",
       "    }\n",
       "\n",
       "    .dataframe tbody tr th {\n",
       "        vertical-align: top;\n",
       "    }\n",
       "\n",
       "    .dataframe thead th {\n",
       "        text-align: right;\n",
       "    }\n",
       "</style>\n",
       "<table border=\"1\" class=\"dataframe\">\n",
       "  <thead>\n",
       "    <tr style=\"text-align: right;\">\n",
       "      <th></th>\n",
       "      <th>PATIENTID</th>\n",
       "      <th>SEX</th>\n",
       "      <th>LINKNUMBER</th>\n",
       "      <th>ETHNICITY</th>\n",
       "      <th>DEATHCAUSECODE_1A</th>\n",
       "      <th>DEATHCAUSECODE_1B</th>\n",
       "      <th>DEATHCAUSECODE_1C</th>\n",
       "      <th>DEATHCAUSECODE_2</th>\n",
       "      <th>DEATHCAUSECODE_UNDERLYING</th>\n",
       "      <th>DEATHLOCATIONCODE</th>\n",
       "      <th>NEWVITALSTATUS</th>\n",
       "      <th>VITALSTATUSDATE</th>\n",
       "    </tr>\n",
       "  </thead>\n",
       "  <tbody>\n",
       "    <tr>\n",
       "      <td>11</td>\n",
       "      <td>10000013</td>\n",
       "      <td>2</td>\n",
       "      <td>810000013</td>\n",
       "      <td>A</td>\n",
       "      <td>C241</td>\n",
       "      <td>NaN</td>\n",
       "      <td>NaN</td>\n",
       "      <td>NaN</td>\n",
       "      <td>C809</td>\n",
       "      <td>4</td>\n",
       "      <td>D</td>\n",
       "      <td>2016-02-03</td>\n",
       "    </tr>\n",
       "    <tr>\n",
       "      <td>55</td>\n",
       "      <td>10000058</td>\n",
       "      <td>1</td>\n",
       "      <td>810000058</td>\n",
       "      <td>A</td>\n",
       "      <td>J189</td>\n",
       "      <td>NaN</td>\n",
       "      <td>K562</td>\n",
       "      <td>F03</td>\n",
       "      <td>W190,S720</td>\n",
       "      <td>1</td>\n",
       "      <td>D</td>\n",
       "      <td>2015-05-14</td>\n",
       "    </tr>\n",
       "    <tr>\n",
       "      <td>429</td>\n",
       "      <td>10000438</td>\n",
       "      <td>2</td>\n",
       "      <td>810000438</td>\n",
       "      <td>A</td>\n",
       "      <td>I259</td>\n",
       "      <td>NaN</td>\n",
       "      <td>NaN</td>\n",
       "      <td>NaN</td>\n",
       "      <td>G20</td>\n",
       "      <td>4</td>\n",
       "      <td>D</td>\n",
       "      <td>2015-07-25</td>\n",
       "    </tr>\n",
       "    <tr>\n",
       "      <td>581</td>\n",
       "      <td>10000590</td>\n",
       "      <td>2</td>\n",
       "      <td>810000590</td>\n",
       "      <td>A</td>\n",
       "      <td>J180</td>\n",
       "      <td>NaN</td>\n",
       "      <td>NaN</td>\n",
       "      <td>I501</td>\n",
       "      <td>I64</td>\n",
       "      <td>4</td>\n",
       "      <td>D</td>\n",
       "      <td>2014-05-07</td>\n",
       "    </tr>\n",
       "    <tr>\n",
       "      <td>918</td>\n",
       "      <td>10000936</td>\n",
       "      <td>1</td>\n",
       "      <td>810000936</td>\n",
       "      <td>A</td>\n",
       "      <td>C443</td>\n",
       "      <td>R688,R54</td>\n",
       "      <td>NaN</td>\n",
       "      <td>C809,C959</td>\n",
       "      <td>R688</td>\n",
       "      <td>X</td>\n",
       "      <td>D</td>\n",
       "      <td>2014-12-14</td>\n",
       "    </tr>\n",
       "    <tr>\n",
       "      <td>...</td>\n",
       "      <td>...</td>\n",
       "      <td>...</td>\n",
       "      <td>...</td>\n",
       "      <td>...</td>\n",
       "      <td>...</td>\n",
       "      <td>...</td>\n",
       "      <td>...</td>\n",
       "      <td>...</td>\n",
       "      <td>...</td>\n",
       "      <td>...</td>\n",
       "      <td>...</td>\n",
       "      <td>...</td>\n",
       "    </tr>\n",
       "    <tr>\n",
       "      <td>1322038</td>\n",
       "      <td>220048507</td>\n",
       "      <td>1</td>\n",
       "      <td>1020048507</td>\n",
       "      <td>A</td>\n",
       "      <td>NaN</td>\n",
       "      <td>NaN</td>\n",
       "      <td>NaN</td>\n",
       "      <td>I500,C950</td>\n",
       "      <td>NaN</td>\n",
       "      <td>NaN</td>\n",
       "      <td>D</td>\n",
       "      <td>2016-03-10</td>\n",
       "    </tr>\n",
       "    <tr>\n",
       "      <td>1322047</td>\n",
       "      <td>220048517</td>\n",
       "      <td>1</td>\n",
       "      <td>1020048517</td>\n",
       "      <td>A</td>\n",
       "      <td>NaN</td>\n",
       "      <td>NaN</td>\n",
       "      <td>NaN</td>\n",
       "      <td>I251,E119,C349</td>\n",
       "      <td>NaN</td>\n",
       "      <td>NaN</td>\n",
       "      <td>D</td>\n",
       "      <td>2015-09-12</td>\n",
       "    </tr>\n",
       "    <tr>\n",
       "      <td>1322065</td>\n",
       "      <td>220048536</td>\n",
       "      <td>2</td>\n",
       "      <td>1020048536</td>\n",
       "      <td>A</td>\n",
       "      <td>D320</td>\n",
       "      <td>G936</td>\n",
       "      <td>NaN</td>\n",
       "      <td>NaN</td>\n",
       "      <td>I219</td>\n",
       "      <td>1</td>\n",
       "      <td>D</td>\n",
       "      <td>2016-10-09</td>\n",
       "    </tr>\n",
       "    <tr>\n",
       "      <td>1322068</td>\n",
       "      <td>220048540</td>\n",
       "      <td>2</td>\n",
       "      <td>1020048540</td>\n",
       "      <td>A</td>\n",
       "      <td>J180</td>\n",
       "      <td>NaN</td>\n",
       "      <td>NaN</td>\n",
       "      <td>NaN</td>\n",
       "      <td>C61</td>\n",
       "      <td>4</td>\n",
       "      <td>D</td>\n",
       "      <td>2014-10-18</td>\n",
       "    </tr>\n",
       "    <tr>\n",
       "      <td>1322080</td>\n",
       "      <td>220048552</td>\n",
       "      <td>1</td>\n",
       "      <td>1020048552</td>\n",
       "      <td>A</td>\n",
       "      <td>C349</td>\n",
       "      <td>NaN</td>\n",
       "      <td>NaN</td>\n",
       "      <td>NaN</td>\n",
       "      <td>D432</td>\n",
       "      <td>2</td>\n",
       "      <td>D</td>\n",
       "      <td>2014-04-17</td>\n",
       "    </tr>\n",
       "  </tbody>\n",
       "</table>\n",
       "<p>162071 rows × 12 columns</p>\n",
       "</div>"
      ],
      "text/plain": [
       "         PATIENTID  SEX  LINKNUMBER ETHNICITY DEATHCAUSECODE_1A  \\\n",
       "11        10000013    2   810000013         A              C241   \n",
       "55        10000058    1   810000058         A              J189   \n",
       "429       10000438    2   810000438         A              I259   \n",
       "581       10000590    2   810000590         A              J180   \n",
       "918       10000936    1   810000936         A              C443   \n",
       "...            ...  ...         ...       ...               ...   \n",
       "1322038  220048507    1  1020048507         A               NaN   \n",
       "1322047  220048517    1  1020048517         A               NaN   \n",
       "1322065  220048536    2  1020048536         A              D320   \n",
       "1322068  220048540    2  1020048540         A              J180   \n",
       "1322080  220048552    1  1020048552         A              C349   \n",
       "\n",
       "        DEATHCAUSECODE_1B DEATHCAUSECODE_1C DEATHCAUSECODE_2  \\\n",
       "11                    NaN               NaN              NaN   \n",
       "55                    NaN              K562              F03   \n",
       "429                   NaN               NaN              NaN   \n",
       "581                   NaN               NaN             I501   \n",
       "918              R688,R54               NaN        C809,C959   \n",
       "...                   ...               ...              ...   \n",
       "1322038               NaN               NaN        I500,C950   \n",
       "1322047               NaN               NaN   I251,E119,C349   \n",
       "1322065              G936               NaN              NaN   \n",
       "1322068               NaN               NaN              NaN   \n",
       "1322080               NaN               NaN              NaN   \n",
       "\n",
       "        DEATHCAUSECODE_UNDERLYING DEATHLOCATIONCODE NEWVITALSTATUS  \\\n",
       "11                           C809                 4              D   \n",
       "55                      W190,S720                 1              D   \n",
       "429                           G20                 4              D   \n",
       "581                           I64                 4              D   \n",
       "918                          R688                 X              D   \n",
       "...                           ...               ...            ...   \n",
       "1322038                       NaN               NaN              D   \n",
       "1322047                       NaN               NaN              D   \n",
       "1322065                      I219                 1              D   \n",
       "1322068                       C61                 4              D   \n",
       "1322080                      D432                 2              D   \n",
       "\n",
       "        VITALSTATUSDATE  \n",
       "11           2016-02-03  \n",
       "55           2015-05-14  \n",
       "429          2015-07-25  \n",
       "581          2014-05-07  \n",
       "918          2014-12-14  \n",
       "...                 ...  \n",
       "1322038      2016-03-10  \n",
       "1322047      2015-09-12  \n",
       "1322065      2016-10-09  \n",
       "1322068      2014-10-18  \n",
       "1322080      2014-04-17  \n",
       "\n",
       "[162071 rows x 12 columns]"
      ]
     },
     "execution_count": 90,
     "metadata": {},
     "output_type": "execute_result"
    }
   ],
   "source": [
    "correct_dead = df[(df['NEWVITALSTATUS'] == 'D') & ((df['DEATHCAUSECODE_1A'].notna()) | (df['DEATHCAUSECODE_1B'].notna()) | (df['DEATHCAUSECODE_1C'].notna()) | (df['DEATHCAUSECODE_2'].notna()) | (df['DEATHCAUSECODE_UNDERLYING'].notna()) | (df['DEATHLOCATIONCODE'].notna()))]\n",
    "correct_dead"
   ]
  },
  {
   "cell_type": "code",
   "execution_count": 91,
   "metadata": {},
   "outputs": [
    {
     "data": {
      "text/html": [
       "<div>\n",
       "<style scoped>\n",
       "    .dataframe tbody tr th:only-of-type {\n",
       "        vertical-align: middle;\n",
       "    }\n",
       "\n",
       "    .dataframe tbody tr th {\n",
       "        vertical-align: top;\n",
       "    }\n",
       "\n",
       "    .dataframe thead th {\n",
       "        text-align: right;\n",
       "    }\n",
       "</style>\n",
       "<table border=\"1\" class=\"dataframe\">\n",
       "  <thead>\n",
       "    <tr style=\"text-align: right;\">\n",
       "      <th></th>\n",
       "      <th>PATIENTID</th>\n",
       "      <th>SEX</th>\n",
       "      <th>LINKNUMBER</th>\n",
       "      <th>ETHNICITY</th>\n",
       "      <th>DEATHCAUSECODE_1A</th>\n",
       "      <th>DEATHCAUSECODE_1B</th>\n",
       "      <th>DEATHCAUSECODE_1C</th>\n",
       "      <th>DEATHCAUSECODE_2</th>\n",
       "      <th>DEATHCAUSECODE_UNDERLYING</th>\n",
       "      <th>DEATHLOCATIONCODE</th>\n",
       "      <th>NEWVITALSTATUS</th>\n",
       "      <th>VITALSTATUSDATE</th>\n",
       "    </tr>\n",
       "  </thead>\n",
       "  <tbody>\n",
       "    <tr>\n",
       "      <td>0</td>\n",
       "      <td>10000001</td>\n",
       "      <td>2</td>\n",
       "      <td>810000001</td>\n",
       "      <td>A</td>\n",
       "      <td>NaN</td>\n",
       "      <td>NaN</td>\n",
       "      <td>NaN</td>\n",
       "      <td>NaN</td>\n",
       "      <td>NaN</td>\n",
       "      <td>NaN</td>\n",
       "      <td>A</td>\n",
       "      <td>2017-01-17</td>\n",
       "    </tr>\n",
       "    <tr>\n",
       "      <td>1</td>\n",
       "      <td>10000002</td>\n",
       "      <td>2</td>\n",
       "      <td>810000002</td>\n",
       "      <td>Z</td>\n",
       "      <td>NaN</td>\n",
       "      <td>NaN</td>\n",
       "      <td>NaN</td>\n",
       "      <td>NaN</td>\n",
       "      <td>NaN</td>\n",
       "      <td>NaN</td>\n",
       "      <td>A</td>\n",
       "      <td>2017-01-14</td>\n",
       "    </tr>\n",
       "    <tr>\n",
       "      <td>2</td>\n",
       "      <td>10000003</td>\n",
       "      <td>1</td>\n",
       "      <td>810000003</td>\n",
       "      <td>A</td>\n",
       "      <td>NaN</td>\n",
       "      <td>NaN</td>\n",
       "      <td>NaN</td>\n",
       "      <td>NaN</td>\n",
       "      <td>NaN</td>\n",
       "      <td>NaN</td>\n",
       "      <td>A</td>\n",
       "      <td>2017-01-17</td>\n",
       "    </tr>\n",
       "    <tr>\n",
       "      <td>3</td>\n",
       "      <td>10000004</td>\n",
       "      <td>1</td>\n",
       "      <td>810000004</td>\n",
       "      <td>A</td>\n",
       "      <td>NaN</td>\n",
       "      <td>NaN</td>\n",
       "      <td>NaN</td>\n",
       "      <td>NaN</td>\n",
       "      <td>NaN</td>\n",
       "      <td>NaN</td>\n",
       "      <td>A</td>\n",
       "      <td>2017-01-13</td>\n",
       "    </tr>\n",
       "    <tr>\n",
       "      <td>4</td>\n",
       "      <td>10000005</td>\n",
       "      <td>2</td>\n",
       "      <td>810000005</td>\n",
       "      <td>NaN</td>\n",
       "      <td>NaN</td>\n",
       "      <td>NaN</td>\n",
       "      <td>NaN</td>\n",
       "      <td>NaN</td>\n",
       "      <td>NaN</td>\n",
       "      <td>NaN</td>\n",
       "      <td>A</td>\n",
       "      <td>2017-01-16</td>\n",
       "    </tr>\n",
       "  </tbody>\n",
       "</table>\n",
       "</div>"
      ],
      "text/plain": [
       "   PATIENTID  SEX  LINKNUMBER ETHNICITY DEATHCAUSECODE_1A DEATHCAUSECODE_1B  \\\n",
       "0   10000001    2   810000001         A               NaN               NaN   \n",
       "1   10000002    2   810000002         Z               NaN               NaN   \n",
       "2   10000003    1   810000003         A               NaN               NaN   \n",
       "3   10000004    1   810000004         A               NaN               NaN   \n",
       "4   10000005    2   810000005       NaN               NaN               NaN   \n",
       "\n",
       "  DEATHCAUSECODE_1C DEATHCAUSECODE_2 DEATHCAUSECODE_UNDERLYING  \\\n",
       "0               NaN              NaN                       NaN   \n",
       "1               NaN              NaN                       NaN   \n",
       "2               NaN              NaN                       NaN   \n",
       "3               NaN              NaN                       NaN   \n",
       "4               NaN              NaN                       NaN   \n",
       "\n",
       "  DEATHLOCATIONCODE NEWVITALSTATUS VITALSTATUSDATE  \n",
       "0               NaN              A      2017-01-17  \n",
       "1               NaN              A      2017-01-14  \n",
       "2               NaN              A      2017-01-17  \n",
       "3               NaN              A      2017-01-13  \n",
       "4               NaN              A      2017-01-16  "
      ]
     },
     "execution_count": 91,
     "metadata": {},
     "output_type": "execute_result"
    }
   ],
   "source": [
    "df = correct_alive.merge(correct_dead, how = 'outer')\n",
    "df.head()"
   ]
  },
  {
   "cell_type": "code",
   "execution_count": 92,
   "metadata": {},
   "outputs": [
    {
     "data": {
      "text/plain": [
       "(982482, 12)"
      ]
     },
     "execution_count": 92,
     "metadata": {},
     "output_type": "execute_result"
    }
   ],
   "source": [
    "df.shape"
   ]
  },
  {
   "cell_type": "code",
   "execution_count": 93,
   "metadata": {},
   "outputs": [
    {
     "name": "stdout",
     "output_type": "stream",
     "text": [
      "The original dataset had 1322100 patients\n",
      "The dataset with only valid data has 982482 patients\n",
      "A total of 339618 patients are deleted\n"
     ]
    }
   ],
   "source": [
    "print(\"The original dataset had 1322100 patients\") \n",
    "print(\"The dataset with only valid data has %d patients\" % len(df))\n",
    "print(\"A total of %d patients are deleted\" % (1322100 - len(df)))"
   ]
  },
  {
   "cell_type": "code",
   "execution_count": 94,
   "metadata": {},
   "outputs": [
    {
     "name": "stdout",
     "output_type": "stream",
     "text": [
      "Final percentage of patients classified as alive: 83.50\n",
      "Final percentage of patients classified as dead: 16.50\n"
     ]
    }
   ],
   "source": [
    "percentage_alive = np.mean(df['NEWVITALSTATUS'] == 'A') * 100\n",
    "percentage_dead = np.mean(df['NEWVITALSTATUS'] == 'D') * 100\n",
    "print(\"Final percentage of patients classified as alive: %.2f\" % percentage_alive)\n",
    "print(\"Final percentage of patients classified as dead: %.2f\" % percentage_dead)"
   ]
  },
  {
   "cell_type": "code",
   "execution_count": 95,
   "metadata": {},
   "outputs": [
    {
     "data": {
      "text/plain": [
       "Index(['PATIENTID', 'SEX', 'LINKNUMBER', 'ETHNICITY', 'DEATHCAUSECODE_1A',\n",
       "       'DEATHCAUSECODE_1B', 'DEATHCAUSECODE_1C', 'DEATHCAUSECODE_2',\n",
       "       'DEATHCAUSECODE_UNDERLYING', 'DEATHLOCATIONCODE', 'NEWVITALSTATUS',\n",
       "       'VITALSTATUSDATE'],\n",
       "      dtype='object')"
      ]
     },
     "execution_count": 95,
     "metadata": {},
     "output_type": "execute_result"
    }
   ],
   "source": [
    "df.columns"
   ]
  },
  {
   "cell_type": "code",
   "execution_count": 96,
   "metadata": {},
   "outputs": [
    {
     "data": {
      "text/html": [
       "<div>\n",
       "<style scoped>\n",
       "    .dataframe tbody tr th:only-of-type {\n",
       "        vertical-align: middle;\n",
       "    }\n",
       "\n",
       "    .dataframe tbody tr th {\n",
       "        vertical-align: top;\n",
       "    }\n",
       "\n",
       "    .dataframe thead th {\n",
       "        text-align: right;\n",
       "    }\n",
       "</style>\n",
       "<table border=\"1\" class=\"dataframe\">\n",
       "  <thead>\n",
       "    <tr style=\"text-align: right;\">\n",
       "      <th></th>\n",
       "      <th>PATIENTID</th>\n",
       "      <th>SEX</th>\n",
       "      <th>LINKNUMBER</th>\n",
       "      <th>ETHNICITY</th>\n",
       "      <th>NEWVITALSTATUS</th>\n",
       "      <th>VITALSTATUSDATE</th>\n",
       "    </tr>\n",
       "  </thead>\n",
       "  <tbody>\n",
       "    <tr>\n",
       "      <td>0</td>\n",
       "      <td>10000001</td>\n",
       "      <td>2</td>\n",
       "      <td>810000001</td>\n",
       "      <td>A</td>\n",
       "      <td>A</td>\n",
       "      <td>2017-01-17</td>\n",
       "    </tr>\n",
       "    <tr>\n",
       "      <td>1</td>\n",
       "      <td>10000002</td>\n",
       "      <td>2</td>\n",
       "      <td>810000002</td>\n",
       "      <td>Z</td>\n",
       "      <td>A</td>\n",
       "      <td>2017-01-14</td>\n",
       "    </tr>\n",
       "    <tr>\n",
       "      <td>2</td>\n",
       "      <td>10000003</td>\n",
       "      <td>1</td>\n",
       "      <td>810000003</td>\n",
       "      <td>A</td>\n",
       "      <td>A</td>\n",
       "      <td>2017-01-17</td>\n",
       "    </tr>\n",
       "    <tr>\n",
       "      <td>3</td>\n",
       "      <td>10000004</td>\n",
       "      <td>1</td>\n",
       "      <td>810000004</td>\n",
       "      <td>A</td>\n",
       "      <td>A</td>\n",
       "      <td>2017-01-13</td>\n",
       "    </tr>\n",
       "    <tr>\n",
       "      <td>4</td>\n",
       "      <td>10000005</td>\n",
       "      <td>2</td>\n",
       "      <td>810000005</td>\n",
       "      <td>NaN</td>\n",
       "      <td>A</td>\n",
       "      <td>2017-01-16</td>\n",
       "    </tr>\n",
       "  </tbody>\n",
       "</table>\n",
       "</div>"
      ],
      "text/plain": [
       "   PATIENTID  SEX  LINKNUMBER ETHNICITY NEWVITALSTATUS VITALSTATUSDATE\n",
       "0   10000001    2   810000001         A              A      2017-01-17\n",
       "1   10000002    2   810000002         Z              A      2017-01-14\n",
       "2   10000003    1   810000003         A              A      2017-01-17\n",
       "3   10000004    1   810000004         A              A      2017-01-13\n",
       "4   10000005    2   810000005       NaN              A      2017-01-16"
      ]
     },
     "execution_count": 96,
     "metadata": {},
     "output_type": "execute_result"
    }
   ],
   "source": [
    "columns_selected = ['PATIENTID', 'SEX', 'LINKNUMBER', 'ETHNICITY', 'NEWVITALSTATUS', 'VITALSTATUSDATE']\n",
    "df = df[columns_selected]\n",
    "df.head()"
   ]
  },
  {
   "cell_type": "code",
   "execution_count": 97,
   "metadata": {},
   "outputs": [
    {
     "name": "stdout",
     "output_type": "stream",
     "text": [
      "Memory used: 212.9 MB\n"
     ]
    }
   ],
   "source": [
    "original_memory = df.memory_usage(deep=True).sum() / 1024**2 \n",
    "print('Memory used: %.1f MB' % original_memory)"
   ]
  },
  {
   "cell_type": "code",
   "execution_count": 98,
   "metadata": {},
   "outputs": [
    {
     "data": {
      "text/plain": [
       "PATIENTID           int64\n",
       "SEX                 int64\n",
       "LINKNUMBER          int64\n",
       "ETHNICITY          object\n",
       "NEWVITALSTATUS     object\n",
       "VITALSTATUSDATE    object\n",
       "dtype: object"
      ]
     },
     "execution_count": 98,
     "metadata": {},
     "output_type": "execute_result"
    }
   ],
   "source": [
    "df.dtypes"
   ]
  },
  {
   "cell_type": "code",
   "execution_count": 99,
   "metadata": {},
   "outputs": [
    {
     "data": {
      "text/plain": [
       "A    820411\n",
       "D    162071\n",
       "Name: NEWVITALSTATUS, dtype: int64"
      ]
     },
     "execution_count": 99,
     "metadata": {},
     "output_type": "execute_result"
    }
   ],
   "source": [
    "df['NEWVITALSTATUS'].value_counts()"
   ]
  },
  {
   "cell_type": "code",
   "execution_count": 100,
   "metadata": {},
   "outputs": [],
   "source": [
    "df['NEWVITALSTATUS'] = df['NEWVITALSTATUS'].astype('category')"
   ]
  },
  {
   "cell_type": "code",
   "execution_count": 101,
   "metadata": {},
   "outputs": [
    {
     "data": {
      "text/plain": [
       "A    761503\n",
       "C     28421\n",
       "Z     26426\n",
       "S      8111\n",
       "B      8070\n",
       "X      7937\n",
       "H      6676\n",
       "M      5867\n",
       "N      3833\n",
       "J      3832\n",
       "L      3667\n",
       "P      2113\n",
       "R      1548\n",
       "G      1303\n",
       "K      1159\n",
       "D       841\n",
       "F       631\n",
       "0       462\n",
       "E       401\n",
       "8        29\n",
       "Name: ETHNICITY, dtype: int64"
      ]
     },
     "execution_count": 101,
     "metadata": {},
     "output_type": "execute_result"
    }
   ],
   "source": [
    "df['ETHNICITY'].value_counts()"
   ]
  },
  {
   "cell_type": "code",
   "execution_count": 102,
   "metadata": {},
   "outputs": [
    {
     "data": {
      "text/plain": [
       "White British                    761503\n",
       "Other white background            28421\n",
       "Other ethnic group                 8111\n",
       "White Irish                        8070\n",
       "Asian Indian                       6676\n",
       "Black Caribbean                    5867\n",
       "Black African                      3833\n",
       "Asian Pakistani                    3832\n",
       "Other Asian background             3667\n",
       "Other black background             2113\n",
       "Chinese                            1548\n",
       "Other mixed background             1303\n",
       "Asian Bangladeshi                  1159\n",
       "White and black Caribbean           841\n",
       "Mixed white and Asian               631\n",
       "White                               462\n",
       "Mixed white and black African       401\n",
       "Other                                29\n",
       "Name: ETHNICITY, dtype: int64"
      ]
     },
     "execution_count": 102,
     "metadata": {},
     "output_type": "execute_result"
    }
   ],
   "source": [
    "# df['ETHNICITY'] = df['ETHNICITY'].astype(str)\n",
    "def ethnicity(value):\n",
    "    if value == 'A':\n",
    "        return 'White British'\n",
    "    elif value == 'C':\n",
    "        return 'Other white background'\n",
    "    elif value == 'S':\n",
    "        return 'Other ethnic group'\n",
    "    elif value == 'B':\n",
    "        return 'White Irish'\n",
    "    elif value == 'H':\n",
    "        return 'Asian Indian'\n",
    "    elif value == 'M':\n",
    "        return 'Black Caribbean'\n",
    "    elif value == 'N':\n",
    "        return 'Black African'\n",
    "    elif value == 'J':\n",
    "        return 'Asian Pakistani'\n",
    "    elif value == 'L':\n",
    "        return 'Other Asian background'\n",
    "    elif value == 'P':\n",
    "        return 'Other black background'\n",
    "    elif value == 'R':\n",
    "        return 'Chinese'\n",
    "    elif value == 'G':\n",
    "        return 'Other mixed background'\n",
    "    elif value == 'K':\n",
    "        return 'Asian Bangladeshi'\n",
    "    elif value == 'D':\n",
    "        return 'White and black Caribbean'\n",
    "    elif value == 'F':\n",
    "        return 'Mixed white and Asian'\n",
    "    elif value == 'E':\n",
    "        return 'Mixed white and black African'\n",
    "    elif value == '0':\n",
    "        return 'White'\n",
    "    elif value == '8':\n",
    "        return 'Other'\n",
    "    elif value == 'Z' or value == 'X' or value == 'nan':\n",
    "        return np.nan\n",
    "    else:\n",
    "        return value\n",
    "\n",
    "df['ETHNICITY'] = df['ETHNICITY'].apply(ethnicity)    \n",
    "df['ETHNICITY'].value_counts()"
   ]
  },
  {
   "cell_type": "code",
   "execution_count": 103,
   "metadata": {},
   "outputs": [],
   "source": [
    "df['ETHNICITY'] = df['ETHNICITY'].astype('category')"
   ]
  },
  {
   "cell_type": "code",
   "execution_count": 104,
   "metadata": {},
   "outputs": [
    {
     "data": {
      "text/plain": [
       "896736    2013-01-02\n",
       "954025    2013-01-02\n",
       "882729    2013-01-02\n",
       "945077    2013-01-02\n",
       "893435    2013-01-02\n",
       "             ...    \n",
       "36199     2017-01-31\n",
       "812082    2017-01-31\n",
       "641276    2017-02-01\n",
       "346951    2017-02-02\n",
       "373966    2017-02-02\n",
       "Name: VITALSTATUSDATE, Length: 982482, dtype: object"
      ]
     },
     "execution_count": 104,
     "metadata": {},
     "output_type": "execute_result"
    }
   ],
   "source": [
    "df['VITALSTATUSDATE'].sort_values()"
   ]
  },
  {
   "cell_type": "code",
   "execution_count": 106,
   "metadata": {},
   "outputs": [
    {
     "data": {
      "text/plain": [
       "2    515398\n",
       "1    467084\n",
       "Name: SEX, dtype: int64"
      ]
     },
     "execution_count": 106,
     "metadata": {},
     "output_type": "execute_result"
    }
   ],
   "source": [
    "df['SEX'].value_counts()"
   ]
  },
  {
   "cell_type": "code",
   "execution_count": 107,
   "metadata": {},
   "outputs": [
    {
     "data": {
      "text/plain": [
       "F    515398\n",
       "M    467084\n",
       "Name: SEX, dtype: int64"
      ]
     },
     "execution_count": 107,
     "metadata": {},
     "output_type": "execute_result"
    }
   ],
   "source": [
    "def sex(value):\n",
    "    if value == 1:\n",
    "        return 'M'\n",
    "    elif value == 2:\n",
    "        return 'F'\n",
    "    else:\n",
    "        return value\n",
    "\n",
    "df['SEX'] = df['SEX'].apply(sex)    \n",
    "df['SEX'].value_counts()"
   ]
  },
  {
   "cell_type": "code",
   "execution_count": 108,
   "metadata": {},
   "outputs": [
    {
     "data": {
      "text/html": [
       "<div>\n",
       "<style scoped>\n",
       "    .dataframe tbody tr th:only-of-type {\n",
       "        vertical-align: middle;\n",
       "    }\n",
       "\n",
       "    .dataframe tbody tr th {\n",
       "        vertical-align: top;\n",
       "    }\n",
       "\n",
       "    .dataframe thead th {\n",
       "        text-align: right;\n",
       "    }\n",
       "</style>\n",
       "<table border=\"1\" class=\"dataframe\">\n",
       "  <thead>\n",
       "    <tr style=\"text-align: right;\">\n",
       "      <th></th>\n",
       "      <th>PATIENTID</th>\n",
       "      <th>SEX</th>\n",
       "      <th>LINKNUMBER</th>\n",
       "      <th>ETHNICITY</th>\n",
       "      <th>NEWVITALSTATUS</th>\n",
       "      <th>VITALSTATUSDATE</th>\n",
       "    </tr>\n",
       "  </thead>\n",
       "  <tbody>\n",
       "    <tr>\n",
       "      <td>0</td>\n",
       "      <td>10000001</td>\n",
       "      <td>F</td>\n",
       "      <td>810000001</td>\n",
       "      <td>White British</td>\n",
       "      <td>A</td>\n",
       "      <td>2017-01-17</td>\n",
       "    </tr>\n",
       "    <tr>\n",
       "      <td>1</td>\n",
       "      <td>10000002</td>\n",
       "      <td>F</td>\n",
       "      <td>810000002</td>\n",
       "      <td>NaN</td>\n",
       "      <td>A</td>\n",
       "      <td>2017-01-14</td>\n",
       "    </tr>\n",
       "    <tr>\n",
       "      <td>4</td>\n",
       "      <td>10000005</td>\n",
       "      <td>F</td>\n",
       "      <td>810000005</td>\n",
       "      <td>NaN</td>\n",
       "      <td>A</td>\n",
       "      <td>2017-01-16</td>\n",
       "    </tr>\n",
       "    <tr>\n",
       "      <td>6</td>\n",
       "      <td>10000008</td>\n",
       "      <td>F</td>\n",
       "      <td>810000008</td>\n",
       "      <td>NaN</td>\n",
       "      <td>A</td>\n",
       "      <td>2017-01-16</td>\n",
       "    </tr>\n",
       "    <tr>\n",
       "      <td>10</td>\n",
       "      <td>10000014</td>\n",
       "      <td>F</td>\n",
       "      <td>810000014</td>\n",
       "      <td>White British</td>\n",
       "      <td>A</td>\n",
       "      <td>2017-01-16</td>\n",
       "    </tr>\n",
       "  </tbody>\n",
       "</table>\n",
       "</div>"
      ],
      "text/plain": [
       "    PATIENTID SEX  LINKNUMBER      ETHNICITY NEWVITALSTATUS VITALSTATUSDATE\n",
       "0    10000001   F   810000001  White British              A      2017-01-17\n",
       "1    10000002   F   810000002            NaN              A      2017-01-14\n",
       "4    10000005   F   810000005            NaN              A      2017-01-16\n",
       "6    10000008   F   810000008            NaN              A      2017-01-16\n",
       "10   10000014   F   810000014  White British              A      2017-01-16"
      ]
     },
     "execution_count": 108,
     "metadata": {},
     "output_type": "execute_result"
    }
   ],
   "source": [
    "df = df[df['SEX'] == 'F']\n",
    "df.head()"
   ]
  },
  {
   "cell_type": "code",
   "execution_count": 109,
   "metadata": {},
   "outputs": [],
   "source": [
    "df['SEX'] = df['SEX'].astype('category')"
   ]
  },
  {
   "cell_type": "code",
   "execution_count": 110,
   "metadata": {},
   "outputs": [
    {
     "name": "stdout",
     "output_type": "stream",
     "text": [
      "Memory used: 46.2 MB\n"
     ]
    }
   ],
   "source": [
    "new_memory = df.memory_usage(deep = True).sum() / 1024 ** 2 \n",
    "print('Memory used: %.1f MB' % new_memory)"
   ]
  },
  {
   "cell_type": "code",
   "execution_count": 111,
   "metadata": {},
   "outputs": [
    {
     "data": {
      "text/plain": [
       "PATIENTID          515398\n",
       "SEX                515398\n",
       "LINKNUMBER         515398\n",
       "ETHNICITY          435367\n",
       "NEWVITALSTATUS     515398\n",
       "VITALSTATUSDATE    515398\n",
       "dtype: int64"
      ]
     },
     "execution_count": 111,
     "metadata": {},
     "output_type": "execute_result"
    }
   ],
   "source": [
    "df.count()"
   ]
  },
  {
   "cell_type": "code",
   "execution_count": 112,
   "metadata": {},
   "outputs": [
    {
     "data": {
      "text/plain": [
       "(515398, 6)"
      ]
     },
     "execution_count": 112,
     "metadata": {},
     "output_type": "execute_result"
    }
   ],
   "source": [
    "df.shape"
   ]
  },
  {
   "cell_type": "code",
   "execution_count": 114,
   "metadata": {},
   "outputs": [
    {
     "data": {
      "text/plain": [
       "PATIENTID              0\n",
       "SEX                    0\n",
       "LINKNUMBER             0\n",
       "ETHNICITY          80031\n",
       "NEWVITALSTATUS         0\n",
       "VITALSTATUSDATE        0\n",
       "dtype: int64"
      ]
     },
     "execution_count": 114,
     "metadata": {},
     "output_type": "execute_result"
    }
   ],
   "source": [
    "df.isna().sum()"
   ]
  },
  {
   "cell_type": "code",
   "execution_count": 115,
   "metadata": {},
   "outputs": [
    {
     "data": {
      "text/plain": [
       "PATIENTID             int64\n",
       "SEX                category\n",
       "LINKNUMBER            int64\n",
       "ETHNICITY          category\n",
       "NEWVITALSTATUS     category\n",
       "VITALSTATUSDATE      object\n",
       "dtype: object"
      ]
     },
     "execution_count": 115,
     "metadata": {},
     "output_type": "execute_result"
    }
   ],
   "source": [
    "df.dtypes"
   ]
  },
  {
   "cell_type": "code",
   "execution_count": 156,
   "metadata": {},
   "outputs": [],
   "source": [
    "# df.csv('./Data/avpat.csv', sep='^')"
   ]
  },
  {
   "cell_type": "code",
   "execution_count": 116,
   "metadata": {},
   "outputs": [],
   "source": [
    "df.to_pickle('./Data/avpat.pickle')"
   ]
  }
 ],
 "metadata": {
  "kernelspec": {
   "display_name": "Python 3",
   "language": "python",
   "name": "python3"
  },
  "language_info": {
   "codemirror_mode": {
    "name": "ipython",
    "version": 3
   },
   "file_extension": ".py",
   "mimetype": "text/x-python",
   "name": "python",
   "nbconvert_exporter": "python",
   "pygments_lexer": "ipython3",
   "version": "3.7.4"
  }
 },
 "nbformat": 4,
 "nbformat_minor": 2
}
