{
 "cells": [
  {
   "cell_type": "code",
   "execution_count": 64,
   "metadata": {},
   "outputs": [],
   "source": [
    "import numpy as np\n",
    "import pandas as pd\n",
    "# import matplotlib\n",
    "import matplotlib.pyplot as plt\n",
    "%matplotlib inline\n",
    "import seaborn as sns\n",
    "import matplotlib.ticker as mtick\n",
    "from sklearn.feature_selection import SelectKBest\n",
    "from sklearn.feature_selection import chi2\n",
    "from sklearn.feature_selection import f_classif\n",
    "from sklearn.model_selection import train_test_split\n",
    "from sklearn.model_selection import cross_val_score\n",
    "from sklearn.metrics import roc_curve, auc\n",
    "import sklearn.metrics\n",
    "from sklearn.model_selection import GridSearchCV\n",
    "from sklearn.linear_model import LogisticRegression\n",
    "from sklearn.tree import DecisionTreeClassifier\n",
    "from sklearn.ensemble import RandomForestClassifier\n",
    "from sklearn.ensemble import GradientBoostingClassifier"
   ]
  },
  {
   "cell_type": "code",
   "execution_count": 65,
   "metadata": {},
   "outputs": [],
   "source": [
    "pd.set_option('display.max_columns', None) \n",
    "pd.set_option('display.max_rows', None) "
   ]
  },
  {
   "cell_type": "code",
   "execution_count": 66,
   "metadata": {},
   "outputs": [
    {
     "data": {
      "text/html": [
       "<div>\n",
       "<style scoped>\n",
       "    .dataframe tbody tr th:only-of-type {\n",
       "        vertical-align: middle;\n",
       "    }\n",
       "\n",
       "    .dataframe tbody tr th {\n",
       "        vertical-align: top;\n",
       "    }\n",
       "\n",
       "    .dataframe thead th {\n",
       "        text-align: right;\n",
       "    }\n",
       "</style>\n",
       "<table border=\"1\" class=\"dataframe\">\n",
       "  <thead>\n",
       "    <tr style=\"text-align: right;\">\n",
       "      <th></th>\n",
       "      <th>PATIENTID</th>\n",
       "      <th>SEX</th>\n",
       "      <th>ETHNICITY</th>\n",
       "      <th>NEWVITALSTATUS</th>\n",
       "      <th>NUMBER_TUMOURS</th>\n",
       "      <th>SC500</th>\n",
       "      <th>SC501</th>\n",
       "      <th>SC502</th>\n",
       "      <th>SC503</th>\n",
       "      <th>SC504</th>\n",
       "      <th>SC505</th>\n",
       "      <th>SC506</th>\n",
       "      <th>SC508</th>\n",
       "      <th>BEH_BENIGN</th>\n",
       "      <th>BEH_MALIG</th>\n",
       "      <th>BEH_MICINV</th>\n",
       "      <th>BEH_INSITU</th>\n",
       "      <th>BEH_UNCERT</th>\n",
       "      <th>T0</th>\n",
       "      <th>T1</th>\n",
       "      <th>T2</th>\n",
       "      <th>T3</th>\n",
       "      <th>T4</th>\n",
       "      <th>N0</th>\n",
       "      <th>N1</th>\n",
       "      <th>N2</th>\n",
       "      <th>N3</th>\n",
       "      <th>M1</th>\n",
       "      <th>STAGE0</th>\n",
       "      <th>STAGE1</th>\n",
       "      <th>STAGE2</th>\n",
       "      <th>STAGE3</th>\n",
       "      <th>STAGE4</th>\n",
       "      <th>GRADE1</th>\n",
       "      <th>GRADE2</th>\n",
       "      <th>GRADE3</th>\n",
       "      <th>GRADE4</th>\n",
       "      <th>AGE_MEAN</th>\n",
       "      <th>L0801</th>\n",
       "      <th>L1001</th>\n",
       "      <th>L1701</th>\n",
       "      <th>L0201</th>\n",
       "      <th>L0401</th>\n",
       "      <th>L1201</th>\n",
       "      <th>L0301</th>\n",
       "      <th>L0901</th>\n",
       "      <th>ER_POS</th>\n",
       "      <th>PR_POS</th>\n",
       "      <th>HER_POS</th>\n",
       "      <th>CURATIVE</th>\n",
       "      <th>NONCURATIVE</th>\n",
       "      <th>NOACTTREAT</th>\n",
       "      <th>ECOG0</th>\n",
       "      <th>ECOG1</th>\n",
       "      <th>ECOG2</th>\n",
       "      <th>ECOG3</th>\n",
       "      <th>ECOG4</th>\n",
       "      <th>ACE0</th>\n",
       "      <th>ACE1</th>\n",
       "      <th>ACE2</th>\n",
       "      <th>ACE3</th>\n",
       "      <th>LEFT</th>\n",
       "      <th>RIGHT</th>\n",
       "      <th>MIDLINE</th>\n",
       "      <th>BILATERAL</th>\n",
       "      <th>DEPR1</th>\n",
       "      <th>DEPR2</th>\n",
       "      <th>DEPR3</th>\n",
       "      <th>DEPR4</th>\n",
       "      <th>DEPR5</th>\n",
       "      <th>CANCER_DAYS_MEAN</th>\n",
       "      <th>CANCER_MONTHS_MEAN</th>\n",
       "      <th>CANCER_YEARS_MEAN</th>\n",
       "      <th>BMI3</th>\n",
       "      <th>NEOADJUVANT</th>\n",
       "      <th>DIAGNOSTIC</th>\n",
       "      <th>PALLIATIVE</th>\n",
       "      <th>CURATIVE.1</th>\n",
       "      <th>ADJUVANT</th>\n",
       "      <th>DISEASE_MOD</th>\n",
       "      <th>STAGING</th>\n",
       "      <th>CT_YES</th>\n",
       "      <th>CHEM_RAD_YES</th>\n",
       "      <th>CHEMOTHERAPY2</th>\n",
       "      <th>TARGETED2</th>\n",
       "      <th>CHEM_TARG2</th>\n",
       "      <th>CHEM_RADIO2</th>\n",
       "      <th>TARG_RADIO2</th>\n",
       "      <th>CHEM_RADIO_TARG2</th>\n",
       "      <th>HORM_TARG2</th>\n",
       "      <th>HORMONE2</th>\n",
       "      <th>OTHER2</th>\n",
       "    </tr>\n",
       "  </thead>\n",
       "  <tbody>\n",
       "    <tr>\n",
       "      <td>0</td>\n",
       "      <td>10000724</td>\n",
       "      <td>M</td>\n",
       "      <td>White British</td>\n",
       "      <td>A</td>\n",
       "      <td>1</td>\n",
       "      <td>False</td>\n",
       "      <td>False</td>\n",
       "      <td>False</td>\n",
       "      <td>False</td>\n",
       "      <td>False</td>\n",
       "      <td>False</td>\n",
       "      <td>False</td>\n",
       "      <td>False</td>\n",
       "      <td>False</td>\n",
       "      <td>True</td>\n",
       "      <td>False</td>\n",
       "      <td>False</td>\n",
       "      <td>False</td>\n",
       "      <td>False</td>\n",
       "      <td>False</td>\n",
       "      <td>True</td>\n",
       "      <td>False</td>\n",
       "      <td>False</td>\n",
       "      <td>True</td>\n",
       "      <td>False</td>\n",
       "      <td>False</td>\n",
       "      <td>False</td>\n",
       "      <td>False</td>\n",
       "      <td>False</td>\n",
       "      <td>False</td>\n",
       "      <td>True</td>\n",
       "      <td>False</td>\n",
       "      <td>False</td>\n",
       "      <td>False</td>\n",
       "      <td>True</td>\n",
       "      <td>False</td>\n",
       "      <td>False</td>\n",
       "      <td>71.0</td>\n",
       "      <td>False</td>\n",
       "      <td>False</td>\n",
       "      <td>False</td>\n",
       "      <td>False</td>\n",
       "      <td>False</td>\n",
       "      <td>True</td>\n",
       "      <td>False</td>\n",
       "      <td>False</td>\n",
       "      <td>False</td>\n",
       "      <td>False</td>\n",
       "      <td>False</td>\n",
       "      <td>False</td>\n",
       "      <td>False</td>\n",
       "      <td>False</td>\n",
       "      <td>False</td>\n",
       "      <td>False</td>\n",
       "      <td>False</td>\n",
       "      <td>False</td>\n",
       "      <td>False</td>\n",
       "      <td>False</td>\n",
       "      <td>False</td>\n",
       "      <td>False</td>\n",
       "      <td>False</td>\n",
       "      <td>False</td>\n",
       "      <td>True</td>\n",
       "      <td>False</td>\n",
       "      <td>False</td>\n",
       "      <td>False</td>\n",
       "      <td>False</td>\n",
       "      <td>True</td>\n",
       "      <td>False</td>\n",
       "      <td>False</td>\n",
       "      <td>1226.0</td>\n",
       "      <td>40.280088</td>\n",
       "      <td>3.356674</td>\n",
       "      <td>27.325078</td>\n",
       "      <td>False</td>\n",
       "      <td>False</td>\n",
       "      <td>False</td>\n",
       "      <td>False</td>\n",
       "      <td>False</td>\n",
       "      <td>False</td>\n",
       "      <td>False</td>\n",
       "      <td>False</td>\n",
       "      <td>False</td>\n",
       "      <td>False</td>\n",
       "      <td>False</td>\n",
       "      <td>False</td>\n",
       "      <td>False</td>\n",
       "      <td>False</td>\n",
       "      <td>False</td>\n",
       "      <td>False</td>\n",
       "      <td>False</td>\n",
       "      <td>False</td>\n",
       "    </tr>\n",
       "    <tr>\n",
       "      <td>1</td>\n",
       "      <td>10000752</td>\n",
       "      <td>F</td>\n",
       "      <td>White British</td>\n",
       "      <td>A</td>\n",
       "      <td>1</td>\n",
       "      <td>False</td>\n",
       "      <td>False</td>\n",
       "      <td>False</td>\n",
       "      <td>False</td>\n",
       "      <td>True</td>\n",
       "      <td>False</td>\n",
       "      <td>False</td>\n",
       "      <td>False</td>\n",
       "      <td>False</td>\n",
       "      <td>True</td>\n",
       "      <td>False</td>\n",
       "      <td>False</td>\n",
       "      <td>False</td>\n",
       "      <td>False</td>\n",
       "      <td>False</td>\n",
       "      <td>False</td>\n",
       "      <td>False</td>\n",
       "      <td>False</td>\n",
       "      <td>True</td>\n",
       "      <td>False</td>\n",
       "      <td>False</td>\n",
       "      <td>False</td>\n",
       "      <td>False</td>\n",
       "      <td>False</td>\n",
       "      <td>False</td>\n",
       "      <td>False</td>\n",
       "      <td>False</td>\n",
       "      <td>False</td>\n",
       "      <td>False</td>\n",
       "      <td>True</td>\n",
       "      <td>False</td>\n",
       "      <td>False</td>\n",
       "      <td>68.0</td>\n",
       "      <td>True</td>\n",
       "      <td>False</td>\n",
       "      <td>False</td>\n",
       "      <td>False</td>\n",
       "      <td>False</td>\n",
       "      <td>False</td>\n",
       "      <td>False</td>\n",
       "      <td>False</td>\n",
       "      <td>False</td>\n",
       "      <td>False</td>\n",
       "      <td>False</td>\n",
       "      <td>False</td>\n",
       "      <td>False</td>\n",
       "      <td>False</td>\n",
       "      <td>False</td>\n",
       "      <td>False</td>\n",
       "      <td>False</td>\n",
       "      <td>False</td>\n",
       "      <td>False</td>\n",
       "      <td>False</td>\n",
       "      <td>False</td>\n",
       "      <td>False</td>\n",
       "      <td>False</td>\n",
       "      <td>True</td>\n",
       "      <td>False</td>\n",
       "      <td>False</td>\n",
       "      <td>False</td>\n",
       "      <td>True</td>\n",
       "      <td>False</td>\n",
       "      <td>False</td>\n",
       "      <td>False</td>\n",
       "      <td>False</td>\n",
       "      <td>432.0</td>\n",
       "      <td>14.193310</td>\n",
       "      <td>1.182776</td>\n",
       "      <td>27.325078</td>\n",
       "      <td>False</td>\n",
       "      <td>False</td>\n",
       "      <td>False</td>\n",
       "      <td>False</td>\n",
       "      <td>False</td>\n",
       "      <td>False</td>\n",
       "      <td>False</td>\n",
       "      <td>False</td>\n",
       "      <td>False</td>\n",
       "      <td>False</td>\n",
       "      <td>False</td>\n",
       "      <td>False</td>\n",
       "      <td>False</td>\n",
       "      <td>False</td>\n",
       "      <td>False</td>\n",
       "      <td>False</td>\n",
       "      <td>False</td>\n",
       "      <td>False</td>\n",
       "    </tr>\n",
       "    <tr>\n",
       "      <td>2</td>\n",
       "      <td>10001050</td>\n",
       "      <td>F</td>\n",
       "      <td>White British</td>\n",
       "      <td>A</td>\n",
       "      <td>1</td>\n",
       "      <td>False</td>\n",
       "      <td>False</td>\n",
       "      <td>False</td>\n",
       "      <td>False</td>\n",
       "      <td>False</td>\n",
       "      <td>False</td>\n",
       "      <td>False</td>\n",
       "      <td>False</td>\n",
       "      <td>False</td>\n",
       "      <td>True</td>\n",
       "      <td>False</td>\n",
       "      <td>False</td>\n",
       "      <td>False</td>\n",
       "      <td>False</td>\n",
       "      <td>False</td>\n",
       "      <td>False</td>\n",
       "      <td>False</td>\n",
       "      <td>False</td>\n",
       "      <td>False</td>\n",
       "      <td>False</td>\n",
       "      <td>False</td>\n",
       "      <td>True</td>\n",
       "      <td>True</td>\n",
       "      <td>False</td>\n",
       "      <td>False</td>\n",
       "      <td>False</td>\n",
       "      <td>False</td>\n",
       "      <td>True</td>\n",
       "      <td>False</td>\n",
       "      <td>False</td>\n",
       "      <td>True</td>\n",
       "      <td>False</td>\n",
       "      <td>86.0</td>\n",
       "      <td>False</td>\n",
       "      <td>False</td>\n",
       "      <td>False</td>\n",
       "      <td>False</td>\n",
       "      <td>True</td>\n",
       "      <td>False</td>\n",
       "      <td>False</td>\n",
       "      <td>False</td>\n",
       "      <td>False</td>\n",
       "      <td>False</td>\n",
       "      <td>False</td>\n",
       "      <td>False</td>\n",
       "      <td>True</td>\n",
       "      <td>False</td>\n",
       "      <td>False</td>\n",
       "      <td>False</td>\n",
       "      <td>False</td>\n",
       "      <td>False</td>\n",
       "      <td>False</td>\n",
       "      <td>False</td>\n",
       "      <td>False</td>\n",
       "      <td>False</td>\n",
       "      <td>False</td>\n",
       "      <td>True</td>\n",
       "      <td>False</td>\n",
       "      <td>False</td>\n",
       "      <td>False</td>\n",
       "      <td>False</td>\n",
       "      <td>False</td>\n",
       "      <td>False</td>\n",
       "      <td>True</td>\n",
       "      <td>False</td>\n",
       "      <td>450.0</td>\n",
       "      <td>14.784698</td>\n",
       "      <td>1.232058</td>\n",
       "      <td>27.325078</td>\n",
       "      <td>False</td>\n",
       "      <td>False</td>\n",
       "      <td>False</td>\n",
       "      <td>False</td>\n",
       "      <td>False</td>\n",
       "      <td>False</td>\n",
       "      <td>False</td>\n",
       "      <td>False</td>\n",
       "      <td>False</td>\n",
       "      <td>False</td>\n",
       "      <td>False</td>\n",
       "      <td>False</td>\n",
       "      <td>False</td>\n",
       "      <td>False</td>\n",
       "      <td>False</td>\n",
       "      <td>False</td>\n",
       "      <td>False</td>\n",
       "      <td>False</td>\n",
       "    </tr>\n",
       "    <tr>\n",
       "      <td>3</td>\n",
       "      <td>10001750</td>\n",
       "      <td>M</td>\n",
       "      <td>White British</td>\n",
       "      <td>A</td>\n",
       "      <td>1</td>\n",
       "      <td>False</td>\n",
       "      <td>False</td>\n",
       "      <td>False</td>\n",
       "      <td>False</td>\n",
       "      <td>False</td>\n",
       "      <td>False</td>\n",
       "      <td>False</td>\n",
       "      <td>False</td>\n",
       "      <td>False</td>\n",
       "      <td>True</td>\n",
       "      <td>False</td>\n",
       "      <td>False</td>\n",
       "      <td>False</td>\n",
       "      <td>False</td>\n",
       "      <td>False</td>\n",
       "      <td>False</td>\n",
       "      <td>False</td>\n",
       "      <td>False</td>\n",
       "      <td>False</td>\n",
       "      <td>False</td>\n",
       "      <td>False</td>\n",
       "      <td>False</td>\n",
       "      <td>False</td>\n",
       "      <td>False</td>\n",
       "      <td>False</td>\n",
       "      <td>False</td>\n",
       "      <td>False</td>\n",
       "      <td>False</td>\n",
       "      <td>True</td>\n",
       "      <td>False</td>\n",
       "      <td>False</td>\n",
       "      <td>False</td>\n",
       "      <td>71.0</td>\n",
       "      <td>True</td>\n",
       "      <td>False</td>\n",
       "      <td>False</td>\n",
       "      <td>False</td>\n",
       "      <td>False</td>\n",
       "      <td>False</td>\n",
       "      <td>False</td>\n",
       "      <td>False</td>\n",
       "      <td>False</td>\n",
       "      <td>False</td>\n",
       "      <td>False</td>\n",
       "      <td>False</td>\n",
       "      <td>False</td>\n",
       "      <td>False</td>\n",
       "      <td>False</td>\n",
       "      <td>False</td>\n",
       "      <td>False</td>\n",
       "      <td>False</td>\n",
       "      <td>False</td>\n",
       "      <td>False</td>\n",
       "      <td>False</td>\n",
       "      <td>False</td>\n",
       "      <td>False</td>\n",
       "      <td>True</td>\n",
       "      <td>False</td>\n",
       "      <td>False</td>\n",
       "      <td>False</td>\n",
       "      <td>True</td>\n",
       "      <td>False</td>\n",
       "      <td>False</td>\n",
       "      <td>False</td>\n",
       "      <td>False</td>\n",
       "      <td>846.0</td>\n",
       "      <td>27.795232</td>\n",
       "      <td>2.316269</td>\n",
       "      <td>27.325078</td>\n",
       "      <td>False</td>\n",
       "      <td>False</td>\n",
       "      <td>False</td>\n",
       "      <td>False</td>\n",
       "      <td>False</td>\n",
       "      <td>False</td>\n",
       "      <td>False</td>\n",
       "      <td>False</td>\n",
       "      <td>False</td>\n",
       "      <td>False</td>\n",
       "      <td>False</td>\n",
       "      <td>False</td>\n",
       "      <td>False</td>\n",
       "      <td>False</td>\n",
       "      <td>False</td>\n",
       "      <td>False</td>\n",
       "      <td>False</td>\n",
       "      <td>False</td>\n",
       "    </tr>\n",
       "    <tr>\n",
       "      <td>4</td>\n",
       "      <td>10001824</td>\n",
       "      <td>F</td>\n",
       "      <td>Other ethnic group</td>\n",
       "      <td>A</td>\n",
       "      <td>1</td>\n",
       "      <td>False</td>\n",
       "      <td>False</td>\n",
       "      <td>False</td>\n",
       "      <td>False</td>\n",
       "      <td>False</td>\n",
       "      <td>False</td>\n",
       "      <td>False</td>\n",
       "      <td>False</td>\n",
       "      <td>False</td>\n",
       "      <td>True</td>\n",
       "      <td>False</td>\n",
       "      <td>False</td>\n",
       "      <td>False</td>\n",
       "      <td>False</td>\n",
       "      <td>False</td>\n",
       "      <td>True</td>\n",
       "      <td>False</td>\n",
       "      <td>False</td>\n",
       "      <td>False</td>\n",
       "      <td>False</td>\n",
       "      <td>False</td>\n",
       "      <td>False</td>\n",
       "      <td>False</td>\n",
       "      <td>False</td>\n",
       "      <td>False</td>\n",
       "      <td>False</td>\n",
       "      <td>True</td>\n",
       "      <td>False</td>\n",
       "      <td>False</td>\n",
       "      <td>True</td>\n",
       "      <td>False</td>\n",
       "      <td>False</td>\n",
       "      <td>87.0</td>\n",
       "      <td>True</td>\n",
       "      <td>False</td>\n",
       "      <td>False</td>\n",
       "      <td>False</td>\n",
       "      <td>False</td>\n",
       "      <td>False</td>\n",
       "      <td>False</td>\n",
       "      <td>False</td>\n",
       "      <td>False</td>\n",
       "      <td>False</td>\n",
       "      <td>False</td>\n",
       "      <td>False</td>\n",
       "      <td>False</td>\n",
       "      <td>False</td>\n",
       "      <td>False</td>\n",
       "      <td>True</td>\n",
       "      <td>False</td>\n",
       "      <td>False</td>\n",
       "      <td>False</td>\n",
       "      <td>False</td>\n",
       "      <td>False</td>\n",
       "      <td>False</td>\n",
       "      <td>False</td>\n",
       "      <td>True</td>\n",
       "      <td>False</td>\n",
       "      <td>False</td>\n",
       "      <td>False</td>\n",
       "      <td>False</td>\n",
       "      <td>False</td>\n",
       "      <td>False</td>\n",
       "      <td>True</td>\n",
       "      <td>False</td>\n",
       "      <td>674.0</td>\n",
       "      <td>22.144192</td>\n",
       "      <td>1.845349</td>\n",
       "      <td>27.325078</td>\n",
       "      <td>False</td>\n",
       "      <td>False</td>\n",
       "      <td>False</td>\n",
       "      <td>False</td>\n",
       "      <td>False</td>\n",
       "      <td>False</td>\n",
       "      <td>False</td>\n",
       "      <td>False</td>\n",
       "      <td>False</td>\n",
       "      <td>False</td>\n",
       "      <td>False</td>\n",
       "      <td>False</td>\n",
       "      <td>False</td>\n",
       "      <td>False</td>\n",
       "      <td>False</td>\n",
       "      <td>False</td>\n",
       "      <td>False</td>\n",
       "      <td>False</td>\n",
       "    </tr>\n",
       "  </tbody>\n",
       "</table>\n",
       "</div>"
      ],
      "text/plain": [
       "   PATIENTID SEX           ETHNICITY NEWVITALSTATUS  NUMBER_TUMOURS  SC500  \\\n",
       "0   10000724   M       White British              A               1  False   \n",
       "1   10000752   F       White British              A               1  False   \n",
       "2   10001050   F       White British              A               1  False   \n",
       "3   10001750   M       White British              A               1  False   \n",
       "4   10001824   F  Other ethnic group              A               1  False   \n",
       "\n",
       "   SC501  SC502  SC503  SC504  SC505  SC506  SC508  BEH_BENIGN  BEH_MALIG  \\\n",
       "0  False  False  False  False  False  False  False       False       True   \n",
       "1  False  False  False   True  False  False  False       False       True   \n",
       "2  False  False  False  False  False  False  False       False       True   \n",
       "3  False  False  False  False  False  False  False       False       True   \n",
       "4  False  False  False  False  False  False  False       False       True   \n",
       "\n",
       "   BEH_MICINV  BEH_INSITU  BEH_UNCERT     T0     T1     T2     T3     T4  \\\n",
       "0       False       False       False  False  False   True  False  False   \n",
       "1       False       False       False  False  False  False  False  False   \n",
       "2       False       False       False  False  False  False  False  False   \n",
       "3       False       False       False  False  False  False  False  False   \n",
       "4       False       False       False  False  False   True  False  False   \n",
       "\n",
       "      N0     N1     N2     N3     M1  STAGE0  STAGE1  STAGE2  STAGE3  STAGE4  \\\n",
       "0   True  False  False  False  False   False   False    True   False   False   \n",
       "1   True  False  False  False  False   False   False   False   False   False   \n",
       "2  False  False  False   True   True   False   False   False   False    True   \n",
       "3  False  False  False  False  False   False   False   False   False   False   \n",
       "4  False  False  False  False  False   False   False   False    True   False   \n",
       "\n",
       "   GRADE1  GRADE2  GRADE3  GRADE4  AGE_MEAN  L0801  L1001  L1701  L0201  \\\n",
       "0   False    True   False   False      71.0  False  False  False  False   \n",
       "1   False    True   False   False      68.0   True  False  False  False   \n",
       "2   False   False    True   False      86.0  False  False  False  False   \n",
       "3    True   False   False   False      71.0   True  False  False  False   \n",
       "4   False    True   False   False      87.0   True  False  False  False   \n",
       "\n",
       "   L0401  L1201  L0301  L0901  ER_POS  PR_POS  HER_POS  CURATIVE  NONCURATIVE  \\\n",
       "0  False   True  False  False   False   False    False     False        False   \n",
       "1  False  False  False  False   False   False    False     False        False   \n",
       "2   True  False  False  False   False   False    False     False         True   \n",
       "3  False  False  False  False   False   False    False     False        False   \n",
       "4  False  False  False  False   False   False    False     False        False   \n",
       "\n",
       "   NOACTTREAT  ECOG0  ECOG1  ECOG2  ECOG3  ECOG4   ACE0   ACE1   ACE2   ACE3  \\\n",
       "0       False  False  False  False  False  False  False  False  False  False   \n",
       "1       False  False  False  False  False  False  False  False  False  False   \n",
       "2       False  False  False  False  False  False  False  False  False  False   \n",
       "3       False  False  False  False  False  False  False  False  False  False   \n",
       "4       False  False   True  False  False  False  False  False  False  False   \n",
       "\n",
       "    LEFT  RIGHT  MIDLINE  BILATERAL  DEPR1  DEPR2  DEPR3  DEPR4  DEPR5  \\\n",
       "0  False   True    False      False  False  False   True  False  False   \n",
       "1   True  False    False      False   True  False  False  False  False   \n",
       "2   True  False    False      False  False  False  False   True  False   \n",
       "3   True  False    False      False   True  False  False  False  False   \n",
       "4   True  False    False      False  False  False  False   True  False   \n",
       "\n",
       "   CANCER_DAYS_MEAN  CANCER_MONTHS_MEAN  CANCER_YEARS_MEAN       BMI3  \\\n",
       "0            1226.0           40.280088           3.356674  27.325078   \n",
       "1             432.0           14.193310           1.182776  27.325078   \n",
       "2             450.0           14.784698           1.232058  27.325078   \n",
       "3             846.0           27.795232           2.316269  27.325078   \n",
       "4             674.0           22.144192           1.845349  27.325078   \n",
       "\n",
       "   NEOADJUVANT  DIAGNOSTIC  PALLIATIVE  CURATIVE.1  ADJUVANT  DISEASE_MOD  \\\n",
       "0        False       False       False       False     False        False   \n",
       "1        False       False       False       False     False        False   \n",
       "2        False       False       False       False     False        False   \n",
       "3        False       False       False       False     False        False   \n",
       "4        False       False       False       False     False        False   \n",
       "\n",
       "   STAGING  CT_YES  CHEM_RAD_YES  CHEMOTHERAPY2  TARGETED2  CHEM_TARG2  \\\n",
       "0    False   False         False          False      False       False   \n",
       "1    False   False         False          False      False       False   \n",
       "2    False   False         False          False      False       False   \n",
       "3    False   False         False          False      False       False   \n",
       "4    False   False         False          False      False       False   \n",
       "\n",
       "   CHEM_RADIO2  TARG_RADIO2  CHEM_RADIO_TARG2  HORM_TARG2  HORMONE2  OTHER2  \n",
       "0        False        False             False       False     False   False  \n",
       "1        False        False             False       False     False   False  \n",
       "2        False        False             False       False     False   False  \n",
       "3        False        False             False       False     False   False  \n",
       "4        False        False             False       False     False   False  "
      ]
     },
     "execution_count": 66,
     "metadata": {},
     "output_type": "execute_result"
    }
   ],
   "source": [
    "df = pd.read_csv('./Data/avpat_avtum_sactpat_sacttum_sactreg.csv', sep = '^', index_col = 0)\n",
    "df.head()"
   ]
  },
  {
   "cell_type": "code",
   "execution_count": 67,
   "metadata": {},
   "outputs": [
    {
     "data": {
      "text/plain": [
       "(105686, 92)"
      ]
     },
     "execution_count": 67,
     "metadata": {},
     "output_type": "execute_result"
    }
   ],
   "source": [
    "df.shape"
   ]
  },
  {
   "cell_type": "code",
   "execution_count": 68,
   "metadata": {},
   "outputs": [
    {
     "data": {
      "text/plain": [
       "PATIENTID                0\n",
       "SEX                      0\n",
       "ETHNICITY             6918\n",
       "NEWVITALSTATUS           0\n",
       "NUMBER_TUMOURS           0\n",
       "SC500                    0\n",
       "SC501                    0\n",
       "SC502                    0\n",
       "SC503                    0\n",
       "SC504                    0\n",
       "SC505                    0\n",
       "SC506                    0\n",
       "SC508                    0\n",
       "BEH_BENIGN               0\n",
       "BEH_MALIG                0\n",
       "BEH_MICINV               0\n",
       "BEH_INSITU               0\n",
       "BEH_UNCERT               0\n",
       "T0                       0\n",
       "T1                       0\n",
       "T2                       0\n",
       "T3                       0\n",
       "T4                       0\n",
       "N0                       0\n",
       "N1                       0\n",
       "N2                       0\n",
       "N3                       0\n",
       "M1                       0\n",
       "STAGE0                   0\n",
       "STAGE1                   0\n",
       "STAGE2                   0\n",
       "STAGE3                   0\n",
       "STAGE4                   0\n",
       "GRADE1                   0\n",
       "GRADE2                   0\n",
       "GRADE3                   0\n",
       "GRADE4                   0\n",
       "AGE_MEAN                 0\n",
       "L0801                    0\n",
       "L1001                    0\n",
       "L1701                    0\n",
       "L0201                    0\n",
       "L0401                    0\n",
       "L1201                    0\n",
       "L0301                    0\n",
       "L0901                    0\n",
       "ER_POS                   0\n",
       "PR_POS                   0\n",
       "HER_POS                  0\n",
       "CURATIVE                 0\n",
       "NONCURATIVE              0\n",
       "NOACTTREAT               0\n",
       "ECOG0                    0\n",
       "ECOG1                    0\n",
       "ECOG2                    0\n",
       "ECOG3                    0\n",
       "ECOG4                    0\n",
       "ACE0                     0\n",
       "ACE1                     0\n",
       "ACE2                     0\n",
       "ACE3                     0\n",
       "LEFT                     0\n",
       "RIGHT                    0\n",
       "MIDLINE                  0\n",
       "BILATERAL                0\n",
       "DEPR1                    0\n",
       "DEPR2                    0\n",
       "DEPR3                    0\n",
       "DEPR4                    0\n",
       "DEPR5                    0\n",
       "CANCER_DAYS_MEAN         0\n",
       "CANCER_MONTHS_MEAN       0\n",
       "CANCER_YEARS_MEAN        0\n",
       "BMI3                     0\n",
       "NEOADJUVANT              0\n",
       "DIAGNOSTIC               0\n",
       "PALLIATIVE               0\n",
       "CURATIVE.1               0\n",
       "ADJUVANT                 0\n",
       "DISEASE_MOD              0\n",
       "STAGING                  0\n",
       "CT_YES                   0\n",
       "CHEM_RAD_YES             0\n",
       "CHEMOTHERAPY2            0\n",
       "TARGETED2                0\n",
       "CHEM_TARG2               0\n",
       "CHEM_RADIO2              0\n",
       "TARG_RADIO2              0\n",
       "CHEM_RADIO_TARG2         0\n",
       "HORM_TARG2               0\n",
       "HORMONE2                 0\n",
       "OTHER2                   0\n",
       "dtype: int64"
      ]
     },
     "execution_count": 68,
     "metadata": {},
     "output_type": "execute_result"
    }
   ],
   "source": [
    "df.isna().sum()"
   ]
  },
  {
   "cell_type": "code",
   "execution_count": 69,
   "metadata": {},
   "outputs": [
    {
     "data": {
      "text/plain": [
       "PATIENTID               int64\n",
       "SEX                    object\n",
       "ETHNICITY              object\n",
       "NEWVITALSTATUS         object\n",
       "NUMBER_TUMOURS          int64\n",
       "SC500                    bool\n",
       "SC501                    bool\n",
       "SC502                    bool\n",
       "SC503                    bool\n",
       "SC504                    bool\n",
       "SC505                    bool\n",
       "SC506                    bool\n",
       "SC508                    bool\n",
       "BEH_BENIGN               bool\n",
       "BEH_MALIG                bool\n",
       "BEH_MICINV               bool\n",
       "BEH_INSITU               bool\n",
       "BEH_UNCERT               bool\n",
       "T0                       bool\n",
       "T1                       bool\n",
       "T2                       bool\n",
       "T3                       bool\n",
       "T4                       bool\n",
       "N0                       bool\n",
       "N1                       bool\n",
       "N2                       bool\n",
       "N3                       bool\n",
       "M1                       bool\n",
       "STAGE0                   bool\n",
       "STAGE1                   bool\n",
       "STAGE2                   bool\n",
       "STAGE3                   bool\n",
       "STAGE4                   bool\n",
       "GRADE1                   bool\n",
       "GRADE2                   bool\n",
       "GRADE3                   bool\n",
       "GRADE4                   bool\n",
       "AGE_MEAN              float64\n",
       "L0801                    bool\n",
       "L1001                    bool\n",
       "L1701                    bool\n",
       "L0201                    bool\n",
       "L0401                    bool\n",
       "L1201                    bool\n",
       "L0301                    bool\n",
       "L0901                    bool\n",
       "ER_POS                   bool\n",
       "PR_POS                   bool\n",
       "HER_POS                  bool\n",
       "CURATIVE                 bool\n",
       "NONCURATIVE              bool\n",
       "NOACTTREAT               bool\n",
       "ECOG0                    bool\n",
       "ECOG1                    bool\n",
       "ECOG2                    bool\n",
       "ECOG3                    bool\n",
       "ECOG4                    bool\n",
       "ACE0                     bool\n",
       "ACE1                     bool\n",
       "ACE2                     bool\n",
       "ACE3                     bool\n",
       "LEFT                     bool\n",
       "RIGHT                    bool\n",
       "MIDLINE                  bool\n",
       "BILATERAL                bool\n",
       "DEPR1                    bool\n",
       "DEPR2                    bool\n",
       "DEPR3                    bool\n",
       "DEPR4                    bool\n",
       "DEPR5                    bool\n",
       "CANCER_DAYS_MEAN      float64\n",
       "CANCER_MONTHS_MEAN    float64\n",
       "CANCER_YEARS_MEAN     float64\n",
       "BMI3                  float64\n",
       "NEOADJUVANT              bool\n",
       "DIAGNOSTIC               bool\n",
       "PALLIATIVE               bool\n",
       "CURATIVE.1               bool\n",
       "ADJUVANT                 bool\n",
       "DISEASE_MOD              bool\n",
       "STAGING                  bool\n",
       "CT_YES                   bool\n",
       "CHEM_RAD_YES             bool\n",
       "CHEMOTHERAPY2            bool\n",
       "TARGETED2                bool\n",
       "CHEM_TARG2               bool\n",
       "CHEM_RADIO2              bool\n",
       "TARG_RADIO2              bool\n",
       "CHEM_RADIO_TARG2         bool\n",
       "HORM_TARG2               bool\n",
       "HORMONE2                 bool\n",
       "OTHER2                   bool\n",
       "dtype: object"
      ]
     },
     "execution_count": 69,
     "metadata": {},
     "output_type": "execute_result"
    }
   ],
   "source": [
    "df.dtypes"
   ]
  },
  {
   "cell_type": "code",
   "execution_count": 70,
   "metadata": {},
   "outputs": [
    {
     "name": "stdout",
     "output_type": "stream",
     "text": [
      "Memory used: 34.9 GB\n"
     ]
    }
   ],
   "source": [
    "original_memory = df.memory_usage(deep=True).sum() / 1024**2 \n",
    "print('Memory used: %.1f GB' % original_memory)"
   ]
  },
  {
   "cell_type": "code",
   "execution_count": 71,
   "metadata": {},
   "outputs": [
    {
     "data": {
      "text/html": [
       "<div>\n",
       "<style scoped>\n",
       "    .dataframe tbody tr th:only-of-type {\n",
       "        vertical-align: middle;\n",
       "    }\n",
       "\n",
       "    .dataframe tbody tr th {\n",
       "        vertical-align: top;\n",
       "    }\n",
       "\n",
       "    .dataframe thead th {\n",
       "        text-align: right;\n",
       "    }\n",
       "</style>\n",
       "<table border=\"1\" class=\"dataframe\">\n",
       "  <thead>\n",
       "    <tr style=\"text-align: right;\">\n",
       "      <th></th>\n",
       "      <th>PATIENTID</th>\n",
       "      <th>SEX</th>\n",
       "      <th>ETHNICITY</th>\n",
       "      <th>NEWVITALSTATUS</th>\n",
       "      <th>NUMBER_TUMOURS</th>\n",
       "      <th>SC500</th>\n",
       "      <th>SC501</th>\n",
       "      <th>SC502</th>\n",
       "      <th>SC503</th>\n",
       "      <th>SC504</th>\n",
       "      <th>SC505</th>\n",
       "      <th>SC506</th>\n",
       "      <th>SC508</th>\n",
       "      <th>BEH_BENIGN</th>\n",
       "      <th>BEH_MALIG</th>\n",
       "      <th>BEH_MICINV</th>\n",
       "      <th>BEH_INSITU</th>\n",
       "      <th>BEH_UNCERT</th>\n",
       "      <th>T0</th>\n",
       "      <th>T1</th>\n",
       "      <th>T2</th>\n",
       "      <th>T3</th>\n",
       "      <th>T4</th>\n",
       "      <th>N0</th>\n",
       "      <th>N1</th>\n",
       "      <th>N2</th>\n",
       "      <th>N3</th>\n",
       "      <th>M1</th>\n",
       "      <th>STAGE0</th>\n",
       "      <th>STAGE1</th>\n",
       "      <th>STAGE2</th>\n",
       "      <th>STAGE3</th>\n",
       "      <th>STAGE4</th>\n",
       "      <th>GRADE1</th>\n",
       "      <th>GRADE2</th>\n",
       "      <th>GRADE3</th>\n",
       "      <th>GRADE4</th>\n",
       "      <th>AGE_MEAN</th>\n",
       "      <th>L0801</th>\n",
       "      <th>L1001</th>\n",
       "      <th>L1701</th>\n",
       "      <th>L0201</th>\n",
       "      <th>L0401</th>\n",
       "      <th>L1201</th>\n",
       "      <th>L0301</th>\n",
       "      <th>L0901</th>\n",
       "      <th>ER_POS</th>\n",
       "      <th>PR_POS</th>\n",
       "      <th>HER_POS</th>\n",
       "      <th>CURATIVE</th>\n",
       "      <th>NONCURATIVE</th>\n",
       "      <th>NOACTTREAT</th>\n",
       "      <th>ECOG0</th>\n",
       "      <th>ECOG1</th>\n",
       "      <th>ECOG2</th>\n",
       "      <th>ECOG3</th>\n",
       "      <th>ECOG4</th>\n",
       "      <th>ACE0</th>\n",
       "      <th>ACE1</th>\n",
       "      <th>ACE2</th>\n",
       "      <th>ACE3</th>\n",
       "      <th>LEFT</th>\n",
       "      <th>RIGHT</th>\n",
       "      <th>MIDLINE</th>\n",
       "      <th>BILATERAL</th>\n",
       "      <th>DEPR1</th>\n",
       "      <th>DEPR2</th>\n",
       "      <th>DEPR3</th>\n",
       "      <th>DEPR4</th>\n",
       "      <th>DEPR5</th>\n",
       "      <th>CANCER_DAYS_MEAN</th>\n",
       "      <th>CANCER_MONTHS_MEAN</th>\n",
       "      <th>CANCER_YEARS_MEAN</th>\n",
       "      <th>BMI3</th>\n",
       "      <th>NEOADJUVANT</th>\n",
       "      <th>DIAGNOSTIC</th>\n",
       "      <th>PALLIATIVE</th>\n",
       "      <th>CURATIVE.1</th>\n",
       "      <th>ADJUVANT</th>\n",
       "      <th>DISEASE_MOD</th>\n",
       "      <th>STAGING</th>\n",
       "      <th>CT_YES</th>\n",
       "      <th>CHEM_RAD_YES</th>\n",
       "      <th>CHEMOTHERAPY2</th>\n",
       "      <th>TARGETED2</th>\n",
       "      <th>CHEM_TARG2</th>\n",
       "      <th>CHEM_RADIO2</th>\n",
       "      <th>TARG_RADIO2</th>\n",
       "      <th>CHEM_RADIO_TARG2</th>\n",
       "      <th>HORM_TARG2</th>\n",
       "      <th>HORMONE2</th>\n",
       "      <th>OTHER2</th>\n",
       "    </tr>\n",
       "  </thead>\n",
       "  <tbody>\n",
       "    <tr>\n",
       "      <td>0</td>\n",
       "      <td>10000724</td>\n",
       "      <td>M</td>\n",
       "      <td>White British</td>\n",
       "      <td>A</td>\n",
       "      <td>1</td>\n",
       "      <td>False</td>\n",
       "      <td>False</td>\n",
       "      <td>False</td>\n",
       "      <td>False</td>\n",
       "      <td>False</td>\n",
       "      <td>False</td>\n",
       "      <td>False</td>\n",
       "      <td>False</td>\n",
       "      <td>False</td>\n",
       "      <td>True</td>\n",
       "      <td>False</td>\n",
       "      <td>False</td>\n",
       "      <td>False</td>\n",
       "      <td>False</td>\n",
       "      <td>False</td>\n",
       "      <td>True</td>\n",
       "      <td>False</td>\n",
       "      <td>False</td>\n",
       "      <td>True</td>\n",
       "      <td>False</td>\n",
       "      <td>False</td>\n",
       "      <td>False</td>\n",
       "      <td>False</td>\n",
       "      <td>False</td>\n",
       "      <td>False</td>\n",
       "      <td>True</td>\n",
       "      <td>False</td>\n",
       "      <td>False</td>\n",
       "      <td>False</td>\n",
       "      <td>True</td>\n",
       "      <td>False</td>\n",
       "      <td>False</td>\n",
       "      <td>71.0</td>\n",
       "      <td>False</td>\n",
       "      <td>False</td>\n",
       "      <td>False</td>\n",
       "      <td>False</td>\n",
       "      <td>False</td>\n",
       "      <td>True</td>\n",
       "      <td>False</td>\n",
       "      <td>False</td>\n",
       "      <td>False</td>\n",
       "      <td>False</td>\n",
       "      <td>False</td>\n",
       "      <td>False</td>\n",
       "      <td>False</td>\n",
       "      <td>False</td>\n",
       "      <td>False</td>\n",
       "      <td>False</td>\n",
       "      <td>False</td>\n",
       "      <td>False</td>\n",
       "      <td>False</td>\n",
       "      <td>False</td>\n",
       "      <td>False</td>\n",
       "      <td>False</td>\n",
       "      <td>False</td>\n",
       "      <td>False</td>\n",
       "      <td>True</td>\n",
       "      <td>False</td>\n",
       "      <td>False</td>\n",
       "      <td>False</td>\n",
       "      <td>False</td>\n",
       "      <td>True</td>\n",
       "      <td>False</td>\n",
       "      <td>False</td>\n",
       "      <td>1226.0</td>\n",
       "      <td>40.280088</td>\n",
       "      <td>3.356674</td>\n",
       "      <td>27.325078</td>\n",
       "      <td>False</td>\n",
       "      <td>False</td>\n",
       "      <td>False</td>\n",
       "      <td>False</td>\n",
       "      <td>False</td>\n",
       "      <td>False</td>\n",
       "      <td>False</td>\n",
       "      <td>False</td>\n",
       "      <td>False</td>\n",
       "      <td>False</td>\n",
       "      <td>False</td>\n",
       "      <td>False</td>\n",
       "      <td>False</td>\n",
       "      <td>False</td>\n",
       "      <td>False</td>\n",
       "      <td>False</td>\n",
       "      <td>False</td>\n",
       "      <td>False</td>\n",
       "    </tr>\n",
       "    <tr>\n",
       "      <td>1</td>\n",
       "      <td>10000752</td>\n",
       "      <td>F</td>\n",
       "      <td>White British</td>\n",
       "      <td>A</td>\n",
       "      <td>1</td>\n",
       "      <td>False</td>\n",
       "      <td>False</td>\n",
       "      <td>False</td>\n",
       "      <td>False</td>\n",
       "      <td>True</td>\n",
       "      <td>False</td>\n",
       "      <td>False</td>\n",
       "      <td>False</td>\n",
       "      <td>False</td>\n",
       "      <td>True</td>\n",
       "      <td>False</td>\n",
       "      <td>False</td>\n",
       "      <td>False</td>\n",
       "      <td>False</td>\n",
       "      <td>False</td>\n",
       "      <td>False</td>\n",
       "      <td>False</td>\n",
       "      <td>False</td>\n",
       "      <td>True</td>\n",
       "      <td>False</td>\n",
       "      <td>False</td>\n",
       "      <td>False</td>\n",
       "      <td>False</td>\n",
       "      <td>False</td>\n",
       "      <td>False</td>\n",
       "      <td>False</td>\n",
       "      <td>False</td>\n",
       "      <td>False</td>\n",
       "      <td>False</td>\n",
       "      <td>True</td>\n",
       "      <td>False</td>\n",
       "      <td>False</td>\n",
       "      <td>68.0</td>\n",
       "      <td>True</td>\n",
       "      <td>False</td>\n",
       "      <td>False</td>\n",
       "      <td>False</td>\n",
       "      <td>False</td>\n",
       "      <td>False</td>\n",
       "      <td>False</td>\n",
       "      <td>False</td>\n",
       "      <td>False</td>\n",
       "      <td>False</td>\n",
       "      <td>False</td>\n",
       "      <td>False</td>\n",
       "      <td>False</td>\n",
       "      <td>False</td>\n",
       "      <td>False</td>\n",
       "      <td>False</td>\n",
       "      <td>False</td>\n",
       "      <td>False</td>\n",
       "      <td>False</td>\n",
       "      <td>False</td>\n",
       "      <td>False</td>\n",
       "      <td>False</td>\n",
       "      <td>False</td>\n",
       "      <td>True</td>\n",
       "      <td>False</td>\n",
       "      <td>False</td>\n",
       "      <td>False</td>\n",
       "      <td>True</td>\n",
       "      <td>False</td>\n",
       "      <td>False</td>\n",
       "      <td>False</td>\n",
       "      <td>False</td>\n",
       "      <td>432.0</td>\n",
       "      <td>14.193310</td>\n",
       "      <td>1.182776</td>\n",
       "      <td>27.325078</td>\n",
       "      <td>False</td>\n",
       "      <td>False</td>\n",
       "      <td>False</td>\n",
       "      <td>False</td>\n",
       "      <td>False</td>\n",
       "      <td>False</td>\n",
       "      <td>False</td>\n",
       "      <td>False</td>\n",
       "      <td>False</td>\n",
       "      <td>False</td>\n",
       "      <td>False</td>\n",
       "      <td>False</td>\n",
       "      <td>False</td>\n",
       "      <td>False</td>\n",
       "      <td>False</td>\n",
       "      <td>False</td>\n",
       "      <td>False</td>\n",
       "      <td>False</td>\n",
       "    </tr>\n",
       "    <tr>\n",
       "      <td>2</td>\n",
       "      <td>10001050</td>\n",
       "      <td>F</td>\n",
       "      <td>White British</td>\n",
       "      <td>A</td>\n",
       "      <td>1</td>\n",
       "      <td>False</td>\n",
       "      <td>False</td>\n",
       "      <td>False</td>\n",
       "      <td>False</td>\n",
       "      <td>False</td>\n",
       "      <td>False</td>\n",
       "      <td>False</td>\n",
       "      <td>False</td>\n",
       "      <td>False</td>\n",
       "      <td>True</td>\n",
       "      <td>False</td>\n",
       "      <td>False</td>\n",
       "      <td>False</td>\n",
       "      <td>False</td>\n",
       "      <td>False</td>\n",
       "      <td>False</td>\n",
       "      <td>False</td>\n",
       "      <td>False</td>\n",
       "      <td>False</td>\n",
       "      <td>False</td>\n",
       "      <td>False</td>\n",
       "      <td>True</td>\n",
       "      <td>True</td>\n",
       "      <td>False</td>\n",
       "      <td>False</td>\n",
       "      <td>False</td>\n",
       "      <td>False</td>\n",
       "      <td>True</td>\n",
       "      <td>False</td>\n",
       "      <td>False</td>\n",
       "      <td>True</td>\n",
       "      <td>False</td>\n",
       "      <td>86.0</td>\n",
       "      <td>False</td>\n",
       "      <td>False</td>\n",
       "      <td>False</td>\n",
       "      <td>False</td>\n",
       "      <td>True</td>\n",
       "      <td>False</td>\n",
       "      <td>False</td>\n",
       "      <td>False</td>\n",
       "      <td>False</td>\n",
       "      <td>False</td>\n",
       "      <td>False</td>\n",
       "      <td>False</td>\n",
       "      <td>True</td>\n",
       "      <td>False</td>\n",
       "      <td>False</td>\n",
       "      <td>False</td>\n",
       "      <td>False</td>\n",
       "      <td>False</td>\n",
       "      <td>False</td>\n",
       "      <td>False</td>\n",
       "      <td>False</td>\n",
       "      <td>False</td>\n",
       "      <td>False</td>\n",
       "      <td>True</td>\n",
       "      <td>False</td>\n",
       "      <td>False</td>\n",
       "      <td>False</td>\n",
       "      <td>False</td>\n",
       "      <td>False</td>\n",
       "      <td>False</td>\n",
       "      <td>True</td>\n",
       "      <td>False</td>\n",
       "      <td>450.0</td>\n",
       "      <td>14.784698</td>\n",
       "      <td>1.232058</td>\n",
       "      <td>27.325078</td>\n",
       "      <td>False</td>\n",
       "      <td>False</td>\n",
       "      <td>False</td>\n",
       "      <td>False</td>\n",
       "      <td>False</td>\n",
       "      <td>False</td>\n",
       "      <td>False</td>\n",
       "      <td>False</td>\n",
       "      <td>False</td>\n",
       "      <td>False</td>\n",
       "      <td>False</td>\n",
       "      <td>False</td>\n",
       "      <td>False</td>\n",
       "      <td>False</td>\n",
       "      <td>False</td>\n",
       "      <td>False</td>\n",
       "      <td>False</td>\n",
       "      <td>False</td>\n",
       "    </tr>\n",
       "    <tr>\n",
       "      <td>3</td>\n",
       "      <td>10001750</td>\n",
       "      <td>M</td>\n",
       "      <td>White British</td>\n",
       "      <td>A</td>\n",
       "      <td>1</td>\n",
       "      <td>False</td>\n",
       "      <td>False</td>\n",
       "      <td>False</td>\n",
       "      <td>False</td>\n",
       "      <td>False</td>\n",
       "      <td>False</td>\n",
       "      <td>False</td>\n",
       "      <td>False</td>\n",
       "      <td>False</td>\n",
       "      <td>True</td>\n",
       "      <td>False</td>\n",
       "      <td>False</td>\n",
       "      <td>False</td>\n",
       "      <td>False</td>\n",
       "      <td>False</td>\n",
       "      <td>False</td>\n",
       "      <td>False</td>\n",
       "      <td>False</td>\n",
       "      <td>False</td>\n",
       "      <td>False</td>\n",
       "      <td>False</td>\n",
       "      <td>False</td>\n",
       "      <td>False</td>\n",
       "      <td>False</td>\n",
       "      <td>False</td>\n",
       "      <td>False</td>\n",
       "      <td>False</td>\n",
       "      <td>False</td>\n",
       "      <td>True</td>\n",
       "      <td>False</td>\n",
       "      <td>False</td>\n",
       "      <td>False</td>\n",
       "      <td>71.0</td>\n",
       "      <td>True</td>\n",
       "      <td>False</td>\n",
       "      <td>False</td>\n",
       "      <td>False</td>\n",
       "      <td>False</td>\n",
       "      <td>False</td>\n",
       "      <td>False</td>\n",
       "      <td>False</td>\n",
       "      <td>False</td>\n",
       "      <td>False</td>\n",
       "      <td>False</td>\n",
       "      <td>False</td>\n",
       "      <td>False</td>\n",
       "      <td>False</td>\n",
       "      <td>False</td>\n",
       "      <td>False</td>\n",
       "      <td>False</td>\n",
       "      <td>False</td>\n",
       "      <td>False</td>\n",
       "      <td>False</td>\n",
       "      <td>False</td>\n",
       "      <td>False</td>\n",
       "      <td>False</td>\n",
       "      <td>True</td>\n",
       "      <td>False</td>\n",
       "      <td>False</td>\n",
       "      <td>False</td>\n",
       "      <td>True</td>\n",
       "      <td>False</td>\n",
       "      <td>False</td>\n",
       "      <td>False</td>\n",
       "      <td>False</td>\n",
       "      <td>846.0</td>\n",
       "      <td>27.795232</td>\n",
       "      <td>2.316269</td>\n",
       "      <td>27.325078</td>\n",
       "      <td>False</td>\n",
       "      <td>False</td>\n",
       "      <td>False</td>\n",
       "      <td>False</td>\n",
       "      <td>False</td>\n",
       "      <td>False</td>\n",
       "      <td>False</td>\n",
       "      <td>False</td>\n",
       "      <td>False</td>\n",
       "      <td>False</td>\n",
       "      <td>False</td>\n",
       "      <td>False</td>\n",
       "      <td>False</td>\n",
       "      <td>False</td>\n",
       "      <td>False</td>\n",
       "      <td>False</td>\n",
       "      <td>False</td>\n",
       "      <td>False</td>\n",
       "    </tr>\n",
       "    <tr>\n",
       "      <td>4</td>\n",
       "      <td>10001824</td>\n",
       "      <td>F</td>\n",
       "      <td>Other ethnic group</td>\n",
       "      <td>A</td>\n",
       "      <td>1</td>\n",
       "      <td>False</td>\n",
       "      <td>False</td>\n",
       "      <td>False</td>\n",
       "      <td>False</td>\n",
       "      <td>False</td>\n",
       "      <td>False</td>\n",
       "      <td>False</td>\n",
       "      <td>False</td>\n",
       "      <td>False</td>\n",
       "      <td>True</td>\n",
       "      <td>False</td>\n",
       "      <td>False</td>\n",
       "      <td>False</td>\n",
       "      <td>False</td>\n",
       "      <td>False</td>\n",
       "      <td>True</td>\n",
       "      <td>False</td>\n",
       "      <td>False</td>\n",
       "      <td>False</td>\n",
       "      <td>False</td>\n",
       "      <td>False</td>\n",
       "      <td>False</td>\n",
       "      <td>False</td>\n",
       "      <td>False</td>\n",
       "      <td>False</td>\n",
       "      <td>False</td>\n",
       "      <td>True</td>\n",
       "      <td>False</td>\n",
       "      <td>False</td>\n",
       "      <td>True</td>\n",
       "      <td>False</td>\n",
       "      <td>False</td>\n",
       "      <td>87.0</td>\n",
       "      <td>True</td>\n",
       "      <td>False</td>\n",
       "      <td>False</td>\n",
       "      <td>False</td>\n",
       "      <td>False</td>\n",
       "      <td>False</td>\n",
       "      <td>False</td>\n",
       "      <td>False</td>\n",
       "      <td>False</td>\n",
       "      <td>False</td>\n",
       "      <td>False</td>\n",
       "      <td>False</td>\n",
       "      <td>False</td>\n",
       "      <td>False</td>\n",
       "      <td>False</td>\n",
       "      <td>True</td>\n",
       "      <td>False</td>\n",
       "      <td>False</td>\n",
       "      <td>False</td>\n",
       "      <td>False</td>\n",
       "      <td>False</td>\n",
       "      <td>False</td>\n",
       "      <td>False</td>\n",
       "      <td>True</td>\n",
       "      <td>False</td>\n",
       "      <td>False</td>\n",
       "      <td>False</td>\n",
       "      <td>False</td>\n",
       "      <td>False</td>\n",
       "      <td>False</td>\n",
       "      <td>True</td>\n",
       "      <td>False</td>\n",
       "      <td>674.0</td>\n",
       "      <td>22.144192</td>\n",
       "      <td>1.845349</td>\n",
       "      <td>27.325078</td>\n",
       "      <td>False</td>\n",
       "      <td>False</td>\n",
       "      <td>False</td>\n",
       "      <td>False</td>\n",
       "      <td>False</td>\n",
       "      <td>False</td>\n",
       "      <td>False</td>\n",
       "      <td>False</td>\n",
       "      <td>False</td>\n",
       "      <td>False</td>\n",
       "      <td>False</td>\n",
       "      <td>False</td>\n",
       "      <td>False</td>\n",
       "      <td>False</td>\n",
       "      <td>False</td>\n",
       "      <td>False</td>\n",
       "      <td>False</td>\n",
       "      <td>False</td>\n",
       "    </tr>\n",
       "  </tbody>\n",
       "</table>\n",
       "</div>"
      ],
      "text/plain": [
       "   PATIENTID SEX           ETHNICITY NEWVITALSTATUS  NUMBER_TUMOURS  SC500  \\\n",
       "0   10000724   M       White British              A               1  False   \n",
       "1   10000752   F       White British              A               1  False   \n",
       "2   10001050   F       White British              A               1  False   \n",
       "3   10001750   M       White British              A               1  False   \n",
       "4   10001824   F  Other ethnic group              A               1  False   \n",
       "\n",
       "   SC501  SC502  SC503  SC504  SC505  SC506  SC508  BEH_BENIGN  BEH_MALIG  \\\n",
       "0  False  False  False  False  False  False  False       False       True   \n",
       "1  False  False  False   True  False  False  False       False       True   \n",
       "2  False  False  False  False  False  False  False       False       True   \n",
       "3  False  False  False  False  False  False  False       False       True   \n",
       "4  False  False  False  False  False  False  False       False       True   \n",
       "\n",
       "   BEH_MICINV  BEH_INSITU  BEH_UNCERT     T0     T1     T2     T3     T4  \\\n",
       "0       False       False       False  False  False   True  False  False   \n",
       "1       False       False       False  False  False  False  False  False   \n",
       "2       False       False       False  False  False  False  False  False   \n",
       "3       False       False       False  False  False  False  False  False   \n",
       "4       False       False       False  False  False   True  False  False   \n",
       "\n",
       "      N0     N1     N2     N3     M1  STAGE0  STAGE1  STAGE2  STAGE3  STAGE4  \\\n",
       "0   True  False  False  False  False   False   False    True   False   False   \n",
       "1   True  False  False  False  False   False   False   False   False   False   \n",
       "2  False  False  False   True   True   False   False   False   False    True   \n",
       "3  False  False  False  False  False   False   False   False   False   False   \n",
       "4  False  False  False  False  False   False   False   False    True   False   \n",
       "\n",
       "   GRADE1  GRADE2  GRADE3  GRADE4  AGE_MEAN  L0801  L1001  L1701  L0201  \\\n",
       "0   False    True   False   False      71.0  False  False  False  False   \n",
       "1   False    True   False   False      68.0   True  False  False  False   \n",
       "2   False   False    True   False      86.0  False  False  False  False   \n",
       "3    True   False   False   False      71.0   True  False  False  False   \n",
       "4   False    True   False   False      87.0   True  False  False  False   \n",
       "\n",
       "   L0401  L1201  L0301  L0901  ER_POS  PR_POS  HER_POS  CURATIVE  NONCURATIVE  \\\n",
       "0  False   True  False  False   False   False    False     False        False   \n",
       "1  False  False  False  False   False   False    False     False        False   \n",
       "2   True  False  False  False   False   False    False     False         True   \n",
       "3  False  False  False  False   False   False    False     False        False   \n",
       "4  False  False  False  False   False   False    False     False        False   \n",
       "\n",
       "   NOACTTREAT  ECOG0  ECOG1  ECOG2  ECOG3  ECOG4   ACE0   ACE1   ACE2   ACE3  \\\n",
       "0       False  False  False  False  False  False  False  False  False  False   \n",
       "1       False  False  False  False  False  False  False  False  False  False   \n",
       "2       False  False  False  False  False  False  False  False  False  False   \n",
       "3       False  False  False  False  False  False  False  False  False  False   \n",
       "4       False  False   True  False  False  False  False  False  False  False   \n",
       "\n",
       "    LEFT  RIGHT  MIDLINE  BILATERAL  DEPR1  DEPR2  DEPR3  DEPR4  DEPR5  \\\n",
       "0  False   True    False      False  False  False   True  False  False   \n",
       "1   True  False    False      False   True  False  False  False  False   \n",
       "2   True  False    False      False  False  False  False   True  False   \n",
       "3   True  False    False      False   True  False  False  False  False   \n",
       "4   True  False    False      False  False  False  False   True  False   \n",
       "\n",
       "   CANCER_DAYS_MEAN  CANCER_MONTHS_MEAN  CANCER_YEARS_MEAN       BMI3  \\\n",
       "0            1226.0           40.280088           3.356674  27.325078   \n",
       "1             432.0           14.193310           1.182776  27.325078   \n",
       "2             450.0           14.784698           1.232058  27.325078   \n",
       "3             846.0           27.795232           2.316269  27.325078   \n",
       "4             674.0           22.144192           1.845349  27.325078   \n",
       "\n",
       "   NEOADJUVANT  DIAGNOSTIC  PALLIATIVE  CURATIVE.1  ADJUVANT  DISEASE_MOD  \\\n",
       "0        False       False       False       False     False        False   \n",
       "1        False       False       False       False     False        False   \n",
       "2        False       False       False       False     False        False   \n",
       "3        False       False       False       False     False        False   \n",
       "4        False       False       False       False     False        False   \n",
       "\n",
       "   STAGING  CT_YES  CHEM_RAD_YES  CHEMOTHERAPY2  TARGETED2  CHEM_TARG2  \\\n",
       "0    False   False         False          False      False       False   \n",
       "1    False   False         False          False      False       False   \n",
       "2    False   False         False          False      False       False   \n",
       "3    False   False         False          False      False       False   \n",
       "4    False   False         False          False      False       False   \n",
       "\n",
       "   CHEM_RADIO2  TARG_RADIO2  CHEM_RADIO_TARG2  HORM_TARG2  HORMONE2  OTHER2  \n",
       "0        False        False             False       False     False   False  \n",
       "1        False        False             False       False     False   False  \n",
       "2        False        False             False       False     False   False  \n",
       "3        False        False             False       False     False   False  \n",
       "4        False        False             False       False     False   False  "
      ]
     },
     "execution_count": 71,
     "metadata": {},
     "output_type": "execute_result"
    }
   ],
   "source": [
    "for col in ['SEX', 'ETHNICITY']:\n",
    "    df[col] = df[col].astype('category')\n",
    "    \n",
    "df.head()"
   ]
  },
  {
   "cell_type": "code",
   "execution_count": 72,
   "metadata": {},
   "outputs": [
    {
     "data": {
      "text/plain": [
       "0    104333\n",
       "1      1353\n",
       "Name: DEAD, dtype: int64"
      ]
     },
     "execution_count": 72,
     "metadata": {},
     "output_type": "execute_result"
    }
   ],
   "source": [
    "def dead(value):\n",
    "    if value == 'D':\n",
    "        return 1\n",
    "    else:\n",
    "        return 0\n",
    "\n",
    "df['DEAD'] = df['NEWVITALSTATUS'].apply(dead)    \n",
    "df['DEAD'].value_counts()"
   ]
  },
  {
   "cell_type": "code",
   "execution_count": 73,
   "metadata": {},
   "outputs": [
    {
     "data": {
      "text/html": [
       "<div>\n",
       "<style scoped>\n",
       "    .dataframe tbody tr th:only-of-type {\n",
       "        vertical-align: middle;\n",
       "    }\n",
       "\n",
       "    .dataframe tbody tr th {\n",
       "        vertical-align: top;\n",
       "    }\n",
       "\n",
       "    .dataframe thead th {\n",
       "        text-align: right;\n",
       "    }\n",
       "</style>\n",
       "<table border=\"1\" class=\"dataframe\">\n",
       "  <thead>\n",
       "    <tr style=\"text-align: right;\">\n",
       "      <th></th>\n",
       "      <th>PATIENTID</th>\n",
       "      <th>SEX</th>\n",
       "      <th>ETHNICITY</th>\n",
       "      <th>NUMBER_TUMOURS</th>\n",
       "      <th>SC500</th>\n",
       "      <th>SC501</th>\n",
       "      <th>SC502</th>\n",
       "      <th>SC503</th>\n",
       "      <th>SC504</th>\n",
       "      <th>SC505</th>\n",
       "      <th>SC506</th>\n",
       "      <th>SC508</th>\n",
       "      <th>BEH_BENIGN</th>\n",
       "      <th>BEH_MALIG</th>\n",
       "      <th>BEH_MICINV</th>\n",
       "      <th>BEH_INSITU</th>\n",
       "      <th>BEH_UNCERT</th>\n",
       "      <th>T0</th>\n",
       "      <th>T1</th>\n",
       "      <th>T2</th>\n",
       "      <th>T3</th>\n",
       "      <th>T4</th>\n",
       "      <th>N0</th>\n",
       "      <th>N1</th>\n",
       "      <th>N2</th>\n",
       "      <th>N3</th>\n",
       "      <th>M1</th>\n",
       "      <th>STAGE0</th>\n",
       "      <th>STAGE1</th>\n",
       "      <th>STAGE2</th>\n",
       "      <th>STAGE3</th>\n",
       "      <th>STAGE4</th>\n",
       "      <th>GRADE1</th>\n",
       "      <th>GRADE2</th>\n",
       "      <th>GRADE3</th>\n",
       "      <th>GRADE4</th>\n",
       "      <th>AGE_MEAN</th>\n",
       "      <th>L0801</th>\n",
       "      <th>L1001</th>\n",
       "      <th>L1701</th>\n",
       "      <th>L0201</th>\n",
       "      <th>L0401</th>\n",
       "      <th>L1201</th>\n",
       "      <th>L0301</th>\n",
       "      <th>L0901</th>\n",
       "      <th>ER_POS</th>\n",
       "      <th>PR_POS</th>\n",
       "      <th>HER_POS</th>\n",
       "      <th>CURATIVE</th>\n",
       "      <th>NONCURATIVE</th>\n",
       "      <th>NOACTTREAT</th>\n",
       "      <th>ECOG0</th>\n",
       "      <th>ECOG1</th>\n",
       "      <th>ECOG2</th>\n",
       "      <th>ECOG3</th>\n",
       "      <th>ECOG4</th>\n",
       "      <th>ACE0</th>\n",
       "      <th>ACE1</th>\n",
       "      <th>ACE2</th>\n",
       "      <th>ACE3</th>\n",
       "      <th>LEFT</th>\n",
       "      <th>RIGHT</th>\n",
       "      <th>MIDLINE</th>\n",
       "      <th>BILATERAL</th>\n",
       "      <th>DEPR1</th>\n",
       "      <th>DEPR2</th>\n",
       "      <th>DEPR3</th>\n",
       "      <th>DEPR4</th>\n",
       "      <th>DEPR5</th>\n",
       "      <th>CANCER_DAYS_MEAN</th>\n",
       "      <th>CANCER_MONTHS_MEAN</th>\n",
       "      <th>CANCER_YEARS_MEAN</th>\n",
       "      <th>BMI3</th>\n",
       "      <th>NEOADJUVANT</th>\n",
       "      <th>DIAGNOSTIC</th>\n",
       "      <th>PALLIATIVE</th>\n",
       "      <th>CURATIVE.1</th>\n",
       "      <th>ADJUVANT</th>\n",
       "      <th>DISEASE_MOD</th>\n",
       "      <th>STAGING</th>\n",
       "      <th>CT_YES</th>\n",
       "      <th>CHEM_RAD_YES</th>\n",
       "      <th>CHEMOTHERAPY2</th>\n",
       "      <th>TARGETED2</th>\n",
       "      <th>CHEM_TARG2</th>\n",
       "      <th>CHEM_RADIO2</th>\n",
       "      <th>TARG_RADIO2</th>\n",
       "      <th>CHEM_RADIO_TARG2</th>\n",
       "      <th>HORM_TARG2</th>\n",
       "      <th>HORMONE2</th>\n",
       "      <th>OTHER2</th>\n",
       "      <th>DEAD</th>\n",
       "    </tr>\n",
       "  </thead>\n",
       "  <tbody>\n",
       "    <tr>\n",
       "      <td>0</td>\n",
       "      <td>10000724</td>\n",
       "      <td>M</td>\n",
       "      <td>White British</td>\n",
       "      <td>1</td>\n",
       "      <td>False</td>\n",
       "      <td>False</td>\n",
       "      <td>False</td>\n",
       "      <td>False</td>\n",
       "      <td>False</td>\n",
       "      <td>False</td>\n",
       "      <td>False</td>\n",
       "      <td>False</td>\n",
       "      <td>False</td>\n",
       "      <td>True</td>\n",
       "      <td>False</td>\n",
       "      <td>False</td>\n",
       "      <td>False</td>\n",
       "      <td>False</td>\n",
       "      <td>False</td>\n",
       "      <td>True</td>\n",
       "      <td>False</td>\n",
       "      <td>False</td>\n",
       "      <td>True</td>\n",
       "      <td>False</td>\n",
       "      <td>False</td>\n",
       "      <td>False</td>\n",
       "      <td>False</td>\n",
       "      <td>False</td>\n",
       "      <td>False</td>\n",
       "      <td>True</td>\n",
       "      <td>False</td>\n",
       "      <td>False</td>\n",
       "      <td>False</td>\n",
       "      <td>True</td>\n",
       "      <td>False</td>\n",
       "      <td>False</td>\n",
       "      <td>71.0</td>\n",
       "      <td>False</td>\n",
       "      <td>False</td>\n",
       "      <td>False</td>\n",
       "      <td>False</td>\n",
       "      <td>False</td>\n",
       "      <td>True</td>\n",
       "      <td>False</td>\n",
       "      <td>False</td>\n",
       "      <td>False</td>\n",
       "      <td>False</td>\n",
       "      <td>False</td>\n",
       "      <td>False</td>\n",
       "      <td>False</td>\n",
       "      <td>False</td>\n",
       "      <td>False</td>\n",
       "      <td>False</td>\n",
       "      <td>False</td>\n",
       "      <td>False</td>\n",
       "      <td>False</td>\n",
       "      <td>False</td>\n",
       "      <td>False</td>\n",
       "      <td>False</td>\n",
       "      <td>False</td>\n",
       "      <td>False</td>\n",
       "      <td>True</td>\n",
       "      <td>False</td>\n",
       "      <td>False</td>\n",
       "      <td>False</td>\n",
       "      <td>False</td>\n",
       "      <td>True</td>\n",
       "      <td>False</td>\n",
       "      <td>False</td>\n",
       "      <td>1226.0</td>\n",
       "      <td>40.280088</td>\n",
       "      <td>3.356674</td>\n",
       "      <td>27.325078</td>\n",
       "      <td>False</td>\n",
       "      <td>False</td>\n",
       "      <td>False</td>\n",
       "      <td>False</td>\n",
       "      <td>False</td>\n",
       "      <td>False</td>\n",
       "      <td>False</td>\n",
       "      <td>False</td>\n",
       "      <td>False</td>\n",
       "      <td>False</td>\n",
       "      <td>False</td>\n",
       "      <td>False</td>\n",
       "      <td>False</td>\n",
       "      <td>False</td>\n",
       "      <td>False</td>\n",
       "      <td>False</td>\n",
       "      <td>False</td>\n",
       "      <td>False</td>\n",
       "      <td>0</td>\n",
       "    </tr>\n",
       "    <tr>\n",
       "      <td>1</td>\n",
       "      <td>10000752</td>\n",
       "      <td>F</td>\n",
       "      <td>White British</td>\n",
       "      <td>1</td>\n",
       "      <td>False</td>\n",
       "      <td>False</td>\n",
       "      <td>False</td>\n",
       "      <td>False</td>\n",
       "      <td>True</td>\n",
       "      <td>False</td>\n",
       "      <td>False</td>\n",
       "      <td>False</td>\n",
       "      <td>False</td>\n",
       "      <td>True</td>\n",
       "      <td>False</td>\n",
       "      <td>False</td>\n",
       "      <td>False</td>\n",
       "      <td>False</td>\n",
       "      <td>False</td>\n",
       "      <td>False</td>\n",
       "      <td>False</td>\n",
       "      <td>False</td>\n",
       "      <td>True</td>\n",
       "      <td>False</td>\n",
       "      <td>False</td>\n",
       "      <td>False</td>\n",
       "      <td>False</td>\n",
       "      <td>False</td>\n",
       "      <td>False</td>\n",
       "      <td>False</td>\n",
       "      <td>False</td>\n",
       "      <td>False</td>\n",
       "      <td>False</td>\n",
       "      <td>True</td>\n",
       "      <td>False</td>\n",
       "      <td>False</td>\n",
       "      <td>68.0</td>\n",
       "      <td>True</td>\n",
       "      <td>False</td>\n",
       "      <td>False</td>\n",
       "      <td>False</td>\n",
       "      <td>False</td>\n",
       "      <td>False</td>\n",
       "      <td>False</td>\n",
       "      <td>False</td>\n",
       "      <td>False</td>\n",
       "      <td>False</td>\n",
       "      <td>False</td>\n",
       "      <td>False</td>\n",
       "      <td>False</td>\n",
       "      <td>False</td>\n",
       "      <td>False</td>\n",
       "      <td>False</td>\n",
       "      <td>False</td>\n",
       "      <td>False</td>\n",
       "      <td>False</td>\n",
       "      <td>False</td>\n",
       "      <td>False</td>\n",
       "      <td>False</td>\n",
       "      <td>False</td>\n",
       "      <td>True</td>\n",
       "      <td>False</td>\n",
       "      <td>False</td>\n",
       "      <td>False</td>\n",
       "      <td>True</td>\n",
       "      <td>False</td>\n",
       "      <td>False</td>\n",
       "      <td>False</td>\n",
       "      <td>False</td>\n",
       "      <td>432.0</td>\n",
       "      <td>14.193310</td>\n",
       "      <td>1.182776</td>\n",
       "      <td>27.325078</td>\n",
       "      <td>False</td>\n",
       "      <td>False</td>\n",
       "      <td>False</td>\n",
       "      <td>False</td>\n",
       "      <td>False</td>\n",
       "      <td>False</td>\n",
       "      <td>False</td>\n",
       "      <td>False</td>\n",
       "      <td>False</td>\n",
       "      <td>False</td>\n",
       "      <td>False</td>\n",
       "      <td>False</td>\n",
       "      <td>False</td>\n",
       "      <td>False</td>\n",
       "      <td>False</td>\n",
       "      <td>False</td>\n",
       "      <td>False</td>\n",
       "      <td>False</td>\n",
       "      <td>0</td>\n",
       "    </tr>\n",
       "    <tr>\n",
       "      <td>2</td>\n",
       "      <td>10001050</td>\n",
       "      <td>F</td>\n",
       "      <td>White British</td>\n",
       "      <td>1</td>\n",
       "      <td>False</td>\n",
       "      <td>False</td>\n",
       "      <td>False</td>\n",
       "      <td>False</td>\n",
       "      <td>False</td>\n",
       "      <td>False</td>\n",
       "      <td>False</td>\n",
       "      <td>False</td>\n",
       "      <td>False</td>\n",
       "      <td>True</td>\n",
       "      <td>False</td>\n",
       "      <td>False</td>\n",
       "      <td>False</td>\n",
       "      <td>False</td>\n",
       "      <td>False</td>\n",
       "      <td>False</td>\n",
       "      <td>False</td>\n",
       "      <td>False</td>\n",
       "      <td>False</td>\n",
       "      <td>False</td>\n",
       "      <td>False</td>\n",
       "      <td>True</td>\n",
       "      <td>True</td>\n",
       "      <td>False</td>\n",
       "      <td>False</td>\n",
       "      <td>False</td>\n",
       "      <td>False</td>\n",
       "      <td>True</td>\n",
       "      <td>False</td>\n",
       "      <td>False</td>\n",
       "      <td>True</td>\n",
       "      <td>False</td>\n",
       "      <td>86.0</td>\n",
       "      <td>False</td>\n",
       "      <td>False</td>\n",
       "      <td>False</td>\n",
       "      <td>False</td>\n",
       "      <td>True</td>\n",
       "      <td>False</td>\n",
       "      <td>False</td>\n",
       "      <td>False</td>\n",
       "      <td>False</td>\n",
       "      <td>False</td>\n",
       "      <td>False</td>\n",
       "      <td>False</td>\n",
       "      <td>True</td>\n",
       "      <td>False</td>\n",
       "      <td>False</td>\n",
       "      <td>False</td>\n",
       "      <td>False</td>\n",
       "      <td>False</td>\n",
       "      <td>False</td>\n",
       "      <td>False</td>\n",
       "      <td>False</td>\n",
       "      <td>False</td>\n",
       "      <td>False</td>\n",
       "      <td>True</td>\n",
       "      <td>False</td>\n",
       "      <td>False</td>\n",
       "      <td>False</td>\n",
       "      <td>False</td>\n",
       "      <td>False</td>\n",
       "      <td>False</td>\n",
       "      <td>True</td>\n",
       "      <td>False</td>\n",
       "      <td>450.0</td>\n",
       "      <td>14.784698</td>\n",
       "      <td>1.232058</td>\n",
       "      <td>27.325078</td>\n",
       "      <td>False</td>\n",
       "      <td>False</td>\n",
       "      <td>False</td>\n",
       "      <td>False</td>\n",
       "      <td>False</td>\n",
       "      <td>False</td>\n",
       "      <td>False</td>\n",
       "      <td>False</td>\n",
       "      <td>False</td>\n",
       "      <td>False</td>\n",
       "      <td>False</td>\n",
       "      <td>False</td>\n",
       "      <td>False</td>\n",
       "      <td>False</td>\n",
       "      <td>False</td>\n",
       "      <td>False</td>\n",
       "      <td>False</td>\n",
       "      <td>False</td>\n",
       "      <td>0</td>\n",
       "    </tr>\n",
       "    <tr>\n",
       "      <td>3</td>\n",
       "      <td>10001750</td>\n",
       "      <td>M</td>\n",
       "      <td>White British</td>\n",
       "      <td>1</td>\n",
       "      <td>False</td>\n",
       "      <td>False</td>\n",
       "      <td>False</td>\n",
       "      <td>False</td>\n",
       "      <td>False</td>\n",
       "      <td>False</td>\n",
       "      <td>False</td>\n",
       "      <td>False</td>\n",
       "      <td>False</td>\n",
       "      <td>True</td>\n",
       "      <td>False</td>\n",
       "      <td>False</td>\n",
       "      <td>False</td>\n",
       "      <td>False</td>\n",
       "      <td>False</td>\n",
       "      <td>False</td>\n",
       "      <td>False</td>\n",
       "      <td>False</td>\n",
       "      <td>False</td>\n",
       "      <td>False</td>\n",
       "      <td>False</td>\n",
       "      <td>False</td>\n",
       "      <td>False</td>\n",
       "      <td>False</td>\n",
       "      <td>False</td>\n",
       "      <td>False</td>\n",
       "      <td>False</td>\n",
       "      <td>False</td>\n",
       "      <td>True</td>\n",
       "      <td>False</td>\n",
       "      <td>False</td>\n",
       "      <td>False</td>\n",
       "      <td>71.0</td>\n",
       "      <td>True</td>\n",
       "      <td>False</td>\n",
       "      <td>False</td>\n",
       "      <td>False</td>\n",
       "      <td>False</td>\n",
       "      <td>False</td>\n",
       "      <td>False</td>\n",
       "      <td>False</td>\n",
       "      <td>False</td>\n",
       "      <td>False</td>\n",
       "      <td>False</td>\n",
       "      <td>False</td>\n",
       "      <td>False</td>\n",
       "      <td>False</td>\n",
       "      <td>False</td>\n",
       "      <td>False</td>\n",
       "      <td>False</td>\n",
       "      <td>False</td>\n",
       "      <td>False</td>\n",
       "      <td>False</td>\n",
       "      <td>False</td>\n",
       "      <td>False</td>\n",
       "      <td>False</td>\n",
       "      <td>True</td>\n",
       "      <td>False</td>\n",
       "      <td>False</td>\n",
       "      <td>False</td>\n",
       "      <td>True</td>\n",
       "      <td>False</td>\n",
       "      <td>False</td>\n",
       "      <td>False</td>\n",
       "      <td>False</td>\n",
       "      <td>846.0</td>\n",
       "      <td>27.795232</td>\n",
       "      <td>2.316269</td>\n",
       "      <td>27.325078</td>\n",
       "      <td>False</td>\n",
       "      <td>False</td>\n",
       "      <td>False</td>\n",
       "      <td>False</td>\n",
       "      <td>False</td>\n",
       "      <td>False</td>\n",
       "      <td>False</td>\n",
       "      <td>False</td>\n",
       "      <td>False</td>\n",
       "      <td>False</td>\n",
       "      <td>False</td>\n",
       "      <td>False</td>\n",
       "      <td>False</td>\n",
       "      <td>False</td>\n",
       "      <td>False</td>\n",
       "      <td>False</td>\n",
       "      <td>False</td>\n",
       "      <td>False</td>\n",
       "      <td>0</td>\n",
       "    </tr>\n",
       "    <tr>\n",
       "      <td>4</td>\n",
       "      <td>10001824</td>\n",
       "      <td>F</td>\n",
       "      <td>Other ethnic group</td>\n",
       "      <td>1</td>\n",
       "      <td>False</td>\n",
       "      <td>False</td>\n",
       "      <td>False</td>\n",
       "      <td>False</td>\n",
       "      <td>False</td>\n",
       "      <td>False</td>\n",
       "      <td>False</td>\n",
       "      <td>False</td>\n",
       "      <td>False</td>\n",
       "      <td>True</td>\n",
       "      <td>False</td>\n",
       "      <td>False</td>\n",
       "      <td>False</td>\n",
       "      <td>False</td>\n",
       "      <td>False</td>\n",
       "      <td>True</td>\n",
       "      <td>False</td>\n",
       "      <td>False</td>\n",
       "      <td>False</td>\n",
       "      <td>False</td>\n",
       "      <td>False</td>\n",
       "      <td>False</td>\n",
       "      <td>False</td>\n",
       "      <td>False</td>\n",
       "      <td>False</td>\n",
       "      <td>False</td>\n",
       "      <td>True</td>\n",
       "      <td>False</td>\n",
       "      <td>False</td>\n",
       "      <td>True</td>\n",
       "      <td>False</td>\n",
       "      <td>False</td>\n",
       "      <td>87.0</td>\n",
       "      <td>True</td>\n",
       "      <td>False</td>\n",
       "      <td>False</td>\n",
       "      <td>False</td>\n",
       "      <td>False</td>\n",
       "      <td>False</td>\n",
       "      <td>False</td>\n",
       "      <td>False</td>\n",
       "      <td>False</td>\n",
       "      <td>False</td>\n",
       "      <td>False</td>\n",
       "      <td>False</td>\n",
       "      <td>False</td>\n",
       "      <td>False</td>\n",
       "      <td>False</td>\n",
       "      <td>True</td>\n",
       "      <td>False</td>\n",
       "      <td>False</td>\n",
       "      <td>False</td>\n",
       "      <td>False</td>\n",
       "      <td>False</td>\n",
       "      <td>False</td>\n",
       "      <td>False</td>\n",
       "      <td>True</td>\n",
       "      <td>False</td>\n",
       "      <td>False</td>\n",
       "      <td>False</td>\n",
       "      <td>False</td>\n",
       "      <td>False</td>\n",
       "      <td>False</td>\n",
       "      <td>True</td>\n",
       "      <td>False</td>\n",
       "      <td>674.0</td>\n",
       "      <td>22.144192</td>\n",
       "      <td>1.845349</td>\n",
       "      <td>27.325078</td>\n",
       "      <td>False</td>\n",
       "      <td>False</td>\n",
       "      <td>False</td>\n",
       "      <td>False</td>\n",
       "      <td>False</td>\n",
       "      <td>False</td>\n",
       "      <td>False</td>\n",
       "      <td>False</td>\n",
       "      <td>False</td>\n",
       "      <td>False</td>\n",
       "      <td>False</td>\n",
       "      <td>False</td>\n",
       "      <td>False</td>\n",
       "      <td>False</td>\n",
       "      <td>False</td>\n",
       "      <td>False</td>\n",
       "      <td>False</td>\n",
       "      <td>False</td>\n",
       "      <td>0</td>\n",
       "    </tr>\n",
       "  </tbody>\n",
       "</table>\n",
       "</div>"
      ],
      "text/plain": [
       "   PATIENTID SEX           ETHNICITY  NUMBER_TUMOURS  SC500  SC501  SC502  \\\n",
       "0   10000724   M       White British               1  False  False  False   \n",
       "1   10000752   F       White British               1  False  False  False   \n",
       "2   10001050   F       White British               1  False  False  False   \n",
       "3   10001750   M       White British               1  False  False  False   \n",
       "4   10001824   F  Other ethnic group               1  False  False  False   \n",
       "\n",
       "   SC503  SC504  SC505  SC506  SC508  BEH_BENIGN  BEH_MALIG  BEH_MICINV  \\\n",
       "0  False  False  False  False  False       False       True       False   \n",
       "1  False   True  False  False  False       False       True       False   \n",
       "2  False  False  False  False  False       False       True       False   \n",
       "3  False  False  False  False  False       False       True       False   \n",
       "4  False  False  False  False  False       False       True       False   \n",
       "\n",
       "   BEH_INSITU  BEH_UNCERT     T0     T1     T2     T3     T4     N0     N1  \\\n",
       "0       False       False  False  False   True  False  False   True  False   \n",
       "1       False       False  False  False  False  False  False   True  False   \n",
       "2       False       False  False  False  False  False  False  False  False   \n",
       "3       False       False  False  False  False  False  False  False  False   \n",
       "4       False       False  False  False   True  False  False  False  False   \n",
       "\n",
       "      N2     N3     M1  STAGE0  STAGE1  STAGE2  STAGE3  STAGE4  GRADE1  \\\n",
       "0  False  False  False   False   False    True   False   False   False   \n",
       "1  False  False  False   False   False   False   False   False   False   \n",
       "2  False   True   True   False   False   False   False    True   False   \n",
       "3  False  False  False   False   False   False   False   False    True   \n",
       "4  False  False  False   False   False   False    True   False   False   \n",
       "\n",
       "   GRADE2  GRADE3  GRADE4  AGE_MEAN  L0801  L1001  L1701  L0201  L0401  L1201  \\\n",
       "0    True   False   False      71.0  False  False  False  False  False   True   \n",
       "1    True   False   False      68.0   True  False  False  False  False  False   \n",
       "2   False    True   False      86.0  False  False  False  False   True  False   \n",
       "3   False   False   False      71.0   True  False  False  False  False  False   \n",
       "4    True   False   False      87.0   True  False  False  False  False  False   \n",
       "\n",
       "   L0301  L0901  ER_POS  PR_POS  HER_POS  CURATIVE  NONCURATIVE  NOACTTREAT  \\\n",
       "0  False  False   False   False    False     False        False       False   \n",
       "1  False  False   False   False    False     False        False       False   \n",
       "2  False  False   False   False    False     False         True       False   \n",
       "3  False  False   False   False    False     False        False       False   \n",
       "4  False  False   False   False    False     False        False       False   \n",
       "\n",
       "   ECOG0  ECOG1  ECOG2  ECOG3  ECOG4   ACE0   ACE1   ACE2   ACE3   LEFT  \\\n",
       "0  False  False  False  False  False  False  False  False  False  False   \n",
       "1  False  False  False  False  False  False  False  False  False   True   \n",
       "2  False  False  False  False  False  False  False  False  False   True   \n",
       "3  False  False  False  False  False  False  False  False  False   True   \n",
       "4  False   True  False  False  False  False  False  False  False   True   \n",
       "\n",
       "   RIGHT  MIDLINE  BILATERAL  DEPR1  DEPR2  DEPR3  DEPR4  DEPR5  \\\n",
       "0   True    False      False  False  False   True  False  False   \n",
       "1  False    False      False   True  False  False  False  False   \n",
       "2  False    False      False  False  False  False   True  False   \n",
       "3  False    False      False   True  False  False  False  False   \n",
       "4  False    False      False  False  False  False   True  False   \n",
       "\n",
       "   CANCER_DAYS_MEAN  CANCER_MONTHS_MEAN  CANCER_YEARS_MEAN       BMI3  \\\n",
       "0            1226.0           40.280088           3.356674  27.325078   \n",
       "1             432.0           14.193310           1.182776  27.325078   \n",
       "2             450.0           14.784698           1.232058  27.325078   \n",
       "3             846.0           27.795232           2.316269  27.325078   \n",
       "4             674.0           22.144192           1.845349  27.325078   \n",
       "\n",
       "   NEOADJUVANT  DIAGNOSTIC  PALLIATIVE  CURATIVE.1  ADJUVANT  DISEASE_MOD  \\\n",
       "0        False       False       False       False     False        False   \n",
       "1        False       False       False       False     False        False   \n",
       "2        False       False       False       False     False        False   \n",
       "3        False       False       False       False     False        False   \n",
       "4        False       False       False       False     False        False   \n",
       "\n",
       "   STAGING  CT_YES  CHEM_RAD_YES  CHEMOTHERAPY2  TARGETED2  CHEM_TARG2  \\\n",
       "0    False   False         False          False      False       False   \n",
       "1    False   False         False          False      False       False   \n",
       "2    False   False         False          False      False       False   \n",
       "3    False   False         False          False      False       False   \n",
       "4    False   False         False          False      False       False   \n",
       "\n",
       "   CHEM_RADIO2  TARG_RADIO2  CHEM_RADIO_TARG2  HORM_TARG2  HORMONE2  OTHER2  \\\n",
       "0        False        False             False       False     False   False   \n",
       "1        False        False             False       False     False   False   \n",
       "2        False        False             False       False     False   False   \n",
       "3        False        False             False       False     False   False   \n",
       "4        False        False             False       False     False   False   \n",
       "\n",
       "   DEAD  \n",
       "0     0  \n",
       "1     0  \n",
       "2     0  \n",
       "3     0  \n",
       "4     0  "
      ]
     },
     "execution_count": 73,
     "metadata": {},
     "output_type": "execute_result"
    }
   ],
   "source": [
    "df = df.drop(['NEWVITALSTATUS'], axis = 1)\n",
    "df.head()"
   ]
  },
  {
   "cell_type": "code",
   "execution_count": 74,
   "metadata": {},
   "outputs": [
    {
     "data": {
      "image/png": "[encoded data removed]",
      "text/plain": [
       "<Figure size 432x288 with 1 Axes>"
      ]
     },
     "metadata": {
      "needs_background": "light"
     },
     "output_type": "display_data"
    }
   ],
   "source": [
    "ax = sns.countplot(data = df, x = 'DEAD')\n",
    "ax.set_xticklabels(['Alive', 'Dead'])\n",
    "plt.show()"
   ]
  },
  {
   "cell_type": "code",
   "execution_count": 75,
   "metadata": {},
   "outputs": [
    {
     "name": "stdout",
     "output_type": "stream",
     "text": [
      "Percentage of patients classified as alive: 98.72\n",
      "Percentage of patients classified as dead: 1.28\n"
     ]
    }
   ],
   "source": [
    "percentage_alive = np.mean(df['DEAD'] == 0) * 100\n",
    "percentage_dead = np.mean(df['DEAD'] == 1) * 100\n",
    "print(\"Percentage of patients classified as alive: %.2f\" % percentage_alive)\n",
    "print(\"Percentage of patients classified as dead: %.2f\" % percentage_dead)"
   ]
  },
  {
   "cell_type": "code",
   "execution_count": 76,
   "metadata": {},
   "outputs": [
    {
     "name": "stdout",
     "output_type": "stream",
     "text": [
      "Memory used: 20.7 GB\n"
     ]
    }
   ],
   "source": [
    "new_memory = df.memory_usage(deep = True).sum() / 1024 ** 2 \n",
    "print('Memory used: %.1f GB' % new_memory)"
   ]
  },
  {
   "cell_type": "code",
   "execution_count": 77,
   "metadata": {},
   "outputs": [
    {
     "data": {
      "text/plain": [
       "(105686, 92)"
      ]
     },
     "execution_count": 77,
     "metadata": {},
     "output_type": "execute_result"
    }
   ],
   "source": [
    "df.shape"
   ]
  },
  {
   "cell_type": "code",
   "execution_count": 78,
   "metadata": {},
   "outputs": [
    {
     "data": {
      "text/plain": [
       "Index(['PATIENTID', 'SEX', 'ETHNICITY', 'NUMBER_TUMOURS', 'SC500', 'SC501',\n",
       "       'SC502', 'SC503', 'SC504', 'SC505', 'SC506', 'SC508', 'BEH_BENIGN',\n",
       "       'BEH_MALIG', 'BEH_MICINV', 'BEH_INSITU', 'BEH_UNCERT', 'T0', 'T1', 'T2',\n",
       "       'T3', 'T4', 'N0', 'N1', 'N2', 'N3', 'M1', 'STAGE0', 'STAGE1', 'STAGE2',\n",
       "       'STAGE3', 'STAGE4', 'GRADE1', 'GRADE2', 'GRADE3', 'GRADE4', 'AGE_MEAN',\n",
       "       'L0801', 'L1001', 'L1701', 'L0201', 'L0401', 'L1201', 'L0301', 'L0901',\n",
       "       'ER_POS', 'PR_POS', 'HER_POS', 'CURATIVE', 'NONCURATIVE', 'NOACTTREAT',\n",
       "       'ECOG0', 'ECOG1', 'ECOG2', 'ECOG3', 'ECOG4', 'ACE0', 'ACE1', 'ACE2',\n",
       "       'ACE3', 'LEFT', 'RIGHT', 'MIDLINE', 'BILATERAL', 'DEPR1', 'DEPR2',\n",
       "       'DEPR3', 'DEPR4', 'DEPR5', 'CANCER_DAYS_MEAN', 'CANCER_MONTHS_MEAN',\n",
       "       'CANCER_YEARS_MEAN', 'BMI3', 'NEOADJUVANT', 'DIAGNOSTIC', 'PALLIATIVE',\n",
       "       'CURATIVE.1', 'ADJUVANT', 'DISEASE_MOD', 'STAGING', 'CT_YES',\n",
       "       'CHEM_RAD_YES', 'CHEMOTHERAPY2', 'TARGETED2', 'CHEM_TARG2',\n",
       "       'CHEM_RADIO2', 'TARG_RADIO2', 'CHEM_RADIO_TARG2', 'HORM_TARG2',\n",
       "       'HORMONE2', 'OTHER2', 'DEAD'],\n",
       "      dtype='object')"
      ]
     },
     "execution_count": 78,
     "metadata": {},
     "output_type": "execute_result"
    }
   ],
   "source": [
    "df.columns"
   ]
  },
  {
   "cell_type": "code",
   "execution_count": 79,
   "metadata": {},
   "outputs": [
    {
     "data": {
      "text/html": [
       "<div>\n",
       "<style scoped>\n",
       "    .dataframe tbody tr th:only-of-type {\n",
       "        vertical-align: middle;\n",
       "    }\n",
       "\n",
       "    .dataframe tbody tr th {\n",
       "        vertical-align: top;\n",
       "    }\n",
       "\n",
       "    .dataframe thead th {\n",
       "        text-align: right;\n",
       "    }\n",
       "</style>\n",
       "<table border=\"1\" class=\"dataframe\">\n",
       "  <thead>\n",
       "    <tr style=\"text-align: right;\">\n",
       "      <th></th>\n",
       "      <th>PATIENTID</th>\n",
       "      <th>NUMBER_TUMOURS</th>\n",
       "      <th>SC500</th>\n",
       "      <th>SC501</th>\n",
       "      <th>SC502</th>\n",
       "      <th>SC503</th>\n",
       "      <th>SC504</th>\n",
       "      <th>SC505</th>\n",
       "      <th>SC506</th>\n",
       "      <th>SC508</th>\n",
       "      <th>BEH_BENIGN</th>\n",
       "      <th>BEH_MALIG</th>\n",
       "      <th>BEH_MICINV</th>\n",
       "      <th>BEH_INSITU</th>\n",
       "      <th>BEH_UNCERT</th>\n",
       "      <th>T0</th>\n",
       "      <th>T1</th>\n",
       "      <th>T2</th>\n",
       "      <th>T3</th>\n",
       "      <th>T4</th>\n",
       "      <th>N0</th>\n",
       "      <th>N1</th>\n",
       "      <th>N2</th>\n",
       "      <th>N3</th>\n",
       "      <th>M1</th>\n",
       "      <th>STAGE0</th>\n",
       "      <th>STAGE1</th>\n",
       "      <th>STAGE2</th>\n",
       "      <th>STAGE3</th>\n",
       "      <th>STAGE4</th>\n",
       "      <th>GRADE1</th>\n",
       "      <th>GRADE2</th>\n",
       "      <th>GRADE3</th>\n",
       "      <th>GRADE4</th>\n",
       "      <th>AGE_MEAN</th>\n",
       "      <th>L0801</th>\n",
       "      <th>L1001</th>\n",
       "      <th>L1701</th>\n",
       "      <th>L0201</th>\n",
       "      <th>L0401</th>\n",
       "      <th>L1201</th>\n",
       "      <th>L0301</th>\n",
       "      <th>L0901</th>\n",
       "      <th>ER_POS</th>\n",
       "      <th>PR_POS</th>\n",
       "      <th>HER_POS</th>\n",
       "      <th>CURATIVE</th>\n",
       "      <th>NONCURATIVE</th>\n",
       "      <th>NOACTTREAT</th>\n",
       "      <th>ECOG0</th>\n",
       "      <th>ECOG1</th>\n",
       "      <th>ECOG2</th>\n",
       "      <th>ECOG3</th>\n",
       "      <th>ECOG4</th>\n",
       "      <th>ACE0</th>\n",
       "      <th>ACE1</th>\n",
       "      <th>ACE2</th>\n",
       "      <th>ACE3</th>\n",
       "      <th>LEFT</th>\n",
       "      <th>RIGHT</th>\n",
       "      <th>MIDLINE</th>\n",
       "      <th>BILATERAL</th>\n",
       "      <th>DEPR1</th>\n",
       "      <th>DEPR2</th>\n",
       "      <th>DEPR3</th>\n",
       "      <th>DEPR4</th>\n",
       "      <th>DEPR5</th>\n",
       "      <th>CANCER_DAYS_MEAN</th>\n",
       "      <th>CANCER_MONTHS_MEAN</th>\n",
       "      <th>CANCER_YEARS_MEAN</th>\n",
       "      <th>BMI3</th>\n",
       "      <th>NEOADJUVANT</th>\n",
       "      <th>DIAGNOSTIC</th>\n",
       "      <th>PALLIATIVE</th>\n",
       "      <th>CURATIVE</th>\n",
       "      <th>ADJUVANT</th>\n",
       "      <th>DISEASE_MOD</th>\n",
       "      <th>STAGING</th>\n",
       "      <th>CT_YES</th>\n",
       "      <th>CHEM_RAD_YES</th>\n",
       "      <th>CHEMOTHERAPY2</th>\n",
       "      <th>TARGETED2</th>\n",
       "      <th>CHEM_TARG2</th>\n",
       "      <th>CHEM_RADIO2</th>\n",
       "      <th>TARG_RADIO2</th>\n",
       "      <th>CHEM_RADIO_TARG2</th>\n",
       "      <th>HORM_TARG2</th>\n",
       "      <th>HORMONE2</th>\n",
       "      <th>OTHER2</th>\n",
       "      <th>DEAD</th>\n",
       "      <th>SEX_F</th>\n",
       "      <th>SEX_M</th>\n",
       "      <th>ETHNICITY_Asian Bangladeshi</th>\n",
       "      <th>ETHNICITY_Asian Indian</th>\n",
       "      <th>ETHNICITY_Asian Pakistani</th>\n",
       "      <th>ETHNICITY_Black African</th>\n",
       "      <th>ETHNICITY_Black Caribbean</th>\n",
       "      <th>ETHNICITY_Chinese</th>\n",
       "      <th>ETHNICITY_Mixed white and Asian</th>\n",
       "      <th>ETHNICITY_Mixed white and black African</th>\n",
       "      <th>ETHNICITY_Other</th>\n",
       "      <th>ETHNICITY_Other Asian background</th>\n",
       "      <th>ETHNICITY_Other black background</th>\n",
       "      <th>ETHNICITY_Other ethnic group</th>\n",
       "      <th>ETHNICITY_Other mixed background</th>\n",
       "      <th>ETHNICITY_Other white background</th>\n",
       "      <th>ETHNICITY_White</th>\n",
       "      <th>ETHNICITY_White British</th>\n",
       "      <th>ETHNICITY_White Irish</th>\n",
       "      <th>ETHNICITY_White and black Caribbean</th>\n",
       "    </tr>\n",
       "  </thead>\n",
       "  <tbody>\n",
       "    <tr>\n",
       "      <td>0</td>\n",
       "      <td>10000724</td>\n",
       "      <td>1</td>\n",
       "      <td>False</td>\n",
       "      <td>False</td>\n",
       "      <td>False</td>\n",
       "      <td>False</td>\n",
       "      <td>False</td>\n",
       "      <td>False</td>\n",
       "      <td>False</td>\n",
       "      <td>False</td>\n",
       "      <td>False</td>\n",
       "      <td>True</td>\n",
       "      <td>False</td>\n",
       "      <td>False</td>\n",
       "      <td>False</td>\n",
       "      <td>False</td>\n",
       "      <td>False</td>\n",
       "      <td>True</td>\n",
       "      <td>False</td>\n",
       "      <td>False</td>\n",
       "      <td>True</td>\n",
       "      <td>False</td>\n",
       "      <td>False</td>\n",
       "      <td>False</td>\n",
       "      <td>False</td>\n",
       "      <td>False</td>\n",
       "      <td>False</td>\n",
       "      <td>True</td>\n",
       "      <td>False</td>\n",
       "      <td>False</td>\n",
       "      <td>False</td>\n",
       "      <td>True</td>\n",
       "      <td>False</td>\n",
       "      <td>False</td>\n",
       "      <td>71.0</td>\n",
       "      <td>False</td>\n",
       "      <td>False</td>\n",
       "      <td>False</td>\n",
       "      <td>False</td>\n",
       "      <td>False</td>\n",
       "      <td>True</td>\n",
       "      <td>False</td>\n",
       "      <td>False</td>\n",
       "      <td>False</td>\n",
       "      <td>False</td>\n",
       "      <td>False</td>\n",
       "      <td>False</td>\n",
       "      <td>False</td>\n",
       "      <td>False</td>\n",
       "      <td>False</td>\n",
       "      <td>False</td>\n",
       "      <td>False</td>\n",
       "      <td>False</td>\n",
       "      <td>False</td>\n",
       "      <td>False</td>\n",
       "      <td>False</td>\n",
       "      <td>False</td>\n",
       "      <td>False</td>\n",
       "      <td>False</td>\n",
       "      <td>True</td>\n",
       "      <td>False</td>\n",
       "      <td>False</td>\n",
       "      <td>False</td>\n",
       "      <td>False</td>\n",
       "      <td>True</td>\n",
       "      <td>False</td>\n",
       "      <td>False</td>\n",
       "      <td>1226.0</td>\n",
       "      <td>40.280088</td>\n",
       "      <td>3.356674</td>\n",
       "      <td>27.325078</td>\n",
       "      <td>False</td>\n",
       "      <td>False</td>\n",
       "      <td>False</td>\n",
       "      <td>False</td>\n",
       "      <td>False</td>\n",
       "      <td>False</td>\n",
       "      <td>False</td>\n",
       "      <td>False</td>\n",
       "      <td>False</td>\n",
       "      <td>False</td>\n",
       "      <td>False</td>\n",
       "      <td>False</td>\n",
       "      <td>False</td>\n",
       "      <td>False</td>\n",
       "      <td>False</td>\n",
       "      <td>False</td>\n",
       "      <td>False</td>\n",
       "      <td>False</td>\n",
       "      <td>0</td>\n",
       "      <td>0</td>\n",
       "      <td>1</td>\n",
       "      <td>0</td>\n",
       "      <td>0</td>\n",
       "      <td>0</td>\n",
       "      <td>0</td>\n",
       "      <td>0</td>\n",
       "      <td>0</td>\n",
       "      <td>0</td>\n",
       "      <td>0</td>\n",
       "      <td>0</td>\n",
       "      <td>0</td>\n",
       "      <td>0</td>\n",
       "      <td>0</td>\n",
       "      <td>0</td>\n",
       "      <td>0</td>\n",
       "      <td>0</td>\n",
       "      <td>1</td>\n",
       "      <td>0</td>\n",
       "      <td>0</td>\n",
       "    </tr>\n",
       "    <tr>\n",
       "      <td>1</td>\n",
       "      <td>10000752</td>\n",
       "      <td>1</td>\n",
       "      <td>False</td>\n",
       "      <td>False</td>\n",
       "      <td>False</td>\n",
       "      <td>False</td>\n",
       "      <td>True</td>\n",
       "      <td>False</td>\n",
       "      <td>False</td>\n",
       "      <td>False</td>\n",
       "      <td>False</td>\n",
       "      <td>True</td>\n",
       "      <td>False</td>\n",
       "      <td>False</td>\n",
       "      <td>False</td>\n",
       "      <td>False</td>\n",
       "      <td>False</td>\n",
       "      <td>False</td>\n",
       "      <td>False</td>\n",
       "      <td>False</td>\n",
       "      <td>True</td>\n",
       "      <td>False</td>\n",
       "      <td>False</td>\n",
       "      <td>False</td>\n",
       "      <td>False</td>\n",
       "      <td>False</td>\n",
       "      <td>False</td>\n",
       "      <td>False</td>\n",
       "      <td>False</td>\n",
       "      <td>False</td>\n",
       "      <td>False</td>\n",
       "      <td>True</td>\n",
       "      <td>False</td>\n",
       "      <td>False</td>\n",
       "      <td>68.0</td>\n",
       "      <td>True</td>\n",
       "      <td>False</td>\n",
       "      <td>False</td>\n",
       "      <td>False</td>\n",
       "      <td>False</td>\n",
       "      <td>False</td>\n",
       "      <td>False</td>\n",
       "      <td>False</td>\n",
       "      <td>False</td>\n",
       "      <td>False</td>\n",
       "      <td>False</td>\n",
       "      <td>False</td>\n",
       "      <td>False</td>\n",
       "      <td>False</td>\n",
       "      <td>False</td>\n",
       "      <td>False</td>\n",
       "      <td>False</td>\n",
       "      <td>False</td>\n",
       "      <td>False</td>\n",
       "      <td>False</td>\n",
       "      <td>False</td>\n",
       "      <td>False</td>\n",
       "      <td>False</td>\n",
       "      <td>True</td>\n",
       "      <td>False</td>\n",
       "      <td>False</td>\n",
       "      <td>False</td>\n",
       "      <td>True</td>\n",
       "      <td>False</td>\n",
       "      <td>False</td>\n",
       "      <td>False</td>\n",
       "      <td>False</td>\n",
       "      <td>432.0</td>\n",
       "      <td>14.193310</td>\n",
       "      <td>1.182776</td>\n",
       "      <td>27.325078</td>\n",
       "      <td>False</td>\n",
       "      <td>False</td>\n",
       "      <td>False</td>\n",
       "      <td>False</td>\n",
       "      <td>False</td>\n",
       "      <td>False</td>\n",
       "      <td>False</td>\n",
       "      <td>False</td>\n",
       "      <td>False</td>\n",
       "      <td>False</td>\n",
       "      <td>False</td>\n",
       "      <td>False</td>\n",
       "      <td>False</td>\n",
       "      <td>False</td>\n",
       "      <td>False</td>\n",
       "      <td>False</td>\n",
       "      <td>False</td>\n",
       "      <td>False</td>\n",
       "      <td>0</td>\n",
       "      <td>1</td>\n",
       "      <td>0</td>\n",
       "      <td>0</td>\n",
       "      <td>0</td>\n",
       "      <td>0</td>\n",
       "      <td>0</td>\n",
       "      <td>0</td>\n",
       "      <td>0</td>\n",
       "      <td>0</td>\n",
       "      <td>0</td>\n",
       "      <td>0</td>\n",
       "      <td>0</td>\n",
       "      <td>0</td>\n",
       "      <td>0</td>\n",
       "      <td>0</td>\n",
       "      <td>0</td>\n",
       "      <td>0</td>\n",
       "      <td>1</td>\n",
       "      <td>0</td>\n",
       "      <td>0</td>\n",
       "    </tr>\n",
       "    <tr>\n",
       "      <td>2</td>\n",
       "      <td>10001050</td>\n",
       "      <td>1</td>\n",
       "      <td>False</td>\n",
       "      <td>False</td>\n",
       "      <td>False</td>\n",
       "      <td>False</td>\n",
       "      <td>False</td>\n",
       "      <td>False</td>\n",
       "      <td>False</td>\n",
       "      <td>False</td>\n",
       "      <td>False</td>\n",
       "      <td>True</td>\n",
       "      <td>False</td>\n",
       "      <td>False</td>\n",
       "      <td>False</td>\n",
       "      <td>False</td>\n",
       "      <td>False</td>\n",
       "      <td>False</td>\n",
       "      <td>False</td>\n",
       "      <td>False</td>\n",
       "      <td>False</td>\n",
       "      <td>False</td>\n",
       "      <td>False</td>\n",
       "      <td>True</td>\n",
       "      <td>True</td>\n",
       "      <td>False</td>\n",
       "      <td>False</td>\n",
       "      <td>False</td>\n",
       "      <td>False</td>\n",
       "      <td>True</td>\n",
       "      <td>False</td>\n",
       "      <td>False</td>\n",
       "      <td>True</td>\n",
       "      <td>False</td>\n",
       "      <td>86.0</td>\n",
       "      <td>False</td>\n",
       "      <td>False</td>\n",
       "      <td>False</td>\n",
       "      <td>False</td>\n",
       "      <td>True</td>\n",
       "      <td>False</td>\n",
       "      <td>False</td>\n",
       "      <td>False</td>\n",
       "      <td>False</td>\n",
       "      <td>False</td>\n",
       "      <td>False</td>\n",
       "      <td>False</td>\n",
       "      <td>True</td>\n",
       "      <td>False</td>\n",
       "      <td>False</td>\n",
       "      <td>False</td>\n",
       "      <td>False</td>\n",
       "      <td>False</td>\n",
       "      <td>False</td>\n",
       "      <td>False</td>\n",
       "      <td>False</td>\n",
       "      <td>False</td>\n",
       "      <td>False</td>\n",
       "      <td>True</td>\n",
       "      <td>False</td>\n",
       "      <td>False</td>\n",
       "      <td>False</td>\n",
       "      <td>False</td>\n",
       "      <td>False</td>\n",
       "      <td>False</td>\n",
       "      <td>True</td>\n",
       "      <td>False</td>\n",
       "      <td>450.0</td>\n",
       "      <td>14.784698</td>\n",
       "      <td>1.232058</td>\n",
       "      <td>27.325078</td>\n",
       "      <td>False</td>\n",
       "      <td>False</td>\n",
       "      <td>False</td>\n",
       "      <td>False</td>\n",
       "      <td>False</td>\n",
       "      <td>False</td>\n",
       "      <td>False</td>\n",
       "      <td>False</td>\n",
       "      <td>False</td>\n",
       "      <td>False</td>\n",
       "      <td>False</td>\n",
       "      <td>False</td>\n",
       "      <td>False</td>\n",
       "      <td>False</td>\n",
       "      <td>False</td>\n",
       "      <td>False</td>\n",
       "      <td>False</td>\n",
       "      <td>False</td>\n",
       "      <td>0</td>\n",
       "      <td>1</td>\n",
       "      <td>0</td>\n",
       "      <td>0</td>\n",
       "      <td>0</td>\n",
       "      <td>0</td>\n",
       "      <td>0</td>\n",
       "      <td>0</td>\n",
       "      <td>0</td>\n",
       "      <td>0</td>\n",
       "      <td>0</td>\n",
       "      <td>0</td>\n",
       "      <td>0</td>\n",
       "      <td>0</td>\n",
       "      <td>0</td>\n",
       "      <td>0</td>\n",
       "      <td>0</td>\n",
       "      <td>0</td>\n",
       "      <td>1</td>\n",
       "      <td>0</td>\n",
       "      <td>0</td>\n",
       "    </tr>\n",
       "    <tr>\n",
       "      <td>3</td>\n",
       "      <td>10001750</td>\n",
       "      <td>1</td>\n",
       "      <td>False</td>\n",
       "      <td>False</td>\n",
       "      <td>False</td>\n",
       "      <td>False</td>\n",
       "      <td>False</td>\n",
       "      <td>False</td>\n",
       "      <td>False</td>\n",
       "      <td>False</td>\n",
       "      <td>False</td>\n",
       "      <td>True</td>\n",
       "      <td>False</td>\n",
       "      <td>False</td>\n",
       "      <td>False</td>\n",
       "      <td>False</td>\n",
       "      <td>False</td>\n",
       "      <td>False</td>\n",
       "      <td>False</td>\n",
       "      <td>False</td>\n",
       "      <td>False</td>\n",
       "      <td>False</td>\n",
       "      <td>False</td>\n",
       "      <td>False</td>\n",
       "      <td>False</td>\n",
       "      <td>False</td>\n",
       "      <td>False</td>\n",
       "      <td>False</td>\n",
       "      <td>False</td>\n",
       "      <td>False</td>\n",
       "      <td>True</td>\n",
       "      <td>False</td>\n",
       "      <td>False</td>\n",
       "      <td>False</td>\n",
       "      <td>71.0</td>\n",
       "      <td>True</td>\n",
       "      <td>False</td>\n",
       "      <td>False</td>\n",
       "      <td>False</td>\n",
       "      <td>False</td>\n",
       "      <td>False</td>\n",
       "      <td>False</td>\n",
       "      <td>False</td>\n",
       "      <td>False</td>\n",
       "      <td>False</td>\n",
       "      <td>False</td>\n",
       "      <td>False</td>\n",
       "      <td>False</td>\n",
       "      <td>False</td>\n",
       "      <td>False</td>\n",
       "      <td>False</td>\n",
       "      <td>False</td>\n",
       "      <td>False</td>\n",
       "      <td>False</td>\n",
       "      <td>False</td>\n",
       "      <td>False</td>\n",
       "      <td>False</td>\n",
       "      <td>False</td>\n",
       "      <td>True</td>\n",
       "      <td>False</td>\n",
       "      <td>False</td>\n",
       "      <td>False</td>\n",
       "      <td>True</td>\n",
       "      <td>False</td>\n",
       "      <td>False</td>\n",
       "      <td>False</td>\n",
       "      <td>False</td>\n",
       "      <td>846.0</td>\n",
       "      <td>27.795232</td>\n",
       "      <td>2.316269</td>\n",
       "      <td>27.325078</td>\n",
       "      <td>False</td>\n",
       "      <td>False</td>\n",
       "      <td>False</td>\n",
       "      <td>False</td>\n",
       "      <td>False</td>\n",
       "      <td>False</td>\n",
       "      <td>False</td>\n",
       "      <td>False</td>\n",
       "      <td>False</td>\n",
       "      <td>False</td>\n",
       "      <td>False</td>\n",
       "      <td>False</td>\n",
       "      <td>False</td>\n",
       "      <td>False</td>\n",
       "      <td>False</td>\n",
       "      <td>False</td>\n",
       "      <td>False</td>\n",
       "      <td>False</td>\n",
       "      <td>0</td>\n",
       "      <td>0</td>\n",
       "      <td>1</td>\n",
       "      <td>0</td>\n",
       "      <td>0</td>\n",
       "      <td>0</td>\n",
       "      <td>0</td>\n",
       "      <td>0</td>\n",
       "      <td>0</td>\n",
       "      <td>0</td>\n",
       "      <td>0</td>\n",
       "      <td>0</td>\n",
       "      <td>0</td>\n",
       "      <td>0</td>\n",
       "      <td>0</td>\n",
       "      <td>0</td>\n",
       "      <td>0</td>\n",
       "      <td>0</td>\n",
       "      <td>1</td>\n",
       "      <td>0</td>\n",
       "      <td>0</td>\n",
       "    </tr>\n",
       "    <tr>\n",
       "      <td>4</td>\n",
       "      <td>10001824</td>\n",
       "      <td>1</td>\n",
       "      <td>False</td>\n",
       "      <td>False</td>\n",
       "      <td>False</td>\n",
       "      <td>False</td>\n",
       "      <td>False</td>\n",
       "      <td>False</td>\n",
       "      <td>False</td>\n",
       "      <td>False</td>\n",
       "      <td>False</td>\n",
       "      <td>True</td>\n",
       "      <td>False</td>\n",
       "      <td>False</td>\n",
       "      <td>False</td>\n",
       "      <td>False</td>\n",
       "      <td>False</td>\n",
       "      <td>True</td>\n",
       "      <td>False</td>\n",
       "      <td>False</td>\n",
       "      <td>False</td>\n",
       "      <td>False</td>\n",
       "      <td>False</td>\n",
       "      <td>False</td>\n",
       "      <td>False</td>\n",
       "      <td>False</td>\n",
       "      <td>False</td>\n",
       "      <td>False</td>\n",
       "      <td>True</td>\n",
       "      <td>False</td>\n",
       "      <td>False</td>\n",
       "      <td>True</td>\n",
       "      <td>False</td>\n",
       "      <td>False</td>\n",
       "      <td>87.0</td>\n",
       "      <td>True</td>\n",
       "      <td>False</td>\n",
       "      <td>False</td>\n",
       "      <td>False</td>\n",
       "      <td>False</td>\n",
       "      <td>False</td>\n",
       "      <td>False</td>\n",
       "      <td>False</td>\n",
       "      <td>False</td>\n",
       "      <td>False</td>\n",
       "      <td>False</td>\n",
       "      <td>False</td>\n",
       "      <td>False</td>\n",
       "      <td>False</td>\n",
       "      <td>False</td>\n",
       "      <td>True</td>\n",
       "      <td>False</td>\n",
       "      <td>False</td>\n",
       "      <td>False</td>\n",
       "      <td>False</td>\n",
       "      <td>False</td>\n",
       "      <td>False</td>\n",
       "      <td>False</td>\n",
       "      <td>True</td>\n",
       "      <td>False</td>\n",
       "      <td>False</td>\n",
       "      <td>False</td>\n",
       "      <td>False</td>\n",
       "      <td>False</td>\n",
       "      <td>False</td>\n",
       "      <td>True</td>\n",
       "      <td>False</td>\n",
       "      <td>674.0</td>\n",
       "      <td>22.144192</td>\n",
       "      <td>1.845349</td>\n",
       "      <td>27.325078</td>\n",
       "      <td>False</td>\n",
       "      <td>False</td>\n",
       "      <td>False</td>\n",
       "      <td>False</td>\n",
       "      <td>False</td>\n",
       "      <td>False</td>\n",
       "      <td>False</td>\n",
       "      <td>False</td>\n",
       "      <td>False</td>\n",
       "      <td>False</td>\n",
       "      <td>False</td>\n",
       "      <td>False</td>\n",
       "      <td>False</td>\n",
       "      <td>False</td>\n",
       "      <td>False</td>\n",
       "      <td>False</td>\n",
       "      <td>False</td>\n",
       "      <td>False</td>\n",
       "      <td>0</td>\n",
       "      <td>1</td>\n",
       "      <td>0</td>\n",
       "      <td>0</td>\n",
       "      <td>0</td>\n",
       "      <td>0</td>\n",
       "      <td>0</td>\n",
       "      <td>0</td>\n",
       "      <td>0</td>\n",
       "      <td>0</td>\n",
       "      <td>0</td>\n",
       "      <td>0</td>\n",
       "      <td>0</td>\n",
       "      <td>0</td>\n",
       "      <td>1</td>\n",
       "      <td>0</td>\n",
       "      <td>0</td>\n",
       "      <td>0</td>\n",
       "      <td>0</td>\n",
       "      <td>0</td>\n",
       "      <td>0</td>\n",
       "    </tr>\n",
       "  </tbody>\n",
       "</table>\n",
       "</div>"
      ],
      "text/plain": [
       "   PATIENTID  NUMBER_TUMOURS  SC500  SC501  SC502  SC503  SC504  SC505  SC506  \\\n",
       "0   10000724               1  False  False  False  False  False  False  False   \n",
       "1   10000752               1  False  False  False  False   True  False  False   \n",
       "2   10001050               1  False  False  False  False  False  False  False   \n",
       "3   10001750               1  False  False  False  False  False  False  False   \n",
       "4   10001824               1  False  False  False  False  False  False  False   \n",
       "\n",
       "   SC508  BEH_BENIGN  BEH_MALIG  BEH_MICINV  BEH_INSITU  BEH_UNCERT     T0  \\\n",
       "0  False       False       True       False       False       False  False   \n",
       "1  False       False       True       False       False       False  False   \n",
       "2  False       False       True       False       False       False  False   \n",
       "3  False       False       True       False       False       False  False   \n",
       "4  False       False       True       False       False       False  False   \n",
       "\n",
       "      T1     T2     T3     T4     N0     N1     N2     N3     M1  STAGE0  \\\n",
       "0  False   True  False  False   True  False  False  False  False   False   \n",
       "1  False  False  False  False   True  False  False  False  False   False   \n",
       "2  False  False  False  False  False  False  False   True   True   False   \n",
       "3  False  False  False  False  False  False  False  False  False   False   \n",
       "4  False   True  False  False  False  False  False  False  False   False   \n",
       "\n",
       "   STAGE1  STAGE2  STAGE3  STAGE4  GRADE1  GRADE2  GRADE3  GRADE4  AGE_MEAN  \\\n",
       "0   False    True   False   False   False    True   False   False      71.0   \n",
       "1   False   False   False   False   False    True   False   False      68.0   \n",
       "2   False   False   False    True   False   False    True   False      86.0   \n",
       "3   False   False   False   False    True   False   False   False      71.0   \n",
       "4   False   False    True   False   False    True   False   False      87.0   \n",
       "\n",
       "   L0801  L1001  L1701  L0201  L0401  L1201  L0301  L0901  ER_POS  PR_POS  \\\n",
       "0  False  False  False  False  False   True  False  False   False   False   \n",
       "1   True  False  False  False  False  False  False  False   False   False   \n",
       "2  False  False  False  False   True  False  False  False   False   False   \n",
       "3   True  False  False  False  False  False  False  False   False   False   \n",
       "4   True  False  False  False  False  False  False  False   False   False   \n",
       "\n",
       "   HER_POS  CURATIVE  NONCURATIVE  NOACTTREAT  ECOG0  ECOG1  ECOG2  ECOG3  \\\n",
       "0    False     False        False       False  False  False  False  False   \n",
       "1    False     False        False       False  False  False  False  False   \n",
       "2    False     False         True       False  False  False  False  False   \n",
       "3    False     False        False       False  False  False  False  False   \n",
       "4    False     False        False       False  False   True  False  False   \n",
       "\n",
       "   ECOG4   ACE0   ACE1   ACE2   ACE3   LEFT  RIGHT  MIDLINE  BILATERAL  DEPR1  \\\n",
       "0  False  False  False  False  False  False   True    False      False  False   \n",
       "1  False  False  False  False  False   True  False    False      False   True   \n",
       "2  False  False  False  False  False   True  False    False      False  False   \n",
       "3  False  False  False  False  False   True  False    False      False   True   \n",
       "4  False  False  False  False  False   True  False    False      False  False   \n",
       "\n",
       "   DEPR2  DEPR3  DEPR4  DEPR5  CANCER_DAYS_MEAN  CANCER_MONTHS_MEAN  \\\n",
       "0  False   True  False  False            1226.0           40.280088   \n",
       "1  False  False  False  False             432.0           14.193310   \n",
       "2  False  False   True  False             450.0           14.784698   \n",
       "3  False  False  False  False             846.0           27.795232   \n",
       "4  False  False   True  False             674.0           22.144192   \n",
       "\n",
       "   CANCER_YEARS_MEAN       BMI3  NEOADJUVANT  DIAGNOSTIC  PALLIATIVE  \\\n",
       "0           3.356674  27.325078        False       False       False   \n",
       "1           1.182776  27.325078        False       False       False   \n",
       "2           1.232058  27.325078        False       False       False   \n",
       "3           2.316269  27.325078        False       False       False   \n",
       "4           1.845349  27.325078        False       False       False   \n",
       "\n",
       "   CURATIVE  ADJUVANT  DISEASE_MOD  STAGING  CT_YES  CHEM_RAD_YES  \\\n",
       "0     False     False        False    False   False         False   \n",
       "1     False     False        False    False   False         False   \n",
       "2     False     False        False    False   False         False   \n",
       "3     False     False        False    False   False         False   \n",
       "4     False     False        False    False   False         False   \n",
       "\n",
       "   CHEMOTHERAPY2  TARGETED2  CHEM_TARG2  CHEM_RADIO2  TARG_RADIO2  \\\n",
       "0          False      False       False        False        False   \n",
       "1          False      False       False        False        False   \n",
       "2          False      False       False        False        False   \n",
       "3          False      False       False        False        False   \n",
       "4          False      False       False        False        False   \n",
       "\n",
       "   CHEM_RADIO_TARG2  HORM_TARG2  HORMONE2  OTHER2  DEAD  SEX_F  SEX_M  \\\n",
       "0             False       False     False   False     0      0      1   \n",
       "1             False       False     False   False     0      1      0   \n",
       "2             False       False     False   False     0      1      0   \n",
       "3             False       False     False   False     0      0      1   \n",
       "4             False       False     False   False     0      1      0   \n",
       "\n",
       "   ETHNICITY_Asian Bangladeshi  ETHNICITY_Asian Indian  \\\n",
       "0                            0                       0   \n",
       "1                            0                       0   \n",
       "2                            0                       0   \n",
       "3                            0                       0   \n",
       "4                            0                       0   \n",
       "\n",
       "   ETHNICITY_Asian Pakistani  ETHNICITY_Black African  \\\n",
       "0                          0                        0   \n",
       "1                          0                        0   \n",
       "2                          0                        0   \n",
       "3                          0                        0   \n",
       "4                          0                        0   \n",
       "\n",
       "   ETHNICITY_Black Caribbean  ETHNICITY_Chinese  \\\n",
       "0                          0                  0   \n",
       "1                          0                  0   \n",
       "2                          0                  0   \n",
       "3                          0                  0   \n",
       "4                          0                  0   \n",
       "\n",
       "   ETHNICITY_Mixed white and Asian  ETHNICITY_Mixed white and black African  \\\n",
       "0                                0                                        0   \n",
       "1                                0                                        0   \n",
       "2                                0                                        0   \n",
       "3                                0                                        0   \n",
       "4                                0                                        0   \n",
       "\n",
       "   ETHNICITY_Other  ETHNICITY_Other Asian background  \\\n",
       "0                0                                 0   \n",
       "1                0                                 0   \n",
       "2                0                                 0   \n",
       "3                0                                 0   \n",
       "4                0                                 0   \n",
       "\n",
       "   ETHNICITY_Other black background  ETHNICITY_Other ethnic group  \\\n",
       "0                                 0                             0   \n",
       "1                                 0                             0   \n",
       "2                                 0                             0   \n",
       "3                                 0                             0   \n",
       "4                                 0                             1   \n",
       "\n",
       "   ETHNICITY_Other mixed background  ETHNICITY_Other white background  \\\n",
       "0                                 0                                 0   \n",
       "1                                 0                                 0   \n",
       "2                                 0                                 0   \n",
       "3                                 0                                 0   \n",
       "4                                 0                                 0   \n",
       "\n",
       "   ETHNICITY_White  ETHNICITY_White British  ETHNICITY_White Irish  \\\n",
       "0                0                        1                      0   \n",
       "1                0                        1                      0   \n",
       "2                0                        1                      0   \n",
       "3                0                        1                      0   \n",
       "4                0                        0                      0   \n",
       "\n",
       "   ETHNICITY_White and black Caribbean  \n",
       "0                                    0  \n",
       "1                                    0  \n",
       "2                                    0  \n",
       "3                                    0  \n",
       "4                                    0  "
      ]
     },
     "execution_count": 79,
     "metadata": {},
     "output_type": "execute_result"
    }
   ],
   "source": [
    "df = pd.concat([df[['PATIENTID', 'NUMBER_TUMOURS', 'SC500', 'SC501',\n",
    "       'SC502', 'SC503', 'SC504', 'SC505', 'SC506', 'SC508', 'BEH_BENIGN',\n",
    "       'BEH_MALIG', 'BEH_MICINV', 'BEH_INSITU', 'BEH_UNCERT', 'T0', 'T1', 'T2',\n",
    "       'T3', 'T4', 'N0', 'N1', 'N2', 'N3', 'M1', 'STAGE0', 'STAGE1', 'STAGE2',\n",
    "       'STAGE3', 'STAGE4', 'GRADE1', 'GRADE2', 'GRADE3', 'GRADE4', 'AGE_MEAN',\n",
    "       'L0801', 'L1001', 'L1701', 'L0201', 'L0401', 'L1201', 'L0301', 'L0901',\n",
    "       'ER_POS', 'PR_POS', 'HER_POS', 'CURATIVE', 'NONCURATIVE', 'NOACTTREAT',\n",
    "       'ECOG0', 'ECOG1', 'ECOG2', 'ECOG3', 'ECOG4', 'ACE0', 'ACE1', 'ACE2',\n",
    "       'ACE3', 'LEFT', 'RIGHT', 'MIDLINE', 'BILATERAL', 'DEPR1', 'DEPR2',\n",
    "       'DEPR3', 'DEPR4', 'DEPR5', 'CANCER_DAYS_MEAN', 'CANCER_MONTHS_MEAN','CANCER_YEARS_MEAN', \n",
    "       'BMI3', 'NEOADJUVANT', 'DIAGNOSTIC', 'PALLIATIVE', 'CURATIVE', 'ADJUVANT',\n",
    "       'DISEASE_MOD', 'STAGING', 'CT_YES', 'CHEM_RAD_YES', 'CHEMOTHERAPY2', 'TARGETED2',\n",
    "       'CHEM_TARG2', 'CHEM_RADIO2', 'TARG_RADIO2', 'CHEM_RADIO_TARG2',\n",
    "       'HORM_TARG2', 'HORMONE2', 'OTHER2', 'DEAD']],                      \n",
    "        pd.get_dummies(df['SEX'], prefix = 'SEX'),                      \n",
    "        pd.get_dummies(df['ETHNICITY'], prefix = 'ETHNICITY'),\n",
    "        ], axis = 1)\n",
    "df.head()\n",
    "\n",
    "# df.drop(['SEX', 'ETHNICITY'], axis = 1)"
   ]
  },
  {
   "cell_type": "code",
   "execution_count": 80,
   "metadata": {},
   "outputs": [
    {
     "data": {
      "text/plain": [
       "PATIENTID                                  0\n",
       "NUMBER_TUMOURS                             0\n",
       "SC500                                      0\n",
       "SC501                                      0\n",
       "SC502                                      0\n",
       "SC503                                      0\n",
       "SC504                                      0\n",
       "SC505                                      0\n",
       "SC506                                      0\n",
       "SC508                                      0\n",
       "BEH_BENIGN                                 0\n",
       "BEH_MALIG                                  0\n",
       "BEH_MICINV                                 0\n",
       "BEH_INSITU                                 0\n",
       "BEH_UNCERT                                 0\n",
       "T0                                         0\n",
       "T1                                         0\n",
       "T2                                         0\n",
       "T3                                         0\n",
       "T4                                         0\n",
       "N0                                         0\n",
       "N1                                         0\n",
       "N2                                         0\n",
       "N3                                         0\n",
       "M1                                         0\n",
       "STAGE0                                     0\n",
       "STAGE1                                     0\n",
       "STAGE2                                     0\n",
       "STAGE3                                     0\n",
       "STAGE4                                     0\n",
       "GRADE1                                     0\n",
       "GRADE2                                     0\n",
       "GRADE3                                     0\n",
       "GRADE4                                     0\n",
       "AGE_MEAN                                   0\n",
       "L0801                                      0\n",
       "L1001                                      0\n",
       "L1701                                      0\n",
       "L0201                                      0\n",
       "L0401                                      0\n",
       "L1201                                      0\n",
       "L0301                                      0\n",
       "L0901                                      0\n",
       "ER_POS                                     0\n",
       "PR_POS                                     0\n",
       "HER_POS                                    0\n",
       "CURATIVE                                   0\n",
       "NONCURATIVE                                0\n",
       "NOACTTREAT                                 0\n",
       "ECOG0                                      0\n",
       "ECOG1                                      0\n",
       "ECOG2                                      0\n",
       "ECOG3                                      0\n",
       "ECOG4                                      0\n",
       "ACE0                                       0\n",
       "ACE1                                       0\n",
       "ACE2                                       0\n",
       "ACE3                                       0\n",
       "LEFT                                       0\n",
       "RIGHT                                      0\n",
       "MIDLINE                                    0\n",
       "BILATERAL                                  0\n",
       "DEPR1                                      0\n",
       "DEPR2                                      0\n",
       "DEPR3                                      0\n",
       "DEPR4                                      0\n",
       "DEPR5                                      0\n",
       "CANCER_DAYS_MEAN                           0\n",
       "CANCER_MONTHS_MEAN                         0\n",
       "CANCER_YEARS_MEAN                          0\n",
       "BMI3                                       0\n",
       "NEOADJUVANT                                0\n",
       "DIAGNOSTIC                                 0\n",
       "PALLIATIVE                                 0\n",
       "CURATIVE                                   0\n",
       "ADJUVANT                                   0\n",
       "DISEASE_MOD                                0\n",
       "STAGING                                    0\n",
       "CT_YES                                     0\n",
       "CHEM_RAD_YES                               0\n",
       "CHEMOTHERAPY2                              0\n",
       "TARGETED2                                  0\n",
       "CHEM_TARG2                                 0\n",
       "CHEM_RADIO2                                0\n",
       "TARG_RADIO2                                0\n",
       "CHEM_RADIO_TARG2                           0\n",
       "HORM_TARG2                                 0\n",
       "HORMONE2                                   0\n",
       "OTHER2                                     0\n",
       "DEAD                                       0\n",
       "SEX_F                                      0\n",
       "SEX_M                                      0\n",
       "ETHNICITY_Asian Bangladeshi                0\n",
       "ETHNICITY_Asian Indian                     0\n",
       "ETHNICITY_Asian Pakistani                  0\n",
       "ETHNICITY_Black African                    0\n",
       "ETHNICITY_Black Caribbean                  0\n",
       "ETHNICITY_Chinese                          0\n",
       "ETHNICITY_Mixed white and Asian            0\n",
       "ETHNICITY_Mixed white and black African    0\n",
       "ETHNICITY_Other                            0\n",
       "ETHNICITY_Other Asian background           0\n",
       "ETHNICITY_Other black background           0\n",
       "ETHNICITY_Other ethnic group               0\n",
       "ETHNICITY_Other mixed background           0\n",
       "ETHNICITY_Other white background           0\n",
       "ETHNICITY_White                            0\n",
       "ETHNICITY_White British                    0\n",
       "ETHNICITY_White Irish                      0\n",
       "ETHNICITY_White and black Caribbean        0\n",
       "dtype: int64"
      ]
     },
     "execution_count": 80,
     "metadata": {},
     "output_type": "execute_result"
    }
   ],
   "source": [
    "df.isna().sum()"
   ]
  },
  {
   "cell_type": "code",
   "execution_count": 81,
   "metadata": {},
   "outputs": [
    {
     "data": {
      "text/plain": [
       "['PATIENTID',\n",
       " 'NUMBER_TUMOURS',\n",
       " 'SC500',\n",
       " 'SC501',\n",
       " 'SC502',\n",
       " 'SC503',\n",
       " 'SC504',\n",
       " 'SC505',\n",
       " 'SC506',\n",
       " 'SC508',\n",
       " 'BEH_BENIGN',\n",
       " 'BEH_MALIG',\n",
       " 'BEH_MICINV',\n",
       " 'BEH_INSITU',\n",
       " 'BEH_UNCERT',\n",
       " 'T0',\n",
       " 'T1',\n",
       " 'T2',\n",
       " 'T3',\n",
       " 'T4',\n",
       " 'N0',\n",
       " 'N1',\n",
       " 'N2',\n",
       " 'N3',\n",
       " 'M1',\n",
       " 'STAGE0',\n",
       " 'STAGE1',\n",
       " 'STAGE2',\n",
       " 'STAGE3',\n",
       " 'STAGE4',\n",
       " 'GRADE1',\n",
       " 'GRADE2',\n",
       " 'GRADE3',\n",
       " 'GRADE4',\n",
       " 'AGE_MEAN',\n",
       " 'L0801',\n",
       " 'L1001',\n",
       " 'L1701',\n",
       " 'L0201',\n",
       " 'L0401',\n",
       " 'L1201',\n",
       " 'L0301',\n",
       " 'L0901',\n",
       " 'ER_POS',\n",
       " 'PR_POS',\n",
       " 'HER_POS',\n",
       " 'CURATIVE',\n",
       " 'NONCURATIVE',\n",
       " 'NOACTTREAT',\n",
       " 'ECOG0',\n",
       " 'ECOG1',\n",
       " 'ECOG2',\n",
       " 'ECOG3',\n",
       " 'ECOG4',\n",
       " 'ACE0',\n",
       " 'ACE1',\n",
       " 'ACE2',\n",
       " 'ACE3',\n",
       " 'LEFT',\n",
       " 'RIGHT',\n",
       " 'MIDLINE',\n",
       " 'BILATERAL',\n",
       " 'DEPR1',\n",
       " 'DEPR2',\n",
       " 'DEPR3',\n",
       " 'DEPR4',\n",
       " 'DEPR5',\n",
       " 'CANCER_DAYS_MEAN',\n",
       " 'CANCER_MONTHS_MEAN',\n",
       " 'CANCER_YEARS_MEAN',\n",
       " 'BMI3',\n",
       " 'NEOADJUVANT',\n",
       " 'DIAGNOSTIC',\n",
       " 'PALLIATIVE',\n",
       " 'CURATIVE',\n",
       " 'ADJUVANT',\n",
       " 'DISEASE_MOD',\n",
       " 'STAGING',\n",
       " 'CT_YES',\n",
       " 'CHEM_RAD_YES',\n",
       " 'CHEMOTHERAPY2',\n",
       " 'TARGETED2',\n",
       " 'CHEM_TARG2',\n",
       " 'CHEM_RADIO2',\n",
       " 'TARG_RADIO2',\n",
       " 'CHEM_RADIO_TARG2',\n",
       " 'HORM_TARG2',\n",
       " 'HORMONE2',\n",
       " 'OTHER2',\n",
       " 'DEAD',\n",
       " 'SEX_F',\n",
       " 'SEX_M',\n",
       " 'ETHNICITY_Asian Bangladeshi',\n",
       " 'ETHNICITY_Asian Indian',\n",
       " 'ETHNICITY_Asian Pakistani',\n",
       " 'ETHNICITY_Black African',\n",
       " 'ETHNICITY_Black Caribbean',\n",
       " 'ETHNICITY_Chinese',\n",
       " 'ETHNICITY_Mixed white and Asian',\n",
       " 'ETHNICITY_Mixed white and black African',\n",
       " 'ETHNICITY_Other',\n",
       " 'ETHNICITY_Other Asian background',\n",
       " 'ETHNICITY_Other black background',\n",
       " 'ETHNICITY_Other ethnic group',\n",
       " 'ETHNICITY_Other mixed background',\n",
       " 'ETHNICITY_Other white background',\n",
       " 'ETHNICITY_White',\n",
       " 'ETHNICITY_White British',\n",
       " 'ETHNICITY_White Irish',\n",
       " 'ETHNICITY_White and black Caribbean']"
      ]
     },
     "execution_count": 81,
     "metadata": {},
     "output_type": "execute_result"
    }
   ],
   "source": [
    "df.columns.tolist()"
   ]
  },
  {
   "cell_type": "code",
   "execution_count": 82,
   "metadata": {},
   "outputs": [],
   "source": [
    "X = df[['NUMBER_TUMOURS','SC500','SC501','SC502','SC503','SC504','SC505','SC506','SC508',\n",
    " 'BEH_BENIGN','BEH_MALIG','BEH_MICINV','BEH_INSITU','BEH_UNCERT','T0','T1','T2','T3','T4',\n",
    " 'N0','N1','N2','N3','M1','STAGE0','STAGE1','STAGE2','STAGE3','STAGE4',\n",
    " 'GRADE1','GRADE2','GRADE3','GRADE4','AGE_MEAN','L0801','L1001','L1701',\n",
    " 'L0201','L0401','L1201','L0301','L0901','ER_POS','PR_POS','HER_POS',\n",
    " 'CURATIVE','NONCURATIVE','NOACTTREAT','ECOG0','ECOG1','ECOG2','ECOG3','ECOG4','ACE0','ACE1',\n",
    " 'ACE2','ACE3','LEFT','RIGHT','MIDLINE','BILATERAL','DEPR1','DEPR2','DEPR3','DEPR4','DEPR5',\n",
    " 'CANCER_YEARS_MEAN','BMI3','NEOADJUVANT','DIAGNOSTIC','PALLIATIVE','CURATIVE','ADJUVANT',\n",
    " 'DISEASE_MOD','STAGING','CT_YES','CHEM_RAD_YES','CHEMOTHERAPY2','TARGETED2','CHEM_TARG2',\n",
    " 'CHEM_RADIO2','TARG_RADIO2','CHEM_RADIO_TARG2','HORM_TARG2','HORMONE2','OTHER2',\n",
    " 'SEX_F','SEX_M','ETHNICITY_Asian Bangladeshi','ETHNICITY_Asian Indian',\n",
    " 'ETHNICITY_Asian Pakistani','ETHNICITY_Black African','ETHNICITY_Black Caribbean','ETHNICITY_Chinese',\n",
    " 'ETHNICITY_Mixed white and Asian','ETHNICITY_Mixed white and black African','ETHNICITY_Other',\n",
    " 'ETHNICITY_Other Asian background','ETHNICITY_Other black background','ETHNICITY_Other ethnic group',\n",
    " 'ETHNICITY_Other mixed background','ETHNICITY_Other white background','ETHNICITY_White',\n",
    " 'ETHNICITY_White British','ETHNICITY_White Irish','ETHNICITY_White and black Caribbean']]"
   ]
  },
  {
   "cell_type": "code",
   "execution_count": 83,
   "metadata": {},
   "outputs": [],
   "source": [
    "y = df['DEAD']"
   ]
  },
  {
   "cell_type": "code",
   "execution_count": 84,
   "metadata": {},
   "outputs": [
    {
     "data": {
      "text/plain": [
       "(105686, 108)"
      ]
     },
     "execution_count": 84,
     "metadata": {},
     "output_type": "execute_result"
    }
   ],
   "source": [
    "X.shape"
   ]
  },
  {
   "cell_type": "code",
   "execution_count": 85,
   "metadata": {},
   "outputs": [],
   "source": [
    "X_train, X_test, y_train, y_test = train_test_split(X, y, test_size = 0.2)"
   ]
  },
  {
   "cell_type": "code",
   "execution_count": 86,
   "metadata": {},
   "outputs": [
    {
     "data": {
      "text/plain": [
       "0    83454\n",
       "1     1094\n",
       "Name: DEAD, dtype: int64"
      ]
     },
     "execution_count": 86,
     "metadata": {},
     "output_type": "execute_result"
    }
   ],
   "source": [
    "y_train.value_counts()"
   ]
  },
  {
   "cell_type": "code",
   "execution_count": 87,
   "metadata": {},
   "outputs": [
    {
     "data": {
      "text/plain": [
       "0    20879\n",
       "1      259\n",
       "Name: DEAD, dtype: int64"
      ]
     },
     "execution_count": 87,
     "metadata": {},
     "output_type": "execute_result"
    }
   ],
   "source": [
    "y_test.value_counts()"
   ]
  },
  {
   "cell_type": "code",
   "execution_count": 88,
   "metadata": {},
   "outputs": [
    {
     "data": {
      "text/plain": [
       "(105686, 110)"
      ]
     },
     "execution_count": 88,
     "metadata": {},
     "output_type": "execute_result"
    }
   ],
   "source": [
    "df.shape"
   ]
  },
  {
   "cell_type": "code",
   "execution_count": 89,
   "metadata": {},
   "outputs": [],
   "source": [
    "X_train_cat = X_train[['SC500','SC501','SC502','SC503','SC504','SC505','SC506','SC508',\n",
    " 'BEH_BENIGN','BEH_MALIG','BEH_MICINV','BEH_INSITU','BEH_UNCERT','T0','T1','T2','T3','T4',\n",
    " 'N0','N1','N2','N3','M1','STAGE0','STAGE1','STAGE2','STAGE3','STAGE4',\n",
    " 'GRADE1','GRADE2','GRADE3','GRADE4','L0801','L1001','L1701',\n",
    " 'L0201','L0401','L1201','L0301','L0901','ER_POS','PR_POS','HER_POS',\n",
    " 'CURATIVE','NONCURATIVE','NOACTTREAT','ECOG0','ECOG1','ECOG2','ECOG3','ECOG4','ACE0','ACE1',\n",
    " 'ACE2','ACE3','LEFT','RIGHT','MIDLINE','BILATERAL','DEPR1','DEPR2','DEPR3','DEPR4','DEPR5',\n",
    " 'NEOADJUVANT','DIAGNOSTIC','PALLIATIVE','CURATIVE','ADJUVANT','DISEASE_MOD','STAGING','CT_YES','CHEM_RAD_YES',\n",
    " 'CHEMOTHERAPY2','TARGETED2','CHEM_TARG2','CHEM_RADIO2','TARG_RADIO2','CHEM_RADIO_TARG2','HORM_TARG2',\n",
    " 'HORMONE2','OTHER2','SEX_F','SEX_M','ETHNICITY_Asian Bangladeshi','ETHNICITY_Asian Indian',\n",
    " 'ETHNICITY_Asian Pakistani','ETHNICITY_Black African','ETHNICITY_Black Caribbean','ETHNICITY_Chinese',\n",
    " 'ETHNICITY_Mixed white and Asian','ETHNICITY_Mixed white and black African','ETHNICITY_Other',\n",
    " 'ETHNICITY_Other Asian background','ETHNICITY_Other black background','ETHNICITY_Other ethnic group',\n",
    " 'ETHNICITY_Other mixed background','ETHNICITY_Other white background','ETHNICITY_White',\n",
    " 'ETHNICITY_White British','ETHNICITY_White Irish','ETHNICITY_White and black Caribbean']]"
   ]
  },
  {
   "cell_type": "code",
   "execution_count": 90,
   "metadata": {},
   "outputs": [],
   "source": [
    "X_test_cat = X_test[['SC500','SC501','SC502','SC503','SC504','SC505','SC506','SC508',\n",
    " 'BEH_BENIGN','BEH_MALIG','BEH_MICINV','BEH_INSITU','BEH_UNCERT','T0','T1','T2','T3','T4',\n",
    " 'N0','N1','N2','N3','M1','STAGE0','STAGE1','STAGE2','STAGE3','STAGE4',\n",
    " 'GRADE1','GRADE2','GRADE3','GRADE4','L0801','L1001','L1701',\n",
    " 'L0201','L0401','L1201','L0301','L0901','ER_POS','PR_POS','HER_POS',\n",
    " 'CURATIVE','NONCURATIVE','NOACTTREAT','ECOG0','ECOG1','ECOG2','ECOG3','ECOG4','ACE0','ACE1',\n",
    " 'ACE2','ACE3','LEFT','RIGHT','MIDLINE','BILATERAL','DEPR1','DEPR2','DEPR3','DEPR4','DEPR5',\n",
    " 'NEOADJUVANT','DIAGNOSTIC','PALLIATIVE','CURATIVE','ADJUVANT','DISEASE_MOD','STAGING','CT_YES','CHEM_RAD_YES',\n",
    " 'CHEMOTHERAPY2','TARGETED2','CHEM_TARG2','CHEM_RADIO2','TARG_RADIO2','CHEM_RADIO_TARG2','HORM_TARG2',\n",
    " 'HORMONE2','OTHER2','SEX_F','SEX_M','ETHNICITY_Asian Bangladeshi','ETHNICITY_Asian Indian',\n",
    " 'ETHNICITY_Asian Pakistani','ETHNICITY_Black African','ETHNICITY_Black Caribbean','ETHNICITY_Chinese',\n",
    " 'ETHNICITY_Mixed white and Asian','ETHNICITY_Mixed white and black African','ETHNICITY_Other',\n",
    " 'ETHNICITY_Other Asian background','ETHNICITY_Other black background','ETHNICITY_Other ethnic group',\n",
    " 'ETHNICITY_Other mixed background','ETHNICITY_Other white background','ETHNICITY_White',\n",
    " 'ETHNICITY_White British','ETHNICITY_White Irish','ETHNICITY_White and black Caribbean']]"
   ]
  },
  {
   "cell_type": "code",
   "execution_count": 91,
   "metadata": {},
   "outputs": [],
   "source": [
    "list_num = ['NUMBER_TUMOURS','AGE_MEAN','CANCER_YEARS_MEAN','BMI3']"
   ]
  },
  {
   "cell_type": "code",
   "execution_count": 92,
   "metadata": {},
   "outputs": [],
   "source": [
    "X_train_num = X_train[list_num]"
   ]
  },
  {
   "cell_type": "code",
   "execution_count": 93,
   "metadata": {},
   "outputs": [],
   "source": [
    "X_test_num = X_test[list_num]"
   ]
  },
  {
   "cell_type": "code",
   "execution_count": 94,
   "metadata": {},
   "outputs": [
    {
     "data": {
      "text/plain": [
       "(84548, 108)"
      ]
     },
     "execution_count": 94,
     "metadata": {},
     "output_type": "execute_result"
    }
   ],
   "source": [
    "X_train_cat.shape"
   ]
  },
  {
   "cell_type": "code",
   "execution_count": 95,
   "metadata": {},
   "outputs": [
    {
     "data": {
      "text/plain": [
       "(21138, 108)"
      ]
     },
     "execution_count": 95,
     "metadata": {},
     "output_type": "execute_result"
    }
   ],
   "source": [
    "X_test_cat.shape"
   ]
  },
  {
   "cell_type": "code",
   "execution_count": 96,
   "metadata": {},
   "outputs": [
    {
     "data": {
      "text/plain": [
       "(84548, 4)"
      ]
     },
     "execution_count": 96,
     "metadata": {},
     "output_type": "execute_result"
    }
   ],
   "source": [
    "X_train_num.shape"
   ]
  },
  {
   "cell_type": "code",
   "execution_count": 97,
   "metadata": {},
   "outputs": [
    {
     "data": {
      "text/plain": [
       "(21138, 4)"
      ]
     },
     "execution_count": 97,
     "metadata": {},
     "output_type": "execute_result"
    }
   ],
   "source": [
    "X_test_num.shape"
   ]
  },
  {
   "cell_type": "code",
   "execution_count": 98,
   "metadata": {},
   "outputs": [
    {
     "data": {
      "text/plain": [
       "SelectKBest(k='all', score_func=<function f_classif at 0x7ff5ae1c4b90>)"
      ]
     },
     "execution_count": 98,
     "metadata": {},
     "output_type": "execute_result"
    }
   ],
   "source": [
    "fs_num = SelectKBest(score_func = f_classif, k = 'all')\n",
    "fs_num.fit(X_train_num, y_train)\n",
    "# features = x_train.columns[selection.get_support()]\n",
    "# print(features)\n",
    "# X_train_fs_num = fs_num.transform(X_train_num)\n",
    "# X_test_fs_num = fs_num.transform(X_test_num)"
   ]
  },
  {
   "cell_type": "code",
   "execution_count": 99,
   "metadata": {},
   "outputs": [
    {
     "name": "stdout",
     "output_type": "stream",
     "text": [
      "Score: 6.863 for feature NUMBER_TUMOURS\n",
      "Score: 24.241 for feature AGE_MEAN\n",
      "Score: 2931.102 for feature CANCER_YEARS_MEAN\n",
      "Score: 0.849 for feature BMI3\n"
     ]
    }
   ],
   "source": [
    "for n,s in zip(X_train_num.columns, fs_num.scores_):\n",
    "    print('Score: %.3f for feature %s' % (s,n))"
   ]
  },
  {
   "cell_type": "code",
   "execution_count": 100,
   "metadata": {},
   "outputs": [],
   "source": [
    "# result_num = []\n",
    "# for n,s in zip(X_train_num.columns, fs_num.scores_):\n",
    "#     if s > 1:\n",
    "#         result_num.append(n)\n",
    "#         print('Score: %.3f for feature %s' % (s,n))\n",
    "#     else:\n",
    "#         print('Score: %.3f for feature %s' % (s,n))"
   ]
  },
  {
   "cell_type": "code",
   "execution_count": 101,
   "metadata": {},
   "outputs": [],
   "source": [
    "result_num = list_num"
   ]
  },
  {
   "cell_type": "code",
   "execution_count": 102,
   "metadata": {},
   "outputs": [],
   "source": [
    "# result_num"
   ]
  },
  {
   "cell_type": "code",
   "execution_count": 103,
   "metadata": {},
   "outputs": [],
   "source": [
    "# for i in range(len(fs_num.scores_)):\n",
    "#     print('Feature %d: %f' % (i, fs_num.scores_[i]))"
   ]
  },
  {
   "cell_type": "code",
   "execution_count": 104,
   "metadata": {},
   "outputs": [
    {
     "data": {
      "image/png": "[encoded data removed]",
      "text/plain": [
       "<Figure size 432x288 with 1 Axes>"
      ]
     },
     "metadata": {
      "needs_background": "light"
     },
     "output_type": "display_data"
    }
   ],
   "source": [
    "plt.bar([i for i in range(len(fs_num.scores_))], fs_num.scores_)\n",
    "plt.xticks(range(4), ['NUMBER_TUMOURS','AGE_MEAN','CANCER_YEARS_MEAN','BMI3'], rotation = 90)\n",
    "plt.show()"
   ]
  },
  {
   "cell_type": "code",
   "execution_count": 105,
   "metadata": {},
   "outputs": [
    {
     "data": {
      "text/plain": [
       "SelectKBest(k='all', score_func=<function chi2 at 0x7ff5ad98d560>)"
      ]
     },
     "execution_count": 105,
     "metadata": {},
     "output_type": "execute_result"
    }
   ],
   "source": [
    "fs_cat = SelectKBest(score_func = chi2, k = 'all')\n",
    "fs_cat.fit(X_train_cat, y_train)\n",
    "# X_train_fs_cat = fs_cat.transform(X_train_cat)\n",
    "# X_test_fs_cat = fs_cat.transform(X_test_cat)"
   ]
  },
  {
   "cell_type": "code",
   "execution_count": 106,
   "metadata": {},
   "outputs": [],
   "source": [
    "limit = 8"
   ]
  },
  {
   "cell_type": "code",
   "execution_count": 107,
   "metadata": {},
   "outputs": [
    {
     "data": {
      "image/png": "[encoded data removed]",
      "text/plain": [
       "<Figure size 1440x720 with 1 Axes>"
      ]
     },
     "metadata": {
      "needs_background": "light"
     },
     "output_type": "display_data"
    }
   ],
   "source": [
    "plt.figure(figsize=(20,10))\n",
    "plt.bar([i for i in range(len(fs_cat.scores_))], fs_cat.scores_)\n",
    "plt.xticks(range(102), ['SC500','SC501','SC502','SC503','SC504','SC505','SC506','SC508',\n",
    " 'BEH_BENIGN','BEH_MALIG','BEH_MICINV','BEH_INSITU','BEH_UNCERT','T0','T1','T2','T3','T4',\n",
    " 'N0','N1','N2','N3','M1','STAGE0','STAGE1','STAGE2','STAGE3','STAGE4',\n",
    " 'GRADE1','GRADE2','GRADE3','GRADE4','L0801','L1001','L1701',\n",
    " 'L0201','L0401','L1201','L0301','L0901','ER_POS','PR_POS','HER_POS',\n",
    " 'CURATIVE','NONCURATIVE','NOACTTREAT','ECOG0','ECOG1','ECOG2','ECOG3','ECOG4','ACE0','ACE1',\n",
    " 'ACE2','ACE3','LEFT','RIGHT','MIDLINE','BILATERAL','DEPR1','DEPR2','DEPR3','DEPR4','DEPR5',\n",
    " 'NEOADJUVANT','DIAGNOSTIC','PALLIATIVE','CURATIVE','ADJUVANT','DISEASE_MOD','STAGING','CT_YES','CHEM_RAD_YES',\n",
    " 'CHEMOTHERAPY2','TARGETED2','CHEM_TARG2','CHEM_RADIO2','TARG_RADIO2','CHEM_RADIO_TARG2','HORM_TARG2',\n",
    " 'HORMONE2','OTHER2','SEX_F','SEX_M','ETHNICITY_Asian Bangladeshi','ETHNICITY_Asian Indian',\n",
    " 'ETHNICITY_Asian Pakistani','ETHNICITY_Black African','ETHNICITY_Black Caribbean','ETHNICITY_Chinese',\n",
    " 'ETHNICITY_Mixed white and Asian','ETHNICITY_Mixed white and black African','ETHNICITY_Other',\n",
    " 'ETHNICITY_Other Asian background','ETHNICITY_Other black background','ETHNICITY_Other ethnic group',\n",
    " 'ETHNICITY_Other mixed background','ETHNICITY_Other white background','ETHNICITY_White',\n",
    " 'ETHNICITY_White British','ETHNICITY_White Irish','ETHNICITY_White and black Caribbean'], rotation = 90)\n",
    "plt.axhline(y = limit, color = 'red')\n",
    "plt.gca().set_yscale('log')\n",
    "plt.show()"
   ]
  },
  {
   "cell_type": "code",
   "execution_count": 108,
   "metadata": {},
   "outputs": [
    {
     "name": "stdout",
     "output_type": "stream",
     "text": [
      "Score: 0.014 for feature SC500\n",
      "Score: 0.262 for feature SC501\n",
      "Score: 0.008 for feature SC502\n",
      "Score: 0.401 for feature SC503\n",
      "Score: 0.876 for feature SC504\n",
      "Score: 0.036 for feature SC505\n",
      "Score: 0.284 for feature SC506\n",
      "Score: 1.995 for feature SC508\n",
      "Score: 0.157 for feature BEH_BENIGN\n",
      "Score: 0.010 for feature BEH_MALIG\n",
      "Score: 0.456 for feature BEH_MICINV\n",
      "Score: 3.489 for feature BEH_INSITU\n",
      "Score: 0.537 for feature BEH_UNCERT\n",
      "Score: 0.826 for feature T0\n",
      "Score: 189.645 for feature T1\n",
      "Score: 11.673 for feature T2\n",
      "Score: 13.366 for feature T3\n",
      "Score: 164.221 for feature T4\n",
      "Score: 190.574 for feature N0\n",
      "Score: 0.748 for feature N1\n",
      "Score: 2.520 for feature N2\n",
      "Score: 47.813 for feature N3\n",
      "Score: 1211.387 for feature M1\n",
      "Score: 0.104 for feature STAGE0\n",
      "Score: 229.058 for feature STAGE1\n",
      "Score: 53.889 for feature STAGE2\n",
      "Score: 10.015 for feature STAGE3\n",
      "Score: 1276.170 for feature STAGE4\n",
      "Score: 0.000 for feature GRADE1\n",
      "Score: 3.180 for feature GRADE2\n",
      "Score: 0.016 for feature GRADE3\n",
      "Score: 0.616 for feature GRADE4\n",
      "Score: 0.234 for feature L0801\n",
      "Score: 0.264 for feature L1001\n",
      "Score: 0.279 for feature L1701\n",
      "Score: 1.731 for feature L0201\n",
      "Score: 0.231 for feature L0401\n",
      "Score: 0.634 for feature L1201\n",
      "Score: 0.022 for feature L0301\n",
      "Score: 1.734 for feature L0901\n",
      "Score: 2.794 for feature ER_POS\n",
      "Score: 0.021 for feature PR_POS\n",
      "Score: 2.663 for feature HER_POS\n",
      "Score: 0.792 for feature CURATIVE\n",
      "Score: 0.792 for feature CURATIVE\n",
      "Score: 0.792 for feature CURATIVE\n",
      "Score: 0.792 for feature CURATIVE\n",
      "Score: 0.643 for feature NONCURATIVE\n",
      "Score: 0.007 for feature NOACTTREAT\n",
      "Score: 2.817 for feature ECOG0\n",
      "Score: 0.795 for feature ECOG1\n",
      "Score: 2.600 for feature ECOG2\n",
      "Score: 0.326 for feature ECOG3\n",
      "Score: 0.412 for feature ECOG4\n",
      "Score: 0.046 for feature ACE0\n",
      "Score: 0.382 for feature ACE1\n",
      "Score: 1.015 for feature ACE2\n",
      "Score: 0.692 for feature ACE3\n",
      "Score: 0.062 for feature LEFT\n",
      "Score: 0.942 for feature RIGHT\n",
      "Score: 0.236 for feature MIDLINE\n",
      "Score: 0.118 for feature BILATERAL\n",
      "Score: 0.305 for feature DEPR1\n",
      "Score: 0.105 for feature DEPR2\n",
      "Score: 1.639 for feature DEPR3\n",
      "Score: 2.562 for feature DEPR4\n",
      "Score: 0.242 for feature DEPR5\n",
      "Score: 1.038 for feature NEOADJUVANT\n",
      "Score: 0.092 for feature DIAGNOSTIC\n",
      "Score: 3.965 for feature PALLIATIVE\n",
      "Score: 0.792 for feature CURATIVE\n",
      "Score: 0.792 for feature CURATIVE\n",
      "Score: 0.792 for feature CURATIVE\n",
      "Score: 0.792 for feature CURATIVE\n",
      "Score: 0.006 for feature ADJUVANT\n",
      "Score: 0.057 for feature DISEASE_MOD\n",
      "Score: 0.039 for feature STAGING\n",
      "Score: 0.380 for feature CT_YES\n",
      "Score: 0.542 for feature CHEM_RAD_YES\n",
      "Score: 2.192 for feature CHEMOTHERAPY2\n",
      "Score: 1.830 for feature TARGETED2\n",
      "Score: 0.724 for feature CHEM_TARG2\n",
      "Score: 0.842 for feature CHEM_RADIO2\n",
      "Score: 0.092 for feature TARG_RADIO2\n",
      "Score: nan for feature CHEM_RADIO_TARG2\n",
      "Score: 0.214 for feature HORM_TARG2\n",
      "Score: 0.205 for feature HORMONE2\n",
      "Score: 0.056 for feature OTHER2\n",
      "Score: 1.082 for feature SEX_F\n",
      "Score: 77.603 for feature SEX_M\n",
      "Score: 3.556 for feature ETHNICITY_Asian Bangladeshi\n",
      "Score: 1.209 for feature ETHNICITY_Asian Indian\n",
      "Score: 1.517 for feature ETHNICITY_Asian Pakistani\n",
      "Score: 0.178 for feature ETHNICITY_Black African\n",
      "Score: 0.064 for feature ETHNICITY_Black Caribbean\n",
      "Score: 0.151 for feature ETHNICITY_Chinese\n",
      "Score: 1.088 for feature ETHNICITY_Mixed white and Asian\n",
      "Score: 1.500 for feature ETHNICITY_Mixed white and black African\n",
      "Score: 37.148 for feature ETHNICITY_Other\n",
      "Score: 0.014 for feature ETHNICITY_Other Asian background\n",
      "Score: 0.017 for feature ETHNICITY_Other black background\n",
      "Score: 0.004 for feature ETHNICITY_Other ethnic group\n",
      "Score: 0.632 for feature ETHNICITY_Other mixed background\n",
      "Score: 0.403 for feature ETHNICITY_Other white background\n",
      "Score: 0.144 for feature ETHNICITY_White\n",
      "Score: 0.018 for feature ETHNICITY_White British\n",
      "Score: 0.007 for feature ETHNICITY_White Irish\n",
      "Score: 1.180 for feature ETHNICITY_White and black Caribbean\n"
     ]
    }
   ],
   "source": [
    "# what are scores for the features\n",
    "result_cat = []\n",
    "for n,s in zip(X_train_cat.columns, fs_cat.scores_):\n",
    "    if s > limit:\n",
    "        result_cat.append(n)\n",
    "        print('Score: %.3f for feature %s' % (s,n))\n",
    "    else:\n",
    "        print('Score: %.3f for feature %s' % (s,n))"
   ]
  },
  {
   "cell_type": "code",
   "execution_count": 109,
   "metadata": {},
   "outputs": [
    {
     "data": {
      "text/plain": [
       "['T1',\n",
       " 'T2',\n",
       " 'T3',\n",
       " 'T4',\n",
       " 'N0',\n",
       " 'N3',\n",
       " 'M1',\n",
       " 'STAGE1',\n",
       " 'STAGE2',\n",
       " 'STAGE3',\n",
       " 'STAGE4',\n",
       " 'SEX_M',\n",
       " 'ETHNICITY_Other']"
      ]
     },
     "execution_count": 109,
     "metadata": {},
     "output_type": "execute_result"
    }
   ],
   "source": [
    "result_cat "
   ]
  },
  {
   "cell_type": "code",
   "execution_count": 110,
   "metadata": {},
   "outputs": [
    {
     "data": {
      "text/plain": [
       "(84548, 108)"
      ]
     },
     "execution_count": 110,
     "metadata": {},
     "output_type": "execute_result"
    }
   ],
   "source": [
    "X_train.shape"
   ]
  },
  {
   "cell_type": "code",
   "execution_count": 111,
   "metadata": {},
   "outputs": [],
   "source": [
    "columns = result_num + result_cat"
   ]
  },
  {
   "cell_type": "code",
   "execution_count": 112,
   "metadata": {},
   "outputs": [],
   "source": [
    "X_train = X_train[columns]"
   ]
  },
  {
   "cell_type": "code",
   "execution_count": 113,
   "metadata": {},
   "outputs": [
    {
     "data": {
      "text/plain": [
       "(84548, 17)"
      ]
     },
     "execution_count": 113,
     "metadata": {},
     "output_type": "execute_result"
    }
   ],
   "source": [
    "X_train.shape"
   ]
  },
  {
   "cell_type": "code",
   "execution_count": 114,
   "metadata": {},
   "outputs": [
    {
     "data": {
      "text/plain": [
       "(21138, 108)"
      ]
     },
     "execution_count": 114,
     "metadata": {},
     "output_type": "execute_result"
    }
   ],
   "source": [
    "X_test.shape"
   ]
  },
  {
   "cell_type": "code",
   "execution_count": 115,
   "metadata": {},
   "outputs": [],
   "source": [
    "X_test = X_test[columns]"
   ]
  },
  {
   "cell_type": "code",
   "execution_count": 116,
   "metadata": {},
   "outputs": [
    {
     "data": {
      "text/plain": [
       "(21138, 17)"
      ]
     },
     "execution_count": 116,
     "metadata": {},
     "output_type": "execute_result"
    }
   ],
   "source": [
    "X_test.shape"
   ]
  },
  {
   "cell_type": "code",
   "execution_count": 223,
   "metadata": {},
   "outputs": [],
   "source": [
    "logr = LogisticRegression(class_weight='balanced', solver='lbfgs', max_iter=1000) "
   ]
  },
  {
   "cell_type": "code",
   "execution_count": 224,
   "metadata": {},
   "outputs": [
    {
     "data": {
      "text/plain": [
       "LogisticRegression(C=1.0, class_weight='balanced', dual=False,\n",
       "                   fit_intercept=True, intercept_scaling=1, l1_ratio=None,\n",
       "                   max_iter=1000, multi_class='warn', n_jobs=None, penalty='l2',\n",
       "                   random_state=None, solver='lbfgs', tol=0.0001, verbose=0,\n",
       "                   warm_start=False)"
      ]
     },
     "execution_count": 224,
     "metadata": {},
     "output_type": "execute_result"
    }
   ],
   "source": [
    "logr.fit(X_train, y_train)"
   ]
  },
  {
   "cell_type": "code",
   "execution_count": 127,
   "metadata": {},
   "outputs": [
    {
     "name": "stdout",
     "output_type": "stream",
     "text": [
      "Recall: 0.810\n",
      "Precision: 0.059\n",
      "F1-score: 0.110\n"
     ]
    }
   ],
   "source": [
    "cv = 3\n",
    "recall_logr = cross_val_score(logr, X_train, y_train, cv=cv, scoring=\"recall\").mean()\n",
    "precision_logr = cross_val_score(logr, X_train, y_train, cv=cv, scoring=\"precision\").mean()\n",
    "f1_logr = cross_val_score(logr, X_train, y_train, cv=cv, scoring=\"f1\").mean()\n",
    "print('Recall: %.3f' % recall_logr)\n",
    "print('Precision: %.3f' % precision_logr)\n",
    "print('F1-score: %.3f' % f1_logr)"
   ]
  },
  {
   "cell_type": "code",
   "execution_count": 53,
   "metadata": {},
   "outputs": [],
   "source": [
    "# print('Best accuracy score: %.3f' % logr_grid.best_score_) \n",
    "# print('Best parameters: %s' % logr_grid.best_params_)"
   ]
  },
  {
   "cell_type": "code",
   "execution_count": 54,
   "metadata": {},
   "outputs": [],
   "source": [
    "# logr_grid = GridSearchCV(LogisticRegression(class_weight = 'balanced'), param_grid = {'C': [0.001, 0.01, 0.1, 1, 10, 100, 1000]},\n",
    "#                         cv = 5, scoring = 'recall')   "
   ]
  },
  {
   "cell_type": "code",
   "execution_count": 55,
   "metadata": {},
   "outputs": [],
   "source": [
    "# logr_grid.fit(X_train,y_train)"
   ]
  },
  {
   "cell_type": "code",
   "execution_count": 56,
   "metadata": {},
   "outputs": [],
   "source": [
    "# print('Best recall score: %.3f' % logr_grid.best_score_) \n",
    "# print('Best parameters: %s' % logr_grid.best_params_)"
   ]
  },
  {
   "cell_type": "code",
   "execution_count": 213,
   "metadata": {},
   "outputs": [],
   "source": [
    "logr_grid = GridSearchCV(logr, param_grid = {'C': [0.001, 0.01, 0.1, 1, 10, 100, 1000]},\n",
    "                        cv = 3, scoring = 'precision') "
   ]
  },
  {
   "cell_type": "code",
   "execution_count": 214,
   "metadata": {},
   "outputs": [
    {
     "data": {
      "text/plain": [
       "GridSearchCV(cv=3, error_score='raise-deprecating',\n",
       "             estimator=LogisticRegression(C=1.0, class_weight='balanced',\n",
       "                                          dual=False, fit_intercept=True,\n",
       "                                          intercept_scaling=1, l1_ratio=None,\n",
       "                                          max_iter=1000, multi_class='warn',\n",
       "                                          n_jobs=None, penalty='l2',\n",
       "                                          random_state=None, solver='lbfgs',\n",
       "                                          tol=0.0001, verbose=0,\n",
       "                                          warm_start=False),\n",
       "             iid='warn', n_jobs=None,\n",
       "             param_grid={'C': [0.001, 0.01, 0.1, 1, 10, 100, 1000]},\n",
       "             pre_dispatch='2*n_jobs', refit=True, return_train_score=False,\n",
       "             scoring='precision', verbose=0)"
      ]
     },
     "execution_count": 214,
     "metadata": {},
     "output_type": "execute_result"
    }
   ],
   "source": [
    "logr_grid.fit(X_train,y_train)"
   ]
  },
  {
   "cell_type": "code",
   "execution_count": 215,
   "metadata": {},
   "outputs": [
    {
     "name": "stdout",
     "output_type": "stream",
     "text": [
      "Best precision score: 0.059\n",
      "Best parameters: {'C': 100}\n"
     ]
    }
   ],
   "source": [
    "print('Best precision score: %.3f' % logr_grid.best_score_) \n",
    "print('Best parameters: %s' % logr_grid.best_params_)"
   ]
  },
  {
   "cell_type": "code",
   "execution_count": 60,
   "metadata": {},
   "outputs": [],
   "source": [
    "# logr_grid = GridSearchCV(LogisticRegression(class_weight = 'balanced'), param_grid = {'C': [0.001, 0.01, 0.1, 1, 10, 100, 1000]},\n",
    "#                         cv = 5, scoring = 'f1') "
   ]
  },
  {
   "cell_type": "code",
   "execution_count": 61,
   "metadata": {},
   "outputs": [],
   "source": [
    "# sorted(sklearn.metrics.SCORERS.keys())"
   ]
  },
  {
   "cell_type": "code",
   "execution_count": 62,
   "metadata": {},
   "outputs": [],
   "source": [
    "# logr_grid.fit(X_train,y_train)"
   ]
  },
  {
   "cell_type": "code",
   "execution_count": 63,
   "metadata": {},
   "outputs": [],
   "source": [
    "# print('Best F-score: %.3f' % logr_grid.best_score_) \n",
    "# print('Best parameters: %s' % logr_grid.best_params_)"
   ]
  },
  {
   "cell_type": "code",
   "execution_count": 64,
   "metadata": {},
   "outputs": [],
   "source": [
    "# logr_grid = GridSearchCV(LogisticRegression(class_weight = 'balanced'), param_grid = {'C': [0.001, 0.01, 0.1, 1, 10, 100, 1000]},\n",
    "#                         cv = 5, scoring = 'roc_auc') "
   ]
  },
  {
   "cell_type": "code",
   "execution_count": 65,
   "metadata": {},
   "outputs": [],
   "source": [
    "# logr_grid.fit(X_train,y_train)"
   ]
  },
  {
   "cell_type": "code",
   "execution_count": 66,
   "metadata": {},
   "outputs": [],
   "source": [
    "# print('Best roc_auc score: %.3f' % logr_grid.best_score_) \n",
    "# print('Best parameters: %s' % logr_grid.best_params_)"
   ]
  },
  {
   "cell_type": "code",
   "execution_count": 129,
   "metadata": {},
   "outputs": [],
   "source": [
    "y_predicted = logr.predict(X_test)"
   ]
  },
  {
   "cell_type": "code",
   "execution_count": 133,
   "metadata": {},
   "outputs": [
    {
     "data": {
      "text/plain": [
       "['NUMBER_TUMOURS',\n",
       " 'AGE_MEAN',\n",
       " 'CANCER_YEARS_MEAN',\n",
       " 'BMI3',\n",
       " 'T1',\n",
       " 'T2',\n",
       " 'T3',\n",
       " 'T4',\n",
       " 'N0',\n",
       " 'N3',\n",
       " 'M1',\n",
       " 'STAGE1',\n",
       " 'STAGE2',\n",
       " 'STAGE3',\n",
       " 'STAGE4',\n",
       " 'SEX_M',\n",
       " 'ETHNICITY_Other',\n",
       " 'DEAD']"
      ]
     },
     "execution_count": 133,
     "metadata": {},
     "output_type": "execute_result"
    }
   ],
   "source": [
    "columns"
   ]
  },
  {
   "cell_type": "code",
   "execution_count": 134,
   "metadata": {},
   "outputs": [],
   "source": [
    "y_predicted_df = pd.DataFrame(data = y_predicted, columns = ['y_predicted'], index = X_test.index.copy())\n",
    "df_logr = pd.merge(df[columns], \n",
    "  y_predicted_df, how = 'left', left_index = True, right_index = True)"
   ]
  },
  {
   "cell_type": "code",
   "execution_count": 135,
   "metadata": {},
   "outputs": [
    {
     "data": {
      "text/plain": [
       "NUMBER_TUMOURS       3617\n",
       "AGE_MEAN             3617\n",
       "CANCER_YEARS_MEAN    3617\n",
       "BMI3                 3617\n",
       "T1                   3617\n",
       "T2                   3617\n",
       "T3                   3617\n",
       "T4                   3617\n",
       "N0                   3617\n",
       "N3                   3617\n",
       "M1                   3617\n",
       "STAGE1               3617\n",
       "STAGE2               3617\n",
       "STAGE3               3617\n",
       "STAGE4               3617\n",
       "SEX_M                3617\n",
       "ETHNICITY_Other      3617\n",
       "DEAD                 3617\n",
       "y_predicted          3617\n",
       "dtype: int64"
      ]
     },
     "execution_count": 135,
     "metadata": {},
     "output_type": "execute_result"
    }
   ],
   "source": [
    "df_logr[((df_logr['DEAD'] == 0) & (df_logr['y_predicted'] == 1)) | ((df_logr['DEAD'] == 1) & (df_logr['y_predicted'] == 0))].count()"
   ]
  },
  {
   "cell_type": "code",
   "execution_count": 136,
   "metadata": {},
   "outputs": [],
   "source": [
    "wrong_logr = df_logr[((df_logr['DEAD'] == 0) & (df_logr['y_predicted'] == 1)) | ((df_logr['DEAD'] == 1) & (df_logr['y_predicted'] == 0))]"
   ]
  },
  {
   "cell_type": "code",
   "execution_count": 137,
   "metadata": {},
   "outputs": [
    {
     "data": {
      "text/html": [
       "<div>\n",
       "<style scoped>\n",
       "    .dataframe tbody tr th:only-of-type {\n",
       "        vertical-align: middle;\n",
       "    }\n",
       "\n",
       "    .dataframe tbody tr th {\n",
       "        vertical-align: top;\n",
       "    }\n",
       "\n",
       "    .dataframe thead th {\n",
       "        text-align: right;\n",
       "    }\n",
       "</style>\n",
       "<table border=\"1\" class=\"dataframe\">\n",
       "  <thead>\n",
       "    <tr style=\"text-align: right;\">\n",
       "      <th></th>\n",
       "      <th>NUMBER_TUMOURS</th>\n",
       "      <th>AGE_MEAN</th>\n",
       "      <th>CANCER_YEARS_MEAN</th>\n",
       "      <th>BMI3</th>\n",
       "      <th>T1</th>\n",
       "      <th>T2</th>\n",
       "      <th>T3</th>\n",
       "      <th>T4</th>\n",
       "      <th>N0</th>\n",
       "      <th>N3</th>\n",
       "      <th>M1</th>\n",
       "      <th>STAGE1</th>\n",
       "      <th>STAGE2</th>\n",
       "      <th>STAGE3</th>\n",
       "      <th>STAGE4</th>\n",
       "      <th>SEX_M</th>\n",
       "      <th>ETHNICITY_Other</th>\n",
       "      <th>DEAD</th>\n",
       "      <th>y_predicted</th>\n",
       "    </tr>\n",
       "  </thead>\n",
       "  <tbody>\n",
       "    <tr>\n",
       "      <td>5</td>\n",
       "      <td>1</td>\n",
       "      <td>93.0</td>\n",
       "      <td>1.177300</td>\n",
       "      <td>27.325078</td>\n",
       "      <td>True</td>\n",
       "      <td>False</td>\n",
       "      <td>False</td>\n",
       "      <td>False</td>\n",
       "      <td>False</td>\n",
       "      <td>False</td>\n",
       "      <td>False</td>\n",
       "      <td>False</td>\n",
       "      <td>True</td>\n",
       "      <td>False</td>\n",
       "      <td>False</td>\n",
       "      <td>1</td>\n",
       "      <td>0</td>\n",
       "      <td>0</td>\n",
       "      <td>1.0</td>\n",
       "    </tr>\n",
       "    <tr>\n",
       "      <td>10</td>\n",
       "      <td>1</td>\n",
       "      <td>50.0</td>\n",
       "      <td>1.681075</td>\n",
       "      <td>27.325078</td>\n",
       "      <td>False</td>\n",
       "      <td>False</td>\n",
       "      <td>False</td>\n",
       "      <td>True</td>\n",
       "      <td>False</td>\n",
       "      <td>True</td>\n",
       "      <td>True</td>\n",
       "      <td>False</td>\n",
       "      <td>False</td>\n",
       "      <td>False</td>\n",
       "      <td>True</td>\n",
       "      <td>1</td>\n",
       "      <td>0</td>\n",
       "      <td>0</td>\n",
       "      <td>1.0</td>\n",
       "    </tr>\n",
       "    <tr>\n",
       "      <td>17</td>\n",
       "      <td>1</td>\n",
       "      <td>82.0</td>\n",
       "      <td>2.398407</td>\n",
       "      <td>27.325078</td>\n",
       "      <td>False</td>\n",
       "      <td>False</td>\n",
       "      <td>False</td>\n",
       "      <td>False</td>\n",
       "      <td>False</td>\n",
       "      <td>False</td>\n",
       "      <td>False</td>\n",
       "      <td>False</td>\n",
       "      <td>False</td>\n",
       "      <td>False</td>\n",
       "      <td>False</td>\n",
       "      <td>1</td>\n",
       "      <td>0</td>\n",
       "      <td>0</td>\n",
       "      <td>1.0</td>\n",
       "    </tr>\n",
       "    <tr>\n",
       "      <td>19</td>\n",
       "      <td>1</td>\n",
       "      <td>91.0</td>\n",
       "      <td>1.708454</td>\n",
       "      <td>27.325078</td>\n",
       "      <td>False</td>\n",
       "      <td>True</td>\n",
       "      <td>False</td>\n",
       "      <td>False</td>\n",
       "      <td>False</td>\n",
       "      <td>False</td>\n",
       "      <td>False</td>\n",
       "      <td>False</td>\n",
       "      <td>True</td>\n",
       "      <td>False</td>\n",
       "      <td>False</td>\n",
       "      <td>1</td>\n",
       "      <td>0</td>\n",
       "      <td>0</td>\n",
       "      <td>1.0</td>\n",
       "    </tr>\n",
       "    <tr>\n",
       "      <td>21</td>\n",
       "      <td>1</td>\n",
       "      <td>82.0</td>\n",
       "      <td>1.724881</td>\n",
       "      <td>27.325078</td>\n",
       "      <td>False</td>\n",
       "      <td>False</td>\n",
       "      <td>False</td>\n",
       "      <td>False</td>\n",
       "      <td>False</td>\n",
       "      <td>False</td>\n",
       "      <td>True</td>\n",
       "      <td>False</td>\n",
       "      <td>False</td>\n",
       "      <td>False</td>\n",
       "      <td>False</td>\n",
       "      <td>1</td>\n",
       "      <td>0</td>\n",
       "      <td>0</td>\n",
       "      <td>1.0</td>\n",
       "    </tr>\n",
       "  </tbody>\n",
       "</table>\n",
       "</div>"
      ],
      "text/plain": [
       "    NUMBER_TUMOURS  AGE_MEAN  CANCER_YEARS_MEAN       BMI3     T1     T2  \\\n",
       "5                1      93.0           1.177300  27.325078   True  False   \n",
       "10               1      50.0           1.681075  27.325078  False  False   \n",
       "17               1      82.0           2.398407  27.325078  False  False   \n",
       "19               1      91.0           1.708454  27.325078  False   True   \n",
       "21               1      82.0           1.724881  27.325078  False  False   \n",
       "\n",
       "       T3     T4     N0     N3     M1  STAGE1  STAGE2  STAGE3  STAGE4  SEX_M  \\\n",
       "5   False  False  False  False  False   False    True   False   False      1   \n",
       "10  False   True  False   True   True   False   False   False    True      1   \n",
       "17  False  False  False  False  False   False   False   False   False      1   \n",
       "19  False  False  False  False  False   False    True   False   False      1   \n",
       "21  False  False  False  False   True   False   False   False   False      1   \n",
       "\n",
       "    ETHNICITY_Other  DEAD  y_predicted  \n",
       "5                 0     0          1.0  \n",
       "10                0     0          1.0  \n",
       "17                0     0          1.0  \n",
       "19                0     0          1.0  \n",
       "21                0     0          1.0  "
      ]
     },
     "execution_count": 137,
     "metadata": {},
     "output_type": "execute_result"
    }
   ],
   "source": [
    "wrong_logr.head()"
   ]
  },
  {
   "cell_type": "code",
   "execution_count": 138,
   "metadata": {},
   "outputs": [
    {
     "data": {
      "text/plain": [
       "count    3617.000000\n",
       "mean        1.534090\n",
       "std         0.436008\n",
       "min         0.947316\n",
       "25%         1.215631\n",
       "50%         1.415498\n",
       "75%         1.700240\n",
       "max         3.775574\n",
       "Name: CANCER_YEARS_MEAN, dtype: float64"
      ]
     },
     "execution_count": 138,
     "metadata": {},
     "output_type": "execute_result"
    }
   ],
   "source": [
    "wrong_logr['CANCER_YEARS_MEAN'].describe()"
   ]
  },
  {
   "cell_type": "code",
   "execution_count": 139,
   "metadata": {},
   "outputs": [
    {
     "data": {
      "text/plain": [
       "count    3617.000000\n",
       "mean       65.002995\n",
       "std        14.956984\n",
       "min        17.000000\n",
       "25%        53.000000\n",
       "50%        66.000000\n",
       "75%        77.000000\n",
       "max       105.000000\n",
       "Name: AGE_MEAN, dtype: float64"
      ]
     },
     "execution_count": 139,
     "metadata": {},
     "output_type": "execute_result"
    }
   ],
   "source": [
    "wrong_logr['AGE_MEAN'].describe()"
   ]
  },
  {
   "cell_type": "code",
   "execution_count": 140,
   "metadata": {},
   "outputs": [
    {
     "data": {
      "text/plain": [
       "count    3617.000000\n",
       "mean       27.479191\n",
       "std         2.573283\n",
       "min        13.867187\n",
       "25%        27.325078\n",
       "50%        27.325078\n",
       "75%        27.325078\n",
       "max        53.795340\n",
       "Name: BMI3, dtype: float64"
      ]
     },
     "execution_count": 140,
     "metadata": {},
     "output_type": "execute_result"
    }
   ],
   "source": [
    "wrong_logr['BMI3'].describe()"
   ]
  },
  {
   "cell_type": "code",
   "execution_count": 141,
   "metadata": {},
   "outputs": [
    {
     "data": {
      "text/plain": [
       "1    3571\n",
       "2      45\n",
       "3       1\n",
       "Name: NUMBER_TUMOURS, dtype: int64"
      ]
     },
     "execution_count": 141,
     "metadata": {},
     "output_type": "execute_result"
    }
   ],
   "source": [
    "wrong_logr['NUMBER_TUMOURS'].value_counts()"
   ]
  },
  {
   "cell_type": "code",
   "execution_count": 142,
   "metadata": {},
   "outputs": [
    {
     "data": {
      "text/plain": [
       "0    3481\n",
       "1     136\n",
       "Name: SEX_M, dtype: int64"
      ]
     },
     "execution_count": 142,
     "metadata": {},
     "output_type": "execute_result"
    }
   ],
   "source": [
    "wrong_logr['SEX_M'].value_counts()"
   ]
  },
  {
   "cell_type": "code",
   "execution_count": 144,
   "metadata": {},
   "outputs": [],
   "source": [
    "# wrong_logr['ER_POS'].value_counts()"
   ]
  },
  {
   "cell_type": "code",
   "execution_count": 145,
   "metadata": {},
   "outputs": [],
   "source": [
    "# wrong_logr['HER_POS'].value_counts()"
   ]
  },
  {
   "cell_type": "code",
   "execution_count": 147,
   "metadata": {},
   "outputs": [],
   "source": [
    "# wrong_logr['RIGHT'].value_counts()"
   ]
  },
  {
   "cell_type": "code",
   "execution_count": 149,
   "metadata": {},
   "outputs": [],
   "source": [
    "# wrong_logr['CHEM_RADIO2'].value_counts()"
   ]
  },
  {
   "cell_type": "code",
   "execution_count": 151,
   "metadata": {},
   "outputs": [],
   "source": [
    "# wrong_logr['BEH_BENIGN'].value_counts()"
   ]
  },
  {
   "cell_type": "code",
   "execution_count": 154,
   "metadata": {},
   "outputs": [],
   "source": [
    "# wrong_logr['BEH_INSITU'].value_counts()"
   ]
  },
  {
   "cell_type": "code",
   "execution_count": 155,
   "metadata": {},
   "outputs": [
    {
     "data": {
      "text/plain": [
       "False    2900\n",
       "True      717\n",
       "Name: T1, dtype: int64"
      ]
     },
     "execution_count": 155,
     "metadata": {},
     "output_type": "execute_result"
    }
   ],
   "source": [
    "wrong_logr['T1'].value_counts()"
   ]
  },
  {
   "cell_type": "code",
   "execution_count": 156,
   "metadata": {},
   "outputs": [
    {
     "data": {
      "text/plain": [
       "False    2237\n",
       "True     1380\n",
       "Name: T2, dtype: int64"
      ]
     },
     "execution_count": 156,
     "metadata": {},
     "output_type": "execute_result"
    }
   ],
   "source": [
    "wrong_logr['T2'].value_counts()"
   ]
  },
  {
   "cell_type": "code",
   "execution_count": 157,
   "metadata": {},
   "outputs": [
    {
     "data": {
      "text/plain": [
       "False    3292\n",
       "True      325\n",
       "Name: T3, dtype: int64"
      ]
     },
     "execution_count": 157,
     "metadata": {},
     "output_type": "execute_result"
    }
   ],
   "source": [
    "wrong_logr['T3'].value_counts()"
   ]
  },
  {
   "cell_type": "code",
   "execution_count": 158,
   "metadata": {},
   "outputs": [
    {
     "data": {
      "text/plain": [
       "False    3374\n",
       "True      243\n",
       "Name: T4, dtype: int64"
      ]
     },
     "execution_count": 158,
     "metadata": {},
     "output_type": "execute_result"
    }
   ],
   "source": [
    "wrong_logr['T4'].value_counts()"
   ]
  },
  {
   "cell_type": "code",
   "execution_count": 159,
   "metadata": {},
   "outputs": [
    {
     "data": {
      "text/plain": [
       "False    2520\n",
       "True     1097\n",
       "Name: N0, dtype: int64"
      ]
     },
     "execution_count": 159,
     "metadata": {},
     "output_type": "execute_result"
    }
   ],
   "source": [
    "wrong_logr['N0'].value_counts()"
   ]
  },
  {
   "cell_type": "code",
   "execution_count": 160,
   "metadata": {},
   "outputs": [
    {
     "data": {
      "text/plain": [
       "False    3434\n",
       "True      183\n",
       "Name: N3, dtype: int64"
      ]
     },
     "execution_count": 160,
     "metadata": {},
     "output_type": "execute_result"
    }
   ],
   "source": [
    "wrong_logr['N3'].value_counts()"
   ]
  },
  {
   "cell_type": "code",
   "execution_count": 161,
   "metadata": {},
   "outputs": [
    {
     "data": {
      "text/plain": [
       "False    3237\n",
       "True      380\n",
       "Name: M1, dtype: int64"
      ]
     },
     "execution_count": 161,
     "metadata": {},
     "output_type": "execute_result"
    }
   ],
   "source": [
    "wrong_logr['M1'].value_counts()"
   ]
  },
  {
   "cell_type": "code",
   "execution_count": 162,
   "metadata": {},
   "outputs": [
    {
     "data": {
      "text/plain": [
       "False    3300\n",
       "True      317\n",
       "Name: STAGE1, dtype: int64"
      ]
     },
     "execution_count": 162,
     "metadata": {},
     "output_type": "execute_result"
    }
   ],
   "source": [
    "wrong_logr['STAGE1'].value_counts()#"
   ]
  },
  {
   "cell_type": "code",
   "execution_count": 163,
   "metadata": {},
   "outputs": [
    {
     "data": {
      "text/plain": [
       "False    2197\n",
       "True     1420\n",
       "Name: STAGE2, dtype: int64"
      ]
     },
     "execution_count": 163,
     "metadata": {},
     "output_type": "execute_result"
    }
   ],
   "source": [
    "wrong_logr['STAGE2'].value_counts()"
   ]
  },
  {
   "cell_type": "code",
   "execution_count": 164,
   "metadata": {},
   "outputs": [
    {
     "data": {
      "text/plain": [
       "False    3096\n",
       "True      521\n",
       "Name: STAGE3, dtype: int64"
      ]
     },
     "execution_count": 164,
     "metadata": {},
     "output_type": "execute_result"
    }
   ],
   "source": [
    "wrong_logr['STAGE3'].value_counts()"
   ]
  },
  {
   "cell_type": "code",
   "execution_count": 165,
   "metadata": {},
   "outputs": [
    {
     "data": {
      "text/plain": [
       "False    3197\n",
       "True      420\n",
       "Name: STAGE4, dtype: int64"
      ]
     },
     "execution_count": 165,
     "metadata": {},
     "output_type": "execute_result"
    }
   ],
   "source": [
    "wrong_logr['STAGE4'].value_counts()"
   ]
  },
  {
   "cell_type": "code",
   "execution_count": 167,
   "metadata": {},
   "outputs": [],
   "source": [
    "# wrong_logr['ECOG0'].value_counts()"
   ]
  },
  {
   "cell_type": "code",
   "execution_count": 169,
   "metadata": {},
   "outputs": [],
   "source": [
    "# wrong_logr['ECOG2'].value_counts()"
   ]
  },
  {
   "cell_type": "code",
   "execution_count": 171,
   "metadata": {},
   "outputs": [],
   "source": [
    "# wrong_logr['ETHNICITY_Asian Bangladeshi'].value_counts()"
   ]
  },
  {
   "cell_type": "code",
   "execution_count": 172,
   "metadata": {},
   "outputs": [
    {
     "data": {
      "text/plain": [
       "0    3617\n",
       "Name: ETHNICITY_Other, dtype: int64"
      ]
     },
     "execution_count": 172,
     "metadata": {},
     "output_type": "execute_result"
    }
   ],
   "source": [
    "wrong_logr['ETHNICITY_Other'].value_counts()"
   ]
  },
  {
   "cell_type": "code",
   "execution_count": 173,
   "metadata": {},
   "outputs": [
    {
     "data": {
      "text/html": [
       "<div>\n",
       "<style scoped>\n",
       "    .dataframe tbody tr th:only-of-type {\n",
       "        vertical-align: middle;\n",
       "    }\n",
       "\n",
       "    .dataframe tbody tr th {\n",
       "        vertical-align: top;\n",
       "    }\n",
       "\n",
       "    .dataframe thead th {\n",
       "        text-align: right;\n",
       "    }\n",
       "</style>\n",
       "<table border=\"1\" class=\"dataframe\">\n",
       "  <thead>\n",
       "    <tr style=\"text-align: right;\">\n",
       "      <th></th>\n",
       "      <th>NUMBER_TUMOURS</th>\n",
       "      <th>AGE_MEAN</th>\n",
       "      <th>CANCER_YEARS_MEAN</th>\n",
       "      <th>BMI3</th>\n",
       "      <th>T1</th>\n",
       "      <th>T2</th>\n",
       "      <th>T3</th>\n",
       "      <th>T4</th>\n",
       "      <th>N0</th>\n",
       "      <th>N3</th>\n",
       "      <th>M1</th>\n",
       "      <th>STAGE1</th>\n",
       "      <th>STAGE2</th>\n",
       "      <th>STAGE3</th>\n",
       "      <th>STAGE4</th>\n",
       "      <th>SEX_M</th>\n",
       "      <th>ETHNICITY_Other</th>\n",
       "      <th>DEAD</th>\n",
       "      <th>y_predicted</th>\n",
       "    </tr>\n",
       "  </thead>\n",
       "  <tbody>\n",
       "    <tr>\n",
       "      <td>5</td>\n",
       "      <td>1</td>\n",
       "      <td>93.0</td>\n",
       "      <td>1.177300</td>\n",
       "      <td>27.325078</td>\n",
       "      <td>True</td>\n",
       "      <td>False</td>\n",
       "      <td>False</td>\n",
       "      <td>False</td>\n",
       "      <td>False</td>\n",
       "      <td>False</td>\n",
       "      <td>False</td>\n",
       "      <td>False</td>\n",
       "      <td>True</td>\n",
       "      <td>False</td>\n",
       "      <td>False</td>\n",
       "      <td>1</td>\n",
       "      <td>0</td>\n",
       "      <td>0</td>\n",
       "      <td>1.0</td>\n",
       "    </tr>\n",
       "    <tr>\n",
       "      <td>10</td>\n",
       "      <td>1</td>\n",
       "      <td>50.0</td>\n",
       "      <td>1.681075</td>\n",
       "      <td>27.325078</td>\n",
       "      <td>False</td>\n",
       "      <td>False</td>\n",
       "      <td>False</td>\n",
       "      <td>True</td>\n",
       "      <td>False</td>\n",
       "      <td>True</td>\n",
       "      <td>True</td>\n",
       "      <td>False</td>\n",
       "      <td>False</td>\n",
       "      <td>False</td>\n",
       "      <td>True</td>\n",
       "      <td>1</td>\n",
       "      <td>0</td>\n",
       "      <td>0</td>\n",
       "      <td>1.0</td>\n",
       "    </tr>\n",
       "    <tr>\n",
       "      <td>17</td>\n",
       "      <td>1</td>\n",
       "      <td>82.0</td>\n",
       "      <td>2.398407</td>\n",
       "      <td>27.325078</td>\n",
       "      <td>False</td>\n",
       "      <td>False</td>\n",
       "      <td>False</td>\n",
       "      <td>False</td>\n",
       "      <td>False</td>\n",
       "      <td>False</td>\n",
       "      <td>False</td>\n",
       "      <td>False</td>\n",
       "      <td>False</td>\n",
       "      <td>False</td>\n",
       "      <td>False</td>\n",
       "      <td>1</td>\n",
       "      <td>0</td>\n",
       "      <td>0</td>\n",
       "      <td>1.0</td>\n",
       "    </tr>\n",
       "    <tr>\n",
       "      <td>19</td>\n",
       "      <td>1</td>\n",
       "      <td>91.0</td>\n",
       "      <td>1.708454</td>\n",
       "      <td>27.325078</td>\n",
       "      <td>False</td>\n",
       "      <td>True</td>\n",
       "      <td>False</td>\n",
       "      <td>False</td>\n",
       "      <td>False</td>\n",
       "      <td>False</td>\n",
       "      <td>False</td>\n",
       "      <td>False</td>\n",
       "      <td>True</td>\n",
       "      <td>False</td>\n",
       "      <td>False</td>\n",
       "      <td>1</td>\n",
       "      <td>0</td>\n",
       "      <td>0</td>\n",
       "      <td>1.0</td>\n",
       "    </tr>\n",
       "    <tr>\n",
       "      <td>21</td>\n",
       "      <td>1</td>\n",
       "      <td>82.0</td>\n",
       "      <td>1.724881</td>\n",
       "      <td>27.325078</td>\n",
       "      <td>False</td>\n",
       "      <td>False</td>\n",
       "      <td>False</td>\n",
       "      <td>False</td>\n",
       "      <td>False</td>\n",
       "      <td>False</td>\n",
       "      <td>True</td>\n",
       "      <td>False</td>\n",
       "      <td>False</td>\n",
       "      <td>False</td>\n",
       "      <td>False</td>\n",
       "      <td>1</td>\n",
       "      <td>0</td>\n",
       "      <td>0</td>\n",
       "      <td>1.0</td>\n",
       "    </tr>\n",
       "  </tbody>\n",
       "</table>\n",
       "</div>"
      ],
      "text/plain": [
       "    NUMBER_TUMOURS  AGE_MEAN  CANCER_YEARS_MEAN       BMI3     T1     T2  \\\n",
       "5                1      93.0           1.177300  27.325078   True  False   \n",
       "10               1      50.0           1.681075  27.325078  False  False   \n",
       "17               1      82.0           2.398407  27.325078  False  False   \n",
       "19               1      91.0           1.708454  27.325078  False   True   \n",
       "21               1      82.0           1.724881  27.325078  False  False   \n",
       "\n",
       "       T3     T4     N0     N3     M1  STAGE1  STAGE2  STAGE3  STAGE4  SEX_M  \\\n",
       "5   False  False  False  False  False   False    True   False   False      1   \n",
       "10  False   True  False   True   True   False   False   False    True      1   \n",
       "17  False  False  False  False  False   False   False   False   False      1   \n",
       "19  False  False  False  False  False   False    True   False   False      1   \n",
       "21  False  False  False  False   True   False   False   False   False      1   \n",
       "\n",
       "    ETHNICITY_Other  DEAD  y_predicted  \n",
       "5                 0     0          1.0  \n",
       "10                0     0          1.0  \n",
       "17                0     0          1.0  \n",
       "19                0     0          1.0  \n",
       "21                0     0          1.0  "
      ]
     },
     "execution_count": 173,
     "metadata": {},
     "output_type": "execute_result"
    }
   ],
   "source": [
    "wrong_logr.head()"
   ]
  },
  {
   "cell_type": "code",
   "execution_count": 174,
   "metadata": {},
   "outputs": [
    {
     "name": "stdout",
     "output_type": "stream",
     "text": [
      "[[  209    50]\n",
      " [ 3567 17312]]\n"
     ]
    }
   ],
   "source": [
    "logr_confusion_matrix = sklearn.metrics.confusion_matrix(y_test, y_predicted, labels=[True, False]) \n",
    "print(logr_confusion_matrix)"
   ]
  },
  {
   "cell_type": "code",
   "execution_count": 175,
   "metadata": {},
   "outputs": [
    {
     "name": "stdout",
     "output_type": "stream",
     "text": [
      "True positives: 209\n",
      "True negatives: 17312\n",
      "False positives: 3567\n",
      "False negatives: 50\n"
     ]
    }
   ],
   "source": [
    "true_positives, false_negatives, false_positives, true_negatives = logr_confusion_matrix.ravel()\n",
    "print('True positives: %d' % true_positives)\n",
    "print('True negatives: %d' % true_negatives)\n",
    "print('False positives: %d' % false_positives)\n",
    "print('False negatives: %d' % false_negatives)"
   ]
  },
  {
   "cell_type": "code",
   "execution_count": 187,
   "metadata": {},
   "outputs": [],
   "source": [
    "from matplotlib.colors import LogNorm\n",
    "\n",
    "def plot_confusion_matrix(logr_confusion_matrix, target_names=['Dead', 'Alive'], \n",
    "        title='Confusion matrix'):    \n",
    "            fig, ax = plt.subplots()    \n",
    "            image = ax.imshow(logr_confusion_matrix, interpolation='nearest', cmap=plt.cm.Blues, origin='bottom', norm=LogNorm())    \n",
    "            ax.set_title(title)    \n",
    "            fig.colorbar(image)    \n",
    "            tick_marks = np.arange(len(target_names))    \n",
    "            ax.set_xticks(tick_marks)    \n",
    "            ax.set_xticklabels(target_names, rotation=0)    \n",
    "            ax.set_yticks(tick_marks)    \n",
    "            ax.set_yticklabels(target_names, rotation=0)    \n",
    "            ax.set_ylabel('True label')    \n",
    "            ax.set_xlabel('Predicted label')    \n",
    "            return fig, ax"
   ]
  },
  {
   "cell_type": "code",
   "execution_count": 188,
   "metadata": {},
   "outputs": [
    {
     "data": {
      "image/png": "[encoded data removed]",
      "text/plain": [
       "<Figure size 432x288 with 2 Axes>"
      ]
     },
     "metadata": {
      "needs_background": "light"
     },
     "output_type": "display_data"
    }
   ],
   "source": [
    "_ = plot_confusion_matrix(logr_confusion_matrix)"
   ]
  },
  {
   "cell_type": "code",
   "execution_count": 192,
   "metadata": {},
   "outputs": [],
   "source": [
    "# logr_confusion_matrix_normalized = logr_confusion_matrix / logr_confusion_matrix.sum(axis=1)[ :, np.newaxis] \n",
    "# print(logr_confusion_matrix_normalized)"
   ]
  },
  {
   "cell_type": "code",
   "execution_count": 193,
   "metadata": {},
   "outputs": [],
   "source": [
    "# true_positives_rate, false_negatives_rate, false_positives_rate, true_negatives_rate = logr_confusion_matrix_normalized.ravel()\n",
    "# print('True positives rate: %.2f' % (true_positives_rate * 100))\n",
    "# print('True negatives rate: %.2f' % (true_negatives_rate * 100))\n",
    "# print('False positives rate: %.2f' % (false_positives_rate * 100))\n",
    "# print('False negatives rate: %.2f' % (false_negatives_rate * 100))"
   ]
  },
  {
   "cell_type": "code",
   "execution_count": 194,
   "metadata": {},
   "outputs": [],
   "source": [
    "# _ = plot_confusion_matrix(logr_confusion_matrix_normalized, title=\"Normalized confusion matrix\")"
   ]
  },
  {
   "cell_type": "code",
   "execution_count": 195,
   "metadata": {},
   "outputs": [
    {
     "name": "stdout",
     "output_type": "stream",
     "text": [
      "              precision    recall  f1-score   support\n",
      "\n",
      "       Alive       1.00      0.83      0.91     20879\n",
      "        Dead       0.06      0.81      0.10       259\n",
      "\n",
      "    accuracy                           0.83     21138\n",
      "   macro avg       0.53      0.82      0.50     21138\n",
      "weighted avg       0.99      0.83      0.90     21138\n",
      "\n"
     ]
    }
   ],
   "source": [
    "print(sklearn.metrics.classification_report(y_test, y_predicted, target_names= ['Alive', 'Dead']))"
   ]
  },
  {
   "cell_type": "code",
   "execution_count": 225,
   "metadata": {},
   "outputs": [],
   "source": [
    "y_predicted_proba_logr = logr.predict_proba(X_test)"
   ]
  },
  {
   "cell_type": "code",
   "execution_count": 233,
   "metadata": {},
   "outputs": [
    {
     "data": {
      "text/plain": [
       "(21138, 2)"
      ]
     },
     "execution_count": 233,
     "metadata": {},
     "output_type": "execute_result"
    }
   ],
   "source": [
    "y_predicted_proba_logr.shape"
   ]
  },
  {
   "cell_type": "code",
   "execution_count": 235,
   "metadata": {},
   "outputs": [],
   "source": [
    "def plot_roc_curve(y_test, y_predicted):    \n",
    "    fpr, tpr, thresholds = sklearn.metrics.roc_curve(y_test, y_predicted[:,1])    \n",
    "    roc_auc = sklearn.metrics.auc(fpr, tpr)    \n",
    "    \n",
    "    fig, ax = plt.subplots()    \n",
    "    ax.plot(fpr, tpr, label='ROC curve (area = %0.3f)' % roc_auc)    \n",
    "    ax.plot([0, 1], [0, 1], 'k--') \n",
    "    ax.set_xlim([0.0, 1.0])    \n",
    "    ax.set_ylim([0.0, 1.0])    \n",
    "    ax.set_xlabel('False Positive Rate or (1 - Specifity)')    \n",
    "    ax.set_ylabel('True Positive Rate or (Sensitivity)')    \n",
    "    ax.set_title('ROC Curve Logistic Regression')    \n",
    "    ax.legend(loc=\"lower right\")    \n",
    "    return fig, ax"
   ]
  },
  {
   "cell_type": "code",
   "execution_count": 227,
   "metadata": {},
   "outputs": [
    {
     "data": {
      "image/png": "[encoded data removed]",
      "text/plain": [
       "<Figure size 432x288 with 1 Axes>"
      ]
     },
     "metadata": {
      "needs_background": "light"
     },
     "output_type": "display_data"
    }
   ],
   "source": [
    "_ = plot_roc_curve(y_test, y_predicted_proba_logr)"
   ]
  },
  {
   "cell_type": "code",
   "execution_count": 228,
   "metadata": {},
   "outputs": [],
   "source": [
    "clfTree = DecisionTreeClassifier(class_weight = 'balanced')"
   ]
  },
  {
   "cell_type": "code",
   "execution_count": 111,
   "metadata": {},
   "outputs": [],
   "source": [
    "# clfTree = GridSearchCV(DecisionTreeClassifier(),\n",
    "#                       param_grid = {\"max_depth\":np.arange(2,10),\n",
    "#                                    \"min_samples_leaf\": np.arange(10,30)},\n",
    "#                       cv=5,\n",
    "#                        scoring=\"accuracy\"\n",
    "#                       )"
   ]
  },
  {
   "cell_type": "code",
   "execution_count": 229,
   "metadata": {},
   "outputs": [
    {
     "data": {
      "text/plain": [
       "DecisionTreeClassifier(class_weight='balanced', criterion='gini',\n",
       "                       max_depth=None, max_features=None, max_leaf_nodes=None,\n",
       "                       min_impurity_decrease=0.0, min_impurity_split=None,\n",
       "                       min_samples_leaf=1, min_samples_split=2,\n",
       "                       min_weight_fraction_leaf=0.0, presort=False,\n",
       "                       random_state=None, splitter='best')"
      ]
     },
     "execution_count": 229,
     "metadata": {},
     "output_type": "execute_result"
    }
   ],
   "source": [
    "clfTree.fit(X_train, y_train)"
   ]
  },
  {
   "cell_type": "code",
   "execution_count": 201,
   "metadata": {},
   "outputs": [
    {
     "name": "stdout",
     "output_type": "stream",
     "text": [
      "Recall: 0.534\n",
      "Precision: 0.540\n",
      "F1-score: 0.533\n"
     ]
    }
   ],
   "source": [
    "recall_clfTree = cross_val_score(clfTree, X_train, y_train, cv = 10, scoring = \"recall\").mean()\n",
    "precision_clfTree = cross_val_score(clfTree, X_train, y_train, cv = 10, scoring = \"precision\").mean()\n",
    "f1_clfTree = cross_val_score(clfTree, X_train, y_train, cv = 10, scoring = \"f1\").mean()\n",
    "print('Recall: %.3f' % recall_clfTree)\n",
    "print('Precision: %.3f' % precision_clfTree)\n",
    "print('F1-score: %.3f' % f1_clfTree)"
   ]
  },
  {
   "cell_type": "code",
   "execution_count": 114,
   "metadata": {},
   "outputs": [],
   "source": [
    "# clfTree_grid = GridSearchCV(DecisionTreeClassifier(class_weight = 'balanced'),\n",
    "#                        param_grid = {'max_depth': np.arange(2,10),\n",
    "#                                     'min_samples_leaf': np.arange(2,30)},\n",
    "#                        cv = 5,\n",
    "#                         scoring = 'recall'\n",
    "#                        )"
   ]
  },
  {
   "cell_type": "code",
   "execution_count": 115,
   "metadata": {},
   "outputs": [],
   "source": [
    "# clfTree_grid.fit(X_train, y_train)"
   ]
  },
  {
   "cell_type": "code",
   "execution_count": 116,
   "metadata": {},
   "outputs": [],
   "source": [
    "# print('Best recall score: %.3f' % clfTree_grid.best_score_) \n",
    "# print('Best parameters: %s' % clfTree_grid.best_params_)"
   ]
  },
  {
   "cell_type": "code",
   "execution_count": 117,
   "metadata": {},
   "outputs": [],
   "source": [
    "# clfTree_grid = GridSearchCV(DecisionTreeClassifier(class_weight = 'balanced'),\n",
    "#                        param_grid = {'max_depth':np.arange(2,10),\n",
    "#                                     'min_samples_leaf': np.arange(2,30)},\n",
    "#                        cv = 5,\n",
    "#                         scoring = 'precision'\n",
    "#                        )"
   ]
  },
  {
   "cell_type": "code",
   "execution_count": 118,
   "metadata": {},
   "outputs": [],
   "source": [
    "# clfTree_grid.fit(X_train, y_train)"
   ]
  },
  {
   "cell_type": "code",
   "execution_count": 119,
   "metadata": {},
   "outputs": [],
   "source": [
    "# print('Best precision score: %.3f' % clfTree_grid.best_score_) \n",
    "# print('Best parameters: %s' % clfTree_grid.best_params_)"
   ]
  },
  {
   "cell_type": "code",
   "execution_count": 120,
   "metadata": {},
   "outputs": [],
   "source": [
    "# clfTree_grid = GridSearchCV(DecisionTreeClassifier(class_weight = 'balanced'),\n",
    "#                        param_grid = {'max_depth':np.arange(2,15),\n",
    "#                                     'min_samples_leaf': np.arange(3,30)},\n",
    "#                        cv = 5,\n",
    "#                         scoring = 'f1'\n",
    "#                        )"
   ]
  },
  {
   "cell_type": "code",
   "execution_count": 121,
   "metadata": {},
   "outputs": [],
   "source": [
    "# clfTree_grid.fit(X_train, y_train)"
   ]
  },
  {
   "cell_type": "code",
   "execution_count": 122,
   "metadata": {},
   "outputs": [],
   "source": [
    "# print('Best F1-score: %.3f' % clfTree_grid.best_score_) \n",
    "# print('Best parameters: %s' % clfTree_grid.best_params_)"
   ]
  },
  {
   "cell_type": "code",
   "execution_count": 202,
   "metadata": {},
   "outputs": [],
   "source": [
    "y_predicted = clfTree.predict(X_test)"
   ]
  },
  {
   "cell_type": "code",
   "execution_count": 203,
   "metadata": {},
   "outputs": [
    {
     "name": "stdout",
     "output_type": "stream",
     "text": [
      "[[  137   122]\n",
      " [  125 20754]]\n"
     ]
    }
   ],
   "source": [
    "clfTree_confusion_matrix = sklearn.metrics.confusion_matrix(y_test, y_predicted, labels=[True, False]) \n",
    "print(clfTree_confusion_matrix)"
   ]
  },
  {
   "cell_type": "code",
   "execution_count": 204,
   "metadata": {},
   "outputs": [
    {
     "name": "stdout",
     "output_type": "stream",
     "text": [
      "True positives: 137\n",
      "True negatives: 20754\n",
      "False positives: 125\n",
      "False negatives: 122\n"
     ]
    }
   ],
   "source": [
    "true_positives, false_negatives, false_positives, true_negatives = clfTree_confusion_matrix.ravel()\n",
    "print('True positives: %d' % true_positives)\n",
    "print('True negatives: %d' % true_negatives)\n",
    "print('False positives: %d' % false_positives)\n",
    "print('False negatives: %d' % false_negatives)"
   ]
  },
  {
   "cell_type": "code",
   "execution_count": 205,
   "metadata": {},
   "outputs": [
    {
     "data": {
      "image/png": "[encoded data removed]",
      "text/plain": [
       "<Figure size 432x288 with 2 Axes>"
      ]
     },
     "metadata": {
      "needs_background": "light"
     },
     "output_type": "display_data"
    }
   ],
   "source": [
    "_ = plot_confusion_matrix(clfTree_confusion_matrix)"
   ]
  },
  {
   "cell_type": "code",
   "execution_count": 216,
   "metadata": {},
   "outputs": [],
   "source": [
    "# clfTree_confusion_matrix_normalized = clfTree_confusion_matrix / clfTree_confusion_matrix.sum(axis=1)[ :, np.newaxis] \n",
    "# print(clfTree_confusion_matrix_normalized)"
   ]
  },
  {
   "cell_type": "code",
   "execution_count": 217,
   "metadata": {},
   "outputs": [],
   "source": [
    "# true_positives_rate, false_negatives_rate, false_positives_rate, true_negatives_rate = clfTree_confusion_matrix_normalized.ravel()\n",
    "# print('True positives: %.2f' % (true_positives_rate * 100))\n",
    "# print('True negatives: %.2f' % (true_negatives_rate * 100))\n",
    "# print('False positives: %.2f' % (false_positives_rate * 100))\n",
    "# print('False negatives: %.2f' % (false_negatives_rate * 100))"
   ]
  },
  {
   "cell_type": "code",
   "execution_count": 218,
   "metadata": {},
   "outputs": [],
   "source": [
    "# _ = plot_confusion_matrix(clfTree_confusion_matrix_normalized, title=\"Normalized confusion matrix\")"
   ]
  },
  {
   "cell_type": "code",
   "execution_count": 230,
   "metadata": {},
   "outputs": [],
   "source": [
    "y_predicted_proba_clfTree = clfTree.predict_proba(X_test)"
   ]
  },
  {
   "cell_type": "code",
   "execution_count": 234,
   "metadata": {},
   "outputs": [
    {
     "data": {
      "text/plain": [
       "(21138, 2)"
      ]
     },
     "execution_count": 234,
     "metadata": {},
     "output_type": "execute_result"
    }
   ],
   "source": [
    "y_predicted_proba_clfTree.shape"
   ]
  },
  {
   "cell_type": "code",
   "execution_count": 231,
   "metadata": {},
   "outputs": [],
   "source": [
    "def plot_roc_curve(y_test, y_predicted):    \n",
    "    fpr, tpr, thresholds = sklearn.metrics.roc_curve(y_test, y_predicted[:,1])    \n",
    "    roc_auc = sklearn.metrics.auc(fpr, tpr)    \n",
    "    \n",
    "    fig, ax = plt.subplots()    \n",
    "    ax.plot(fpr, tpr, label='ROC curve (area = %0.3f)' % roc_auc)    \n",
    "    ax.plot([0, 1], [0, 1], 'k--') \n",
    "    ax.set_xlim([0.0, 1.0])    \n",
    "    ax.set_ylim([0.0, 1.0])    \n",
    "    ax.set_xlabel('False Positive Rate or (1 - Specifity)')    \n",
    "    ax.set_ylabel('True Positive Rate or (Sensitivity)')    \n",
    "    ax.set_title('ROC Curve Classification Tree')    \n",
    "    ax.legend(loc=\"lower right\")    \n",
    "    return fig, ax"
   ]
  },
  {
   "cell_type": "code",
   "execution_count": 236,
   "metadata": {},
   "outputs": [
    {
     "data": {
      "image/png": "[encoded data removed]",
      "text/plain": [
       "<Figure size 432x288 with 1 Axes>"
      ]
     },
     "metadata": {
      "needs_background": "light"
     },
     "output_type": "display_data"
    }
   ],
   "source": [
    "_ = plot_roc_curve(y_test, y_predicted_proba_clfTree)"
   ]
  },
  {
   "cell_type": "code",
   "execution_count": 237,
   "metadata": {},
   "outputs": [],
   "source": [
    "clfRF = RandomForestClassifier(n_estimators = 100, class_weight = 'balanced')"
   ]
  },
  {
   "cell_type": "code",
   "execution_count": 238,
   "metadata": {},
   "outputs": [
    {
     "data": {
      "text/plain": [
       "RandomForestClassifier(bootstrap=True, class_weight='balanced',\n",
       "                       criterion='gini', max_depth=None, max_features='auto',\n",
       "                       max_leaf_nodes=None, min_impurity_decrease=0.0,\n",
       "                       min_impurity_split=None, min_samples_leaf=1,\n",
       "                       min_samples_split=2, min_weight_fraction_leaf=0.0,\n",
       "                       n_estimators=100, n_jobs=None, oob_score=False,\n",
       "                       random_state=None, verbose=0, warm_start=False)"
      ]
     },
     "execution_count": 238,
     "metadata": {},
     "output_type": "execute_result"
    }
   ],
   "source": [
    "clfRF.fit(X_train,y_train)"
   ]
  },
  {
   "cell_type": "code",
   "execution_count": 240,
   "metadata": {},
   "outputs": [
    {
     "name": "stdout",
     "output_type": "stream",
     "text": [
      "Recall: 0.527\n",
      "Precision: 0.907\n",
      "F1-score: 0.666\n"
     ]
    }
   ],
   "source": [
    "cv = 3\n",
    "recall_RF = cross_val_score(clfRF, X_train, y_train, cv=cv, scoring = \"recall\").mean()\n",
    "precision_RF = cross_val_score(clfRF, X_train, y_train, cv=cv, scoring = \"precision\").mean()\n",
    "f1_RF = cross_val_score(clfRF, X_train, y_train, cv=cv, scoring = \"f1\").mean()\n",
    "print('Recall: %.3f' % recall_RF)\n",
    "print('Precision: %.3f' % precision_RF)\n",
    "print('F1-score: %.3f' % f1_RF)"
   ]
  },
  {
   "cell_type": "code",
   "execution_count": 136,
   "metadata": {},
   "outputs": [],
   "source": [
    "# RF_grid = GridSearchCV(RandomForestClassifier(n_estimators = 50, class_weight = 'balanced'),\n",
    "#                        param_grid = {'max_depth': np.arange(2,25,3),\n",
    "#                                     'max_features': ['auto','sqrt']},\n",
    "#                        cv = 5,\n",
    "#                        scoring = 'recall')"
   ]
  },
  {
   "cell_type": "code",
   "execution_count": 137,
   "metadata": {},
   "outputs": [],
   "source": [
    "# RF_grid.fit(X_train, y_train)"
   ]
  },
  {
   "cell_type": "code",
   "execution_count": 138,
   "metadata": {},
   "outputs": [],
   "source": [
    "# print('Best recall score: %.3f' % RF_grid.best_score_) \n",
    "# print('Best parameters: %s' % RF_grid.best_params_)"
   ]
  },
  {
   "cell_type": "code",
   "execution_count": 139,
   "metadata": {},
   "outputs": [],
   "source": [
    "# RF_grid = GridSearchCV(RandomForestClassifier(n_estimators = 50, class_weight = 'balanced'),\n",
    "#                        param_grid = {'max_depth': np.arange(2,25,3),\n",
    "#                                     'max_features': ['auto','sqrt']},\n",
    "#                        cv = 5,\n",
    "#                        scoring = 'precision')"
   ]
  },
  {
   "cell_type": "code",
   "execution_count": 140,
   "metadata": {},
   "outputs": [],
   "source": [
    "# RF_grid.fit(X_train, y_train)"
   ]
  },
  {
   "cell_type": "code",
   "execution_count": 141,
   "metadata": {},
   "outputs": [],
   "source": [
    "# print('Best precision score: %.3f' % RF_grid.best_score_) \n",
    "# print('Best parameters: %s' % RF_grid.best_params_)"
   ]
  },
  {
   "cell_type": "code",
   "execution_count": 142,
   "metadata": {},
   "outputs": [],
   "source": [
    "# RF_grid = GridSearchCV(RandomForestClassifier(n_estimators = 50, class_weight = 'balanced'),\n",
    "#                        param_grid = {'max_depth': np.arange(2,25,3),\n",
    "#                                     'max_features': ['auto','sqrt']},\n",
    "#                        cv = 5,\n",
    "#                        scoring = 'f1')"
   ]
  },
  {
   "cell_type": "code",
   "execution_count": 143,
   "metadata": {},
   "outputs": [],
   "source": [
    "# RF_grid.fit(X_train, y_train)"
   ]
  },
  {
   "cell_type": "code",
   "execution_count": 144,
   "metadata": {},
   "outputs": [],
   "source": [
    "# print('Best F1-score: %.3f' % RF_grid.best_score_) \n",
    "# print('Best parameters: %s' % RF_grid.best_params_)"
   ]
  },
  {
   "cell_type": "code",
   "execution_count": 241,
   "metadata": {},
   "outputs": [],
   "source": [
    "y_predicted = clfRF.predict(X_test)"
   ]
  },
  {
   "cell_type": "code",
   "execution_count": 242,
   "metadata": {},
   "outputs": [
    {
     "name": "stdout",
     "output_type": "stream",
     "text": [
      "[[  138   121]\n",
      " [   20 20859]]\n"
     ]
    }
   ],
   "source": [
    "RF_confusion_matrix = sklearn.metrics.confusion_matrix(y_test, y_predicted, labels=[True, False]) \n",
    "print(RF_confusion_matrix)"
   ]
  },
  {
   "cell_type": "code",
   "execution_count": 243,
   "metadata": {},
   "outputs": [
    {
     "name": "stdout",
     "output_type": "stream",
     "text": [
      "True positives: 138\n",
      "True negatives: 20859\n",
      "False positives: 20\n",
      "False negatives: 121\n"
     ]
    }
   ],
   "source": [
    "true_positives, false_negatives, false_positives, true_negatives = RF_confusion_matrix.ravel()\n",
    "print('True positives: %d' % true_positives)\n",
    "print('True negatives: %d' % true_negatives)\n",
    "print('False positives: %d' % false_positives)\n",
    "print('False negatives: %d' % false_negatives)"
   ]
  },
  {
   "cell_type": "code",
   "execution_count": 244,
   "metadata": {},
   "outputs": [
    {
     "data": {
      "image/png": "[encoded data removed]",
      "text/plain": [
       "<Figure size 432x288 with 2 Axes>"
      ]
     },
     "metadata": {
      "needs_background": "light"
     },
     "output_type": "display_data"
    }
   ],
   "source": [
    "_ = plot_confusion_matrix(RF_confusion_matrix)"
   ]
  },
  {
   "cell_type": "code",
   "execution_count": 245,
   "metadata": {},
   "outputs": [],
   "source": [
    "# RF_confusion_matrix_normalized = RF_confusion_matrix / RF_confusion_matrix.sum(axis=1)[ :, np.newaxis] \n",
    "# print(RF_confusion_matrix_normalized)"
   ]
  },
  {
   "cell_type": "code",
   "execution_count": 246,
   "metadata": {},
   "outputs": [],
   "source": [
    "# true_positives_rate, false_negatives_rate, false_positives_rate, true_negatives_rate = RF_confusion_matrix_normalized.ravel()\n",
    "# print('True positives: %.2f' % (true_positives_rate * 100))\n",
    "# print('True negatives: %.2f' % (true_negatives_rate * 100))\n",
    "# print('False positives: %.2f' % (false_positives_rate * 100))\n",
    "# print('False negatives: %.2f' % (false_negatives_rate * 100))"
   ]
  },
  {
   "cell_type": "code",
   "execution_count": 247,
   "metadata": {},
   "outputs": [],
   "source": [
    "# _ = plot_confusion_matrix(RF_confusion_matrix_normalized, title=\"Normalized confusion matrix\")"
   ]
  },
  {
   "cell_type": "code",
   "execution_count": 248,
   "metadata": {},
   "outputs": [],
   "source": [
    "y_predicted_proba_RF = clfRF.predict_proba(X_test)"
   ]
  },
  {
   "cell_type": "code",
   "execution_count": 251,
   "metadata": {},
   "outputs": [],
   "source": [
    "def plot_roc_curve(y_test, y_predicted):    \n",
    "    fpr, tpr, thresholds = sklearn.metrics.roc_curve(y_test, y_predicted[:,1])    \n",
    "    roc_auc = sklearn.metrics.auc(fpr, tpr)    \n",
    "    \n",
    "    fig, ax = plt.subplots()    \n",
    "    ax.plot(fpr, tpr, label='ROC curve (area = %0.3f)' % roc_auc)    \n",
    "    ax.plot([0, 1], [0, 1], 'k--') \n",
    "    ax.set_xlim([0.0, 1.0])    \n",
    "    ax.set_ylim([0.0, 1.0])    \n",
    "    ax.set_xlabel('False Positive Rate or (1 - Specifity)')    \n",
    "    ax.set_ylabel('True Positive Rate or (Sensitivity)')    \n",
    "    ax.set_title('ROC Curve Random Forest')    \n",
    "    ax.legend(loc=\"lower right\")    \n",
    "    return fig, ax"
   ]
  },
  {
   "cell_type": "code",
   "execution_count": 252,
   "metadata": {},
   "outputs": [
    {
     "data": {
      "image/png": "[encoded data removed]",
      "text/plain": [
       "<Figure size 432x288 with 1 Axes>"
      ]
     },
     "metadata": {
      "needs_background": "light"
     },
     "output_type": "display_data"
    }
   ],
   "source": [
    "_ = plot_roc_curve(y_test, y_predicted_proba_RF)"
   ]
  },
  {
   "cell_type": "code",
   "execution_count": 253,
   "metadata": {},
   "outputs": [],
   "source": [
    "clfGB = GradientBoostingClassifier(n_estimators = 100)"
   ]
  },
  {
   "cell_type": "code",
   "execution_count": 254,
   "metadata": {},
   "outputs": [
    {
     "data": {
      "text/plain": [
       "GradientBoostingClassifier(criterion='friedman_mse', init=None,\n",
       "                           learning_rate=0.1, loss='deviance', max_depth=3,\n",
       "                           max_features=None, max_leaf_nodes=None,\n",
       "                           min_impurity_decrease=0.0, min_impurity_split=None,\n",
       "                           min_samples_leaf=1, min_samples_split=2,\n",
       "                           min_weight_fraction_leaf=0.0, n_estimators=100,\n",
       "                           n_iter_no_change=None, presort='auto',\n",
       "                           random_state=None, subsample=1.0, tol=0.0001,\n",
       "                           validation_fraction=0.1, verbose=0,\n",
       "                           warm_start=False)"
      ]
     },
     "execution_count": 254,
     "metadata": {},
     "output_type": "execute_result"
    }
   ],
   "source": [
    "clfGB.fit(X_train,y_train)"
   ]
  },
  {
   "cell_type": "code",
   "execution_count": 255,
   "metadata": {},
   "outputs": [
    {
     "name": "stdout",
     "output_type": "stream",
     "text": [
      "Recall: 0.524\n",
      "Precision: 0.918\n",
      "F1-score: 0.667\n"
     ]
    }
   ],
   "source": [
    "cv = 3\n",
    "recall_GB = cross_val_score(clfGB, X_train, y_train, cv=cv, scoring=\"recall\").mean()\n",
    "precision_GB = cross_val_score(clfGB, X_train, y_train, cv=cv, scoring=\"precision\").mean()\n",
    "f1_GB = cross_val_score(clfGB, X_train, y_train, cv=cv, scoring=\"f1\").mean()\n",
    "print('Recall: %.3f' % recall_GB)\n",
    "print('Precision: %.3f' % precision_GB)\n",
    "print('F1-score: %.3f' % f1_GB)"
   ]
  },
  {
   "cell_type": "code",
   "execution_count": 158,
   "metadata": {},
   "outputs": [],
   "source": [
    "# GB_grid = GridSearchCV(GradientBoostingClassifier(n_estimators = 50),\n",
    "#                        param_grid = {'max_depth': np.arange(2,25,3),\n",
    "#                                     'max_features': ['auto','sqrt']},\n",
    "#                        cv = 5,\n",
    "#                        scoring = 'recall')"
   ]
  },
  {
   "cell_type": "code",
   "execution_count": 159,
   "metadata": {},
   "outputs": [],
   "source": [
    "# GB_grid.fit(X_train, y_train)"
   ]
  },
  {
   "cell_type": "code",
   "execution_count": 160,
   "metadata": {},
   "outputs": [],
   "source": [
    "# print('Best recall score: %.3f' % GB_grid.best_score_) \n",
    "# print('Best parameters: %s' % GB_grid.best_params_)"
   ]
  },
  {
   "cell_type": "code",
   "execution_count": 161,
   "metadata": {},
   "outputs": [],
   "source": [
    "# GB_grid = GridSearchCV(GradientBoostingClassifier(n_estimators = 50),\n",
    "#                        param_grid = {'max_depth': np.arange(2,25,3),\n",
    "#                                     'max_features': ['auto','sqrt']},\n",
    "#                        cv = 5,\n",
    "#                        scoring = 'precision')"
   ]
  },
  {
   "cell_type": "code",
   "execution_count": 162,
   "metadata": {},
   "outputs": [],
   "source": [
    "# GB_grid.fit(X_train, y_train)"
   ]
  },
  {
   "cell_type": "code",
   "execution_count": 163,
   "metadata": {},
   "outputs": [],
   "source": [
    "# print('Best precision score: %.3f' % GB_grid.best_score_) \n",
    "# print('Best parameters: %s' % GB_grid.best_params_)"
   ]
  },
  {
   "cell_type": "code",
   "execution_count": 164,
   "metadata": {},
   "outputs": [],
   "source": [
    "# GB_grid = GridSearchCV(GradientBoostingClassifier(n_estimators = 50),\n",
    "#                        param_grid = {'max_depth': np.arange(2,25,3),\n",
    "#                                     'max_features': ['auto','sqrt']},\n",
    "#                        cv = 5,\n",
    "#                        scoring = 'f1')"
   ]
  },
  {
   "cell_type": "code",
   "execution_count": 165,
   "metadata": {},
   "outputs": [],
   "source": [
    "# GB_grid.fit(X_train, y_train)"
   ]
  },
  {
   "cell_type": "code",
   "execution_count": 166,
   "metadata": {},
   "outputs": [],
   "source": [
    "# print('Best F1-score: %.3f' % GB_grid.best_score_) \n",
    "# print('Best parameters: %s' % GB_grid.best_params_)"
   ]
  },
  {
   "cell_type": "code",
   "execution_count": 256,
   "metadata": {},
   "outputs": [],
   "source": [
    "y_predicted = clfGB.predict(X_test)"
   ]
  },
  {
   "cell_type": "code",
   "execution_count": 257,
   "metadata": {},
   "outputs": [
    {
     "name": "stdout",
     "output_type": "stream",
     "text": [
      "[[  137   122]\n",
      " [    4 20875]]\n"
     ]
    }
   ],
   "source": [
    "GB_confusion_matrix = sklearn.metrics.confusion_matrix(y_test, y_predicted, labels=[True, False]) \n",
    "print(GB_confusion_matrix)"
   ]
  },
  {
   "cell_type": "code",
   "execution_count": 258,
   "metadata": {},
   "outputs": [
    {
     "name": "stdout",
     "output_type": "stream",
     "text": [
      "True positives: 137\n",
      "True negatives: 20875\n",
      "False positives: 4\n",
      "False negatives: 122\n"
     ]
    }
   ],
   "source": [
    "true_positives, false_negatives, false_positives, true_negatives = GB_confusion_matrix.ravel()\n",
    "print('True positives: %d' % true_positives)\n",
    "print('True negatives: %d' % true_negatives)\n",
    "print('False positives: %d' % false_positives)\n",
    "print('False negatives: %d' % false_negatives)"
   ]
  },
  {
   "cell_type": "code",
   "execution_count": 259,
   "metadata": {},
   "outputs": [
    {
     "data": {
      "image/png": "[encoded data removed]",
      "text/plain": [
       "<Figure size 432x288 with 2 Axes>"
      ]
     },
     "metadata": {
      "needs_background": "light"
     },
     "output_type": "display_data"
    }
   ],
   "source": [
    "_ = plot_confusion_matrix(GB_confusion_matrix)"
   ]
  },
  {
   "cell_type": "code",
   "execution_count": 260,
   "metadata": {},
   "outputs": [],
   "source": [
    "# clfGB_confusion_matrix_normalized = GB_confusion_matrix / GB_confusion_matrix.sum(axis=1)[ :, np.newaxis] \n",
    "# print(clfGB_confusion_matrix_normalized)"
   ]
  },
  {
   "cell_type": "code",
   "execution_count": 261,
   "metadata": {},
   "outputs": [],
   "source": [
    "# true_positives_rate, false_negatives_rate, false_positives_rate, true_negatives_rate = clfGB_confusion_matrix_normalized.ravel()\n",
    "# print('True positives: %.2f' % (true_positives_rate * 100))\n",
    "# print('True negatives: %.2f' % (true_negatives_rate * 100))\n",
    "# print('False positives: %.2f' % (false_positives_rate * 100))\n",
    "# print('False negatives: %.2f' % (false_negatives_rate * 100))"
   ]
  },
  {
   "cell_type": "code",
   "execution_count": 262,
   "metadata": {},
   "outputs": [],
   "source": [
    "# _ = plot_confusion_matrix(clfGB_confusion_matrix_normalized, title=\"Normalized confusion matrix\")"
   ]
  },
  {
   "cell_type": "code",
   "execution_count": 263,
   "metadata": {},
   "outputs": [],
   "source": [
    "y_predicted_proba_GB = clfGB.predict_proba(X_test)"
   ]
  },
  {
   "cell_type": "code",
   "execution_count": 264,
   "metadata": {},
   "outputs": [],
   "source": [
    "def plot_roc_curve(y_test, y_predicted):    \n",
    "    fpr, tpr, thresholds = sklearn.metrics.roc_curve(y_test, y_predicted[:,1])    \n",
    "    roc_auc = sklearn.metrics.auc(fpr, tpr)    \n",
    "    \n",
    "    fig, ax = plt.subplots()    \n",
    "    ax.plot(fpr, tpr, label='ROC curve (area = %0.3f)' % roc_auc)    \n",
    "    ax.plot([0, 1], [0, 1], 'k--') \n",
    "    ax.set_xlim([0.0, 1.0])    \n",
    "    ax.set_ylim([0.0, 1.0])    \n",
    "    ax.set_xlabel('False Positive Rate or (1 - Specifity)')    \n",
    "    ax.set_ylabel('True Positive Rate or (Sensitivity)')    \n",
    "    ax.set_title('ROC Curve Gradient Boost')    \n",
    "    ax.legend(loc=\"lower right\")    \n",
    "    return fig, ax"
   ]
  },
  {
   "cell_type": "code",
   "execution_count": 265,
   "metadata": {},
   "outputs": [
    {
     "data": {
      "image/png": "[encoded data removed]",
      "text/plain": [
       "<Figure size 432x288 with 1 Axes>"
      ]
     },
     "metadata": {
      "needs_background": "light"
     },
     "output_type": "display_data"
    }
   ],
   "source": [
    "_ = plot_roc_curve(y_test, y_predicted_proba_GB)"
   ]
  },
  {
   "cell_type": "code",
   "execution_count": 266,
   "metadata": {},
   "outputs": [
    {
     "name": "stdout",
     "output_type": "stream",
     "text": [
      "Recall: 0.524\n"
     ]
    }
   ],
   "source": [
    "print('Recall: %.3f' % recall_GB)"
   ]
  },
  {
   "cell_type": "code",
   "execution_count": 274,
   "metadata": {},
   "outputs": [
    {
     "name": "stdout",
     "output_type": "stream",
     "text": [
      "Recall: 52.4%\n"
     ]
    }
   ],
   "source": [
    "print(f\"Recall: {recall_GB:.1%}\")"
   ]
  },
  {
   "cell_type": "code",
   "execution_count": 268,
   "metadata": {},
   "outputs": [
    {
     "data": {
      "text/plain": [
       "'3.7.4 (default, Aug 13 2019, 20:35:49) \\n[GCC 7.3.0]'"
      ]
     },
     "execution_count": 268,
     "metadata": {},
     "output_type": "execute_result"
    }
   ],
   "source": [
    "import sys\n",
    "sys.version"
   ]
  }
 ],
 "metadata": {
  "kernelspec": {
   "display_name": "Python 3",
   "language": "python",
   "name": "python3"
  },
  "language_info": {
   "codemirror_mode": {
    "name": "ipython",
    "version": 3
   },
   "file_extension": ".py",
   "mimetype": "text/x-python",
   "name": "python",
   "nbconvert_exporter": "python",
   "pygments_lexer": "ipython3",
   "version": "3.7.4"
  }
 },
 "nbformat": 4,
 "nbformat_minor": 2
}
