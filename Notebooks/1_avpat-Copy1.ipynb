{
 "cells": [
  {
   "cell_type": "markdown",
   "metadata": {},
   "source": [
    "# Table SIM_AV_PATIENT"
   ]
  },
  {
   "cell_type": "markdown",
   "metadata": {},
   "source": [
    "The Simulacrum database contains synthetic cancer data which imitates some of the data held securely by the National Cancer Registration and Analysis Service (NCRAS) by the National Disease Registration Service which is part of Public Health England (PHE).This database is a collection of linked data tables which contain the same structure as those used in the original NCRAS data. The SIM_AV_ tables represent the patient and tumour registration data, and the SIM_SACT_ tables represent the Systematic Anti-Cancer Therapy (SACT) data.\n",
    "\n",
    "I am going to start with the cancer registration table \"SIM_AV_PATIENT\". This table includes patient demographics from the registry, vital status date and cause of death.\n",
    "\n",
    "Firstly, I am going to install the dependencies that are needed to work on this table and then I am going to open the table."
   ]
  },
  {
   "cell_type": "code",
   "execution_count": 1,
   "metadata": {},
   "outputs": [],
   "source": [
    "import pandas as pd\n",
    "import numpy as np\n",
    "from zipfile import ZipFile"
   ]
  },
  {
   "cell_type": "code",
   "execution_count": 2,
   "metadata": {},
   "outputs": [],
   "source": [
    "pd.set_option('display.max_columns', None) "
   ]
  },
  {
   "cell_type": "code",
   "execution_count": 4,
   "metadata": {},
   "outputs": [
    {
     "data": {
      "text/html": [
       "<div>\n",
       "<style scoped>\n",
       "    .dataframe tbody tr th:only-of-type {\n",
       "        vertical-align: middle;\n",
       "    }\n",
       "\n",
       "    .dataframe tbody tr th {\n",
       "        vertical-align: top;\n",
       "    }\n",
       "\n",
       "    .dataframe thead th {\n",
       "        text-align: right;\n",
       "    }\n",
       "</style>\n",
       "<table border=\"1\" class=\"dataframe\">\n",
       "  <thead>\n",
       "    <tr style=\"text-align: right;\">\n",
       "      <th></th>\n",
       "      <th>PATIENTID</th>\n",
       "      <th>SEX</th>\n",
       "      <th>LINKNUMBER</th>\n",
       "      <th>ETHNICITY</th>\n",
       "      <th>DEATHCAUSECODE_1A</th>\n",
       "      <th>DEATHCAUSECODE_1B</th>\n",
       "      <th>DEATHCAUSECODE_1C</th>\n",
       "      <th>DEATHCAUSECODE_2</th>\n",
       "      <th>DEATHCAUSECODE_UNDERLYING</th>\n",
       "      <th>DEATHLOCATIONCODE</th>\n",
       "      <th>NEWVITALSTATUS</th>\n",
       "      <th>VITALSTATUSDATE</th>\n",
       "    </tr>\n",
       "  </thead>\n",
       "  <tbody>\n",
       "    <tr>\n",
       "      <td>0</td>\n",
       "      <td>10000001</td>\n",
       "      <td>2</td>\n",
       "      <td>810000001</td>\n",
       "      <td>A</td>\n",
       "      <td>NaN</td>\n",
       "      <td>NaN</td>\n",
       "      <td>NaN</td>\n",
       "      <td>NaN</td>\n",
       "      <td>NaN</td>\n",
       "      <td>NaN</td>\n",
       "      <td>A</td>\n",
       "      <td>2017-01-17</td>\n",
       "    </tr>\n",
       "    <tr>\n",
       "      <td>1</td>\n",
       "      <td>10000002</td>\n",
       "      <td>2</td>\n",
       "      <td>810000002</td>\n",
       "      <td>Z</td>\n",
       "      <td>NaN</td>\n",
       "      <td>NaN</td>\n",
       "      <td>NaN</td>\n",
       "      <td>NaN</td>\n",
       "      <td>NaN</td>\n",
       "      <td>NaN</td>\n",
       "      <td>A</td>\n",
       "      <td>2017-01-14</td>\n",
       "    </tr>\n",
       "    <tr>\n",
       "      <td>2</td>\n",
       "      <td>10000003</td>\n",
       "      <td>1</td>\n",
       "      <td>810000003</td>\n",
       "      <td>A</td>\n",
       "      <td>NaN</td>\n",
       "      <td>NaN</td>\n",
       "      <td>NaN</td>\n",
       "      <td>NaN</td>\n",
       "      <td>NaN</td>\n",
       "      <td>NaN</td>\n",
       "      <td>A</td>\n",
       "      <td>2017-01-17</td>\n",
       "    </tr>\n",
       "    <tr>\n",
       "      <td>3</td>\n",
       "      <td>10000004</td>\n",
       "      <td>1</td>\n",
       "      <td>810000004</td>\n",
       "      <td>A</td>\n",
       "      <td>NaN</td>\n",
       "      <td>NaN</td>\n",
       "      <td>NaN</td>\n",
       "      <td>NaN</td>\n",
       "      <td>NaN</td>\n",
       "      <td>NaN</td>\n",
       "      <td>A</td>\n",
       "      <td>2017-01-13</td>\n",
       "    </tr>\n",
       "    <tr>\n",
       "      <td>4</td>\n",
       "      <td>10000005</td>\n",
       "      <td>2</td>\n",
       "      <td>810000005</td>\n",
       "      <td>NaN</td>\n",
       "      <td>NaN</td>\n",
       "      <td>NaN</td>\n",
       "      <td>NaN</td>\n",
       "      <td>NaN</td>\n",
       "      <td>NaN</td>\n",
       "      <td>NaN</td>\n",
       "      <td>A</td>\n",
       "      <td>2017-01-16</td>\n",
       "    </tr>\n",
       "  </tbody>\n",
       "</table>\n",
       "</div>"
      ],
      "text/plain": [
       "   PATIENTID  SEX  LINKNUMBER ETHNICITY DEATHCAUSECODE_1A DEATHCAUSECODE_1B  \\\n",
       "0   10000001    2   810000001         A               NaN               NaN   \n",
       "1   10000002    2   810000002         Z               NaN               NaN   \n",
       "2   10000003    1   810000003         A               NaN               NaN   \n",
       "3   10000004    1   810000004         A               NaN               NaN   \n",
       "4   10000005    2   810000005       NaN               NaN               NaN   \n",
       "\n",
       "  DEATHCAUSECODE_1C DEATHCAUSECODE_2 DEATHCAUSECODE_UNDERLYING  \\\n",
       "0               NaN              NaN                       NaN   \n",
       "1               NaN              NaN                       NaN   \n",
       "2               NaN              NaN                       NaN   \n",
       "3               NaN              NaN                       NaN   \n",
       "4               NaN              NaN                       NaN   \n",
       "\n",
       "  DEATHLOCATIONCODE NEWVITALSTATUS VITALSTATUSDATE  \n",
       "0               NaN              A      2017-01-17  \n",
       "1               NaN              A      2017-01-14  \n",
       "2               NaN              A      2017-01-17  \n",
       "3               NaN              A      2017-01-13  \n",
       "4               NaN              A      2017-01-16  "
      ]
     },
     "execution_count": 4,
     "metadata": {},
     "output_type": "execute_result"
    }
   ],
   "source": [
    "zf = ZipFile('../Data/sim_av_patient.zip')\n",
    "csv = zf.open('sim_av_patient.csv')\n",
    "df = pd.read_csv(csv)\n",
    "df.head()"
   ]
  },
  {
   "cell_type": "markdown",
   "metadata": {},
   "source": [
    "Now I will check the characteristics of the table, including a quick check of a sample of the data, the shape of the table, the missing data, the type of variables I have and other basic information about the table. "
   ]
  },
  {
   "cell_type": "code",
   "execution_count": 4,
   "metadata": {},
   "outputs": [
    {
     "data": {
      "text/html": [
       "<div>\n",
       "<style scoped>\n",
       "    .dataframe tbody tr th:only-of-type {\n",
       "        vertical-align: middle;\n",
       "    }\n",
       "\n",
       "    .dataframe tbody tr th {\n",
       "        vertical-align: top;\n",
       "    }\n",
       "\n",
       "    .dataframe thead th {\n",
       "        text-align: right;\n",
       "    }\n",
       "</style>\n",
       "<table border=\"1\" class=\"dataframe\">\n",
       "  <thead>\n",
       "    <tr style=\"text-align: right;\">\n",
       "      <th></th>\n",
       "      <th>PATIENTID</th>\n",
       "      <th>SEX</th>\n",
       "      <th>LINKNUMBER</th>\n",
       "      <th>ETHNICITY</th>\n",
       "      <th>DEATHCAUSECODE_1A</th>\n",
       "      <th>DEATHCAUSECODE_1B</th>\n",
       "      <th>DEATHCAUSECODE_1C</th>\n",
       "      <th>DEATHCAUSECODE_2</th>\n",
       "      <th>DEATHCAUSECODE_UNDERLYING</th>\n",
       "      <th>DEATHLOCATIONCODE</th>\n",
       "      <th>NEWVITALSTATUS</th>\n",
       "      <th>VITALSTATUSDATE</th>\n",
       "    </tr>\n",
       "  </thead>\n",
       "  <tbody>\n",
       "    <tr>\n",
       "      <td>263888</td>\n",
       "      <td>10268448</td>\n",
       "      <td>1</td>\n",
       "      <td>810268448</td>\n",
       "      <td>A</td>\n",
       "      <td>NaN</td>\n",
       "      <td>NaN</td>\n",
       "      <td>NaN</td>\n",
       "      <td>NaN</td>\n",
       "      <td>NaN</td>\n",
       "      <td>NaN</td>\n",
       "      <td>A</td>\n",
       "      <td>2017-01-16</td>\n",
       "    </tr>\n",
       "    <tr>\n",
       "      <td>404461</td>\n",
       "      <td>20075574</td>\n",
       "      <td>2</td>\n",
       "      <td>820075574</td>\n",
       "      <td>Z</td>\n",
       "      <td>NaN</td>\n",
       "      <td>NaN</td>\n",
       "      <td>NaN</td>\n",
       "      <td>NaN</td>\n",
       "      <td>NaN</td>\n",
       "      <td>NaN</td>\n",
       "      <td>A</td>\n",
       "      <td>2017-01-16</td>\n",
       "    </tr>\n",
       "    <tr>\n",
       "      <td>442212</td>\n",
       "      <td>20113950</td>\n",
       "      <td>2</td>\n",
       "      <td>820113950</td>\n",
       "      <td>C</td>\n",
       "      <td>NaN</td>\n",
       "      <td>NaN</td>\n",
       "      <td>NaN</td>\n",
       "      <td>NaN</td>\n",
       "      <td>NaN</td>\n",
       "      <td>NaN</td>\n",
       "      <td>A</td>\n",
       "      <td>2017-01-16</td>\n",
       "    </tr>\n",
       "    <tr>\n",
       "      <td>868867</td>\n",
       "      <td>90005558</td>\n",
       "      <td>2</td>\n",
       "      <td>890005558</td>\n",
       "      <td>A</td>\n",
       "      <td>C349</td>\n",
       "      <td>NaN</td>\n",
       "      <td>NaN</td>\n",
       "      <td>NaN</td>\n",
       "      <td>C19</td>\n",
       "      <td>4</td>\n",
       "      <td>A</td>\n",
       "      <td>2016-12-11</td>\n",
       "    </tr>\n",
       "    <tr>\n",
       "      <td>891860</td>\n",
       "      <td>90030039</td>\n",
       "      <td>1</td>\n",
       "      <td>890030039</td>\n",
       "      <td>A</td>\n",
       "      <td>C259</td>\n",
       "      <td>NaN</td>\n",
       "      <td>NaN</td>\n",
       "      <td>E149</td>\n",
       "      <td>C259</td>\n",
       "      <td>4</td>\n",
       "      <td>D</td>\n",
       "      <td>2015-10-06</td>\n",
       "    </tr>\n",
       "  </tbody>\n",
       "</table>\n",
       "</div>"
      ],
      "text/plain": [
       "        PATIENTID  SEX  LINKNUMBER ETHNICITY DEATHCAUSECODE_1A  \\\n",
       "263888   10268448    1   810268448         A               NaN   \n",
       "404461   20075574    2   820075574         Z               NaN   \n",
       "442212   20113950    2   820113950         C               NaN   \n",
       "868867   90005558    2   890005558         A              C349   \n",
       "891860   90030039    1   890030039         A              C259   \n",
       "\n",
       "       DEATHCAUSECODE_1B DEATHCAUSECODE_1C DEATHCAUSECODE_2  \\\n",
       "263888               NaN               NaN              NaN   \n",
       "404461               NaN               NaN              NaN   \n",
       "442212               NaN               NaN              NaN   \n",
       "868867               NaN               NaN              NaN   \n",
       "891860               NaN               NaN             E149   \n",
       "\n",
       "       DEATHCAUSECODE_UNDERLYING DEATHLOCATIONCODE NEWVITALSTATUS  \\\n",
       "263888                       NaN               NaN              A   \n",
       "404461                       NaN               NaN              A   \n",
       "442212                       NaN               NaN              A   \n",
       "868867                       C19                 4              A   \n",
       "891860                      C259                 4              D   \n",
       "\n",
       "       VITALSTATUSDATE  \n",
       "263888      2017-01-16  \n",
       "404461      2017-01-16  \n",
       "442212      2017-01-16  \n",
       "868867      2016-12-11  \n",
       "891860      2015-10-06  "
      ]
     },
     "execution_count": 4,
     "metadata": {},
     "output_type": "execute_result"
    }
   ],
   "source": [
    "df.sample(5)"
   ]
  },
  {
   "cell_type": "code",
   "execution_count": 5,
   "metadata": {},
   "outputs": [
    {
     "data": {
      "text/plain": [
       "(1322100, 12)"
      ]
     },
     "execution_count": 5,
     "metadata": {},
     "output_type": "execute_result"
    }
   ],
   "source": [
    "df.shape"
   ]
  },
  {
   "cell_type": "code",
   "execution_count": 6,
   "metadata": {},
   "outputs": [
    {
     "data": {
      "text/plain": [
       "PATIENTID                          0\n",
       "SEX                                0\n",
       "LINKNUMBER                         0\n",
       "ETHNICITY                     129851\n",
       "DEATHCAUSECODE_1A             991820\n",
       "DEATHCAUSECODE_1B            1224015\n",
       "DEATHCAUSECODE_1C            1303994\n",
       "DEATHCAUSECODE_2             1180118\n",
       "DEATHCAUSECODE_UNDERLYING     994190\n",
       "DEATHLOCATIONCODE             991719\n",
       "NEWVITALSTATUS                     0\n",
       "VITALSTATUSDATE                    0\n",
       "dtype: int64"
      ]
     },
     "execution_count": 6,
     "metadata": {},
     "output_type": "execute_result"
    }
   ],
   "source": [
    "df.isna().sum()"
   ]
  },
  {
   "cell_type": "code",
   "execution_count": 7,
   "metadata": {},
   "outputs": [
    {
     "data": {
      "text/plain": [
       "PATIENTID                    1322100\n",
       "SEX                          1322100\n",
       "LINKNUMBER                   1322100\n",
       "ETHNICITY                    1192249\n",
       "DEATHCAUSECODE_1A             330280\n",
       "DEATHCAUSECODE_1B              98085\n",
       "DEATHCAUSECODE_1C              18106\n",
       "DEATHCAUSECODE_2              141982\n",
       "DEATHCAUSECODE_UNDERLYING     327910\n",
       "DEATHLOCATIONCODE             330381\n",
       "NEWVITALSTATUS               1322100\n",
       "VITALSTATUSDATE              1322100\n",
       "dtype: int64"
      ]
     },
     "execution_count": 7,
     "metadata": {},
     "output_type": "execute_result"
    }
   ],
   "source": [
    "df.count()"
   ]
  },
  {
   "cell_type": "code",
   "execution_count": 8,
   "metadata": {},
   "outputs": [
    {
     "data": {
      "text/plain": [
       "PATIENTID                     int64\n",
       "SEX                           int64\n",
       "LINKNUMBER                    int64\n",
       "ETHNICITY                    object\n",
       "DEATHCAUSECODE_1A            object\n",
       "DEATHCAUSECODE_1B            object\n",
       "DEATHCAUSECODE_1C            object\n",
       "DEATHCAUSECODE_2             object\n",
       "DEATHCAUSECODE_UNDERLYING    object\n",
       "DEATHLOCATIONCODE            object\n",
       "NEWVITALSTATUS               object\n",
       "VITALSTATUSDATE              object\n",
       "dtype: object"
      ]
     },
     "execution_count": 8,
     "metadata": {},
     "output_type": "execute_result"
    }
   ],
   "source": [
    "df.dtypes"
   ]
  },
  {
   "cell_type": "code",
   "execution_count": 9,
   "metadata": {},
   "outputs": [
    {
     "name": "stdout",
     "output_type": "stream",
     "text": [
      "<class 'pandas.core.frame.DataFrame'>\n",
      "RangeIndex: 1322100 entries, 0 to 1322099\n",
      "Data columns (total 12 columns):\n",
      "PATIENTID                    1322100 non-null int64\n",
      "SEX                          1322100 non-null int64\n",
      "LINKNUMBER                   1322100 non-null int64\n",
      "ETHNICITY                    1192249 non-null object\n",
      "DEATHCAUSECODE_1A            330280 non-null object\n",
      "DEATHCAUSECODE_1B            98085 non-null object\n",
      "DEATHCAUSECODE_1C            18106 non-null object\n",
      "DEATHCAUSECODE_2             141982 non-null object\n",
      "DEATHCAUSECODE_UNDERLYING    327910 non-null object\n",
      "DEATHLOCATIONCODE            330381 non-null object\n",
      "NEWVITALSTATUS               1322100 non-null object\n",
      "VITALSTATUSDATE              1322100 non-null object\n",
      "dtypes: int64(3), object(9)\n",
      "memory usage: 121.0+ MB\n"
     ]
    }
   ],
   "source": [
    "df.info()"
   ]
  },
  {
   "cell_type": "markdown",
   "metadata": {},
   "source": [
    "I am also going to check if we have duplicate entries."
   ]
  },
  {
   "cell_type": "code",
   "execution_count": 16,
   "metadata": {},
   "outputs": [
    {
     "name": "stdout",
     "output_type": "stream",
     "text": [
      "The original dataset has data for 1322100 patients\n",
      "After removing duplicates, the dataset has data for 1322100 patients\n"
     ]
    }
   ],
   "source": [
    "print(f'The original dataset has data for {len(df)} patients')\n",
    "print(f'After removing duplicate entries, the dataset has data for {len(df.drop_duplicates())} patients')"
   ]
  },
  {
   "cell_type": "markdown",
   "metadata": {},
   "source": [
    "As we can see, there are no duplicates in the dataset.\n",
    "\n",
    "I am going to save this dataframe as a pickle file and then I will merge it with another table in the next notebook."
   ]
  },
  {
   "cell_type": "code",
   "execution_count": 50,
   "metadata": {},
   "outputs": [],
   "source": [
    "df.to_pickle('./Data/avpat.pickle')"
   ]
  }
 ],
 "metadata": {
  "kernelspec": {
   "display_name": "Python 3",
   "language": "python",
   "name": "python3"
  },
  "language_info": {
   "codemirror_mode": {
    "name": "ipython",
    "version": 3
   },
   "file_extension": ".py",
   "mimetype": "text/x-python",
   "name": "python",
   "nbconvert_exporter": "python",
   "pygments_lexer": "ipython3",
   "version": "3.7.4"
  }
 },
 "nbformat": 4,
 "nbformat_minor": 2
}
