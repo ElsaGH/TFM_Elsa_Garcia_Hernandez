{
 "cells": [
  {
   "cell_type": "code",
   "execution_count": 1,
   "metadata": {},
   "outputs": [
    {
     "name": "stdout",
     "output_type": "stream",
     "text": [
      "Collecting streamlit\n",
      "  Using cached https://files.pythonhosted.org/packages/be/68/33610a2a4189714e4a37ea1e4ebf38cb05bff251b3863c37a5887532872c/streamlit-0.62.0-py2.py3-none-any.whl\n",
      "Requirement already satisfied: botocore>=1.13.44 in /home/elsa/anaconda3/lib/python3.7/site-packages (from streamlit) (1.15.9)\n",
      "Requirement already satisfied: toml in /home/elsa/anaconda3/lib/python3.7/site-packages (from streamlit) (0.10.1)\n",
      "Requirement already satisfied: watchdog in /home/elsa/anaconda3/lib/python3.7/site-packages (from streamlit) (0.10.2)\n",
      "Requirement already satisfied: pillow>=6.2.0 in /home/elsa/anaconda3/lib/python3.7/site-packages (from streamlit) (6.2.0)\n",
      "Requirement already satisfied: cachetools>=4.0 in /home/elsa/anaconda3/lib/python3.7/site-packages (from streamlit) (4.1.0)\n",
      "Requirement already satisfied: tzlocal in /home/elsa/anaconda3/lib/python3.7/site-packages (from streamlit) (2.1)\n",
      "Requirement already satisfied: requests in /home/elsa/anaconda3/lib/python3.7/site-packages (from streamlit) (2.22.0)\n",
      "Requirement already satisfied: protobuf>=3.6.0 in /home/elsa/anaconda3/lib/python3.7/site-packages (from streamlit) (3.12.2)\n",
      "Requirement already satisfied: validators in /home/elsa/anaconda3/lib/python3.7/site-packages (from streamlit) (0.15.0)\n",
      "Requirement already satisfied: blinker in /home/elsa/anaconda3/lib/python3.7/site-packages (from streamlit) (1.4)\n",
      "Requirement already satisfied: pydeck>=0.1.dev5 in /home/elsa/anaconda3/lib/python3.7/site-packages (from streamlit) (0.4.0b2)\n",
      "Requirement already satisfied: python-dateutil in /home/elsa/anaconda3/lib/python3.7/site-packages (from streamlit) (2.8.0)\n",
      "Requirement already satisfied: altair>=3.2.0 in /home/elsa/anaconda3/lib/python3.7/site-packages (from streamlit) (4.1.0)\n",
      "Requirement already satisfied: click>=7.0 in /home/elsa/anaconda3/lib/python3.7/site-packages (from streamlit) (7.0)\n",
      "Requirement already satisfied: tornado>=5.0 in /home/elsa/anaconda3/lib/python3.7/site-packages (from streamlit) (6.0.3)\n",
      "Requirement already satisfied: base58 in /home/elsa/anaconda3/lib/python3.7/site-packages (from streamlit) (2.0.1)\n",
      "Requirement already satisfied: astor in /home/elsa/anaconda3/lib/python3.7/site-packages (from streamlit) (0.8.1)\n",
      "Requirement already satisfied: packaging in /home/elsa/anaconda3/lib/python3.7/site-packages (from streamlit) (19.2)\n",
      "Requirement already satisfied: enum-compat in /home/elsa/anaconda3/lib/python3.7/site-packages (from streamlit) (0.0.3)\n",
      "Requirement already satisfied: numpy in /home/elsa/anaconda3/lib/python3.7/site-packages (from streamlit) (1.17.2)\n",
      "Requirement already satisfied: boto3 in /home/elsa/anaconda3/lib/python3.7/site-packages (from streamlit) (1.12.9)\n",
      "Requirement already satisfied: pandas>=0.21.0 in /home/elsa/anaconda3/lib/python3.7/site-packages (from streamlit) (0.25.1)\n",
      "Requirement already satisfied: urllib3<1.26,>=1.20; python_version != \"3.4\" in /home/elsa/anaconda3/lib/python3.7/site-packages (from botocore>=1.13.44->streamlit) (1.24.2)\n",
      "Requirement already satisfied: docutils<0.16,>=0.10 in /home/elsa/anaconda3/lib/python3.7/site-packages (from botocore>=1.13.44->streamlit) (0.15.2)\n",
      "Requirement already satisfied: jmespath<1.0.0,>=0.7.1 in /home/elsa/anaconda3/lib/python3.7/site-packages (from botocore>=1.13.44->streamlit) (0.9.5)\n",
      "Requirement already satisfied: pathtools>=0.1.1 in /home/elsa/anaconda3/lib/python3.7/site-packages (from watchdog->streamlit) (0.1.2)\n",
      "Requirement already satisfied: pytz in /home/elsa/anaconda3/lib/python3.7/site-packages (from tzlocal->streamlit) (2019.3)\n",
      "Requirement already satisfied: chardet<3.1.0,>=3.0.2 in /home/elsa/anaconda3/lib/python3.7/site-packages (from requests->streamlit) (3.0.4)\n",
      "Requirement already satisfied: certifi>=2017.4.17 in /home/elsa/anaconda3/lib/python3.7/site-packages (from requests->streamlit) (2019.9.11)\n",
      "Requirement already satisfied: idna<2.9,>=2.5 in /home/elsa/anaconda3/lib/python3.7/site-packages (from requests->streamlit) (2.8)\n",
      "Requirement already satisfied: setuptools in /home/elsa/anaconda3/lib/python3.7/site-packages (from protobuf>=3.6.0->streamlit) (41.4.0)\n",
      "Requirement already satisfied: six>=1.9 in /home/elsa/anaconda3/lib/python3.7/site-packages (from protobuf>=3.6.0->streamlit) (1.12.0)\n",
      "Requirement already satisfied: decorator>=3.4.0 in /home/elsa/anaconda3/lib/python3.7/site-packages (from validators->streamlit) (4.4.0)\n",
      "Requirement already satisfied: traitlets>=4.3.2 in /home/elsa/anaconda3/lib/python3.7/site-packages (from pydeck>=0.1.dev5->streamlit) (4.3.3)\n",
      "Requirement already satisfied: ipykernel>=5.1.2; python_version >= \"3.4\" in /home/elsa/anaconda3/lib/python3.7/site-packages (from pydeck>=0.1.dev5->streamlit) (5.1.2)\n",
      "Requirement already satisfied: jinja2>=2.10.1 in /home/elsa/anaconda3/lib/python3.7/site-packages (from pydeck>=0.1.dev5->streamlit) (2.10.3)\n",
      "Requirement already satisfied: ipywidgets>=7.0.0 in /home/elsa/anaconda3/lib/python3.7/site-packages (from pydeck>=0.1.dev5->streamlit) (7.5.1)\n",
      "Requirement already satisfied: toolz in /home/elsa/anaconda3/lib/python3.7/site-packages (from altair>=3.2.0->streamlit) (0.10.0)\n",
      "Requirement already satisfied: jsonschema in /home/elsa/anaconda3/lib/python3.7/site-packages (from altair>=3.2.0->streamlit) (3.0.2)\n",
      "Requirement already satisfied: entrypoints in /home/elsa/anaconda3/lib/python3.7/site-packages (from altair>=3.2.0->streamlit) (0.3)\n",
      "Requirement already satisfied: pyparsing>=2.0.2 in /home/elsa/anaconda3/lib/python3.7/site-packages (from packaging->streamlit) (2.4.2)\n",
      "Requirement already satisfied: s3transfer<0.4.0,>=0.3.0 in /home/elsa/anaconda3/lib/python3.7/site-packages (from boto3->streamlit) (0.3.3)\n",
      "Requirement already satisfied: ipython-genutils in /home/elsa/anaconda3/lib/python3.7/site-packages (from traitlets>=4.3.2->pydeck>=0.1.dev5->streamlit) (0.2.0)\n",
      "Requirement already satisfied: ipython>=5.0.0 in /home/elsa/anaconda3/lib/python3.7/site-packages (from ipykernel>=5.1.2; python_version >= \"3.4\"->pydeck>=0.1.dev5->streamlit) (7.8.0)\n",
      "Requirement already satisfied: jupyter-client in /home/elsa/anaconda3/lib/python3.7/site-packages (from ipykernel>=5.1.2; python_version >= \"3.4\"->pydeck>=0.1.dev5->streamlit) (5.3.3)\n",
      "Requirement already satisfied: MarkupSafe>=0.23 in /home/elsa/anaconda3/lib/python3.7/site-packages (from jinja2>=2.10.1->pydeck>=0.1.dev5->streamlit) (1.1.1)\n",
      "Requirement already satisfied: widgetsnbextension~=3.5.0 in /home/elsa/anaconda3/lib/python3.7/site-packages (from ipywidgets>=7.0.0->pydeck>=0.1.dev5->streamlit) (3.5.1)\n",
      "Requirement already satisfied: nbformat>=4.2.0 in /home/elsa/anaconda3/lib/python3.7/site-packages (from ipywidgets>=7.0.0->pydeck>=0.1.dev5->streamlit) (4.4.0)\n",
      "Requirement already satisfied: pyrsistent>=0.14.0 in /home/elsa/anaconda3/lib/python3.7/site-packages (from jsonschema->altair>=3.2.0->streamlit) (0.15.4)\n",
      "Requirement already satisfied: attrs>=17.4.0 in /home/elsa/anaconda3/lib/python3.7/site-packages (from jsonschema->altair>=3.2.0->streamlit) (19.2.0)\n",
      "Requirement already satisfied: prompt-toolkit<2.1.0,>=2.0.0 in /home/elsa/anaconda3/lib/python3.7/site-packages (from ipython>=5.0.0->ipykernel>=5.1.2; python_version >= \"3.4\"->pydeck>=0.1.dev5->streamlit) (2.0.10)\n",
      "Requirement already satisfied: pexpect; sys_platform != \"win32\" in /home/elsa/anaconda3/lib/python3.7/site-packages (from ipython>=5.0.0->ipykernel>=5.1.2; python_version >= \"3.4\"->pydeck>=0.1.dev5->streamlit) (4.7.0)\n",
      "Requirement already satisfied: jedi>=0.10 in /home/elsa/anaconda3/lib/python3.7/site-packages (from ipython>=5.0.0->ipykernel>=5.1.2; python_version >= \"3.4\"->pydeck>=0.1.dev5->streamlit) (0.15.1)\n",
      "Requirement already satisfied: pickleshare in /home/elsa/anaconda3/lib/python3.7/site-packages (from ipython>=5.0.0->ipykernel>=5.1.2; python_version >= \"3.4\"->pydeck>=0.1.dev5->streamlit) (0.7.5)\n",
      "Requirement already satisfied: pygments in /home/elsa/anaconda3/lib/python3.7/site-packages (from ipython>=5.0.0->ipykernel>=5.1.2; python_version >= \"3.4\"->pydeck>=0.1.dev5->streamlit) (2.4.2)\n",
      "Requirement already satisfied: backcall in /home/elsa/anaconda3/lib/python3.7/site-packages (from ipython>=5.0.0->ipykernel>=5.1.2; python_version >= \"3.4\"->pydeck>=0.1.dev5->streamlit) (0.1.0)\n",
      "Requirement already satisfied: pyzmq>=13 in /home/elsa/anaconda3/lib/python3.7/site-packages (from jupyter-client->ipykernel>=5.1.2; python_version >= \"3.4\"->pydeck>=0.1.dev5->streamlit) (18.1.0)\n",
      "Requirement already satisfied: jupyter-core in /home/elsa/anaconda3/lib/python3.7/site-packages (from jupyter-client->ipykernel>=5.1.2; python_version >= \"3.4\"->pydeck>=0.1.dev5->streamlit) (4.5.0)\n",
      "Requirement already satisfied: notebook>=4.4.1 in /home/elsa/anaconda3/lib/python3.7/site-packages (from widgetsnbextension~=3.5.0->ipywidgets>=7.0.0->pydeck>=0.1.dev5->streamlit) (6.0.1)\n"
     ]
    },
    {
     "name": "stdout",
     "output_type": "stream",
     "text": [
      "Requirement already satisfied: wcwidth in /home/elsa/anaconda3/lib/python3.7/site-packages (from prompt-toolkit<2.1.0,>=2.0.0->ipython>=5.0.0->ipykernel>=5.1.2; python_version >= \"3.4\"->pydeck>=0.1.dev5->streamlit) (0.1.7)\n",
      "Requirement already satisfied: ptyprocess>=0.5 in /home/elsa/anaconda3/lib/python3.7/site-packages (from pexpect; sys_platform != \"win32\"->ipython>=5.0.0->ipykernel>=5.1.2; python_version >= \"3.4\"->pydeck>=0.1.dev5->streamlit) (0.6.0)\n",
      "Requirement already satisfied: parso>=0.5.0 in /home/elsa/anaconda3/lib/python3.7/site-packages (from jedi>=0.10->ipython>=5.0.0->ipykernel>=5.1.2; python_version >= \"3.4\"->pydeck>=0.1.dev5->streamlit) (0.5.1)\n",
      "Requirement already satisfied: prometheus-client in /home/elsa/anaconda3/lib/python3.7/site-packages (from notebook>=4.4.1->widgetsnbextension~=3.5.0->ipywidgets>=7.0.0->pydeck>=0.1.dev5->streamlit) (0.7.1)\n",
      "Requirement already satisfied: terminado>=0.8.1 in /home/elsa/anaconda3/lib/python3.7/site-packages (from notebook>=4.4.1->widgetsnbextension~=3.5.0->ipywidgets>=7.0.0->pydeck>=0.1.dev5->streamlit) (0.8.2)\n",
      "Requirement already satisfied: nbconvert in /home/elsa/anaconda3/lib/python3.7/site-packages (from notebook>=4.4.1->widgetsnbextension~=3.5.0->ipywidgets>=7.0.0->pydeck>=0.1.dev5->streamlit) (5.6.0)\n",
      "Requirement already satisfied: Send2Trash in /home/elsa/anaconda3/lib/python3.7/site-packages (from notebook>=4.4.1->widgetsnbextension~=3.5.0->ipywidgets>=7.0.0->pydeck>=0.1.dev5->streamlit) (1.5.0)\n",
      "Requirement already satisfied: testpath in /home/elsa/anaconda3/lib/python3.7/site-packages (from nbconvert->notebook>=4.4.1->widgetsnbextension~=3.5.0->ipywidgets>=7.0.0->pydeck>=0.1.dev5->streamlit) (0.4.2)\n",
      "Requirement already satisfied: mistune<2,>=0.8.1 in /home/elsa/anaconda3/lib/python3.7/site-packages (from nbconvert->notebook>=4.4.1->widgetsnbextension~=3.5.0->ipywidgets>=7.0.0->pydeck>=0.1.dev5->streamlit) (0.8.4)\n",
      "Requirement already satisfied: pandocfilters>=1.4.1 in /home/elsa/anaconda3/lib/python3.7/site-packages (from nbconvert->notebook>=4.4.1->widgetsnbextension~=3.5.0->ipywidgets>=7.0.0->pydeck>=0.1.dev5->streamlit) (1.4.2)\n",
      "Requirement already satisfied: bleach in /home/elsa/anaconda3/lib/python3.7/site-packages (from nbconvert->notebook>=4.4.1->widgetsnbextension~=3.5.0->ipywidgets>=7.0.0->pydeck>=0.1.dev5->streamlit) (3.1.0)\n",
      "Requirement already satisfied: defusedxml in /home/elsa/anaconda3/lib/python3.7/site-packages (from nbconvert->notebook>=4.4.1->widgetsnbextension~=3.5.0->ipywidgets>=7.0.0->pydeck>=0.1.dev5->streamlit) (0.6.0)\n",
      "Requirement already satisfied: webencodings in /home/elsa/anaconda3/lib/python3.7/site-packages (from bleach->nbconvert->notebook>=4.4.1->widgetsnbextension~=3.5.0->ipywidgets>=7.0.0->pydeck>=0.1.dev5->streamlit) (0.5.1)\n",
      "Installing collected packages: streamlit\n",
      "Successfully installed streamlit-0.62.0\n"
     ]
    }
   ],
   "source": [
    "# ! pip install streamlit"
   ]
  },
  {
   "cell_type": "code",
   "execution_count": 2,
   "metadata": {},
   "outputs": [
    {
     "name": "stdout",
     "output_type": "stream",
     "text": [
      "Collecting plotly==4.8.2\n",
      "\u001b[?25l  Downloading https://files.pythonhosted.org/packages/27/99/9794bcd22fae2e12b689759d53fe26939a4d11b8b44b0b7056e035c64529/plotly-4.8.2-py2.py3-none-any.whl (11.5MB)\n",
      "\u001b[K     |████████████████████████████████| 11.5MB 6.8MB/s eta 0:00:01\n",
      "\u001b[?25hCollecting retrying>=1.3.3 (from plotly==4.8.2)\n",
      "  Downloading https://files.pythonhosted.org/packages/44/ef/beae4b4ef80902f22e3af073397f079c96969c69b2c7d52a57ea9ae61c9d/retrying-1.3.3.tar.gz\n",
      "Requirement already satisfied: six in /home/elsa/anaconda3/lib/python3.7/site-packages (from plotly==4.8.2) (1.12.0)\n",
      "Building wheels for collected packages: retrying\n",
      "  Building wheel for retrying (setup.py) ... \u001b[?25ldone\n",
      "\u001b[?25h  Created wheel for retrying: filename=retrying-1.3.3-cp37-none-any.whl size=11429 sha256=2e808211b34cb7a7c100baabec97768feb8710db863ed0db40f3f65b7f191625\n",
      "  Stored in directory: /home/elsa/.cache/pip/wheels/d7/a9/33/acc7b709e2a35caa7d4cae442f6fe6fbf2c43f80823d46460c\n",
      "Successfully built retrying\n",
      "Installing collected packages: retrying, plotly\n",
      "Successfully installed plotly-4.8.2 retrying-1.3.3\n"
     ]
    }
   ],
   "source": [
    "# ! pip install plotly==4.8.2"
   ]
  },
  {
   "cell_type": "code",
   "execution_count": 2,
   "metadata": {},
   "outputs": [
    {
     "name": "stdout",
     "output_type": "stream",
     "text": [
      "\u001b[0m\n",
      "\u001b[34m\u001b[1m  You can now view your Streamlit app in your browser.\u001b[0m\n",
      "\u001b[0m\n",
      "\u001b[34m  Network URL: \u001b[0m\u001b[1mhttp://192.168.1.95:8501\u001b[0m\n",
      "\u001b[34m  External URL: \u001b[0m\u001b[1mhttp://89.131.192.88:8501\u001b[0m\n",
      "\u001b[0m\n",
      "[LightGBM] [Warning] feature_fraction is set=0.9, colsample_bytree=1.0 will be ignored. Current value: feature_fraction=0.9\n",
      "[LightGBM] [Warning] min_data_in_leaf is set=81, min_child_samples=20 will be ignored. Current value: min_data_in_leaf=81\n",
      "[LightGBM] [Warning] feature_fraction is set=0.9, colsample_bytree=1.0 will be ignored. Current value: feature_fraction=0.9\n",
      "[LightGBM] [Warning] min_data_in_leaf is set=81, min_child_samples=20 will be ignored. Current value: min_data_in_leaf=81\n",
      "[LightGBM] [Warning] feature_fraction is set=0.9, colsample_bytree=1.0 will be ignored. Current value: feature_fraction=0.9\n",
      "[LightGBM] [Warning] min_data_in_leaf is set=81, min_child_samples=20 will be ignored. Current value: min_data_in_leaf=81\n",
      "[LightGBM] [Warning] feature_fraction is set=0.9, colsample_bytree=1.0 will be ignored. Current value: feature_fraction=0.9\n",
      "[LightGBM] [Warning] min_data_in_leaf is set=81, min_child_samples=20 will be ignored. Current value: min_data_in_leaf=81\n",
      "[LightGBM] [Warning] feature_fraction is set=0.9, colsample_bytree=1.0 will be ignored. Current value: feature_fraction=0.9\n",
      "[LightGBM] [Warning] min_data_in_leaf is set=81, min_child_samples=20 will be ignored. Current value: min_data_in_leaf=81\n",
      "[LightGBM] [Warning] feature_fraction is set=0.9, colsample_bytree=1.0 will be ignored. Current value: feature_fraction=0.9\n",
      "[LightGBM] [Warning] min_data_in_leaf is set=81, min_child_samples=20 will be ignored. Current value: min_data_in_leaf=81\n",
      "[LightGBM] [Warning] feature_fraction is set=0.9, colsample_bytree=1.0 will be ignored. Current value: feature_fraction=0.9\n",
      "[LightGBM] [Warning] min_data_in_leaf is set=81, min_child_samples=20 will be ignored. Current value: min_data_in_leaf=81\n",
      "[LightGBM] [Warning] feature_fraction is set=0.9, colsample_bytree=1.0 will be ignored. Current value: feature_fraction=0.9\n",
      "[LightGBM] [Warning] min_data_in_leaf is set=81, min_child_samples=20 will be ignored. Current value: min_data_in_leaf=81\n",
      "[LightGBM] [Warning] feature_fraction is set=0.9, colsample_bytree=1.0 will be ignored. Current value: feature_fraction=0.9\n",
      "[LightGBM] [Warning] min_data_in_leaf is set=81, min_child_samples=20 will be ignored. Current value: min_data_in_leaf=81\n",
      "[LightGBM] [Warning] feature_fraction is set=0.9, colsample_bytree=1.0 will be ignored. Current value: feature_fraction=0.9\n",
      "[LightGBM] [Warning] min_data_in_leaf is set=81, min_child_samples=20 will be ignored. Current value: min_data_in_leaf=81\n",
      "[LightGBM] [Warning] feature_fraction is set=0.9, colsample_bytree=1.0 will be ignored. Current value: feature_fraction=0.9\n",
      "[LightGBM] [Warning] min_data_in_leaf is set=81, min_child_samples=20 will be ignored. Current value: min_data_in_leaf=81\n",
      "[LightGBM] [Warning] feature_fraction is set=0.9, colsample_bytree=1.0 will be ignored. Current value: feature_fraction=0.9\n",
      "[LightGBM] [Warning] min_data_in_leaf is set=81, min_child_samples=20 will be ignored. Current value: min_data_in_leaf=81\n",
      "[LightGBM] [Warning] feature_fraction is set=0.9, colsample_bytree=1.0 will be ignored. Current value: feature_fraction=0.9\n",
      "[LightGBM] [Warning] min_data_in_leaf is set=81, min_child_samples=20 will be ignored. Current value: min_data_in_leaf=81\n",
      "[LightGBM] [Warning] feature_fraction is set=0.9, colsample_bytree=1.0 will be ignored. Current value: feature_fraction=0.9\n",
      "[LightGBM] [Warning] min_data_in_leaf is set=81, min_child_samples=20 will be ignored. Current value: min_data_in_leaf=81\n",
      "[LightGBM] [Warning] feature_fraction is set=0.9, colsample_bytree=1.0 will be ignored. Current value: feature_fraction=0.9\n",
      "[LightGBM] [Warning] min_data_in_leaf is set=81, min_child_samples=20 will be ignored. Current value: min_data_in_leaf=81\n",
      "[LightGBM] [Warning] feature_fraction is set=0.9, colsample_bytree=1.0 will be ignored. Current value: feature_fraction=0.9\n",
      "[LightGBM] [Warning] min_data_in_leaf is set=81, min_child_samples=20 will be ignored. Current value: min_data_in_leaf=81\n",
      "[LightGBM] [Warning] feature_fraction is set=0.9, colsample_bytree=1.0 will be ignored. Current value: feature_fraction=0.9\n",
      "[LightGBM] [Warning] min_data_in_leaf is set=81, min_child_samples=20 will be ignored. Current value: min_data_in_leaf=81\n",
      "[LightGBM] [Warning] feature_fraction is set=0.9, colsample_bytree=1.0 will be ignored. Current value: feature_fraction=0.9\n",
      "[LightGBM] [Warning] min_data_in_leaf is set=81, min_child_samples=20 will be ignored. Current value: min_data_in_leaf=81\n",
      "[LightGBM] [Warning] feature_fraction is set=0.9, colsample_bytree=1.0 will be ignored. Current value: feature_fraction=0.9\n",
      "[LightGBM] [Warning] min_data_in_leaf is set=81, min_child_samples=20 will be ignored. Current value: min_data_in_leaf=81\n",
      "[LightGBM] [Warning] feature_fraction is set=0.9, colsample_bytree=1.0 will be ignored. Current value: feature_fraction=0.9\n",
      "[LightGBM] [Warning] min_data_in_leaf is set=81, min_child_samples=20 will be ignored. Current value: min_data_in_leaf=81\n",
      "[LightGBM] [Warning] feature_fraction is set=0.9, colsample_bytree=1.0 will be ignored. Current value: feature_fraction=0.9\n",
      "[LightGBM] [Warning] min_data_in_leaf is set=81, min_child_samples=20 will be ignored. Current value: min_data_in_leaf=81\n",
      "[LightGBM] [Warning] feature_fraction is set=0.9, colsample_bytree=1.0 will be ignored. Current value: feature_fraction=0.9\n",
      "[LightGBM] [Warning] min_data_in_leaf is set=81, min_child_samples=20 will be ignored. Current value: min_data_in_leaf=81\n",
      "[LightGBM] [Warning] feature_fraction is set=0.9, colsample_bytree=1.0 will be ignored. Current value: feature_fraction=0.9\n",
      "[LightGBM] [Warning] min_data_in_leaf is set=81, min_child_samples=20 will be ignored. Current value: min_data_in_leaf=81\n",
      "[LightGBM] [Warning] feature_fraction is set=0.9, colsample_bytree=1.0 will be ignored. Current value: feature_fraction=0.9\n",
      "[LightGBM] [Warning] min_data_in_leaf is set=81, min_child_samples=20 will be ignored. Current value: min_data_in_leaf=81\n",
      "[LightGBM] [Warning] feature_fraction is set=0.9, colsample_bytree=1.0 will be ignored. Current value: feature_fraction=0.9\n",
      "[LightGBM] [Warning] min_data_in_leaf is set=81, min_child_samples=20 will be ignored. Current value: min_data_in_leaf=81\n",
      "[LightGBM] [Warning] feature_fraction is set=0.9, colsample_bytree=1.0 will be ignored. Current value: feature_fraction=0.9\n",
      "[LightGBM] [Warning] min_data_in_leaf is set=81, min_child_samples=20 will be ignored. Current value: min_data_in_leaf=81\n",
      "[LightGBM] [Warning] feature_fraction is set=0.9, colsample_bytree=1.0 will be ignored. Current value: feature_fraction=0.9\n",
      "[LightGBM] [Warning] min_data_in_leaf is set=81, min_child_samples=20 will be ignored. Current value: min_data_in_leaf=81\n",
      "[LightGBM] [Warning] feature_fraction is set=0.9, colsample_bytree=1.0 will be ignored. Current value: feature_fraction=0.9\n",
      "[LightGBM] [Warning] min_data_in_leaf is set=81, min_child_samples=20 will be ignored. Current value: min_data_in_leaf=81\n",
      "[LightGBM] [Warning] feature_fraction is set=0.9, colsample_bytree=1.0 will be ignored. Current value: feature_fraction=0.9\n",
      "[LightGBM] [Warning] min_data_in_leaf is set=81, min_child_samples=20 will be ignored. Current value: min_data_in_leaf=81\n",
      "[LightGBM] [Warning] feature_fraction is set=0.9, colsample_bytree=1.0 will be ignored. Current value: feature_fraction=0.9\n",
      "[LightGBM] [Warning] min_data_in_leaf is set=81, min_child_samples=20 will be ignored. Current value: min_data_in_leaf=81\n",
      "[LightGBM] [Warning] feature_fraction is set=0.9, colsample_bytree=1.0 will be ignored. Current value: feature_fraction=0.9\n",
      "[LightGBM] [Warning] min_data_in_leaf is set=81, min_child_samples=20 will be ignored. Current value: min_data_in_leaf=81\n",
      "[LightGBM] [Warning] feature_fraction is set=0.9, colsample_bytree=1.0 will be ignored. Current value: feature_fraction=0.9\n",
      "[LightGBM] [Warning] min_data_in_leaf is set=81, min_child_samples=20 will be ignored. Current value: min_data_in_leaf=81\n",
      "[LightGBM] [Warning] feature_fraction is set=0.9, colsample_bytree=1.0 will be ignored. Current value: feature_fraction=0.9\n",
      "[LightGBM] [Warning] min_data_in_leaf is set=81, min_child_samples=20 will be ignored. Current value: min_data_in_leaf=81\n"
     ]
    },
    {
     "name": "stdout",
     "output_type": "stream",
     "text": [
      "[LightGBM] [Warning] feature_fraction is set=0.9, colsample_bytree=1.0 will be ignored. Current value: feature_fraction=0.9\n",
      "[LightGBM] [Warning] min_data_in_leaf is set=81, min_child_samples=20 will be ignored. Current value: min_data_in_leaf=81\n",
      "^C\n",
      "\u001b[34m  Stopping...\u001b[0m\n"
     ]
    }
   ],
   "source": [
    "! streamlit run visualisation.py"
   ]
  }
 ],
 "metadata": {
  "kernelspec": {
   "display_name": "Python 3",
   "language": "python",
   "name": "python3"
  },
  "language_info": {
   "codemirror_mode": {
    "name": "ipython",
    "version": 3
   },
   "file_extension": ".py",
   "mimetype": "text/x-python",
   "name": "python",
   "nbconvert_exporter": "python",
   "pygments_lexer": "ipython3",
   "version": "3.7.4"
  }
 },
 "nbformat": 4,
 "nbformat_minor": 2
}
